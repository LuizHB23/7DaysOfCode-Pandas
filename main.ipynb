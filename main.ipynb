{
 "cells": [
  {
   "cell_type": "markdown",
   "id": "5dce48c4",
   "metadata": {},
   "source": [
    "## Dia 1\n",
    "\n",
    "O desafio consiste em apenas unificar todos os dados de empréstimo em um único DataFrame e mesclar os dados exemplares ao DataFrame criado, relacionando o código de barras de cada livro."
   ]
  },
  {
   "cell_type": "code",
   "execution_count": 332,
   "id": "d62da6fd",
   "metadata": {},
   "outputs": [],
   "source": [
    "import pandas as pd"
   ]
  },
  {
   "cell_type": "code",
   "execution_count": 333,
   "id": "5b95192c",
   "metadata": {},
   "outputs": [],
   "source": [
    "lista_emprestimos = ['./Datasets/dados_emprestimos/emprestimos-20101.csv', './Datasets/dados_emprestimos/emprestimos-20102.csv', \n",
    "                     './Datasets/dados_emprestimos/emprestimos-20111.csv', './Datasets/dados_emprestimos/emprestimos-20112.csv',\n",
    "                     './Datasets/dados_emprestimos/emprestimos-20121.csv', './Datasets/dados_emprestimos/emprestimos-20122.csv',\n",
    "                     './Datasets/dados_emprestimos/emprestimos-20131.csv', './Datasets/dados_emprestimos/emprestimos-20132.csv',\n",
    "                     './Datasets/dados_emprestimos/emprestimos-20141.csv', './Datasets/dados_emprestimos/emprestimos-20142.csv',\n",
    "                     './Datasets/dados_emprestimos/emprestimos-20151.csv', './Datasets/dados_emprestimos/emprestimos-20152.csv',\n",
    "                     './Datasets/dados_emprestimos/emprestimos-20161.csv', './Datasets/dados_emprestimos/emprestimos-20162.csv',\n",
    "                     './Datasets/dados_emprestimos/emprestimos-20171.csv', './Datasets/dados_emprestimos/emprestimos-20172.csv', \n",
    "                     './Datasets/dados_emprestimos/emprestimos-20181.csv', './Datasets/dados_emprestimos/emprestimos-20182.csv',\n",
    "                     './Datasets/dados_emprestimos/emprestimos-20191.csv', './Datasets/dados_emprestimos/emprestimos-20192.csv',\n",
    "                     './Datasets/dados_emprestimos/emprestimos-20201.csv']\n",
    "\n",
    "emprestimos = pd.read_csv(lista_emprestimos[0])"
   ]
  },
  {
   "cell_type": "code",
   "execution_count": 334,
   "id": "5875ad8a",
   "metadata": {},
   "outputs": [],
   "source": [
    "for i in range(len(lista_emprestimos)):\n",
    "    dados = pd.read_csv(lista_emprestimos[i])\n",
    "    emprestimos = pd.concat([emprestimos, dados], axis=0, join='outer', sort=True)\n"
   ]
  },
  {
   "cell_type": "code",
   "execution_count": 335,
   "id": "b4e2abda",
   "metadata": {},
   "outputs": [
    {
     "name": "stdout",
     "output_type": "stream",
     "text": [
      "<class 'pandas.core.frame.DataFrame'>\n",
      "Index: 2353375 entries, 0 to 26560\n",
      "Data columns (total 7 columns):\n",
      " #   Column                Dtype  \n",
      "---  ------                -----  \n",
      " 0   codigo_barras         object \n",
      " 1   data_devolucao        object \n",
      " 2   data_emprestimo       object \n",
      " 3   data_renovacao        object \n",
      " 4   id_emprestimo         int64  \n",
      " 5   matricula_ou_siape    float64\n",
      " 6   tipo_vinculo_usuario  object \n",
      "dtypes: float64(1), int64(1), object(5)\n",
      "memory usage: 143.6+ MB\n"
     ]
    }
   ],
   "source": [
    "emprestimos.info()"
   ]
  },
  {
   "cell_type": "code",
   "execution_count": 336,
   "id": "c3a4b87c",
   "metadata": {},
   "outputs": [],
   "source": [
    "dados_exemplares = pd.read_parquet('./Datasets/dados_exemplares.parquet')\n",
    "\n",
    "emprestimos = pd.merge(emprestimos, dados_exemplares, how='outer', sort=True)"
   ]
  },
  {
   "cell_type": "code",
   "execution_count": 337,
   "id": "6df7a24b",
   "metadata": {},
   "outputs": [
    {
     "name": "stdout",
     "output_type": "stream",
     "text": [
      "<class 'pandas.core.frame.DataFrame'>\n",
      "RangeIndex: 2664721 entries, 0 to 2664720\n",
      "Data columns (total 13 columns):\n",
      " #   Column                Dtype  \n",
      "---  ------                -----  \n",
      " 0   codigo_barras         object \n",
      " 1   data_devolucao        object \n",
      " 2   data_emprestimo       object \n",
      " 3   data_renovacao        object \n",
      " 4   id_emprestimo         float64\n",
      " 5   matricula_ou_siape    float64\n",
      " 6   tipo_vinculo_usuario  object \n",
      " 7   id_exemplar           float64\n",
      " 8   colecao               object \n",
      " 9   biblioteca            object \n",
      " 10  status_material       object \n",
      " 11  localizacao           float64\n",
      " 12  registro_sistema      float64\n",
      "dtypes: float64(5), object(8)\n",
      "memory usage: 264.3+ MB\n"
     ]
    }
   ],
   "source": [
    "emprestimos.info()"
   ]
  },
  {
   "cell_type": "code",
   "execution_count": 338,
   "id": "63ee66f3",
   "metadata": {},
   "outputs": [
    {
     "data": {
      "text/html": [
       "<div>\n",
       "<style scoped>\n",
       "    .dataframe tbody tr th:only-of-type {\n",
       "        vertical-align: middle;\n",
       "    }\n",
       "\n",
       "    .dataframe tbody tr th {\n",
       "        vertical-align: top;\n",
       "    }\n",
       "\n",
       "    .dataframe thead th {\n",
       "        text-align: right;\n",
       "    }\n",
       "</style>\n",
       "<table border=\"1\" class=\"dataframe\">\n",
       "  <thead>\n",
       "    <tr style=\"text-align: right;\">\n",
       "      <th></th>\n",
       "      <th>id_emprestimo</th>\n",
       "      <th>id_exemplar</th>\n",
       "      <th>codigo_barras</th>\n",
       "      <th>data_emprestimo</th>\n",
       "      <th>data_devolucao</th>\n",
       "      <th>data_renovacao</th>\n",
       "      <th>matricula_ou_siape</th>\n",
       "      <th>tipo_vinculo_usuario</th>\n",
       "      <th>colecao</th>\n",
       "      <th>biblioteca</th>\n",
       "      <th>status_material</th>\n",
       "      <th>localizacao</th>\n",
       "      <th>registro_sistema</th>\n",
       "    </tr>\n",
       "  </thead>\n",
       "  <tbody>\n",
       "    <tr>\n",
       "      <th>0</th>\n",
       "      <td>709684.0</td>\n",
       "      <td>13259.0</td>\n",
       "      <td>L095049</td>\n",
       "      <td>2010/01/04 07:44:10.721000000</td>\n",
       "      <td>2010/01/05 16:26:12.662000000</td>\n",
       "      <td>NaN</td>\n",
       "      <td>2.008023e+09</td>\n",
       "      <td>ALUNO DE GRADUAÇÃO</td>\n",
       "      <td>Acervo Circulante</td>\n",
       "      <td>Biblioteca Central Zila Mamede</td>\n",
       "      <td>REGULAR</td>\n",
       "      <td>630.0</td>\n",
       "      <td>4225.0</td>\n",
       "    </tr>\n",
       "    <tr>\n",
       "      <th>1</th>\n",
       "      <td>709684.0</td>\n",
       "      <td>13259.0</td>\n",
       "      <td>L095049</td>\n",
       "      <td>2010/01/04 07:44:10.721000000</td>\n",
       "      <td>2010/01/05 16:26:12.662000000</td>\n",
       "      <td>NaN</td>\n",
       "      <td>2.008023e+09</td>\n",
       "      <td>ALUNO DE GRADUAÇÃO</td>\n",
       "      <td>Acervo Circulante</td>\n",
       "      <td>Biblioteca Central Zila Mamede</td>\n",
       "      <td>REGULAR</td>\n",
       "      <td>630.0</td>\n",
       "      <td>4225.0</td>\n",
       "    </tr>\n",
       "    <tr>\n",
       "      <th>2</th>\n",
       "      <td>709684.0</td>\n",
       "      <td>13259.0</td>\n",
       "      <td>L095049</td>\n",
       "      <td>2010/01/04 07:44:10.721000000</td>\n",
       "      <td>2010/01/05 16:26:12.662000000</td>\n",
       "      <td>NaN</td>\n",
       "      <td>2.008023e+09</td>\n",
       "      <td>ALUNO DE GRADUAÇÃO</td>\n",
       "      <td>Acervo Circulante</td>\n",
       "      <td>Biblioteca Central Zila Mamede</td>\n",
       "      <td>REGULAR</td>\n",
       "      <td>630.0</td>\n",
       "      <td>4225.0</td>\n",
       "    </tr>\n",
       "    <tr>\n",
       "      <th>3</th>\n",
       "      <td>709684.0</td>\n",
       "      <td>13259.0</td>\n",
       "      <td>L095049</td>\n",
       "      <td>2010/01/04 07:44:10.721000000</td>\n",
       "      <td>2010/01/05 16:26:12.662000000</td>\n",
       "      <td>NaN</td>\n",
       "      <td>2.008023e+09</td>\n",
       "      <td>ALUNO DE GRADUAÇÃO</td>\n",
       "      <td>Acervo Circulante</td>\n",
       "      <td>Biblioteca Central Zila Mamede</td>\n",
       "      <td>REGULAR</td>\n",
       "      <td>630.0</td>\n",
       "      <td>4225.0</td>\n",
       "    </tr>\n",
       "    <tr>\n",
       "      <th>4</th>\n",
       "      <td>709685.0</td>\n",
       "      <td>70865.0</td>\n",
       "      <td>L167050</td>\n",
       "      <td>2010/01/04 07:44:10.750000000</td>\n",
       "      <td>2010/01/12 07:34:13.934000000</td>\n",
       "      <td>NaN</td>\n",
       "      <td>2.008023e+09</td>\n",
       "      <td>ALUNO DE GRADUAÇÃO</td>\n",
       "      <td>Acervo Circulante</td>\n",
       "      <td>Biblioteca Central Zila Mamede</td>\n",
       "      <td>REGULAR</td>\n",
       "      <td>647.0</td>\n",
       "      <td>25009.0</td>\n",
       "    </tr>\n",
       "  </tbody>\n",
       "</table>\n",
       "</div>"
      ],
      "text/plain": [
       "   id_emprestimo  id_exemplar codigo_barras                data_emprestimo  \\\n",
       "0       709684.0      13259.0       L095049  2010/01/04 07:44:10.721000000   \n",
       "1       709684.0      13259.0       L095049  2010/01/04 07:44:10.721000000   \n",
       "2       709684.0      13259.0       L095049  2010/01/04 07:44:10.721000000   \n",
       "3       709684.0      13259.0       L095049  2010/01/04 07:44:10.721000000   \n",
       "4       709685.0      70865.0       L167050  2010/01/04 07:44:10.750000000   \n",
       "\n",
       "                  data_devolucao data_renovacao  matricula_ou_siape  \\\n",
       "0  2010/01/05 16:26:12.662000000            NaN        2.008023e+09   \n",
       "1  2010/01/05 16:26:12.662000000            NaN        2.008023e+09   \n",
       "2  2010/01/05 16:26:12.662000000            NaN        2.008023e+09   \n",
       "3  2010/01/05 16:26:12.662000000            NaN        2.008023e+09   \n",
       "4  2010/01/12 07:34:13.934000000            NaN        2.008023e+09   \n",
       "\n",
       "  tipo_vinculo_usuario            colecao                      biblioteca  \\\n",
       "0   ALUNO DE GRADUAÇÃO  Acervo Circulante  Biblioteca Central Zila Mamede   \n",
       "1   ALUNO DE GRADUAÇÃO  Acervo Circulante  Biblioteca Central Zila Mamede   \n",
       "2   ALUNO DE GRADUAÇÃO  Acervo Circulante  Biblioteca Central Zila Mamede   \n",
       "3   ALUNO DE GRADUAÇÃO  Acervo Circulante  Biblioteca Central Zila Mamede   \n",
       "4   ALUNO DE GRADUAÇÃO  Acervo Circulante  Biblioteca Central Zila Mamede   \n",
       "\n",
       "  status_material  localizacao  registro_sistema  \n",
       "0         REGULAR        630.0            4225.0  \n",
       "1         REGULAR        630.0            4225.0  \n",
       "2         REGULAR        630.0            4225.0  \n",
       "3         REGULAR        630.0            4225.0  \n",
       "4         REGULAR        647.0           25009.0  "
      ]
     },
     "execution_count": 338,
     "metadata": {},
     "output_type": "execute_result"
    }
   ],
   "source": [
    "emprestimos = emprestimos[['id_emprestimo', 'id_exemplar', 'codigo_barras', 'data_emprestimo', 'data_devolucao', 'data_renovacao',\n",
    "                          'matricula_ou_siape', 'tipo_vinculo_usuario',\n",
    "                          'colecao', 'biblioteca', 'status_material',\n",
    "                          'localizacao', 'registro_sistema']]\n",
    "\n",
    "emprestimos.sort_values('id_emprestimo', inplace=True)\n",
    "emprestimos.reset_index(drop=True, inplace=True)\n",
    "emprestimos.head()\n"
   ]
  },
  {
   "cell_type": "code",
   "execution_count": 339,
   "id": "7c6cbc4d",
   "metadata": {},
   "outputs": [
    {
     "name": "stdout",
     "output_type": "stream",
     "text": [
      "95435\n"
     ]
    }
   ],
   "source": [
    "print(emprestimos.duplicated().sum())"
   ]
  },
  {
   "cell_type": "code",
   "execution_count": 340,
   "id": "4e4528fc",
   "metadata": {},
   "outputs": [
    {
     "data": {
      "text/html": [
       "<div>\n",
       "<style scoped>\n",
       "    .dataframe tbody tr th:only-of-type {\n",
       "        vertical-align: middle;\n",
       "    }\n",
       "\n",
       "    .dataframe tbody tr th {\n",
       "        vertical-align: top;\n",
       "    }\n",
       "\n",
       "    .dataframe thead th {\n",
       "        text-align: right;\n",
       "    }\n",
       "</style>\n",
       "<table border=\"1\" class=\"dataframe\">\n",
       "  <thead>\n",
       "    <tr style=\"text-align: right;\">\n",
       "      <th></th>\n",
       "      <th>id_emprestimo</th>\n",
       "      <th>id_exemplar</th>\n",
       "      <th>codigo_barras</th>\n",
       "      <th>data_emprestimo</th>\n",
       "      <th>data_devolucao</th>\n",
       "      <th>data_renovacao</th>\n",
       "      <th>matricula_ou_siape</th>\n",
       "      <th>tipo_vinculo_usuario</th>\n",
       "      <th>colecao</th>\n",
       "      <th>biblioteca</th>\n",
       "      <th>status_material</th>\n",
       "      <th>localizacao</th>\n",
       "      <th>registro_sistema</th>\n",
       "    </tr>\n",
       "  </thead>\n",
       "  <tbody>\n",
       "    <tr>\n",
       "      <th>0</th>\n",
       "      <td>709684.0</td>\n",
       "      <td>13259.0</td>\n",
       "      <td>L095049</td>\n",
       "      <td>2010/01/04 07:44:10.721000000</td>\n",
       "      <td>2010/01/05 16:26:12.662000000</td>\n",
       "      <td>NaN</td>\n",
       "      <td>2.008023e+09</td>\n",
       "      <td>ALUNO DE GRADUAÇÃO</td>\n",
       "      <td>Acervo Circulante</td>\n",
       "      <td>Biblioteca Central Zila Mamede</td>\n",
       "      <td>REGULAR</td>\n",
       "      <td>630.0</td>\n",
       "      <td>4225.0</td>\n",
       "    </tr>\n",
       "    <tr>\n",
       "      <th>1</th>\n",
       "      <td>709685.0</td>\n",
       "      <td>70865.0</td>\n",
       "      <td>L167050</td>\n",
       "      <td>2010/01/04 07:44:10.750000000</td>\n",
       "      <td>2010/01/12 07:34:13.934000000</td>\n",
       "      <td>NaN</td>\n",
       "      <td>2.008023e+09</td>\n",
       "      <td>ALUNO DE GRADUAÇÃO</td>\n",
       "      <td>Acervo Circulante</td>\n",
       "      <td>Biblioteca Central Zila Mamede</td>\n",
       "      <td>REGULAR</td>\n",
       "      <td>647.0</td>\n",
       "      <td>25009.0</td>\n",
       "    </tr>\n",
       "    <tr>\n",
       "      <th>2</th>\n",
       "      <td>709686.0</td>\n",
       "      <td>195347.0</td>\n",
       "      <td>2006017618</td>\n",
       "      <td>2010/01/04 08:08:44.081000000</td>\n",
       "      <td>2010/02/25 07:36:25.800000000</td>\n",
       "      <td>2010/01/26 08:07:01.738000000</td>\n",
       "      <td>2.008112e+09</td>\n",
       "      <td>ALUNO DE PÓS-GRADUAÇÃO</td>\n",
       "      <td>Acervo Circulante</td>\n",
       "      <td>Biblioteca Setorial Prof. Rodolfo Helinski - E...</td>\n",
       "      <td>REGULAR</td>\n",
       "      <td>640.0</td>\n",
       "      <td>75019.0</td>\n",
       "    </tr>\n",
       "    <tr>\n",
       "      <th>3</th>\n",
       "      <td>709687.0</td>\n",
       "      <td>131639.0</td>\n",
       "      <td>L184117</td>\n",
       "      <td>2010/01/04 08:24:21.284000000</td>\n",
       "      <td>2010/02/03 08:58:45.692000000</td>\n",
       "      <td>2010/01/18 11:07:46.470000000</td>\n",
       "      <td>2.007211e+08</td>\n",
       "      <td>ALUNO DE GRADUAÇÃO</td>\n",
       "      <td>Acervo Circulante</td>\n",
       "      <td>Biblioteca Central Zila Mamede</td>\n",
       "      <td>REGULAR</td>\n",
       "      <td>609.0</td>\n",
       "      <td>44494.0</td>\n",
       "    </tr>\n",
       "    <tr>\n",
       "      <th>4</th>\n",
       "      <td>709688.0</td>\n",
       "      <td>225646.0</td>\n",
       "      <td>2007027500</td>\n",
       "      <td>2010/01/04 08:27:33.569000000</td>\n",
       "      <td>2010/02/03 13:06:30.662000000</td>\n",
       "      <td>2010/01/19 15:59:26.464000000</td>\n",
       "      <td>2.009046e+09</td>\n",
       "      <td>ALUNO DE GRADUAÇÃO</td>\n",
       "      <td>Acervo Circulante</td>\n",
       "      <td>Biblioteca Central Zila Mamede</td>\n",
       "      <td>REGULAR</td>\n",
       "      <td>686.0</td>\n",
       "      <td>91736.0</td>\n",
       "    </tr>\n",
       "  </tbody>\n",
       "</table>\n",
       "</div>"
      ],
      "text/plain": [
       "   id_emprestimo  id_exemplar codigo_barras                data_emprestimo  \\\n",
       "0       709684.0      13259.0       L095049  2010/01/04 07:44:10.721000000   \n",
       "1       709685.0      70865.0       L167050  2010/01/04 07:44:10.750000000   \n",
       "2       709686.0     195347.0    2006017618  2010/01/04 08:08:44.081000000   \n",
       "3       709687.0     131639.0       L184117  2010/01/04 08:24:21.284000000   \n",
       "4       709688.0     225646.0    2007027500  2010/01/04 08:27:33.569000000   \n",
       "\n",
       "                  data_devolucao                 data_renovacao  \\\n",
       "0  2010/01/05 16:26:12.662000000                            NaN   \n",
       "1  2010/01/12 07:34:13.934000000                            NaN   \n",
       "2  2010/02/25 07:36:25.800000000  2010/01/26 08:07:01.738000000   \n",
       "3  2010/02/03 08:58:45.692000000  2010/01/18 11:07:46.470000000   \n",
       "4  2010/02/03 13:06:30.662000000  2010/01/19 15:59:26.464000000   \n",
       "\n",
       "   matricula_ou_siape    tipo_vinculo_usuario            colecao  \\\n",
       "0        2.008023e+09      ALUNO DE GRADUAÇÃO  Acervo Circulante   \n",
       "1        2.008023e+09      ALUNO DE GRADUAÇÃO  Acervo Circulante   \n",
       "2        2.008112e+09  ALUNO DE PÓS-GRADUAÇÃO  Acervo Circulante   \n",
       "3        2.007211e+08      ALUNO DE GRADUAÇÃO  Acervo Circulante   \n",
       "4        2.009046e+09      ALUNO DE GRADUAÇÃO  Acervo Circulante   \n",
       "\n",
       "                                          biblioteca status_material  \\\n",
       "0                     Biblioteca Central Zila Mamede         REGULAR   \n",
       "1                     Biblioteca Central Zila Mamede         REGULAR   \n",
       "2  Biblioteca Setorial Prof. Rodolfo Helinski - E...         REGULAR   \n",
       "3                     Biblioteca Central Zila Mamede         REGULAR   \n",
       "4                     Biblioteca Central Zila Mamede         REGULAR   \n",
       "\n",
       "   localizacao  registro_sistema  \n",
       "0        630.0            4225.0  \n",
       "1        647.0           25009.0  \n",
       "2        640.0           75019.0  \n",
       "3        609.0           44494.0  \n",
       "4        686.0           91736.0  "
      ]
     },
     "execution_count": 340,
     "metadata": {},
     "output_type": "execute_result"
    }
   ],
   "source": [
    "emprestimos.drop_duplicates(inplace=True)\n",
    "emprestimos.reset_index(drop=True, inplace=True)\n",
    "emprestimos.head()"
   ]
  },
  {
   "cell_type": "markdown",
   "id": "ddf9a821",
   "metadata": {},
   "source": [
    "## Dia 2\n",
    "\n",
    "O desafio consistia em atualizar os dados do DataFrame criando uma nova coluna relacionando as identificações dos números da coluna \"localizacao\" com base no CDU geral:\n",
    "\n",
    "- 000 a 099: Generalidades. Ciência e conhecimento.\n",
    "\n",
    "- 100 a 199: Filosofia e psicologia.\n",
    "\n",
    "- 200 a 299: Religião.\n",
    "\n",
    "- 300 a 399: Ciências sociais.\n",
    "\n",
    "- 400 a 499: Classe vaga. Provisoriamente não ocupada.\n",
    "\n",
    "- 500 a 599: Matemática e ciências naturais.\n",
    "\n",
    "- 600 a 699: Ciências aplicadas.\n",
    "\n",
    "- 700 a 799: Belas artes.\n",
    "\n",
    "- 800 a 899: Linguagem. Língua. Linguística.\n",
    "\n",
    "- 900 a 999: Geografia. Biografia. História.\n",
    "\n",
    "Além do mais, precisará ainda excluir a coluna \"registro_sistema\" que não está fazendo sentido para essa análise e modificar a coluna da matricula (“matricula_ou_siape”) que não está com um formato muito legível, transformando-a em formato 'String'."
   ]
  },
  {
   "cell_type": "code",
   "execution_count": 341,
   "id": "98ac6c99",
   "metadata": {},
   "outputs": [
    {
     "data": {
      "text/html": [
       "<div>\n",
       "<style scoped>\n",
       "    .dataframe tbody tr th:only-of-type {\n",
       "        vertical-align: middle;\n",
       "    }\n",
       "\n",
       "    .dataframe tbody tr th {\n",
       "        vertical-align: top;\n",
       "    }\n",
       "\n",
       "    .dataframe thead th {\n",
       "        text-align: right;\n",
       "    }\n",
       "</style>\n",
       "<table border=\"1\" class=\"dataframe\">\n",
       "  <thead>\n",
       "    <tr style=\"text-align: right;\">\n",
       "      <th></th>\n",
       "      <th>id_emprestimo</th>\n",
       "      <th>id_exemplar</th>\n",
       "      <th>codigo_barras</th>\n",
       "      <th>data_emprestimo</th>\n",
       "      <th>data_devolucao</th>\n",
       "      <th>data_renovacao</th>\n",
       "      <th>matricula_ou_siape</th>\n",
       "      <th>tipo_vinculo_usuario</th>\n",
       "      <th>colecao</th>\n",
       "      <th>biblioteca</th>\n",
       "      <th>status_material</th>\n",
       "      <th>localizacao</th>\n",
       "    </tr>\n",
       "  </thead>\n",
       "  <tbody>\n",
       "    <tr>\n",
       "      <th>0</th>\n",
       "      <td>709684.0</td>\n",
       "      <td>13259.0</td>\n",
       "      <td>L095049</td>\n",
       "      <td>2010/01/04 07:44:10.721000000</td>\n",
       "      <td>2010/01/05 16:26:12.662000000</td>\n",
       "      <td>NaN</td>\n",
       "      <td>2.008023e+09</td>\n",
       "      <td>ALUNO DE GRADUAÇÃO</td>\n",
       "      <td>Acervo Circulante</td>\n",
       "      <td>Biblioteca Central Zila Mamede</td>\n",
       "      <td>REGULAR</td>\n",
       "      <td>630.0</td>\n",
       "    </tr>\n",
       "    <tr>\n",
       "      <th>1</th>\n",
       "      <td>709685.0</td>\n",
       "      <td>70865.0</td>\n",
       "      <td>L167050</td>\n",
       "      <td>2010/01/04 07:44:10.750000000</td>\n",
       "      <td>2010/01/12 07:34:13.934000000</td>\n",
       "      <td>NaN</td>\n",
       "      <td>2.008023e+09</td>\n",
       "      <td>ALUNO DE GRADUAÇÃO</td>\n",
       "      <td>Acervo Circulante</td>\n",
       "      <td>Biblioteca Central Zila Mamede</td>\n",
       "      <td>REGULAR</td>\n",
       "      <td>647.0</td>\n",
       "    </tr>\n",
       "    <tr>\n",
       "      <th>2</th>\n",
       "      <td>709686.0</td>\n",
       "      <td>195347.0</td>\n",
       "      <td>2006017618</td>\n",
       "      <td>2010/01/04 08:08:44.081000000</td>\n",
       "      <td>2010/02/25 07:36:25.800000000</td>\n",
       "      <td>2010/01/26 08:07:01.738000000</td>\n",
       "      <td>2.008112e+09</td>\n",
       "      <td>ALUNO DE PÓS-GRADUAÇÃO</td>\n",
       "      <td>Acervo Circulante</td>\n",
       "      <td>Biblioteca Setorial Prof. Rodolfo Helinski - E...</td>\n",
       "      <td>REGULAR</td>\n",
       "      <td>640.0</td>\n",
       "    </tr>\n",
       "    <tr>\n",
       "      <th>3</th>\n",
       "      <td>709687.0</td>\n",
       "      <td>131639.0</td>\n",
       "      <td>L184117</td>\n",
       "      <td>2010/01/04 08:24:21.284000000</td>\n",
       "      <td>2010/02/03 08:58:45.692000000</td>\n",
       "      <td>2010/01/18 11:07:46.470000000</td>\n",
       "      <td>2.007211e+08</td>\n",
       "      <td>ALUNO DE GRADUAÇÃO</td>\n",
       "      <td>Acervo Circulante</td>\n",
       "      <td>Biblioteca Central Zila Mamede</td>\n",
       "      <td>REGULAR</td>\n",
       "      <td>609.0</td>\n",
       "    </tr>\n",
       "    <tr>\n",
       "      <th>4</th>\n",
       "      <td>709688.0</td>\n",
       "      <td>225646.0</td>\n",
       "      <td>2007027500</td>\n",
       "      <td>2010/01/04 08:27:33.569000000</td>\n",
       "      <td>2010/02/03 13:06:30.662000000</td>\n",
       "      <td>2010/01/19 15:59:26.464000000</td>\n",
       "      <td>2.009046e+09</td>\n",
       "      <td>ALUNO DE GRADUAÇÃO</td>\n",
       "      <td>Acervo Circulante</td>\n",
       "      <td>Biblioteca Central Zila Mamede</td>\n",
       "      <td>REGULAR</td>\n",
       "      <td>686.0</td>\n",
       "    </tr>\n",
       "  </tbody>\n",
       "</table>\n",
       "</div>"
      ],
      "text/plain": [
       "   id_emprestimo  id_exemplar codigo_barras                data_emprestimo  \\\n",
       "0       709684.0      13259.0       L095049  2010/01/04 07:44:10.721000000   \n",
       "1       709685.0      70865.0       L167050  2010/01/04 07:44:10.750000000   \n",
       "2       709686.0     195347.0    2006017618  2010/01/04 08:08:44.081000000   \n",
       "3       709687.0     131639.0       L184117  2010/01/04 08:24:21.284000000   \n",
       "4       709688.0     225646.0    2007027500  2010/01/04 08:27:33.569000000   \n",
       "\n",
       "                  data_devolucao                 data_renovacao  \\\n",
       "0  2010/01/05 16:26:12.662000000                            NaN   \n",
       "1  2010/01/12 07:34:13.934000000                            NaN   \n",
       "2  2010/02/25 07:36:25.800000000  2010/01/26 08:07:01.738000000   \n",
       "3  2010/02/03 08:58:45.692000000  2010/01/18 11:07:46.470000000   \n",
       "4  2010/02/03 13:06:30.662000000  2010/01/19 15:59:26.464000000   \n",
       "\n",
       "   matricula_ou_siape    tipo_vinculo_usuario            colecao  \\\n",
       "0        2.008023e+09      ALUNO DE GRADUAÇÃO  Acervo Circulante   \n",
       "1        2.008023e+09      ALUNO DE GRADUAÇÃO  Acervo Circulante   \n",
       "2        2.008112e+09  ALUNO DE PÓS-GRADUAÇÃO  Acervo Circulante   \n",
       "3        2.007211e+08      ALUNO DE GRADUAÇÃO  Acervo Circulante   \n",
       "4        2.009046e+09      ALUNO DE GRADUAÇÃO  Acervo Circulante   \n",
       "\n",
       "                                          biblioteca status_material  \\\n",
       "0                     Biblioteca Central Zila Mamede         REGULAR   \n",
       "1                     Biblioteca Central Zila Mamede         REGULAR   \n",
       "2  Biblioteca Setorial Prof. Rodolfo Helinski - E...         REGULAR   \n",
       "3                     Biblioteca Central Zila Mamede         REGULAR   \n",
       "4                     Biblioteca Central Zila Mamede         REGULAR   \n",
       "\n",
       "   localizacao  \n",
       "0        630.0  \n",
       "1        647.0  \n",
       "2        640.0  \n",
       "3        609.0  \n",
       "4        686.0  "
      ]
     },
     "execution_count": 341,
     "metadata": {},
     "output_type": "execute_result"
    }
   ],
   "source": [
    "emprestimos.drop(columns='registro_sistema', inplace=True)\n",
    "emprestimos.head()"
   ]
  },
  {
   "cell_type": "code",
   "execution_count": 342,
   "id": "41d74f57",
   "metadata": {},
   "outputs": [
    {
     "name": "stdout",
     "output_type": "stream",
     "text": [
      "<class 'pandas.core.frame.DataFrame'>\n",
      "RangeIndex: 2569286 entries, 0 to 2569285\n",
      "Data columns (total 12 columns):\n",
      " #   Column                Dtype  \n",
      "---  ------                -----  \n",
      " 0   id_emprestimo         float64\n",
      " 1   id_exemplar           float64\n",
      " 2   codigo_barras         object \n",
      " 3   data_emprestimo       object \n",
      " 4   data_devolucao        object \n",
      " 5   data_renovacao        object \n",
      " 6   matricula_ou_siape    float64\n",
      " 7   tipo_vinculo_usuario  object \n",
      " 8   colecao               object \n",
      " 9   biblioteca            object \n",
      " 10  status_material       object \n",
      " 11  localizacao           float64\n",
      "dtypes: float64(4), object(8)\n",
      "memory usage: 235.2+ MB\n"
     ]
    }
   ],
   "source": [
    "emprestimos.info()"
   ]
  },
  {
   "cell_type": "code",
   "execution_count": 343,
   "id": "3f8efd8f",
   "metadata": {},
   "outputs": [
    {
     "name": "stdout",
     "output_type": "stream",
     "text": [
      "<class 'pandas.core.frame.DataFrame'>\n",
      "RangeIndex: 2569286 entries, 0 to 2569285\n",
      "Data columns (total 12 columns):\n",
      " #   Column                Dtype  \n",
      "---  ------                -----  \n",
      " 0   id_emprestimo         float64\n",
      " 1   id_exemplar           float64\n",
      " 2   codigo_barras         object \n",
      " 3   data_emprestimo       object \n",
      " 4   data_devolucao        object \n",
      " 5   data_renovacao        object \n",
      " 6   matricula_ou_siape    string \n",
      " 7   tipo_vinculo_usuario  object \n",
      " 8   colecao               object \n",
      " 9   biblioteca            object \n",
      " 10  status_material       object \n",
      " 11  localizacao           float64\n",
      "dtypes: float64(3), object(8), string(1)\n",
      "memory usage: 235.2+ MB\n"
     ]
    }
   ],
   "source": [
    "emprestimos['matricula_ou_siape'] = emprestimos['matricula_ou_siape'].astype('string')\n",
    "emprestimos.info()"
   ]
  },
  {
   "cell_type": "code",
   "execution_count": 344,
   "id": "e98e17ab",
   "metadata": {},
   "outputs": [],
   "source": [
    "import numpy as np"
   ]
  },
  {
   "cell_type": "code",
   "execution_count": 345,
   "id": "0ee2a924",
   "metadata": {},
   "outputs": [],
   "source": [
    "cdu = {0: 'Generalidades. Ciência e conhecimento',\n",
    "       1: 'Filosofia e psicologia',\n",
    "       2: 'Religião',\n",
    "       3: 'Ciências sociais',\n",
    "       4: 'Classe vaga. Provisoriamente não ocupada',\n",
    "       5: 'Matemática e ciências naturais',\n",
    "       6: 'Ciências aplicadas',\n",
    "       7: 'Belas artes',\n",
    "       8: 'Linguagem. Língua. Linguística',\n",
    "       9: 'Geografia. Biografia. História'\n",
    "}"
   ]
  },
  {
   "cell_type": "code",
   "execution_count": 346,
   "id": "9f69c989",
   "metadata": {},
   "outputs": [],
   "source": [
    "emprestimos['CDU'] = np.floor(emprestimos['localizacao']/100)"
   ]
  },
  {
   "cell_type": "code",
   "execution_count": 347,
   "id": "1a8f48d2",
   "metadata": {},
   "outputs": [
    {
     "data": {
      "text/html": [
       "<div>\n",
       "<style scoped>\n",
       "    .dataframe tbody tr th:only-of-type {\n",
       "        vertical-align: middle;\n",
       "    }\n",
       "\n",
       "    .dataframe tbody tr th {\n",
       "        vertical-align: top;\n",
       "    }\n",
       "\n",
       "    .dataframe thead th {\n",
       "        text-align: right;\n",
       "    }\n",
       "</style>\n",
       "<table border=\"1\" class=\"dataframe\">\n",
       "  <thead>\n",
       "    <tr style=\"text-align: right;\">\n",
       "      <th></th>\n",
       "      <th>id_emprestimo</th>\n",
       "      <th>id_exemplar</th>\n",
       "      <th>codigo_barras</th>\n",
       "      <th>data_emprestimo</th>\n",
       "      <th>data_devolucao</th>\n",
       "      <th>data_renovacao</th>\n",
       "      <th>matricula_ou_siape</th>\n",
       "      <th>tipo_vinculo_usuario</th>\n",
       "      <th>colecao</th>\n",
       "      <th>biblioteca</th>\n",
       "      <th>status_material</th>\n",
       "      <th>localizacao</th>\n",
       "      <th>CDU</th>\n",
       "    </tr>\n",
       "  </thead>\n",
       "  <tbody>\n",
       "    <tr>\n",
       "      <th>0</th>\n",
       "      <td>709684.0</td>\n",
       "      <td>13259.0</td>\n",
       "      <td>L095049</td>\n",
       "      <td>2010/01/04 07:44:10.721000000</td>\n",
       "      <td>2010/01/05 16:26:12.662000000</td>\n",
       "      <td>NaN</td>\n",
       "      <td>2008023265.0</td>\n",
       "      <td>ALUNO DE GRADUAÇÃO</td>\n",
       "      <td>Acervo Circulante</td>\n",
       "      <td>Biblioteca Central Zila Mamede</td>\n",
       "      <td>REGULAR</td>\n",
       "      <td>630.0</td>\n",
       "      <td>Ciências aplicadas</td>\n",
       "    </tr>\n",
       "    <tr>\n",
       "      <th>1</th>\n",
       "      <td>709685.0</td>\n",
       "      <td>70865.0</td>\n",
       "      <td>L167050</td>\n",
       "      <td>2010/01/04 07:44:10.750000000</td>\n",
       "      <td>2010/01/12 07:34:13.934000000</td>\n",
       "      <td>NaN</td>\n",
       "      <td>2008023265.0</td>\n",
       "      <td>ALUNO DE GRADUAÇÃO</td>\n",
       "      <td>Acervo Circulante</td>\n",
       "      <td>Biblioteca Central Zila Mamede</td>\n",
       "      <td>REGULAR</td>\n",
       "      <td>647.0</td>\n",
       "      <td>Ciências aplicadas</td>\n",
       "    </tr>\n",
       "    <tr>\n",
       "      <th>2</th>\n",
       "      <td>709686.0</td>\n",
       "      <td>195347.0</td>\n",
       "      <td>2006017618</td>\n",
       "      <td>2010/01/04 08:08:44.081000000</td>\n",
       "      <td>2010/02/25 07:36:25.800000000</td>\n",
       "      <td>2010/01/26 08:07:01.738000000</td>\n",
       "      <td>2008112114.0</td>\n",
       "      <td>ALUNO DE PÓS-GRADUAÇÃO</td>\n",
       "      <td>Acervo Circulante</td>\n",
       "      <td>Biblioteca Setorial Prof. Rodolfo Helinski - E...</td>\n",
       "      <td>REGULAR</td>\n",
       "      <td>640.0</td>\n",
       "      <td>Ciências aplicadas</td>\n",
       "    </tr>\n",
       "    <tr>\n",
       "      <th>3</th>\n",
       "      <td>709687.0</td>\n",
       "      <td>131639.0</td>\n",
       "      <td>L184117</td>\n",
       "      <td>2010/01/04 08:24:21.284000000</td>\n",
       "      <td>2010/02/03 08:58:45.692000000</td>\n",
       "      <td>2010/01/18 11:07:46.470000000</td>\n",
       "      <td>200721119.0</td>\n",
       "      <td>ALUNO DE GRADUAÇÃO</td>\n",
       "      <td>Acervo Circulante</td>\n",
       "      <td>Biblioteca Central Zila Mamede</td>\n",
       "      <td>REGULAR</td>\n",
       "      <td>609.0</td>\n",
       "      <td>Ciências aplicadas</td>\n",
       "    </tr>\n",
       "    <tr>\n",
       "      <th>4</th>\n",
       "      <td>709688.0</td>\n",
       "      <td>225646.0</td>\n",
       "      <td>2007027500</td>\n",
       "      <td>2010/01/04 08:27:33.569000000</td>\n",
       "      <td>2010/02/03 13:06:30.662000000</td>\n",
       "      <td>2010/01/19 15:59:26.464000000</td>\n",
       "      <td>2009045971.0</td>\n",
       "      <td>ALUNO DE GRADUAÇÃO</td>\n",
       "      <td>Acervo Circulante</td>\n",
       "      <td>Biblioteca Central Zila Mamede</td>\n",
       "      <td>REGULAR</td>\n",
       "      <td>686.0</td>\n",
       "      <td>Ciências aplicadas</td>\n",
       "    </tr>\n",
       "  </tbody>\n",
       "</table>\n",
       "</div>"
      ],
      "text/plain": [
       "   id_emprestimo  id_exemplar codigo_barras                data_emprestimo  \\\n",
       "0       709684.0      13259.0       L095049  2010/01/04 07:44:10.721000000   \n",
       "1       709685.0      70865.0       L167050  2010/01/04 07:44:10.750000000   \n",
       "2       709686.0     195347.0    2006017618  2010/01/04 08:08:44.081000000   \n",
       "3       709687.0     131639.0       L184117  2010/01/04 08:24:21.284000000   \n",
       "4       709688.0     225646.0    2007027500  2010/01/04 08:27:33.569000000   \n",
       "\n",
       "                  data_devolucao                 data_renovacao  \\\n",
       "0  2010/01/05 16:26:12.662000000                            NaN   \n",
       "1  2010/01/12 07:34:13.934000000                            NaN   \n",
       "2  2010/02/25 07:36:25.800000000  2010/01/26 08:07:01.738000000   \n",
       "3  2010/02/03 08:58:45.692000000  2010/01/18 11:07:46.470000000   \n",
       "4  2010/02/03 13:06:30.662000000  2010/01/19 15:59:26.464000000   \n",
       "\n",
       "  matricula_ou_siape    tipo_vinculo_usuario            colecao  \\\n",
       "0       2008023265.0      ALUNO DE GRADUAÇÃO  Acervo Circulante   \n",
       "1       2008023265.0      ALUNO DE GRADUAÇÃO  Acervo Circulante   \n",
       "2       2008112114.0  ALUNO DE PÓS-GRADUAÇÃO  Acervo Circulante   \n",
       "3        200721119.0      ALUNO DE GRADUAÇÃO  Acervo Circulante   \n",
       "4       2009045971.0      ALUNO DE GRADUAÇÃO  Acervo Circulante   \n",
       "\n",
       "                                          biblioteca status_material  \\\n",
       "0                     Biblioteca Central Zila Mamede         REGULAR   \n",
       "1                     Biblioteca Central Zila Mamede         REGULAR   \n",
       "2  Biblioteca Setorial Prof. Rodolfo Helinski - E...         REGULAR   \n",
       "3                     Biblioteca Central Zila Mamede         REGULAR   \n",
       "4                     Biblioteca Central Zila Mamede         REGULAR   \n",
       "\n",
       "   localizacao                 CDU  \n",
       "0        630.0  Ciências aplicadas  \n",
       "1        647.0  Ciências aplicadas  \n",
       "2        640.0  Ciências aplicadas  \n",
       "3        609.0  Ciências aplicadas  \n",
       "4        686.0  Ciências aplicadas  "
      ]
     },
     "execution_count": 347,
     "metadata": {},
     "output_type": "execute_result"
    }
   ],
   "source": [
    "emprestimos['CDU'] = emprestimos['CDU'].replace(cdu)\n",
    "emprestimos.head()"
   ]
  },
  {
   "cell_type": "markdown",
   "id": "77f1b6a7",
   "metadata": {},
   "source": [
    "## Dia 3\n",
    "\n",
    "Neste dia, a diretoria da biblioteca gostaria de entender se a quantidade de empréstimos está diminuindo, aumentando ou permanecendo igual ao decorrer dos últimos anos. Para isso, verificaremos qual é a quantidade total de exemplares emprestados por cada ano e plotar um gráfico de linhas e, logo em seguida, realizar uma análise  relação à visualização gerada.\n",
    "\n",
    "A diretoria também gostaria de gerenciar melhor os recursos humanos da biblioteca de acordo com a demanda de trabalho existente. Por exemplo:\n",
    "\n",
    "- Gerenciar a programação de férias dos colaboradores de acordo com os meses de menor demanda;\n",
    "\n",
    "- Programar atividades que não sejam de atendimento ao usuário para períodos específicos de menor demanda.\n",
    "\n",
    "Há uma suspeita interna de que os meses com maior número de exemplares emprestados sejam março e setembro, mas não foi realizada uma análise real sobre isso. Portanto, geraremos uma tabela com a quantidade total de exemplares emprestados por mês e descubrir quais meses são os que possuem a maior quantidade de empréstimos realizados. Plotaremos um gráfico de linhas.\n",
    "\n",
    "Por fim, a diretoria também necessita que seja planejada uma programação diária das atividades. Por este motivo, verificaremos quais foram os horários com maior quantidade de empréstimos ao longo de um dia inteiro. Plotaremos um gráfico de barras e analisaremos quais seriam os melhores horários para alocar as demais atividades que não sejam de atendimento ao usuário."
   ]
  },
  {
   "cell_type": "code",
   "execution_count": 348,
   "id": "ec44ffdd",
   "metadata": {},
   "outputs": [],
   "source": [
    "import matplotlib.pyplot as plt\n",
    "import seaborn as sns"
   ]
  },
  {
   "cell_type": "code",
   "execution_count": 349,
   "id": "c88a45d8",
   "metadata": {},
   "outputs": [
    {
     "data": {
      "text/plain": [
       "id_emprestimo            307507\n",
       "id_exemplar              189257\n",
       "codigo_barras                 0\n",
       "data_emprestimo          307507\n",
       "data_devolucao           313991\n",
       "data_renovacao          1595459\n",
       "matricula_ou_siape       310678\n",
       "tipo_vinculo_usuario     307507\n",
       "colecao                  189257\n",
       "biblioteca               189257\n",
       "status_material          189257\n",
       "localizacao              189257\n",
       "CDU                      189257\n",
       "dtype: int64"
      ]
     },
     "execution_count": 349,
     "metadata": {},
     "output_type": "execute_result"
    }
   ],
   "source": [
    "emprestimos.isna().sum()"
   ]
  },
  {
   "cell_type": "markdown",
   "id": "46874c9e",
   "metadata": {},
   "source": [
    "Grafico 1 - Quantidade de empréstimos ao longo dos anos"
   ]
  },
  {
   "cell_type": "code",
   "execution_count": 350,
   "id": "9376bd06",
   "metadata": {},
   "outputs": [
    {
     "data": {
      "text/plain": [
       "id_emprestimo      0\n",
       "id_exemplar        0\n",
       "data_emprestimo    0\n",
       "dtype: int64"
      ]
     },
     "execution_count": 350,
     "metadata": {},
     "output_type": "execute_result"
    }
   ],
   "source": [
    "emprestimos_anuais = emprestimos.copy()\n",
    "colunas_retirar = emprestimos_anuais.columns\n",
    "emprestimos_anuais.drop(columns=[col for col in colunas_retirar if col not in ['id_emprestimo', 'id_exemplar', 'data_emprestimo']], inplace=True)\n",
    "emprestimos_anuais.dropna(inplace=True)\n",
    "emprestimos_anuais.reset_index(drop=True, inplace=True)\n",
    "emprestimos_anuais.isna().sum()"
   ]
  },
  {
   "cell_type": "code",
   "execution_count": 351,
   "id": "e899b70e",
   "metadata": {},
   "outputs": [
    {
     "name": "stdout",
     "output_type": "stream",
     "text": [
      "<class 'pandas.core.frame.DataFrame'>\n",
      "RangeIndex: 2072522 entries, 0 to 2072521\n",
      "Data columns (total 2 columns):\n",
      " #   Column           Dtype         \n",
      "---  ------           -----         \n",
      " 0   data_emprestimo  datetime64[ns]\n",
      " 1   ano              int64         \n",
      "dtypes: datetime64[ns](1), int64(1)\n",
      "memory usage: 31.6 MB\n"
     ]
    }
   ],
   "source": [
    "emprestimos_anuais['data_emprestimo'] = pd.to_datetime(emprestimos_anuais['data_emprestimo'])\n",
    "emprestimos_anuais['ano'] = emprestimos_anuais['data_emprestimo'].dt.year\n",
    "emprestimos_anuais['ano'] = emprestimos_anuais['ano'].astype(int)\n",
    "emprestimos_anuais.drop(columns=['id_emprestimo', 'id_exemplar'], inplace=True)\n",
    "emprestimos_anuais.info()"
   ]
  },
  {
   "cell_type": "code",
   "execution_count": 352,
   "id": "136e9731",
   "metadata": {},
   "outputs": [
    {
     "data": {
      "text/html": [
       "<div>\n",
       "<style scoped>\n",
       "    .dataframe tbody tr th:only-of-type {\n",
       "        vertical-align: middle;\n",
       "    }\n",
       "\n",
       "    .dataframe tbody tr th {\n",
       "        vertical-align: top;\n",
       "    }\n",
       "\n",
       "    .dataframe thead th {\n",
       "        text-align: right;\n",
       "    }\n",
       "</style>\n",
       "<table border=\"1\" class=\"dataframe\">\n",
       "  <thead>\n",
       "    <tr style=\"text-align: right;\">\n",
       "      <th></th>\n",
       "      <th>quantidade_emprestimos</th>\n",
       "    </tr>\n",
       "    <tr>\n",
       "      <th>ano</th>\n",
       "      <th></th>\n",
       "    </tr>\n",
       "  </thead>\n",
       "  <tbody>\n",
       "    <tr>\n",
       "      <th>2010</th>\n",
       "      <td>161394</td>\n",
       "    </tr>\n",
       "    <tr>\n",
       "      <th>2011</th>\n",
       "      <td>196390</td>\n",
       "    </tr>\n",
       "    <tr>\n",
       "      <th>2012</th>\n",
       "      <td>221365</td>\n",
       "    </tr>\n",
       "    <tr>\n",
       "      <th>2013</th>\n",
       "      <td>234749</td>\n",
       "    </tr>\n",
       "    <tr>\n",
       "      <th>2014</th>\n",
       "      <td>219189</td>\n",
       "    </tr>\n",
       "    <tr>\n",
       "      <th>2015</th>\n",
       "      <td>213582</td>\n",
       "    </tr>\n",
       "    <tr>\n",
       "      <th>2016</th>\n",
       "      <td>215900</td>\n",
       "    </tr>\n",
       "    <tr>\n",
       "      <th>2017</th>\n",
       "      <td>218462</td>\n",
       "    </tr>\n",
       "    <tr>\n",
       "      <th>2018</th>\n",
       "      <td>194080</td>\n",
       "    </tr>\n",
       "    <tr>\n",
       "      <th>2019</th>\n",
       "      <td>171801</td>\n",
       "    </tr>\n",
       "    <tr>\n",
       "      <th>2020</th>\n",
       "      <td>25610</td>\n",
       "    </tr>\n",
       "  </tbody>\n",
       "</table>\n",
       "</div>"
      ],
      "text/plain": [
       "      quantidade_emprestimos\n",
       "ano                         \n",
       "2010                  161394\n",
       "2011                  196390\n",
       "2012                  221365\n",
       "2013                  234749\n",
       "2014                  219189\n",
       "2015                  213582\n",
       "2016                  215900\n",
       "2017                  218462\n",
       "2018                  194080\n",
       "2019                  171801\n",
       "2020                   25610"
      ]
     },
     "execution_count": 352,
     "metadata": {},
     "output_type": "execute_result"
    }
   ],
   "source": [
    "emprestimos_anuais['data_emprestimo'] = [1 for x in emprestimos_anuais['data_emprestimo']]\n",
    "emprestimos_anuais = emprestimos_anuais.groupby('ano').agg('sum')\n",
    "emprestimos_anuais.rename(columns={'data_emprestimo': 'quantidade_emprestimos'}, inplace=True)\n",
    "emprestimos_anuais"
   ]
  },
  {
   "cell_type": "code",
   "execution_count": 353,
   "id": "0a36bed9",
   "metadata": {},
   "outputs": [
    {
     "data": {
      "text/plain": [
       "Text(0, 0.5, '')"
      ]
     },
     "execution_count": 353,
     "metadata": {},
     "output_type": "execute_result"
    },
    {
     "data": {
      "image/png": "[encoded data removed]",
      "text/plain": [
       "<Figure size 1000x600 with 1 Axes>"
      ]
     },
     "metadata": {},
     "output_type": "display_data"
    }
   ],
   "source": [
    "fig, ax= plt.subplots(figsize = (10,6))\n",
    "\n",
    "#ponto a marcar\n",
    "pontos = []\n",
    "\n",
    "ax.plot(emprestimos_anuais.index, emprestimos_anuais['quantidade_emprestimos'])\n",
    "ax.set_title('Quantidade de emprestimos ao longo\\n dos anos 2010 a 2020', loc='left', fontsize=18)\n",
    "ax.set_xlabel('')\n",
    "ax.set_ylabel('')"
   ]
  },
  {
   "cell_type": "markdown",
   "id": "b2c669e4",
   "metadata": {},
   "source": [
    "Gráfico 2 - Quantidade mensal de emprestimos ao longo dos anos"
   ]
  },
  {
   "cell_type": "code",
   "execution_count": 354,
   "id": "351021a4",
   "metadata": {},
   "outputs": [],
   "source": [
    "emprestimos_mensal = emprestimos.copy()\n",
    "colunas_retirar = emprestimos_mensal.columns\n",
    "emprestimos_mensal.drop(columns=[col for col in colunas_retirar if col not in ['id_emprestimo', 'id_exemplar', 'data_emprestimo']], inplace=True)\n",
    "emprestimos_mensal.dropna(inplace=True)\n",
    "emprestimos_mensal.reset_index(drop=True, inplace=True)"
   ]
  },
  {
   "cell_type": "code",
   "execution_count": 355,
   "id": "d022a13e",
   "metadata": {},
   "outputs": [
    {
     "name": "stdout",
     "output_type": "stream",
     "text": [
      "<class 'pandas.core.frame.DataFrame'>\n",
      "RangeIndex: 2072522 entries, 0 to 2072521\n",
      "Data columns (total 3 columns):\n",
      " #   Column           Dtype         \n",
      "---  ------           -----         \n",
      " 0   data_emprestimo  datetime64[ns]\n",
      " 1   ano              int64         \n",
      " 2   mes              int64         \n",
      "dtypes: datetime64[ns](1), int64(2)\n",
      "memory usage: 47.4 MB\n"
     ]
    }
   ],
   "source": [
    "emprestimos_mensal['data_emprestimo'] = pd.to_datetime(emprestimos_mensal['data_emprestimo'])\n",
    "emprestimos_mensal['ano'] = emprestimos_mensal['data_emprestimo'].dt.year\n",
    "emprestimos_mensal['mes'] = emprestimos_mensal['data_emprestimo'].dt.month\n",
    "emprestimos_mensal['ano'] = emprestimos_mensal['ano'].astype(int)\n",
    "emprestimos_mensal['mes'] = emprestimos_mensal['mes'].astype(int)\n",
    "emprestimos_mensal.drop(columns=['id_emprestimo', 'id_exemplar'], inplace=True)\n",
    "emprestimos_mensal.info()"
   ]
  },
  {
   "cell_type": "code",
   "execution_count": 356,
   "id": "0b89b806",
   "metadata": {},
   "outputs": [
    {
     "data": {
      "text/html": [
       "<div>\n",
       "<style scoped>\n",
       "    .dataframe tbody tr th:only-of-type {\n",
       "        vertical-align: middle;\n",
       "    }\n",
       "\n",
       "    .dataframe tbody tr th {\n",
       "        vertical-align: top;\n",
       "    }\n",
       "\n",
       "    .dataframe thead th {\n",
       "        text-align: right;\n",
       "    }\n",
       "</style>\n",
       "<table border=\"1\" class=\"dataframe\">\n",
       "  <thead>\n",
       "    <tr style=\"text-align: right;\">\n",
       "      <th></th>\n",
       "      <th>ano</th>\n",
       "      <th>mes</th>\n",
       "      <th>quantidade_emprestimo</th>\n",
       "    </tr>\n",
       "  </thead>\n",
       "  <tbody>\n",
       "    <tr>\n",
       "      <th>0</th>\n",
       "      <td>2010</td>\n",
       "      <td>1</td>\n",
       "      <td>4703</td>\n",
       "    </tr>\n",
       "    <tr>\n",
       "      <th>1</th>\n",
       "      <td>2010</td>\n",
       "      <td>2</td>\n",
       "      <td>10266</td>\n",
       "    </tr>\n",
       "    <tr>\n",
       "      <th>2</th>\n",
       "      <td>2010</td>\n",
       "      <td>3</td>\n",
       "      <td>19631</td>\n",
       "    </tr>\n",
       "    <tr>\n",
       "      <th>3</th>\n",
       "      <td>2010</td>\n",
       "      <td>4</td>\n",
       "      <td>16352</td>\n",
       "    </tr>\n",
       "    <tr>\n",
       "      <th>4</th>\n",
       "      <td>2010</td>\n",
       "      <td>5</td>\n",
       "      <td>15889</td>\n",
       "    </tr>\n",
       "    <tr>\n",
       "      <th>...</th>\n",
       "      <td>...</td>\n",
       "      <td>...</td>\n",
       "      <td>...</td>\n",
       "    </tr>\n",
       "    <tr>\n",
       "      <th>120</th>\n",
       "      <td>2020</td>\n",
       "      <td>1</td>\n",
       "      <td>3585</td>\n",
       "    </tr>\n",
       "    <tr>\n",
       "      <th>121</th>\n",
       "      <td>2020</td>\n",
       "      <td>2</td>\n",
       "      <td>10667</td>\n",
       "    </tr>\n",
       "    <tr>\n",
       "      <th>122</th>\n",
       "      <td>2020</td>\n",
       "      <td>3</td>\n",
       "      <td>11348</td>\n",
       "    </tr>\n",
       "    <tr>\n",
       "      <th>123</th>\n",
       "      <td>2020</td>\n",
       "      <td>5</td>\n",
       "      <td>8</td>\n",
       "    </tr>\n",
       "    <tr>\n",
       "      <th>124</th>\n",
       "      <td>2020</td>\n",
       "      <td>6</td>\n",
       "      <td>2</td>\n",
       "    </tr>\n",
       "  </tbody>\n",
       "</table>\n",
       "<p>125 rows × 3 columns</p>\n",
       "</div>"
      ],
      "text/plain": [
       "      ano  mes  quantidade_emprestimo\n",
       "0    2010    1                   4703\n",
       "1    2010    2                  10266\n",
       "2    2010    3                  19631\n",
       "3    2010    4                  16352\n",
       "4    2010    5                  15889\n",
       "..    ...  ...                    ...\n",
       "120  2020    1                   3585\n",
       "121  2020    2                  10667\n",
       "122  2020    3                  11348\n",
       "123  2020    5                      8\n",
       "124  2020    6                      2\n",
       "\n",
       "[125 rows x 3 columns]"
      ]
     },
     "execution_count": 356,
     "metadata": {},
     "output_type": "execute_result"
    }
   ],
   "source": [
    "emprestimos_mensal['data_emprestimo'] = [1 for x in emprestimos_mensal['data_emprestimo']]\n",
    "emprestimos_mensal.rename(columns={'data_emprestimo': 'quantidade_emprestimo'}, inplace=True)\n",
    "emprestimos_mensal = emprestimos_mensal.groupby(['ano','mes']).sum()\n",
    "emprestimos_mensal.reset_index(inplace=True)\n",
    "emprestimos_mensal"
   ]
  },
  {
   "cell_type": "code",
   "execution_count": 357,
   "id": "3a4ae41c",
   "metadata": {},
   "outputs": [
    {
     "data": {
      "text/html": [
       "<div>\n",
       "<style scoped>\n",
       "    .dataframe tbody tr th:only-of-type {\n",
       "        vertical-align: middle;\n",
       "    }\n",
       "\n",
       "    .dataframe tbody tr th {\n",
       "        vertical-align: top;\n",
       "    }\n",
       "\n",
       "    .dataframe thead th {\n",
       "        text-align: right;\n",
       "    }\n",
       "</style>\n",
       "<table border=\"1\" class=\"dataframe\">\n",
       "  <thead>\n",
       "    <tr style=\"text-align: right;\">\n",
       "      <th>ano</th>\n",
       "      <th>2010</th>\n",
       "      <th>2011</th>\n",
       "      <th>2012</th>\n",
       "      <th>2013</th>\n",
       "      <th>2014</th>\n",
       "      <th>2015</th>\n",
       "      <th>2016</th>\n",
       "      <th>2017</th>\n",
       "      <th>2018</th>\n",
       "      <th>2019</th>\n",
       "      <th>2020</th>\n",
       "    </tr>\n",
       "    <tr>\n",
       "      <th>mes</th>\n",
       "      <th></th>\n",
       "      <th></th>\n",
       "      <th></th>\n",
       "      <th></th>\n",
       "      <th></th>\n",
       "      <th></th>\n",
       "      <th></th>\n",
       "      <th></th>\n",
       "      <th></th>\n",
       "      <th></th>\n",
       "      <th></th>\n",
       "    </tr>\n",
       "  </thead>\n",
       "  <tbody>\n",
       "    <tr>\n",
       "      <th>1</th>\n",
       "      <td>4703.0</td>\n",
       "      <td>1516.0</td>\n",
       "      <td>7336.0</td>\n",
       "      <td>7907.0</td>\n",
       "      <td>15889.0</td>\n",
       "      <td>6612.0</td>\n",
       "      <td>5095.0</td>\n",
       "      <td>5100.0</td>\n",
       "      <td>5148.0</td>\n",
       "      <td>4623.0</td>\n",
       "      <td>3585.0</td>\n",
       "    </tr>\n",
       "    <tr>\n",
       "      <th>2</th>\n",
       "      <td>10266.0</td>\n",
       "      <td>13185.0</td>\n",
       "      <td>20789.0</td>\n",
       "      <td>25380.0</td>\n",
       "      <td>25817.0</td>\n",
       "      <td>26178.0</td>\n",
       "      <td>19847.0</td>\n",
       "      <td>19886.0</td>\n",
       "      <td>16969.0</td>\n",
       "      <td>21216.0</td>\n",
       "      <td>10667.0</td>\n",
       "    </tr>\n",
       "    <tr>\n",
       "      <th>3</th>\n",
       "      <td>19631.0</td>\n",
       "      <td>20086.0</td>\n",
       "      <td>28138.0</td>\n",
       "      <td>24877.0</td>\n",
       "      <td>20244.0</td>\n",
       "      <td>28662.0</td>\n",
       "      <td>27660.0</td>\n",
       "      <td>27739.0</td>\n",
       "      <td>23923.0</td>\n",
       "      <td>19877.0</td>\n",
       "      <td>11348.0</td>\n",
       "    </tr>\n",
       "    <tr>\n",
       "      <th>4</th>\n",
       "      <td>16352.0</td>\n",
       "      <td>18405.0</td>\n",
       "      <td>23688.0</td>\n",
       "      <td>26707.0</td>\n",
       "      <td>19034.0</td>\n",
       "      <td>23725.0</td>\n",
       "      <td>20348.0</td>\n",
       "      <td>20384.0</td>\n",
       "      <td>21835.0</td>\n",
       "      <td>18247.0</td>\n",
       "      <td>NaN</td>\n",
       "    </tr>\n",
       "    <tr>\n",
       "      <th>5</th>\n",
       "      <td>15889.0</td>\n",
       "      <td>20282.0</td>\n",
       "      <td>22517.0</td>\n",
       "      <td>22870.0</td>\n",
       "      <td>17376.0</td>\n",
       "      <td>21901.0</td>\n",
       "      <td>22730.0</td>\n",
       "      <td>22756.0</td>\n",
       "      <td>19431.0</td>\n",
       "      <td>16770.0</td>\n",
       "      <td>8.0</td>\n",
       "    </tr>\n",
       "    <tr>\n",
       "      <th>6</th>\n",
       "      <td>12551.0</td>\n",
       "      <td>16578.0</td>\n",
       "      <td>14237.0</td>\n",
       "      <td>13697.0</td>\n",
       "      <td>7029.0</td>\n",
       "      <td>12963.0</td>\n",
       "      <td>17360.0</td>\n",
       "      <td>17377.0</td>\n",
       "      <td>15494.0</td>\n",
       "      <td>10835.0</td>\n",
       "      <td>2.0</td>\n",
       "    </tr>\n",
       "    <tr>\n",
       "      <th>7</th>\n",
       "      <td>7018.0</td>\n",
       "      <td>8626.0</td>\n",
       "      <td>6286.0</td>\n",
       "      <td>15773.0</td>\n",
       "      <td>18910.0</td>\n",
       "      <td>14314.0</td>\n",
       "      <td>14616.0</td>\n",
       "      <td>14808.0</td>\n",
       "      <td>9651.0</td>\n",
       "      <td>13788.0</td>\n",
       "      <td>NaN</td>\n",
       "    </tr>\n",
       "    <tr>\n",
       "      <th>8</th>\n",
       "      <td>18337.0</td>\n",
       "      <td>24794.0</td>\n",
       "      <td>22703.0</td>\n",
       "      <td>24092.0</td>\n",
       "      <td>24223.0</td>\n",
       "      <td>20100.0</td>\n",
       "      <td>26434.0</td>\n",
       "      <td>27458.0</td>\n",
       "      <td>24886.0</td>\n",
       "      <td>19766.0</td>\n",
       "      <td>NaN</td>\n",
       "    </tr>\n",
       "    <tr>\n",
       "      <th>9</th>\n",
       "      <td>18448.0</td>\n",
       "      <td>23305.0</td>\n",
       "      <td>21607.0</td>\n",
       "      <td>24216.0</td>\n",
       "      <td>24750.0</td>\n",
       "      <td>16141.0</td>\n",
       "      <td>23619.0</td>\n",
       "      <td>21409.0</td>\n",
       "      <td>18080.0</td>\n",
       "      <td>16659.0</td>\n",
       "      <td>NaN</td>\n",
       "    </tr>\n",
       "    <tr>\n",
       "      <th>10</th>\n",
       "      <td>15501.0</td>\n",
       "      <td>19223.0</td>\n",
       "      <td>22322.0</td>\n",
       "      <td>21203.0</td>\n",
       "      <td>21924.0</td>\n",
       "      <td>18076.0</td>\n",
       "      <td>18225.0</td>\n",
       "      <td>19281.0</td>\n",
       "      <td>17794.0</td>\n",
       "      <td>14861.0</td>\n",
       "      <td>NaN</td>\n",
       "    </tr>\n",
       "    <tr>\n",
       "      <th>11</th>\n",
       "      <td>14596.0</td>\n",
       "      <td>18496.0</td>\n",
       "      <td>20563.0</td>\n",
       "      <td>19059.0</td>\n",
       "      <td>17353.0</td>\n",
       "      <td>17796.0</td>\n",
       "      <td>13257.0</td>\n",
       "      <td>16390.0</td>\n",
       "      <td>15063.0</td>\n",
       "      <td>11649.0</td>\n",
       "      <td>NaN</td>\n",
       "    </tr>\n",
       "    <tr>\n",
       "      <th>12</th>\n",
       "      <td>8102.0</td>\n",
       "      <td>11894.0</td>\n",
       "      <td>11179.0</td>\n",
       "      <td>8968.0</td>\n",
       "      <td>6640.0</td>\n",
       "      <td>7114.0</td>\n",
       "      <td>6709.0</td>\n",
       "      <td>5874.0</td>\n",
       "      <td>5806.0</td>\n",
       "      <td>3510.0</td>\n",
       "      <td>NaN</td>\n",
       "    </tr>\n",
       "  </tbody>\n",
       "</table>\n",
       "</div>"
      ],
      "text/plain": [
       "ano     2010     2011     2012     2013     2014     2015     2016     2017  \\\n",
       "mes                                                                           \n",
       "1     4703.0   1516.0   7336.0   7907.0  15889.0   6612.0   5095.0   5100.0   \n",
       "2    10266.0  13185.0  20789.0  25380.0  25817.0  26178.0  19847.0  19886.0   \n",
       "3    19631.0  20086.0  28138.0  24877.0  20244.0  28662.0  27660.0  27739.0   \n",
       "4    16352.0  18405.0  23688.0  26707.0  19034.0  23725.0  20348.0  20384.0   \n",
       "5    15889.0  20282.0  22517.0  22870.0  17376.0  21901.0  22730.0  22756.0   \n",
       "6    12551.0  16578.0  14237.0  13697.0   7029.0  12963.0  17360.0  17377.0   \n",
       "7     7018.0   8626.0   6286.0  15773.0  18910.0  14314.0  14616.0  14808.0   \n",
       "8    18337.0  24794.0  22703.0  24092.0  24223.0  20100.0  26434.0  27458.0   \n",
       "9    18448.0  23305.0  21607.0  24216.0  24750.0  16141.0  23619.0  21409.0   \n",
       "10   15501.0  19223.0  22322.0  21203.0  21924.0  18076.0  18225.0  19281.0   \n",
       "11   14596.0  18496.0  20563.0  19059.0  17353.0  17796.0  13257.0  16390.0   \n",
       "12    8102.0  11894.0  11179.0   8968.0   6640.0   7114.0   6709.0   5874.0   \n",
       "\n",
       "ano     2018     2019     2020  \n",
       "mes                             \n",
       "1     5148.0   4623.0   3585.0  \n",
       "2    16969.0  21216.0  10667.0  \n",
       "3    23923.0  19877.0  11348.0  \n",
       "4    21835.0  18247.0      NaN  \n",
       "5    19431.0  16770.0      8.0  \n",
       "6    15494.0  10835.0      2.0  \n",
       "7     9651.0  13788.0      NaN  \n",
       "8    24886.0  19766.0      NaN  \n",
       "9    18080.0  16659.0      NaN  \n",
       "10   17794.0  14861.0      NaN  \n",
       "11   15063.0  11649.0      NaN  \n",
       "12    5806.0   3510.0      NaN  "
      ]
     },
     "execution_count": 357,
     "metadata": {},
     "output_type": "execute_result"
    }
   ],
   "source": [
    "emprestimos_mensal = pd.crosstab(index=emprestimos_mensal['mes'], columns=emprestimos_mensal['ano'], values=emprestimos_mensal['quantidade_emprestimo'], aggfunc='sum')\n",
    "emprestimos_mensal"
   ]
  },
  {
   "cell_type": "markdown",
   "id": "a9131465",
   "metadata": {},
   "source": [
    "É notável que os dados não foram registrados em todo o ano de 2020, logo não podemos fazer uma análise ao longo dos meses, pois caso o contrário ela seria tendenciosa."
   ]
  },
  {
   "cell_type": "code",
   "execution_count": 358,
   "id": "30b7ad03",
   "metadata": {},
   "outputs": [],
   "source": [
    "emprestimos_mensal = emprestimos_mensal.drop(2020,axis=1)"
   ]
  },
  {
   "cell_type": "code",
   "execution_count": 359,
   "id": "600fadea",
   "metadata": {},
   "outputs": [],
   "source": [
    "import plotly.express as px"
   ]
  },
  {
   "cell_type": "code",
   "execution_count": 360,
   "id": "0869393d",
   "metadata": {},
   "outputs": [
    {
     "data": {
      "application/vnd.plotly.v1+json": {
       "config": {
        "plotlyServerURL": "https://plot.ly"
       },
       "data": [
        {
         "hovertemplate": "ano=2010<br>mes=%{x}<br>value=%{y}<extra></extra>",
         "legendgroup": "2010",
         "line": {
          "color": "#636efa",
          "dash": "solid"
         },
         "marker": {
          "symbol": "circle"
         },
         "mode": "lines+markers",
         "name": "2010",
         "orientation": "v",
         "showlegend": true,
         "type": "scatter",
         "x": {
          "bdata": "AQIDBAUGBwgJCgsM",
          "dtype": "i1"
         },
         "xaxis": "x",
         "y": {
          "bdata": "AAAAAABfskAAAAAAAA3EQAAAAADAK9NAAAAAAADwz0AAAAAAgAjPQAAAAACAg8hAAAAAAABqu0AAAAAAQOjRQAAAAAAABNJAAAAAAIBGzkAAAAAAAILMQAAAAAAApr9A",
          "dtype": "f8"
         },
         "yaxis": "y"
        },
        {
         "hovertemplate": "ano=2011<br>mes=%{x}<br>value=%{y}<extra></extra>",
         "legendgroup": "2011",
         "line": {
          "color": "#EF553B",
          "dash": "solid"
         },
         "marker": {
          "symbol": "circle"
         },
         "mode": "lines+markers",
         "name": "2011",
         "orientation": "v",
         "showlegend": true,
         "type": "scatter",
         "x": {
          "bdata": "AQIDBAUGBwgJCgsM",
          "dtype": "i1"
         },
         "xaxis": "x",
         "y": {
          "bdata": "AAAAAACwl0AAAAAAgMDJQAAAAACAndNAAAAAAED50UAAAAAAgM7TQAAAAACAMNBAAAAAAADZwEAAAAAAgDbYQAAAAABAwtZAAAAAAMDF0kAAAAAAABDSQAAAAAAAO8dA",
          "dtype": "f8"
         },
         "yaxis": "y"
        },
        {
         "hovertemplate": "ano=2012<br>mes=%{x}<br>value=%{y}<extra></extra>",
         "legendgroup": "2012",
         "line": {
          "color": "#00cc96",
          "dash": "solid"
         },
         "marker": {
          "symbol": "circle"
         },
         "mode": "lines+markers",
         "name": "2012",
         "orientation": "v",
         "showlegend": true,
         "type": "scatter",
         "x": {
          "bdata": "AQIDBAUGBwgJCgsM",
          "dtype": "i1"
         },
         "xaxis": "x",
         "y": {
          "bdata": "AAAAAACovEAAAAAAQE3UQAAAAACAettAAAAAAAAi10AAAAAAQP3VQAAAAACAzstAAAAAAACOuEAAAAAAwCvWQAAAAADAGdVAAAAAAIDM1UAAAAAAwBTUQAAAAACA1cVA",
          "dtype": "f8"
         },
         "yaxis": "y"
        },
        {
         "hovertemplate": "ano=2013<br>mes=%{x}<br>value=%{y}<extra></extra>",
         "legendgroup": "2013",
         "line": {
          "color": "#ab63fa",
          "dash": "solid"
         },
         "marker": {
          "symbol": "circle"
         },
         "mode": "lines+markers",
         "name": "2013",
         "orientation": "v",
         "showlegend": true,
         "type": "scatter",
         "x": {
          "bdata": "AQIDBAUGBwgJCgsM",
          "dtype": "i1"
         },
         "xaxis": "x",
         "y": {
          "bdata": "AAAAAADjvkAAAAAAAMnYQAAAAABAS9hAAAAAAMAU2kAAAAAAgFXWQAAAAACAwMpAAAAAAIDOzkAAAAAAAIfXQAAAAAAAptdAAAAAAMC01EAAAAAAwJzSQAAAAAAAhMFA",
          "dtype": "f8"
         },
         "yaxis": "y"
        },
        {
         "hovertemplate": "ano=2014<br>mes=%{x}<br>value=%{y}<extra></extra>",
         "legendgroup": "2014",
         "line": {
          "color": "#FFA15A",
          "dash": "solid"
         },
         "marker": {
          "symbol": "circle"
         },
         "mode": "lines+markers",
         "name": "2014",
         "orientation": "v",
         "showlegend": true,
         "type": "scatter",
         "x": {
          "bdata": "AQIDBAUGBwgJCgsM",
          "dtype": "i1"
         },
         "xaxis": "x",
         "y": {
          "bdata": "AAAAAIAIz0AAAAAAQDbZQAAAAAAAxdNAAAAAAICW0kAAAAAAAPjQQAAAAAAAdbtAAAAAAIB30kAAAAAAwKfXQAAAAACAK9hAAAAAAABp1UAAAAAAQPLQQAAAAAAA8LlA",
          "dtype": "f8"
         },
         "yaxis": "y"
        },
        {
         "hovertemplate": "ano=2015<br>mes=%{x}<br>value=%{y}<extra></extra>",
         "legendgroup": "2015",
         "line": {
          "color": "#19d3f3",
          "dash": "solid"
         },
         "marker": {
          "symbol": "circle"
         },
         "mode": "lines+markers",
         "name": "2015",
         "orientation": "v",
         "showlegend": true,
         "type": "scatter",
         "x": {
          "bdata": "AQIDBAUGBwgJCgsM",
          "dtype": "i1"
         },
         "xaxis": "x",
         "y": {
          "bdata": "AAAAAADUuUAAAAAAgJDZQAAAAACA/dtAAAAAAEAr10AAAAAAQGPVQAAAAACAUclAAAAAAAD1y0AAAAAAAKHTQAAAAACAhs9AAAAAAACn0UAAAAAAAGHRQAAAAAAAyrtA",
          "dtype": "f8"
         },
         "yaxis": "y"
        },
        {
         "hovertemplate": "ano=2016<br>mes=%{x}<br>value=%{y}<extra></extra>",
         "legendgroup": "2016",
         "line": {
          "color": "#FF6692",
          "dash": "solid"
         },
         "marker": {
          "symbol": "circle"
         },
         "mode": "lines+markers",
         "name": "2016",
         "orientation": "v",
         "showlegend": true,
         "type": "scatter",
         "x": {
          "bdata": "AQIDBAUGBwgJCgsM",
          "dtype": "i1"
         },
         "xaxis": "x",
         "y": {
          "bdata": "AAAAAADns0AAAAAAwGHTQAAAAAAAA9tAAAAAAADf00AAAAAAgDLWQAAAAAAA9NBAAAAAAACMzEAAAAAAgNDZQAAAAADAENdAAAAAAEDM0UAAAAAAgOTJQAAAAAAANbpA",
          "dtype": "f8"
         },
         "yaxis": "y"
        },
        {
         "hovertemplate": "ano=2017<br>mes=%{x}<br>value=%{y}<extra></extra>",
         "legendgroup": "2017",
         "line": {
          "color": "#B6E880",
          "dash": "solid"
         },
         "marker": {
          "symbol": "circle"
         },
         "mode": "lines+markers",
         "name": "2017",
         "orientation": "v",
         "showlegend": true,
         "type": "scatter",
         "x": {
          "bdata": "AQIDBAUGBwgJCgsM",
          "dtype": "i1"
         },
         "xaxis": "x",
         "y": {
          "bdata": "AAAAAADss0AAAAAAgGvTQAAAAADAFttAAAAAAADo00AAAAAAADnWQAAAAABA+NBAAAAAAADszEAAAAAAgNDaQAAAAABA6NRAAAAAAEDU0kAAAAAAgAHQQAAAAAAA8rZA",
          "dtype": "f8"
         },
         "yaxis": "y"
        },
        {
         "hovertemplate": "ano=2018<br>mes=%{x}<br>value=%{y}<extra></extra>",
         "legendgroup": "2018",
         "line": {
          "color": "#FF97FF",
          "dash": "solid"
         },
         "marker": {
          "symbol": "circle"
         },
         "mode": "lines+markers",
         "name": "2018",
         "orientation": "v",
         "showlegend": true,
         "type": "scatter",
         "x": {
          "bdata": "AQIDBAUGBwgJCgsM",
          "dtype": "i1"
         },
         "xaxis": "x",
         "y": {
          "bdata": "AAAAAAActEAAAAAAQJLQQAAAAADAXNdAAAAAAMBS1UAAAAAAwPnSQAAAAAAAQ85AAAAAAIDZwkAAAAAAgE3YQAAAAAAAqNFAAAAAAIBg0UAAAAAAgGvNQAAAAAAArrZA",
          "dtype": "f8"
         },
         "yaxis": "y"
        },
        {
         "hovertemplate": "ano=2019<br>mes=%{x}<br>value=%{y}<extra></extra>",
         "legendgroup": "2019",
         "line": {
          "color": "#FECB52",
          "dash": "solid"
         },
         "marker": {
          "symbol": "circle"
         },
         "mode": "lines+markers",
         "name": "2019",
         "orientation": "v",
         "showlegend": true,
         "type": "scatter",
         "x": {
          "bdata": "AQIDBAUGBwgJCgsM",
          "dtype": "i1"
         },
         "xaxis": "x",
         "y": {
          "bdata": "AAAAAAAPskAAAAAAALjUQAAAAABAadNAAAAAAMDR0UAAAAAAgGDQQAAAAACAKcVAAAAAAADuykAAAAAAgE3TQAAAAADARNBAAAAAAIAGzUAAAAAAgMDGQAAAAAAAbKtA",
          "dtype": "f8"
         },
         "yaxis": "y"
        }
       ],
       "layout": {
        "font": {
         "size": 14
        },
        "legend": {
         "title": {
          "text": "ano"
         },
         "tracegroupgap": 0
        },
        "margin": {
         "t": 60
        },
        "template": {
         "data": {
          "bar": [
           {
            "error_x": {
             "color": "#2a3f5f"
            },
            "error_y": {
             "color": "#2a3f5f"
            },
            "marker": {
             "line": {
              "color": "#E5ECF6",
              "width": 0.5
             },
             "pattern": {
              "fillmode": "overlay",
              "size": 10,
              "solidity": 0.2
             }
            },
            "type": "bar"
           }
          ],
          "barpolar": [
           {
            "marker": {
             "line": {
              "color": "#E5ECF6",
              "width": 0.5
             },
             "pattern": {
              "fillmode": "overlay",
              "size": 10,
              "solidity": 0.2
             }
            },
            "type": "barpolar"
           }
          ],
          "carpet": [
           {
            "aaxis": {
             "endlinecolor": "#2a3f5f",
             "gridcolor": "white",
             "linecolor": "white",
             "minorgridcolor": "white",
             "startlinecolor": "#2a3f5f"
            },
            "baxis": {
             "endlinecolor": "#2a3f5f",
             "gridcolor": "white",
             "linecolor": "white",
             "minorgridcolor": "white",
             "startlinecolor": "#2a3f5f"
            },
            "type": "carpet"
           }
          ],
          "choropleth": [
           {
            "colorbar": {
             "outlinewidth": 0,
             "ticks": ""
            },
            "type": "choropleth"
           }
          ],
          "contour": [
           {
            "colorbar": {
             "outlinewidth": 0,
             "ticks": ""
            },
            "colorscale": [
             [
              0,
              "#0d0887"
             ],
             [
              0.1111111111111111,
              "#46039f"
             ],
             [
              0.2222222222222222,
              "#7201a8"
             ],
             [
              0.3333333333333333,
              "#9c179e"
             ],
             [
              0.4444444444444444,
              "#bd3786"
             ],
             [
              0.5555555555555556,
              "#d8576b"
             ],
             [
              0.6666666666666666,
              "#ed7953"
             ],
             [
              0.7777777777777778,
              "#fb9f3a"
             ],
             [
              0.8888888888888888,
              "#fdca26"
             ],
             [
              1,
              "#f0f921"
             ]
            ],
            "type": "contour"
           }
          ],
          "contourcarpet": [
           {
            "colorbar": {
             "outlinewidth": 0,
             "ticks": ""
            },
            "type": "contourcarpet"
           }
          ],
          "heatmap": [
           {
            "colorbar": {
             "outlinewidth": 0,
             "ticks": ""
            },
            "colorscale": [
             [
              0,
              "#0d0887"
             ],
             [
              0.1111111111111111,
              "#46039f"
             ],
             [
              0.2222222222222222,
              "#7201a8"
             ],
             [
              0.3333333333333333,
              "#9c179e"
             ],
             [
              0.4444444444444444,
              "#bd3786"
             ],
             [
              0.5555555555555556,
              "#d8576b"
             ],
             [
              0.6666666666666666,
              "#ed7953"
             ],
             [
              0.7777777777777778,
              "#fb9f3a"
             ],
             [
              0.8888888888888888,
              "#fdca26"
             ],
             [
              1,
              "#f0f921"
             ]
            ],
            "type": "heatmap"
           }
          ],
          "histogram": [
           {
            "marker": {
             "pattern": {
              "fillmode": "overlay",
              "size": 10,
              "solidity": 0.2
             }
            },
            "type": "histogram"
           }
          ],
          "histogram2d": [
           {
            "colorbar": {
             "outlinewidth": 0,
             "ticks": ""
            },
            "colorscale": [
             [
              0,
              "#0d0887"
             ],
             [
              0.1111111111111111,
              "#46039f"
             ],
             [
              0.2222222222222222,
              "#7201a8"
             ],
             [
              0.3333333333333333,
              "#9c179e"
             ],
             [
              0.4444444444444444,
              "#bd3786"
             ],
             [
              0.5555555555555556,
              "#d8576b"
             ],
             [
              0.6666666666666666,
              "#ed7953"
             ],
             [
              0.7777777777777778,
              "#fb9f3a"
             ],
             [
              0.8888888888888888,
              "#fdca26"
             ],
             [
              1,
              "#f0f921"
             ]
            ],
            "type": "histogram2d"
           }
          ],
          "histogram2dcontour": [
           {
            "colorbar": {
             "outlinewidth": 0,
             "ticks": ""
            },
            "colorscale": [
             [
              0,
              "#0d0887"
             ],
             [
              0.1111111111111111,
              "#46039f"
             ],
             [
              0.2222222222222222,
              "#7201a8"
             ],
             [
              0.3333333333333333,
              "#9c179e"
             ],
             [
              0.4444444444444444,
              "#bd3786"
             ],
             [
              0.5555555555555556,
              "#d8576b"
             ],
             [
              0.6666666666666666,
              "#ed7953"
             ],
             [
              0.7777777777777778,
              "#fb9f3a"
             ],
             [
              0.8888888888888888,
              "#fdca26"
             ],
             [
              1,
              "#f0f921"
             ]
            ],
            "type": "histogram2dcontour"
           }
          ],
          "mesh3d": [
           {
            "colorbar": {
             "outlinewidth": 0,
             "ticks": ""
            },
            "type": "mesh3d"
           }
          ],
          "parcoords": [
           {
            "line": {
             "colorbar": {
              "outlinewidth": 0,
              "ticks": ""
             }
            },
            "type": "parcoords"
           }
          ],
          "pie": [
           {
            "automargin": true,
            "type": "pie"
           }
          ],
          "scatter": [
           {
            "fillpattern": {
             "fillmode": "overlay",
             "size": 10,
             "solidity": 0.2
            },
            "type": "scatter"
           }
          ],
          "scatter3d": [
           {
            "line": {
             "colorbar": {
              "outlinewidth": 0,
              "ticks": ""
             }
            },
            "marker": {
             "colorbar": {
              "outlinewidth": 0,
              "ticks": ""
             }
            },
            "type": "scatter3d"
           }
          ],
          "scattercarpet": [
           {
            "marker": {
             "colorbar": {
              "outlinewidth": 0,
              "ticks": ""
             }
            },
            "type": "scattercarpet"
           }
          ],
          "scattergeo": [
           {
            "marker": {
             "colorbar": {
              "outlinewidth": 0,
              "ticks": ""
             }
            },
            "type": "scattergeo"
           }
          ],
          "scattergl": [
           {
            "marker": {
             "colorbar": {
              "outlinewidth": 0,
              "ticks": ""
             }
            },
            "type": "scattergl"
           }
          ],
          "scattermap": [
           {
            "marker": {
             "colorbar": {
              "outlinewidth": 0,
              "ticks": ""
             }
            },
            "type": "scattermap"
           }
          ],
          "scattermapbox": [
           {
            "marker": {
             "colorbar": {
              "outlinewidth": 0,
              "ticks": ""
             }
            },
            "type": "scattermapbox"
           }
          ],
          "scatterpolar": [
           {
            "marker": {
             "colorbar": {
              "outlinewidth": 0,
              "ticks": ""
             }
            },
            "type": "scatterpolar"
           }
          ],
          "scatterpolargl": [
           {
            "marker": {
             "colorbar": {
              "outlinewidth": 0,
              "ticks": ""
             }
            },
            "type": "scatterpolargl"
           }
          ],
          "scatterternary": [
           {
            "marker": {
             "colorbar": {
              "outlinewidth": 0,
              "ticks": ""
             }
            },
            "type": "scatterternary"
           }
          ],
          "surface": [
           {
            "colorbar": {
             "outlinewidth": 0,
             "ticks": ""
            },
            "colorscale": [
             [
              0,
              "#0d0887"
             ],
             [
              0.1111111111111111,
              "#46039f"
             ],
             [
              0.2222222222222222,
              "#7201a8"
             ],
             [
              0.3333333333333333,
              "#9c179e"
             ],
             [
              0.4444444444444444,
              "#bd3786"
             ],
             [
              0.5555555555555556,
              "#d8576b"
             ],
             [
              0.6666666666666666,
              "#ed7953"
             ],
             [
              0.7777777777777778,
              "#fb9f3a"
             ],
             [
              0.8888888888888888,
              "#fdca26"
             ],
             [
              1,
              "#f0f921"
             ]
            ],
            "type": "surface"
           }
          ],
          "table": [
           {
            "cells": {
             "fill": {
              "color": "#EBF0F8"
             },
             "line": {
              "color": "white"
             }
            },
            "header": {
             "fill": {
              "color": "#C8D4E3"
             },
             "line": {
              "color": "white"
             }
            },
            "type": "table"
           }
          ]
         },
         "layout": {
          "annotationdefaults": {
           "arrowcolor": "#2a3f5f",
           "arrowhead": 0,
           "arrowwidth": 1
          },
          "autotypenumbers": "strict",
          "coloraxis": {
           "colorbar": {
            "outlinewidth": 0,
            "ticks": ""
           }
          },
          "colorscale": {
           "diverging": [
            [
             0,
             "#8e0152"
            ],
            [
             0.1,
             "#c51b7d"
            ],
            [
             0.2,
             "#de77ae"
            ],
            [
             0.3,
             "#f1b6da"
            ],
            [
             0.4,
             "#fde0ef"
            ],
            [
             0.5,
             "#f7f7f7"
            ],
            [
             0.6,
             "#e6f5d0"
            ],
            [
             0.7,
             "#b8e186"
            ],
            [
             0.8,
             "#7fbc41"
            ],
            [
             0.9,
             "#4d9221"
            ],
            [
             1,
             "#276419"
            ]
           ],
           "sequential": [
            [
             0,
             "#0d0887"
            ],
            [
             0.1111111111111111,
             "#46039f"
            ],
            [
             0.2222222222222222,
             "#7201a8"
            ],
            [
             0.3333333333333333,
             "#9c179e"
            ],
            [
             0.4444444444444444,
             "#bd3786"
            ],
            [
             0.5555555555555556,
             "#d8576b"
            ],
            [
             0.6666666666666666,
             "#ed7953"
            ],
            [
             0.7777777777777778,
             "#fb9f3a"
            ],
            [
             0.8888888888888888,
             "#fdca26"
            ],
            [
             1,
             "#f0f921"
            ]
           ],
           "sequentialminus": [
            [
             0,
             "#0d0887"
            ],
            [
             0.1111111111111111,
             "#46039f"
            ],
            [
             0.2222222222222222,
             "#7201a8"
            ],
            [
             0.3333333333333333,
             "#9c179e"
            ],
            [
             0.4444444444444444,
             "#bd3786"
            ],
            [
             0.5555555555555556,
             "#d8576b"
            ],
            [
             0.6666666666666666,
             "#ed7953"
            ],
            [
             0.7777777777777778,
             "#fb9f3a"
            ],
            [
             0.8888888888888888,
             "#fdca26"
            ],
            [
             1,
             "#f0f921"
            ]
           ]
          },
          "colorway": [
           "#636efa",
           "#EF553B",
           "#00cc96",
           "#ab63fa",
           "#FFA15A",
           "#19d3f3",
           "#FF6692",
           "#B6E880",
           "#FF97FF",
           "#FECB52"
          ],
          "font": {
           "color": "#2a3f5f"
          },
          "geo": {
           "bgcolor": "white",
           "lakecolor": "white",
           "landcolor": "#E5ECF6",
           "showlakes": true,
           "showland": true,
           "subunitcolor": "white"
          },
          "hoverlabel": {
           "align": "left"
          },
          "hovermode": "closest",
          "mapbox": {
           "style": "light"
          },
          "paper_bgcolor": "white",
          "plot_bgcolor": "#E5ECF6",
          "polar": {
           "angularaxis": {
            "gridcolor": "white",
            "linecolor": "white",
            "ticks": ""
           },
           "bgcolor": "#E5ECF6",
           "radialaxis": {
            "gridcolor": "white",
            "linecolor": "white",
            "ticks": ""
           }
          },
          "scene": {
           "xaxis": {
            "backgroundcolor": "#E5ECF6",
            "gridcolor": "white",
            "gridwidth": 2,
            "linecolor": "white",
            "showbackground": true,
            "ticks": "",
            "zerolinecolor": "white"
           },
           "yaxis": {
            "backgroundcolor": "#E5ECF6",
            "gridcolor": "white",
            "gridwidth": 2,
            "linecolor": "white",
            "showbackground": true,
            "ticks": "",
            "zerolinecolor": "white"
           },
           "zaxis": {
            "backgroundcolor": "#E5ECF6",
            "gridcolor": "white",
            "gridwidth": 2,
            "linecolor": "white",
            "showbackground": true,
            "ticks": "",
            "zerolinecolor": "white"
           }
          },
          "shapedefaults": {
           "line": {
            "color": "#2a3f5f"
           }
          },
          "ternary": {
           "aaxis": {
            "gridcolor": "white",
            "linecolor": "white",
            "ticks": ""
           },
           "baxis": {
            "gridcolor": "white",
            "linecolor": "white",
            "ticks": ""
           },
           "bgcolor": "#E5ECF6",
           "caxis": {
            "gridcolor": "white",
            "linecolor": "white",
            "ticks": ""
           }
          },
          "title": {
           "x": 0.05
          },
          "xaxis": {
           "automargin": true,
           "gridcolor": "white",
           "linecolor": "white",
           "ticks": "",
           "title": {
            "standoff": 15
           },
           "zerolinecolor": "white",
           "zerolinewidth": 2
          },
          "yaxis": {
           "automargin": true,
           "gridcolor": "white",
           "linecolor": "white",
           "ticks": "",
           "title": {
            "standoff": 15
           },
           "zerolinecolor": "white",
           "zerolinewidth": 2
          }
         }
        },
        "title": {
         "text": "Quantidade de emprestimos em cada mês ao longo de 2010 a 2019"
        },
        "xaxis": {
         "anchor": "y",
         "domain": [
          0,
          1
         ],
         "ticktext": [
          "Jan",
          "Fev",
          "Mar",
          "Abr",
          "Mai",
          "Jun",
          "Jul",
          "Ago",
          "Set",
          "Out",
          "Nov",
          "Dez"
         ],
         "tickvals": {
          "bdata": "AQIDBAUGBwgJCgsM",
          "dtype": "i1"
         },
         "title": {
          "text": ""
         }
        },
        "yaxis": {
         "anchor": "x",
         "domain": [
          0,
          1
         ],
         "title": {
          "text": ""
         }
        }
       }
      }
     },
     "metadata": {},
     "output_type": "display_data"
    }
   ],
   "source": [
    "fig = px.line(emprestimos_mensal, x=emprestimos_mensal.index, y=emprestimos_mensal.columns, markers=True)\n",
    "\n",
    "fig.update_layout(title_text='Quantidade de emprestimos em cada mês ao longo de 2010 a 2019', font_size=14 ,xaxis_title='', yaxis_title='')\n",
    "\n",
    "labels = ['Jan', 'Fev', 'Mar', 'Abr',\n",
    "          'Mai', 'Jun', 'Jul', 'Ago',\n",
    "          'Set', 'Out', 'Nov', 'Dez']\n",
    "fig.update_xaxes(ticktext = labels, tickvals=emprestimos_mensal.index)\n",
    "\n"
   ]
  },
  {
   "cell_type": "markdown",
   "id": "1ec0f3ee",
   "metadata": {},
   "source": [
    "Grafico 3 - Quantidade de empréstimos diários"
   ]
  },
  {
   "cell_type": "code",
   "execution_count": 361,
   "id": "e60f8329",
   "metadata": {},
   "outputs": [],
   "source": [
    "emprestimos_diario = emprestimos.copy()\n",
    "colunas_retirar = emprestimos_diario.columns\n",
    "emprestimos_diario.drop(columns=[col for col in colunas_retirar if col not in ['id_emprestimo', 'id_exemplar', 'data_emprestimo']], inplace=True)\n",
    "emprestimos_diario.dropna(inplace=True)\n",
    "emprestimos_diario.reset_index(drop=True, inplace=True)"
   ]
  },
  {
   "cell_type": "code",
   "execution_count": 362,
   "id": "0969154e",
   "metadata": {},
   "outputs": [
    {
     "name": "stdout",
     "output_type": "stream",
     "text": [
      "<class 'pandas.core.frame.DataFrame'>\n",
      "RangeIndex: 2072522 entries, 0 to 2072521\n",
      "Data columns (total 3 columns):\n",
      " #   Column           Dtype         \n",
      "---  ------           -----         \n",
      " 0   data_emprestimo  datetime64[ns]\n",
      " 1   ano              int64         \n",
      " 2   hora             int64         \n",
      "dtypes: datetime64[ns](1), int64(2)\n",
      "memory usage: 47.4 MB\n"
     ]
    }
   ],
   "source": [
    "emprestimos_diario['data_emprestimo'] = pd.to_datetime(emprestimos_diario['data_emprestimo'])\n",
    "emprestimos_diario['ano'] = emprestimos_diario['data_emprestimo'].dt.year\n",
    "emprestimos_diario['hora'] = emprestimos_diario['data_emprestimo'].dt.hour\n",
    "emprestimos_diario['ano'] = emprestimos_diario['ano'].astype(int)\n",
    "emprestimos_diario['hora'] = emprestimos_diario['hora'].astype(int)\n",
    "emprestimos_diario.drop(columns=['id_emprestimo', 'id_exemplar'], inplace=True)\n",
    "emprestimos_diario.info()"
   ]
  },
  {
   "cell_type": "code",
   "execution_count": 363,
   "id": "ec3a2d68",
   "metadata": {},
   "outputs": [
    {
     "data": {
      "text/html": [
       "<div>\n",
       "<style scoped>\n",
       "    .dataframe tbody tr th:only-of-type {\n",
       "        vertical-align: middle;\n",
       "    }\n",
       "\n",
       "    .dataframe tbody tr th {\n",
       "        vertical-align: top;\n",
       "    }\n",
       "\n",
       "    .dataframe thead th {\n",
       "        text-align: right;\n",
       "    }\n",
       "</style>\n",
       "<table border=\"1\" class=\"dataframe\">\n",
       "  <thead>\n",
       "    <tr style=\"text-align: right;\">\n",
       "      <th></th>\n",
       "      <th>ano</th>\n",
       "      <th>hora</th>\n",
       "      <th>quantidade_emprestimo</th>\n",
       "    </tr>\n",
       "  </thead>\n",
       "  <tbody>\n",
       "    <tr>\n",
       "      <th>0</th>\n",
       "      <td>2010</td>\n",
       "      <td>7</td>\n",
       "      <td>1362</td>\n",
       "    </tr>\n",
       "    <tr>\n",
       "      <th>1</th>\n",
       "      <td>2010</td>\n",
       "      <td>8</td>\n",
       "      <td>8865</td>\n",
       "    </tr>\n",
       "    <tr>\n",
       "      <th>2</th>\n",
       "      <td>2010</td>\n",
       "      <td>9</td>\n",
       "      <td>11688</td>\n",
       "    </tr>\n",
       "    <tr>\n",
       "      <th>3</th>\n",
       "      <td>2010</td>\n",
       "      <td>10</td>\n",
       "      <td>14622</td>\n",
       "    </tr>\n",
       "    <tr>\n",
       "      <th>4</th>\n",
       "      <td>2010</td>\n",
       "      <td>11</td>\n",
       "      <td>14169</td>\n",
       "    </tr>\n",
       "    <tr>\n",
       "      <th>...</th>\n",
       "      <td>...</td>\n",
       "      <td>...</td>\n",
       "      <td>...</td>\n",
       "    </tr>\n",
       "    <tr>\n",
       "      <th>180</th>\n",
       "      <td>2020</td>\n",
       "      <td>17</td>\n",
       "      <td>2200</td>\n",
       "    </tr>\n",
       "    <tr>\n",
       "      <th>181</th>\n",
       "      <td>2020</td>\n",
       "      <td>18</td>\n",
       "      <td>2194</td>\n",
       "    </tr>\n",
       "    <tr>\n",
       "      <th>182</th>\n",
       "      <td>2020</td>\n",
       "      <td>19</td>\n",
       "      <td>966</td>\n",
       "    </tr>\n",
       "    <tr>\n",
       "      <th>183</th>\n",
       "      <td>2020</td>\n",
       "      <td>20</td>\n",
       "      <td>1194</td>\n",
       "    </tr>\n",
       "    <tr>\n",
       "      <th>184</th>\n",
       "      <td>2020</td>\n",
       "      <td>21</td>\n",
       "      <td>583</td>\n",
       "    </tr>\n",
       "  </tbody>\n",
       "</table>\n",
       "<p>185 rows × 3 columns</p>\n",
       "</div>"
      ],
      "text/plain": [
       "      ano  hora  quantidade_emprestimo\n",
       "0    2010     7                   1362\n",
       "1    2010     8                   8865\n",
       "2    2010     9                  11688\n",
       "3    2010    10                  14622\n",
       "4    2010    11                  14169\n",
       "..    ...   ...                    ...\n",
       "180  2020    17                   2200\n",
       "181  2020    18                   2194\n",
       "182  2020    19                    966\n",
       "183  2020    20                   1194\n",
       "184  2020    21                    583\n",
       "\n",
       "[185 rows x 3 columns]"
      ]
     },
     "execution_count": 363,
     "metadata": {},
     "output_type": "execute_result"
    }
   ],
   "source": [
    "emprestimos_diario['data_emprestimo'] = [1 for x in emprestimos_diario['data_emprestimo']]\n",
    "emprestimos_diario.rename(columns={'data_emprestimo': 'quantidade_emprestimo'}, inplace=True)\n",
    "emprestimos_diario_anuais = emprestimos_diario.copy()\n",
    "emprestimos_diario_anuais.drop('ano', axis=1, inplace=True)\n",
    "emprestimos_diario_anuais = emprestimos_diario.groupby(['ano','hora']).sum()\n",
    "emprestimos_diario_anuais.reset_index(inplace=True)\n",
    "emprestimos_diario_anuais"
   ]
  },
  {
   "cell_type": "code",
   "execution_count": 364,
   "id": "ad0b67d7",
   "metadata": {},
   "outputs": [
    {
     "name": "stderr",
     "output_type": "stream",
     "text": [
      "C:\\Users\\luizh\\AppData\\Local\\Temp\\ipykernel_9728\\2678957789.py:3: FutureWarning:\n",
      "\n",
      "\n",
      "\n",
      "The `ci` parameter is deprecated. Use `errorbar=None` for the same effect.\n",
      "\n",
      "\n"
     ]
    },
    {
     "data": {
      "image/png": "[encoded data removed]",
      "text/plain": [
       "<Figure size 1000x600 with 1 Axes>"
      ]
     },
     "metadata": {},
     "output_type": "display_data"
    }
   ],
   "source": [
    "fig, ax = plt.subplots(figsize=(10,6))\n",
    "\n",
    "sns.barplot(emprestimos_diario_anuais, x='hora', y='quantidade_emprestimo', ci=None)\n",
    "ax.set_title('Quantidade de emprestimos por hora ao longo\\n dos anos 2010 a 2020', loc='left', fontsize=14)\n",
    "ax.set_xlabel('')\n",
    "ax.set_ylabel('')\n",
    "\n",
    "plt.show()"
   ]
  },
  {
   "cell_type": "code",
   "execution_count": 365,
   "id": "6239d496",
   "metadata": {},
   "outputs": [
    {
     "data": {
      "text/html": [
       "<div>\n",
       "<style scoped>\n",
       "    .dataframe tbody tr th:only-of-type {\n",
       "        vertical-align: middle;\n",
       "    }\n",
       "\n",
       "    .dataframe tbody tr th {\n",
       "        vertical-align: top;\n",
       "    }\n",
       "\n",
       "    .dataframe thead th {\n",
       "        text-align: right;\n",
       "    }\n",
       "</style>\n",
       "<table border=\"1\" class=\"dataframe\">\n",
       "  <thead>\n",
       "    <tr style=\"text-align: right;\">\n",
       "      <th></th>\n",
       "      <th>ano</th>\n",
       "      <th>hora</th>\n",
       "      <th>quantidade_emprestimo</th>\n",
       "    </tr>\n",
       "  </thead>\n",
       "  <tbody>\n",
       "    <tr>\n",
       "      <th>0</th>\n",
       "      <td>2010</td>\n",
       "      <td>7</td>\n",
       "      <td>1362</td>\n",
       "    </tr>\n",
       "    <tr>\n",
       "      <th>1</th>\n",
       "      <td>2010</td>\n",
       "      <td>8</td>\n",
       "      <td>8865</td>\n",
       "    </tr>\n",
       "    <tr>\n",
       "      <th>2</th>\n",
       "      <td>2010</td>\n",
       "      <td>9</td>\n",
       "      <td>11688</td>\n",
       "    </tr>\n",
       "    <tr>\n",
       "      <th>3</th>\n",
       "      <td>2010</td>\n",
       "      <td>10</td>\n",
       "      <td>14622</td>\n",
       "    </tr>\n",
       "    <tr>\n",
       "      <th>4</th>\n",
       "      <td>2010</td>\n",
       "      <td>11</td>\n",
       "      <td>14169</td>\n",
       "    </tr>\n",
       "    <tr>\n",
       "      <th>...</th>\n",
       "      <td>...</td>\n",
       "      <td>...</td>\n",
       "      <td>...</td>\n",
       "    </tr>\n",
       "    <tr>\n",
       "      <th>180</th>\n",
       "      <td>2020</td>\n",
       "      <td>17</td>\n",
       "      <td>2200</td>\n",
       "    </tr>\n",
       "    <tr>\n",
       "      <th>181</th>\n",
       "      <td>2020</td>\n",
       "      <td>18</td>\n",
       "      <td>2194</td>\n",
       "    </tr>\n",
       "    <tr>\n",
       "      <th>182</th>\n",
       "      <td>2020</td>\n",
       "      <td>19</td>\n",
       "      <td>966</td>\n",
       "    </tr>\n",
       "    <tr>\n",
       "      <th>183</th>\n",
       "      <td>2020</td>\n",
       "      <td>20</td>\n",
       "      <td>1194</td>\n",
       "    </tr>\n",
       "    <tr>\n",
       "      <th>184</th>\n",
       "      <td>2020</td>\n",
       "      <td>21</td>\n",
       "      <td>583</td>\n",
       "    </tr>\n",
       "  </tbody>\n",
       "</table>\n",
       "<p>185 rows × 3 columns</p>\n",
       "</div>"
      ],
      "text/plain": [
       "      ano  hora  quantidade_emprestimo\n",
       "0    2010     7                   1362\n",
       "1    2010     8                   8865\n",
       "2    2010     9                  11688\n",
       "3    2010    10                  14622\n",
       "4    2010    11                  14169\n",
       "..    ...   ...                    ...\n",
       "180  2020    17                   2200\n",
       "181  2020    18                   2194\n",
       "182  2020    19                    966\n",
       "183  2020    20                   1194\n",
       "184  2020    21                    583\n",
       "\n",
       "[185 rows x 3 columns]"
      ]
     },
     "execution_count": 365,
     "metadata": {},
     "output_type": "execute_result"
    }
   ],
   "source": [
    "emprestimos_diario_anual = emprestimos_diario.copy()\n",
    "emprestimos_diario_anuais = emprestimos_diario.groupby(['ano','hora']).sum()\n",
    "emprestimos_diario_anuais.reset_index(inplace=True)\n",
    "emprestimos_diario_anuais"
   ]
  },
  {
   "cell_type": "code",
   "execution_count": 366,
   "id": "ab4d4f30",
   "metadata": {},
   "outputs": [],
   "source": [
    "ex1 = emprestimos_diario_anuais[emprestimos_diario_anuais['ano'] == 2010]\n",
    "ex2 = emprestimos_diario_anuais[emprestimos_diario_anuais['ano'] == 2011]\n",
    "ex3 = emprestimos_diario_anuais[emprestimos_diario_anuais['ano'] == 2012]\n",
    "ex4 = emprestimos_diario_anuais[emprestimos_diario_anuais['ano'] == 2013]\n",
    "ex5 = emprestimos_diario_anuais[emprestimos_diario_anuais['ano'] == 2014]\n",
    "ex6 = emprestimos_diario_anuais[emprestimos_diario_anuais['ano'] == 2015]\n",
    "ex7 = emprestimos_diario_anuais[emprestimos_diario_anuais['ano'] == 2016]\n",
    "ex8 = emprestimos_diario_anuais[emprestimos_diario_anuais['ano'] == 2017]\n",
    "ex9 = emprestimos_diario_anuais[emprestimos_diario_anuais['ano'] == 2018]\n",
    "ex10 = emprestimos_diario_anuais[emprestimos_diario_anuais['ano'] == 2019] "
   ]
  },
  {
   "cell_type": "code",
   "execution_count": 367,
   "id": "9faa5a66",
   "metadata": {},
   "outputs": [
    {
     "data": {
      "image/png": "[encoded data removed]",
      "text/plain": [
       "<Figure size 2000x3000 with 10 Axes>"
      ]
     },
     "metadata": {},
     "output_type": "display_data"
    }
   ],
   "source": [
    "fig, ax = plt.subplots(5,2,figsize=(20,30))\n",
    "\n",
    "sns.barplot(data=ex1, x='hora', y='quantidade_emprestimo', ax=ax[0, 0])\n",
    "ax[0,0].set_title('Quantidade de emprestimo durante o dia no ano de 2010')\n",
    "\n",
    "sns.barplot(data=ex2, x='hora', y='quantidade_emprestimo', ax=ax[0, 1])\n",
    "ax[0,1].set_title('Quantidade de emprestimo durante o dia no ano de 2011')\n",
    "\n",
    "sns.barplot(data=ex3, x='hora', y='quantidade_emprestimo', ax=ax[1, 0])\n",
    "ax[1,0].set_title('Quantidade de emprestimo durante o dia no ano de 2012')\n",
    "\n",
    "sns.barplot(data=ex4, x='hora', y='quantidade_emprestimo', ax=ax[1, 1])\n",
    "ax[1,1].set_title('Quantidade de emprestimo durante o dia no ano de 2013')\n",
    "\n",
    "sns.barplot(data=ex5, x='hora', y='quantidade_emprestimo', ax=ax[2, 0])\n",
    "ax[2,0].set_title('Quantidade de emprestimo durante o dia no ano de 2014')\n",
    "\n",
    "sns.barplot(data=ex6, x='hora', y='quantidade_emprestimo', ax=ax[2, 1])\n",
    "ax[2,1].set_title('Quantidade de emprestimo durante o dia no ano de 2015')\n",
    "\n",
    "sns.barplot(data=ex7, x='hora', y='quantidade_emprestimo', ax=ax[3, 0])\n",
    "ax[3,0].set_title('Quantidade de emprestimo durante o dia no ano de 2016')\n",
    "\n",
    "sns.barplot(data=ex8, x='hora', y='quantidade_emprestimo', ax=ax[3, 1])\n",
    "ax[3,1].set_title('Quantidade de emprestimo durante o dia no ano de 2017')\n",
    "\n",
    "sns.barplot(data=ex9, x='hora', y='quantidade_emprestimo', ax=ax[4, 0])\n",
    "ax[4,0].set_title('Quantidade de emprestimo durante o dia no ano de 2018')\n",
    "\n",
    "sns.barplot(data=ex10, x='hora', y='quantidade_emprestimo', ax=ax[4, 1])\n",
    "ax[4,1].set_title('Quantidade de emprestimo durante o dia no ano de 2019')\n",
    "\n",
    "for i in range(5):\n",
    "    for j in range(2):\n",
    "        ax[i,j].set_xlabel('Horário do dia')\n",
    "        ax[i,j].set_ylabel('')\n",
    "        sns.despine(ax=ax[i,j])"
   ]
  },
  {
   "cell_type": "markdown",
   "id": "2b435dd5",
   "metadata": {},
   "source": [
    "## Dia 4\n",
    "\n",
    "O objetivo será entender a quantidade de empréstimos a partir das variáveis categóricas do seu conjunto de dados, explorando algumas das variáveis categóricas das quais precisaremos extrair mais informações. Elas são:\n",
    "\n",
    "- Tipo de vínculo\n",
    "\n",
    "- Coleção\n",
    "\n",
    "- Biblioteca\n",
    "\n",
    "- Classificação geral da CDU\n",
    "\n",
    "Para explorar os dados, alguns questionamentos serão pertinentes para a diretoria das bibliotecas, como:\n",
    "\n",
    "- **“Como se distribuem os empréstimos de exemplares pelos tipos de vínculo dos usuários?”**: Desta forma, a diretoria poderá entender qual é o público que está utilizando a biblioteca e assim tomar decisões em continuar com a estratégia de negócio atual ou modificá-la.\n",
    "\n",
    "- **\"Quais coleções são mais emprestadas?\"**: Da mesma forma, as coleções. Ranquear as coleções mais emprestadas pelo público, será bastante importante para a estratégia atual.\n",
    "\n",
    "- **\"Quais são as bibliotecas com mais ou menos quantidade de empréstimos?\"**: Assim, a diretoria conseguirá entender onde ela deverá melhorar e focar suas iniciativas.\n",
    "\n",
    "Outro tema que abordaremos será: \n",
    "\n",
    "- **De quais temas da CDU são os exemplares emprestados?**"
   ]
  },
  {
   "cell_type": "markdown",
   "id": "ffacd6c3",
   "metadata": {},
   "source": [
    "Percebemos logo em baixo que há muitos dados únicos para serem avalidaos, desta forma tomaremos para a vizualização os 7 maiores de cada coluna"
   ]
  },
  {
   "cell_type": "code",
   "execution_count": 368,
   "id": "ff66a28d",
   "metadata": {},
   "outputs": [
    {
     "name": "stdout",
     "output_type": "stream",
     "text": [
      "['ALUNO DE GRADUAÇÃO' 'ALUNO DE PÓS-GRADUAÇÃO' 'DOCENTE'\n",
      " 'SERVIDOR TÉCNICO-ADMINISTRATIVO' 'DOCENTE EXTERNO' 'ALUNO MÉDIO/TÉCNICO'\n",
      " 'USUÁRIO EXTERNO' 'OUTROS' nan]\n"
     ]
    }
   ],
   "source": [
    "print(emprestimos['tipo_vinculo_usuario'].unique())"
   ]
  },
  {
   "cell_type": "code",
   "execution_count": 369,
   "id": "93959566",
   "metadata": {},
   "outputs": [
    {
     "name": "stdout",
     "output_type": "stream",
     "text": [
      "['Acervo Circulante' nan 'Folhetos' 'Teses' 'Dissertações' 'Monografias'\n",
      " 'Publicações de Autores do RN' 'Publicações da UFRN' 'Multimeios'\n",
      " 'Coleção Mossoroense' 'Eventos' 'Trabalho Acadêmico'\n",
      " 'Obras de Referência' 'Obras Raras' 'Literatura de Cordel'\n",
      " 'Coleção Zila Mamede' 'Necessidades Educacionais Específicas'\n",
      " 'Periódicos de Referência' 'Periódicos']\n"
     ]
    }
   ],
   "source": [
    "print(emprestimos['colecao'].unique())"
   ]
  },
  {
   "cell_type": "code",
   "execution_count": 370,
   "id": "2bdd0c71",
   "metadata": {},
   "outputs": [
    {
     "name": "stdout",
     "output_type": "stream",
     "text": [
      "['Biblioteca Central Zila Mamede'\n",
      " 'Biblioteca Setorial Prof. Rodolfo Helinski - Escola Agrícola de Jundiaí - EAJ  - Macaiba'\n",
      " 'Biblioteca Setorial Bertha Cruz Enders - \\xadEscola de Saúde da UFRN - ESUFRN'\n",
      " 'Biblioteca Setorial do Centro Ciências da Saúde - CCS' nan\n",
      " 'Biblioteca Setorial Prof. Alberto Moreira Campos - \\xadDepartamento de Odontologia'\n",
      " 'Biblioteca Setorial Prof. Ronaldo Xavier de Arruda - CCET'\n",
      " 'Biblioteca Setorial do Centro de Ciências Humanas, Letras e Artes - CCHLA'\n",
      " 'Biblioteca Setorial Prof. Horácio Nicolas Solimo - \\xad Engenharia Química - EQ - CT'\n",
      " 'Biblioteca Setorial Prof. Francisco Gurgel De Azevedo - Instituto Química - IQ'\n",
      " 'Biblioteca Setorial do Centro Ciências Sociais Aplicadas - CCSA'\n",
      " 'Biblioteca Setorial do Departamento de Artes - DEART'\n",
      " 'Biblioteca Setorial Prof. Dr. Marcelo Bezerra de Melo Tinôco - DARQ - \\xadCT'\n",
      " 'Biblioteca Setorial Árvore do Conhecimento - Instituto do Cérebro - ICe'\n",
      " 'Biblioteca Setorial Moacyr de Góes - CE'\n",
      " 'Biblioteca Setorial Prof. Leopoldo Nelson - \\xadCentro de Biociências - CB'\n",
      " 'Biblioteca Setorial Dr. Paulo Bezerra - EMCM/RN - Caicó'\n",
      " 'Biblioteca Setorial Pe. Jaime Diniz - Escola de Música - EMUFRN'\n",
      " 'Biblioteca Setorial Profª. Maria Lúcia da Costa Bezerra - \\xadCERES\\xad - Caicó'\n",
      " 'Biblioteca Setorial Profª. Maria José Mamede Galvão - FELCS - Currais Novos'\n",
      " 'Biblioteca Setorial do Núcleo de Educação da Infância - NEI'\n",
      " 'Biblioteca Setorial da Faculdade de Ciências da Saúde do Trairi - FACISA - Santa Cruz'\n",
      " 'Biblioteca Setorial do Núcleo de Ensino Superior do Agreste - NESA - Nova Cruz'\n",
      " 'Biblioteca Setorial do Núcleo de Ensino Superior de Macau - NESM'\n",
      " 'Biblioteca Setorial de Engenharia Mecânica' 'BSC03']\n"
     ]
    }
   ],
   "source": [
    "print(emprestimos['biblioteca'].unique())"
   ]
  },
  {
   "cell_type": "code",
   "execution_count": 371,
   "id": "36aa3769",
   "metadata": {},
   "outputs": [
    {
     "name": "stdout",
     "output_type": "stream",
     "text": [
      "['Ciências aplicadas' nan 'Linguagem. Língua. Linguística'\n",
      " 'Ciências sociais' 'Geografia. Biografia. História'\n",
      " 'Matemática e ciências naturais' 'Religião'\n",
      " 'Generalidades. Ciência e conhecimento' 'Filosofia e psicologia'\n",
      " 'Belas artes']\n"
     ]
    }
   ],
   "source": [
    "print(emprestimos['CDU'].unique())"
   ]
  },
  {
   "cell_type": "markdown",
   "id": "8885b120",
   "metadata": {},
   "source": [
    "Para isso utilizaremos de uma função que gerará uma tabela que utilizaremos durante nossos questionamentos"
   ]
  },
  {
   "cell_type": "code",
   "execution_count": 372,
   "id": "65b81b4b",
   "metadata": {},
   "outputs": [],
   "source": [
    "def tabela_freq_perc(dados=pd.Series, titulo=''):\n",
    "    dados.reset_index(inplace=True)\n",
    "    dados.columns = ['indice','valores']\n",
    "    dados['porcentagem'] = round(dados['valores']*100/dados['valores'].sum(), 1)\n",
    "    print(dados)\n",
    "    \n",
    "    linhas_retirar = dados.index\n",
    "    dados.drop(labels=linhas_retirar[7:], axis=0, inplace=True)\n",
    "\n",
    "    fig, ax = plt.subplots(figsize=(12, 8))\n",
    "    sns.barplot(data=dados, y='indice', x='porcentagem')\n",
    "\n",
    "    ax.set_title(titulo, fontsize=14)\n",
    "    ax.set_ylabel('')\n",
    "    ax.set_xlabel('Porcentagem (%)')\n",
    "    sns.despine()\n",
    "    \n",
    "    return ax"
   ]
  },
  {
   "cell_type": "markdown",
   "id": "3f4e169f",
   "metadata": {},
   "source": [
    "**Primeiro questionamento**: \"Como se distribuem os empréstimos de exemplares pelos tipos de vínculo dos usuários?\"."
   ]
  },
  {
   "cell_type": "code",
   "execution_count": 373,
   "id": "16d8c498",
   "metadata": {},
   "outputs": [
    {
     "data": {
      "text/plain": [
       "id_emprestimo            307507\n",
       "id_exemplar              189257\n",
       "codigo_barras                 0\n",
       "data_emprestimo          307507\n",
       "data_devolucao           313991\n",
       "data_renovacao          1595459\n",
       "matricula_ou_siape       310678\n",
       "tipo_vinculo_usuario     307507\n",
       "colecao                  189257\n",
       "biblioteca               189257\n",
       "status_material          189257\n",
       "localizacao              189257\n",
       "CDU                      189257\n",
       "dtype: int64"
      ]
     },
     "execution_count": 373,
     "metadata": {},
     "output_type": "execute_result"
    }
   ],
   "source": [
    "vinculo_usuario = emprestimos.copy()\n",
    "vinculo_usuario.isna().sum()"
   ]
  },
  {
   "cell_type": "code",
   "execution_count": 374,
   "id": "52daa199",
   "metadata": {},
   "outputs": [
    {
     "data": {
      "text/plain": [
       "id_emprestimo           0\n",
       "id_exemplar             0\n",
       "data_emprestimo         0\n",
       "tipo_vinculo_usuario    0\n",
       "dtype: int64"
      ]
     },
     "execution_count": 374,
     "metadata": {},
     "output_type": "execute_result"
    }
   ],
   "source": [
    "colunas_retirar = vinculo_usuario.columns\n",
    "vinculo_usuario.drop(columns=[col for col in colunas_retirar if col not in ['id_emprestimo', 'id_exemplar', 'data_emprestimo', 'tipo_vinculo_usuario']], inplace=True)\n",
    "vinculo_usuario.dropna(inplace=True)\n",
    "vinculo_usuario.reset_index(drop=True, inplace=True)\n",
    "vinculo_usuario.isna().sum()"
   ]
  },
  {
   "cell_type": "code",
   "execution_count": 375,
   "id": "478aa6ae",
   "metadata": {},
   "outputs": [
    {
     "data": {
      "text/html": [
       "<div>\n",
       "<style scoped>\n",
       "    .dataframe tbody tr th:only-of-type {\n",
       "        vertical-align: middle;\n",
       "    }\n",
       "\n",
       "    .dataframe tbody tr th {\n",
       "        vertical-align: top;\n",
       "    }\n",
       "\n",
       "    .dataframe thead th {\n",
       "        text-align: right;\n",
       "    }\n",
       "</style>\n",
       "<table border=\"1\" class=\"dataframe\">\n",
       "  <thead>\n",
       "    <tr style=\"text-align: right;\">\n",
       "      <th></th>\n",
       "      <th>quantidade_emprestimo</th>\n",
       "    </tr>\n",
       "    <tr>\n",
       "      <th>tipo_vinculo_usuario</th>\n",
       "      <th></th>\n",
       "    </tr>\n",
       "  </thead>\n",
       "  <tbody>\n",
       "    <tr>\n",
       "      <th>ALUNO DE GRADUAÇÃO</th>\n",
       "      <td>1612324</td>\n",
       "    </tr>\n",
       "    <tr>\n",
       "      <th>ALUNO DE PÓS-GRADUAÇÃO</th>\n",
       "      <td>302541</td>\n",
       "    </tr>\n",
       "    <tr>\n",
       "      <th>DOCENTE</th>\n",
       "      <td>70981</td>\n",
       "    </tr>\n",
       "    <tr>\n",
       "      <th>SERVIDOR TÉCNICO-ADMINISTRATIVO</th>\n",
       "      <td>32184</td>\n",
       "    </tr>\n",
       "    <tr>\n",
       "      <th>ALUNO MÉDIO/TÉCNICO</th>\n",
       "      <td>28029</td>\n",
       "    </tr>\n",
       "    <tr>\n",
       "      <th>DOCENTE EXTERNO</th>\n",
       "      <td>23949</td>\n",
       "    </tr>\n",
       "    <tr>\n",
       "      <th>USUÁRIO EXTERNO</th>\n",
       "      <td>2509</td>\n",
       "    </tr>\n",
       "    <tr>\n",
       "      <th>OUTROS</th>\n",
       "      <td>5</td>\n",
       "    </tr>\n",
       "  </tbody>\n",
       "</table>\n",
       "</div>"
      ],
      "text/plain": [
       "                                 quantidade_emprestimo\n",
       "tipo_vinculo_usuario                                  \n",
       "ALUNO DE GRADUAÇÃO                             1612324\n",
       "ALUNO DE PÓS-GRADUAÇÃO                          302541\n",
       "DOCENTE                                          70981\n",
       "SERVIDOR TÉCNICO-ADMINISTRATIVO                  32184\n",
       "ALUNO MÉDIO/TÉCNICO                              28029\n",
       "DOCENTE EXTERNO                                  23949\n",
       "USUÁRIO EXTERNO                                   2509\n",
       "OUTROS                                               5"
      ]
     },
     "execution_count": 375,
     "metadata": {},
     "output_type": "execute_result"
    }
   ],
   "source": [
    "vinculo_usuario.drop(columns=['id_emprestimo','id_exemplar'], inplace=True)\n",
    "vinculo_usuario['data_emprestimo'] = [1 for _ in vinculo_usuario['data_emprestimo']]\n",
    "vinculo_usuario.rename(columns={'data_emprestimo':'quantidade_emprestimo'}, inplace=True)\n",
    "vinculo_usuario = vinculo_usuario.groupby('tipo_vinculo_usuario').sum()\n",
    "vinculo_usuario.sort_values('quantidade_emprestimo',ascending=False,inplace=True)\n",
    "vinculo_usuario"
   ]
  },
  {
   "cell_type": "code",
   "execution_count": 376,
   "id": "86af5226",
   "metadata": {},
   "outputs": [
    {
     "name": "stdout",
     "output_type": "stream",
     "text": [
      "                            indice  valores  porcentagem\n",
      "0               ALUNO DE GRADUAÇÃO  1612324         77.8\n",
      "1           ALUNO DE PÓS-GRADUAÇÃO   302541         14.6\n",
      "2                          DOCENTE    70981          3.4\n",
      "3  SERVIDOR TÉCNICO-ADMINISTRATIVO    32184          1.6\n",
      "4              ALUNO MÉDIO/TÉCNICO    28029          1.4\n",
      "5                  DOCENTE EXTERNO    23949          1.2\n",
      "6                  USUÁRIO EXTERNO     2509          0.1\n",
      "7                           OUTROS        5          0.0\n"
     ]
    },
    {
     "data": {
      "image/png": "[encoded data removed]",
      "text/plain": [
       "<Figure size 1200x800 with 1 Axes>"
      ]
     },
     "metadata": {},
     "output_type": "display_data"
    }
   ],
   "source": [
    "ax = tabela_freq_perc(vinculo_usuario, 'Frequência de emprestimo pelo tipo de vínculo')\n",
    "plt.show()"
   ]
  },
  {
   "cell_type": "markdown",
   "id": "b6f3ba01",
   "metadata": {},
   "source": [
    "**Segundo Questionamento**: Quais coleções são mais emprestadas?"
   ]
  },
  {
   "cell_type": "code",
   "execution_count": 377,
   "id": "909e11fd",
   "metadata": {},
   "outputs": [
    {
     "data": {
      "text/plain": [
       "id_emprestimo            307507\n",
       "id_exemplar              189257\n",
       "codigo_barras                 0\n",
       "data_emprestimo          307507\n",
       "data_devolucao           313991\n",
       "data_renovacao          1595459\n",
       "matricula_ou_siape       310678\n",
       "tipo_vinculo_usuario     307507\n",
       "colecao                  189257\n",
       "biblioteca               189257\n",
       "status_material          189257\n",
       "localizacao              189257\n",
       "CDU                      189257\n",
       "dtype: int64"
      ]
     },
     "execution_count": 377,
     "metadata": {},
     "output_type": "execute_result"
    }
   ],
   "source": [
    "colecoes_emprestadas = emprestimos.copy()\n",
    "colecoes_emprestadas.isna().sum()"
   ]
  },
  {
   "cell_type": "code",
   "execution_count": 378,
   "id": "325f0799",
   "metadata": {},
   "outputs": [
    {
     "data": {
      "text/plain": [
       "id_emprestimo      0\n",
       "id_exemplar        0\n",
       "data_emprestimo    0\n",
       "colecao            0\n",
       "dtype: int64"
      ]
     },
     "execution_count": 378,
     "metadata": {},
     "output_type": "execute_result"
    }
   ],
   "source": [
    "colunas_retirar = colecoes_emprestadas.columns\n",
    "colecoes_emprestadas.drop(columns=[col for col in colunas_retirar if col not in ['id_emprestimo', 'id_exemplar', 'data_emprestimo', 'colecao']], inplace=True)\n",
    "colecoes_emprestadas.dropna(inplace=True)\n",
    "colecoes_emprestadas.reset_index(drop=True, inplace=True)\n",
    "colecoes_emprestadas.isna().sum()"
   ]
  },
  {
   "cell_type": "code",
   "execution_count": 379,
   "id": "bec91547",
   "metadata": {},
   "outputs": [
    {
     "data": {
      "text/html": [
       "<div>\n",
       "<style scoped>\n",
       "    .dataframe tbody tr th:only-of-type {\n",
       "        vertical-align: middle;\n",
       "    }\n",
       "\n",
       "    .dataframe tbody tr th {\n",
       "        vertical-align: top;\n",
       "    }\n",
       "\n",
       "    .dataframe thead th {\n",
       "        text-align: right;\n",
       "    }\n",
       "</style>\n",
       "<table border=\"1\" class=\"dataframe\">\n",
       "  <thead>\n",
       "    <tr style=\"text-align: right;\">\n",
       "      <th></th>\n",
       "      <th>quantidade_emprestimo</th>\n",
       "    </tr>\n",
       "    <tr>\n",
       "      <th>colecao</th>\n",
       "      <th></th>\n",
       "    </tr>\n",
       "  </thead>\n",
       "  <tbody>\n",
       "    <tr>\n",
       "      <th>Acervo Circulante</th>\n",
       "      <td>2053120</td>\n",
       "    </tr>\n",
       "    <tr>\n",
       "      <th>Multimeios</th>\n",
       "      <td>7954</td>\n",
       "    </tr>\n",
       "    <tr>\n",
       "      <th>Monografias</th>\n",
       "      <td>4021</td>\n",
       "    </tr>\n",
       "    <tr>\n",
       "      <th>Dissertações</th>\n",
       "      <td>2406</td>\n",
       "    </tr>\n",
       "    <tr>\n",
       "      <th>Obras de Referência</th>\n",
       "      <td>1954</td>\n",
       "    </tr>\n",
       "    <tr>\n",
       "      <th>Publicações de Autores do RN</th>\n",
       "      <td>866</td>\n",
       "    </tr>\n",
       "    <tr>\n",
       "      <th>Publicações da UFRN</th>\n",
       "      <td>764</td>\n",
       "    </tr>\n",
       "    <tr>\n",
       "      <th>Teses</th>\n",
       "      <td>714</td>\n",
       "    </tr>\n",
       "    <tr>\n",
       "      <th>Folhetos</th>\n",
       "      <td>271</td>\n",
       "    </tr>\n",
       "    <tr>\n",
       "      <th>Necessidades Educacionais Específicas</th>\n",
       "      <td>130</td>\n",
       "    </tr>\n",
       "    <tr>\n",
       "      <th>Trabalho Acadêmico</th>\n",
       "      <td>115</td>\n",
       "    </tr>\n",
       "    <tr>\n",
       "      <th>Eventos</th>\n",
       "      <td>101</td>\n",
       "    </tr>\n",
       "    <tr>\n",
       "      <th>Coleção Mossoroense</th>\n",
       "      <td>44</td>\n",
       "    </tr>\n",
       "    <tr>\n",
       "      <th>Coleção Zila Mamede</th>\n",
       "      <td>30</td>\n",
       "    </tr>\n",
       "    <tr>\n",
       "      <th>Literatura de Cordel</th>\n",
       "      <td>24</td>\n",
       "    </tr>\n",
       "    <tr>\n",
       "      <th>Obras Raras</th>\n",
       "      <td>8</td>\n",
       "    </tr>\n",
       "  </tbody>\n",
       "</table>\n",
       "</div>"
      ],
      "text/plain": [
       "                                       quantidade_emprestimo\n",
       "colecao                                                     \n",
       "Acervo Circulante                                    2053120\n",
       "Multimeios                                              7954\n",
       "Monografias                                             4021\n",
       "Dissertações                                            2406\n",
       "Obras de Referência                                     1954\n",
       "Publicações de Autores do RN                             866\n",
       "Publicações da UFRN                                      764\n",
       "Teses                                                    714\n",
       "Folhetos                                                 271\n",
       "Necessidades Educacionais Específicas                    130\n",
       "Trabalho Acadêmico                                       115\n",
       "Eventos                                                  101\n",
       "Coleção Mossoroense                                       44\n",
       "Coleção Zila Mamede                                       30\n",
       "Literatura de Cordel                                      24\n",
       "Obras Raras                                                8"
      ]
     },
     "execution_count": 379,
     "metadata": {},
     "output_type": "execute_result"
    }
   ],
   "source": [
    "colecoes_emprestadas.drop(columns=['id_emprestimo','id_exemplar'], inplace=True)\n",
    "colecoes_emprestadas['data_emprestimo'] = [1 for _ in colecoes_emprestadas['data_emprestimo']]\n",
    "colecoes_emprestadas.rename(columns={'data_emprestimo':'quantidade_emprestimo'}, inplace=True)\n",
    "colecoes_emprestadas = colecoes_emprestadas.groupby('colecao').sum()\n",
    "colecoes_emprestadas.sort_values('quantidade_emprestimo',ascending=False,inplace=True)\n",
    "colecoes_emprestadas"
   ]
  },
  {
   "cell_type": "code",
   "execution_count": 380,
   "id": "32e17961",
   "metadata": {},
   "outputs": [
    {
     "name": "stdout",
     "output_type": "stream",
     "text": [
      "                                   indice  valores  porcentagem\n",
      "0                       Acervo Circulante  2053120         99.1\n",
      "1                              Multimeios     7954          0.4\n",
      "2                             Monografias     4021          0.2\n",
      "3                            Dissertações     2406          0.1\n",
      "4                     Obras de Referência     1954          0.1\n",
      "5            Publicações de Autores do RN      866          0.0\n",
      "6                     Publicações da UFRN      764          0.0\n",
      "7                                   Teses      714          0.0\n",
      "8                                Folhetos      271          0.0\n",
      "9   Necessidades Educacionais Específicas      130          0.0\n",
      "10                     Trabalho Acadêmico      115          0.0\n",
      "11                                Eventos      101          0.0\n",
      "12                    Coleção Mossoroense       44          0.0\n",
      "13                    Coleção Zila Mamede       30          0.0\n",
      "14                   Literatura de Cordel       24          0.0\n",
      "15                            Obras Raras        8          0.0\n"
     ]
    },
    {
     "data": {
      "image/png": "[encoded data removed]",
      "text/plain": [
       "<Figure size 1200x800 with 1 Axes>"
      ]
     },
     "metadata": {},
     "output_type": "display_data"
    }
   ],
   "source": [
    "ax = tabela_freq_perc(colecoes_emprestadas, 'Frequência das coleções mais emprestadas')\n",
    "plt.show()"
   ]
  },
  {
   "cell_type": "markdown",
   "id": "e030d22c",
   "metadata": {},
   "source": [
    "**TerceiroQuestionamento**: Quais são as bibliotecas com mais ou menos quantidade de empréstimos?"
   ]
  },
  {
   "cell_type": "code",
   "execution_count": 381,
   "id": "6fd39277",
   "metadata": {},
   "outputs": [
    {
     "data": {
      "text/plain": [
       "id_emprestimo            307507\n",
       "id_exemplar              189257\n",
       "codigo_barras                 0\n",
       "data_emprestimo          307507\n",
       "data_devolucao           313991\n",
       "data_renovacao          1595459\n",
       "matricula_ou_siape       310678\n",
       "tipo_vinculo_usuario     307507\n",
       "colecao                  189257\n",
       "biblioteca               189257\n",
       "status_material          189257\n",
       "localizacao              189257\n",
       "CDU                      189257\n",
       "dtype: int64"
      ]
     },
     "execution_count": 381,
     "metadata": {},
     "output_type": "execute_result"
    }
   ],
   "source": [
    "bibliotecas = emprestimos.copy()\n",
    "bibliotecas.isna().sum()"
   ]
  },
  {
   "cell_type": "code",
   "execution_count": 382,
   "id": "1de43d02",
   "metadata": {},
   "outputs": [
    {
     "data": {
      "text/plain": [
       "id_emprestimo      0\n",
       "id_exemplar        0\n",
       "data_emprestimo    0\n",
       "biblioteca         0\n",
       "dtype: int64"
      ]
     },
     "execution_count": 382,
     "metadata": {},
     "output_type": "execute_result"
    }
   ],
   "source": [
    "colunas_retirar = bibliotecas.columns\n",
    "bibliotecas.drop(columns=[col for col in colunas_retirar if col not in ['id_emprestimo', 'id_exemplar', 'data_emprestimo', 'biblioteca']], inplace=True)\n",
    "bibliotecas.dropna(inplace=True)\n",
    "bibliotecas.reset_index(drop=True, inplace=True)\n",
    "bibliotecas.isna().sum()"
   ]
  },
  {
   "cell_type": "code",
   "execution_count": 383,
   "id": "745e31b4",
   "metadata": {},
   "outputs": [
    {
     "data": {
      "text/html": [
       "<div>\n",
       "<style scoped>\n",
       "    .dataframe tbody tr th:only-of-type {\n",
       "        vertical-align: middle;\n",
       "    }\n",
       "\n",
       "    .dataframe tbody tr th {\n",
       "        vertical-align: top;\n",
       "    }\n",
       "\n",
       "    .dataframe thead th {\n",
       "        text-align: right;\n",
       "    }\n",
       "</style>\n",
       "<table border=\"1\" class=\"dataframe\">\n",
       "  <thead>\n",
       "    <tr style=\"text-align: right;\">\n",
       "      <th></th>\n",
       "      <th>quantidade_emprestimo</th>\n",
       "    </tr>\n",
       "    <tr>\n",
       "      <th>biblioteca</th>\n",
       "      <th></th>\n",
       "    </tr>\n",
       "  </thead>\n",
       "  <tbody>\n",
       "    <tr>\n",
       "      <th>Biblioteca Central Zila Mamede</th>\n",
       "      <td>1426122</td>\n",
       "    </tr>\n",
       "    <tr>\n",
       "      <th>Biblioteca Setorial do Centro Ciências da Saúde - CCS</th>\n",
       "      <td>118614</td>\n",
       "    </tr>\n",
       "    <tr>\n",
       "      <th>Biblioteca Setorial da Faculdade de Ciências da Saúde do Trairi - FACISA - Santa Cruz</th>\n",
       "      <td>77609</td>\n",
       "    </tr>\n",
       "    <tr>\n",
       "      <th>Biblioteca Setorial Prof. Alberto Moreira Campos - ­Departamento de Odontologia</th>\n",
       "      <td>66447</td>\n",
       "    </tr>\n",
       "    <tr>\n",
       "      <th>Biblioteca Setorial Profª. Maria Lúcia da Costa Bezerra - ­CERES­ - Caicó</th>\n",
       "      <td>61478</td>\n",
       "    </tr>\n",
       "    <tr>\n",
       "      <th>Biblioteca Setorial Bertha Cruz Enders - ­Escola de Saúde da UFRN - ESUFRN</th>\n",
       "      <td>46040</td>\n",
       "    </tr>\n",
       "    <tr>\n",
       "      <th>Biblioteca Setorial do Centro de Ciências Humanas, Letras e Artes - CCHLA</th>\n",
       "      <td>40744</td>\n",
       "    </tr>\n",
       "    <tr>\n",
       "      <th>Biblioteca Setorial Dr. Paulo Bezerra - EMCM/RN - Caicó</th>\n",
       "      <td>32097</td>\n",
       "    </tr>\n",
       "    <tr>\n",
       "      <th>Biblioteca Setorial Profª. Maria José Mamede Galvão - FELCS - Currais Novos</th>\n",
       "      <td>29089</td>\n",
       "    </tr>\n",
       "    <tr>\n",
       "      <th>Biblioteca Setorial Prof. Rodolfo Helinski - Escola Agrícola de Jundiaí - EAJ  - Macaiba</th>\n",
       "      <td>27219</td>\n",
       "    </tr>\n",
       "    <tr>\n",
       "      <th>Biblioteca Setorial Prof. Francisco Gurgel De Azevedo - Instituto Química - IQ</th>\n",
       "      <td>26923</td>\n",
       "    </tr>\n",
       "    <tr>\n",
       "      <th>Biblioteca Setorial do Núcleo de Educação da Infância - NEI</th>\n",
       "      <td>23656</td>\n",
       "    </tr>\n",
       "    <tr>\n",
       "      <th>Biblioteca Setorial Prof. Ronaldo Xavier de Arruda - CCET</th>\n",
       "      <td>22749</td>\n",
       "    </tr>\n",
       "    <tr>\n",
       "      <th>Biblioteca Setorial Pe. Jaime Diniz - Escola de Música - EMUFRN</th>\n",
       "      <td>21476</td>\n",
       "    </tr>\n",
       "    <tr>\n",
       "      <th>Biblioteca Setorial do Departamento de Artes - DEART</th>\n",
       "      <td>17099</td>\n",
       "    </tr>\n",
       "    <tr>\n",
       "      <th>Biblioteca Setorial Prof. Leopoldo Nelson - ­Centro de Biociências - CB</th>\n",
       "      <td>12900</td>\n",
       "    </tr>\n",
       "    <tr>\n",
       "      <th>Biblioteca Setorial do Centro Ciências Sociais Aplicadas - CCSA</th>\n",
       "      <td>10533</td>\n",
       "    </tr>\n",
       "    <tr>\n",
       "      <th>Biblioteca Setorial Prof. Dr. Marcelo Bezerra de Melo Tinôco - DARQ - ­CT</th>\n",
       "      <td>5057</td>\n",
       "    </tr>\n",
       "    <tr>\n",
       "      <th>Biblioteca Setorial Prof. Horácio Nicolas Solimo - ­ Engenharia Química - EQ - CT</th>\n",
       "      <td>4098</td>\n",
       "    </tr>\n",
       "    <tr>\n",
       "      <th>Biblioteca Setorial Moacyr de Góes - CE</th>\n",
       "      <td>1036</td>\n",
       "    </tr>\n",
       "    <tr>\n",
       "      <th>Biblioteca Setorial Árvore do Conhecimento - Instituto do Cérebro - ICe</th>\n",
       "      <td>919</td>\n",
       "    </tr>\n",
       "    <tr>\n",
       "      <th>Biblioteca Setorial do Núcleo de Ensino Superior do Agreste - NESA - Nova Cruz</th>\n",
       "      <td>617</td>\n",
       "    </tr>\n",
       "  </tbody>\n",
       "</table>\n",
       "</div>"
      ],
      "text/plain": [
       "                                                    quantidade_emprestimo\n",
       "biblioteca                                                               \n",
       "Biblioteca Central Zila Mamede                                    1426122\n",
       "Biblioteca Setorial do Centro Ciências da Saúde...                 118614\n",
       "Biblioteca Setorial da Faculdade de Ciências da...                  77609\n",
       "Biblioteca Setorial Prof. Alberto Moreira Campo...                  66447\n",
       "Biblioteca Setorial Profª. Maria Lúcia da Costa...                  61478\n",
       "Biblioteca Setorial Bertha Cruz Enders - ­Escol...                  46040\n",
       "Biblioteca Setorial do Centro de Ciências Human...                  40744\n",
       "Biblioteca Setorial Dr. Paulo Bezerra - EMCM/RN...                  32097\n",
       "Biblioteca Setorial Profª. Maria José Mamede Ga...                  29089\n",
       "Biblioteca Setorial Prof. Rodolfo Helinski - Es...                  27219\n",
       "Biblioteca Setorial Prof. Francisco Gurgel De A...                  26923\n",
       "Biblioteca Setorial do Núcleo de Educação da In...                  23656\n",
       "Biblioteca Setorial Prof. Ronaldo Xavier de Arr...                  22749\n",
       "Biblioteca Setorial Pe. Jaime Diniz - Escola de...                  21476\n",
       "Biblioteca Setorial do Departamento de Artes - ...                  17099\n",
       "Biblioteca Setorial Prof. Leopoldo Nelson - ­Ce...                  12900\n",
       "Biblioteca Setorial do Centro Ciências Sociais ...                  10533\n",
       "Biblioteca Setorial Prof. Dr. Marcelo Bezerra d...                   5057\n",
       "Biblioteca Setorial Prof. Horácio Nicolas Solim...                   4098\n",
       "Biblioteca Setorial Moacyr de Góes - CE                              1036\n",
       "Biblioteca Setorial Árvore do Conhecimento - In...                    919\n",
       "Biblioteca Setorial do Núcleo de Ensino Superio...                    617"
      ]
     },
     "execution_count": 383,
     "metadata": {},
     "output_type": "execute_result"
    }
   ],
   "source": [
    "bibliotecas.drop(columns=['id_emprestimo','id_exemplar'], inplace=True)\n",
    "bibliotecas['data_emprestimo'] = [1 for _ in bibliotecas['data_emprestimo']]\n",
    "bibliotecas.rename(columns={'data_emprestimo':'quantidade_emprestimo'}, inplace=True)\n",
    "bibliotecas = bibliotecas.groupby('biblioteca').sum()\n",
    "bibliotecas.sort_values('quantidade_emprestimo',ascending=False,inplace=True)\n",
    "bibliotecas"
   ]
  },
  {
   "cell_type": "code",
   "execution_count": 384,
   "id": "a7c5ec7f",
   "metadata": {},
   "outputs": [
    {
     "name": "stdout",
     "output_type": "stream",
     "text": [
      "                                               indice  valores  porcentagem\n",
      "0                      Biblioteca Central Zila Mamede  1426122         68.8\n",
      "1   Biblioteca Setorial do Centro Ciências da Saúd...   118614          5.7\n",
      "2   Biblioteca Setorial da Faculdade de Ciências d...    77609          3.7\n",
      "3   Biblioteca Setorial Prof. Alberto Moreira Camp...    66447          3.2\n",
      "4   Biblioteca Setorial Profª. Maria Lúcia da Cost...    61478          3.0\n",
      "5   Biblioteca Setorial Bertha Cruz Enders - ­Esco...    46040          2.2\n",
      "6   Biblioteca Setorial do Centro de Ciências Huma...    40744          2.0\n",
      "7   Biblioteca Setorial Dr. Paulo Bezerra - EMCM/R...    32097          1.5\n",
      "8   Biblioteca Setorial Profª. Maria José Mamede G...    29089          1.4\n",
      "9   Biblioteca Setorial Prof. Rodolfo Helinski - E...    27219          1.3\n",
      "10  Biblioteca Setorial Prof. Francisco Gurgel De ...    26923          1.3\n",
      "11  Biblioteca Setorial do Núcleo de Educação da I...    23656          1.1\n",
      "12  Biblioteca Setorial Prof. Ronaldo Xavier de Ar...    22749          1.1\n",
      "13  Biblioteca Setorial Pe. Jaime Diniz - Escola d...    21476          1.0\n",
      "14  Biblioteca Setorial do Departamento de Artes -...    17099          0.8\n",
      "15  Biblioteca Setorial Prof. Leopoldo Nelson - ­C...    12900          0.6\n",
      "16  Biblioteca Setorial do Centro Ciências Sociais...    10533          0.5\n",
      "17  Biblioteca Setorial Prof. Dr. Marcelo Bezerra ...     5057          0.2\n",
      "18  Biblioteca Setorial Prof. Horácio Nicolas Soli...     4098          0.2\n",
      "19            Biblioteca Setorial Moacyr de Góes - CE     1036          0.0\n",
      "20  Biblioteca Setorial Árvore do Conhecimento - I...      919          0.0\n",
      "21  Biblioteca Setorial do Núcleo de Ensino Superi...      617          0.0\n"
     ]
    },
    {
     "data": {
      "image/png": "[encoded data removed]",
      "text/plain": [
       "<Figure size 1200x800 with 1 Axes>"
      ]
     },
     "metadata": {},
     "output_type": "display_data"
    }
   ],
   "source": [
    "ax = tabela_freq_perc(bibliotecas, 'Frequência das bibliotecas mais utilizadas')\n",
    "plt.show()"
   ]
  },
  {
   "cell_type": "markdown",
   "id": "bb48ce7c",
   "metadata": {},
   "source": [
    "**Último Questionamento**: De quais temas da CDU são os exemplares emprestados?"
   ]
  },
  {
   "cell_type": "code",
   "execution_count": 385,
   "id": "8ff42ee6",
   "metadata": {},
   "outputs": [
    {
     "data": {
      "text/plain": [
       "id_emprestimo            307507\n",
       "id_exemplar              189257\n",
       "codigo_barras                 0\n",
       "data_emprestimo          307507\n",
       "data_devolucao           313991\n",
       "data_renovacao          1595459\n",
       "matricula_ou_siape       310678\n",
       "tipo_vinculo_usuario     307507\n",
       "colecao                  189257\n",
       "biblioteca               189257\n",
       "status_material          189257\n",
       "localizacao              189257\n",
       "CDU                      189257\n",
       "dtype: int64"
      ]
     },
     "execution_count": 385,
     "metadata": {},
     "output_type": "execute_result"
    }
   ],
   "source": [
    "cdu_exemplares = emprestimos.copy()\n",
    "cdu_exemplares.isna().sum()"
   ]
  },
  {
   "cell_type": "code",
   "execution_count": 386,
   "id": "ae88542d",
   "metadata": {},
   "outputs": [
    {
     "data": {
      "text/plain": [
       "id_emprestimo      0\n",
       "id_exemplar        0\n",
       "data_emprestimo    0\n",
       "CDU                0\n",
       "dtype: int64"
      ]
     },
     "execution_count": 386,
     "metadata": {},
     "output_type": "execute_result"
    }
   ],
   "source": [
    "colunas_retirar = cdu_exemplares.columns\n",
    "cdu_exemplares.drop(columns=[col for col in colunas_retirar if col not in ['id_emprestimo', 'id_exemplar', 'data_emprestimo', 'CDU']], inplace=True)\n",
    "cdu_exemplares.dropna(inplace=True)\n",
    "cdu_exemplares.reset_index(drop=True, inplace=True)\n",
    "cdu_exemplares.isna().sum()"
   ]
  },
  {
   "cell_type": "code",
   "execution_count": 387,
   "id": "9fb1a842",
   "metadata": {},
   "outputs": [
    {
     "data": {
      "text/html": [
       "<div>\n",
       "<style scoped>\n",
       "    .dataframe tbody tr th:only-of-type {\n",
       "        vertical-align: middle;\n",
       "    }\n",
       "\n",
       "    .dataframe tbody tr th {\n",
       "        vertical-align: top;\n",
       "    }\n",
       "\n",
       "    .dataframe thead th {\n",
       "        text-align: right;\n",
       "    }\n",
       "</style>\n",
       "<table border=\"1\" class=\"dataframe\">\n",
       "  <thead>\n",
       "    <tr style=\"text-align: right;\">\n",
       "      <th></th>\n",
       "      <th>quantidade_emprestimo</th>\n",
       "    </tr>\n",
       "    <tr>\n",
       "      <th>CDU</th>\n",
       "      <th></th>\n",
       "    </tr>\n",
       "  </thead>\n",
       "  <tbody>\n",
       "    <tr>\n",
       "      <th>Ciências aplicadas</th>\n",
       "      <td>1425473</td>\n",
       "    </tr>\n",
       "    <tr>\n",
       "      <th>Ciências sociais</th>\n",
       "      <td>369536</td>\n",
       "    </tr>\n",
       "    <tr>\n",
       "      <th>Matemática e ciências naturais</th>\n",
       "      <td>68744</td>\n",
       "    </tr>\n",
       "    <tr>\n",
       "      <th>Generalidades. Ciência e conhecimento</th>\n",
       "      <td>62521</td>\n",
       "    </tr>\n",
       "    <tr>\n",
       "      <th>Religião</th>\n",
       "      <td>62295</td>\n",
       "    </tr>\n",
       "    <tr>\n",
       "      <th>Filosofia e psicologia</th>\n",
       "      <td>60563</td>\n",
       "    </tr>\n",
       "    <tr>\n",
       "      <th>Geografia. Biografia. História</th>\n",
       "      <td>7989</td>\n",
       "    </tr>\n",
       "    <tr>\n",
       "      <th>Belas artes</th>\n",
       "      <td>7911</td>\n",
       "    </tr>\n",
       "    <tr>\n",
       "      <th>Linguagem. Língua. Linguística</th>\n",
       "      <td>7490</td>\n",
       "    </tr>\n",
       "  </tbody>\n",
       "</table>\n",
       "</div>"
      ],
      "text/plain": [
       "                                       quantidade_emprestimo\n",
       "CDU                                                         \n",
       "Ciências aplicadas                                   1425473\n",
       "Ciências sociais                                      369536\n",
       "Matemática e ciências naturais                         68744\n",
       "Generalidades. Ciência e conhecimento                  62521\n",
       "Religião                                               62295\n",
       "Filosofia e psicologia                                 60563\n",
       "Geografia. Biografia. História                          7989\n",
       "Belas artes                                             7911\n",
       "Linguagem. Língua. Linguística                          7490"
      ]
     },
     "execution_count": 387,
     "metadata": {},
     "output_type": "execute_result"
    }
   ],
   "source": [
    "cdu_exemplares.drop(columns=['id_emprestimo','id_exemplar'], inplace=True)\n",
    "cdu_exemplares['data_emprestimo'] = [1 for _ in cdu_exemplares['data_emprestimo']]\n",
    "cdu_exemplares.rename(columns={'data_emprestimo':'quantidade_emprestimo'}, inplace=True)\n",
    "cdu_exemplares = cdu_exemplares.groupby('CDU').sum()\n",
    "cdu_exemplares.sort_values('quantidade_emprestimo',ascending=False,inplace=True)\n",
    "cdu_exemplares"
   ]
  },
  {
   "cell_type": "code",
   "execution_count": 388,
   "id": "9a540d9f",
   "metadata": {},
   "outputs": [
    {
     "name": "stdout",
     "output_type": "stream",
     "text": [
      "                                  indice  valores  porcentagem\n",
      "0                     Ciências aplicadas  1425473         68.8\n",
      "1                       Ciências sociais   369536         17.8\n",
      "2         Matemática e ciências naturais    68744          3.3\n",
      "3  Generalidades. Ciência e conhecimento    62521          3.0\n",
      "4                               Religião    62295          3.0\n",
      "5                 Filosofia e psicologia    60563          2.9\n",
      "6         Geografia. Biografia. História     7989          0.4\n",
      "7                            Belas artes     7911          0.4\n",
      "8         Linguagem. Língua. Linguística     7490          0.4\n"
     ]
    },
    {
     "data": {
      "image/png": "[encoded data removed]",
      "text/plain": [
       "<Figure size 1200x800 with 1 Axes>"
      ]
     },
     "metadata": {},
     "output_type": "display_data"
    }
   ],
   "source": [
    "ax = tabela_freq_perc(cdu_exemplares, 'Frequência dos temas mais emprestados')\n",
    "plt.show()"
   ]
  },
  {
   "cell_type": "markdown",
   "id": "58dc95ca",
   "metadata": {},
   "source": [
    "## Dia 5\n",
    "\n",
    "Devido às diversas mudanças que ocorrem o tempo todo: os usuários estão evoluindo seus conhecimentos, novos alunos chegam, alunos que se formam saem e as informações estão sempre em movimento e transformação.\n",
    "\n",
    "Por este motivo, é importante realizar avaliações constantes do uso da biblioteca e entender em quais cenários (tipos de usuários, estratégias de marketing, atualização de acervo, cenário sócio-político interno e externo) é melhor manter a estratégia atual ou mudá-la.\n",
    "\n",
    "Faremos dois recortes nos dados para entender como eles se distribuíram ao decorrer desses anos e, desta forma, possa trazer inferências para levar à diretoria da biblioteca, a fim de que eles possam tomar decisões para o ano atual.\n",
    "\n",
    "Para isso, iremos avaliar dentre os alunos de graduação e pós graduação a distribuição de empréstimos mensais por ano realizados entre 2010 e 2020 da coleção que tiver a maior frequência de empréstimos. Plotaramos um gráfico para cada tipo de usuário e um boxplot para cada ano e analisaremos o que ocorreu.\n"
   ]
  },
  {
   "cell_type": "code",
   "execution_count": 389,
   "id": "bfce6ca9",
   "metadata": {},
   "outputs": [
    {
     "data": {
      "text/plain": [
       "id_emprestimo            307507\n",
       "id_exemplar              189257\n",
       "codigo_barras                 0\n",
       "data_emprestimo          307507\n",
       "data_devolucao           313991\n",
       "data_renovacao          1595459\n",
       "matricula_ou_siape       310678\n",
       "tipo_vinculo_usuario     307507\n",
       "colecao                  189257\n",
       "biblioteca               189257\n",
       "status_material          189257\n",
       "localizacao              189257\n",
       "CDU                      189257\n",
       "dtype: int64"
      ]
     },
     "execution_count": 389,
     "metadata": {},
     "output_type": "execute_result"
    }
   ],
   "source": [
    "alunos_geral = emprestimos.copy()\n",
    "alunos_geral.isna().sum()"
   ]
  },
  {
   "cell_type": "code",
   "execution_count": 390,
   "id": "ad97e3b2",
   "metadata": {},
   "outputs": [
    {
     "name": "stdout",
     "output_type": "stream",
     "text": [
      "<class 'pandas.core.frame.DataFrame'>\n",
      "Index: 2072522 entries, 0 to 2261778\n",
      "Data columns (total 5 columns):\n",
      " #   Column                Dtype  \n",
      "---  ------                -----  \n",
      " 0   id_emprestimo         float64\n",
      " 1   id_exemplar           float64\n",
      " 2   data_emprestimo       object \n",
      " 3   tipo_vinculo_usuario  object \n",
      " 4   colecao               object \n",
      "dtypes: float64(2), object(3)\n",
      "memory usage: 94.9+ MB\n"
     ]
    }
   ],
   "source": [
    "colunas_retirar = alunos_geral.columns\n",
    "alunos_geral.drop(columns=[col for col in colunas_retirar if col not in ['id_emprestimo', 'id_exemplar', 'data_emprestimo', 'tipo_vinculo_usuario','colecao']], inplace=True)\n",
    "alunos_geral.dropna(inplace=True)\n",
    "alunos_geral.info()"
   ]
  },
  {
   "cell_type": "code",
   "execution_count": 391,
   "id": "2f453630",
   "metadata": {},
   "outputs": [
    {
     "data": {
      "text/html": [
       "<div>\n",
       "<style scoped>\n",
       "    .dataframe tbody tr th:only-of-type {\n",
       "        vertical-align: middle;\n",
       "    }\n",
       "\n",
       "    .dataframe tbody tr th {\n",
       "        vertical-align: top;\n",
       "    }\n",
       "\n",
       "    .dataframe thead th {\n",
       "        text-align: right;\n",
       "    }\n",
       "</style>\n",
       "<table border=\"1\" class=\"dataframe\">\n",
       "  <thead>\n",
       "    <tr style=\"text-align: right;\">\n",
       "      <th></th>\n",
       "      <th>quantidade_emprestimo</th>\n",
       "      <th>tipo_vinculo_usuario</th>\n",
       "      <th>colecao</th>\n",
       "      <th>ano</th>\n",
       "      <th>mes</th>\n",
       "    </tr>\n",
       "  </thead>\n",
       "  <tbody>\n",
       "    <tr>\n",
       "      <th>0</th>\n",
       "      <td>1</td>\n",
       "      <td>ALUNO DE GRADUAÇÃO</td>\n",
       "      <td>Acervo Circulante</td>\n",
       "      <td>2010</td>\n",
       "      <td>1</td>\n",
       "    </tr>\n",
       "    <tr>\n",
       "      <th>1</th>\n",
       "      <td>1</td>\n",
       "      <td>ALUNO DE GRADUAÇÃO</td>\n",
       "      <td>Acervo Circulante</td>\n",
       "      <td>2010</td>\n",
       "      <td>1</td>\n",
       "    </tr>\n",
       "    <tr>\n",
       "      <th>2</th>\n",
       "      <td>1</td>\n",
       "      <td>ALUNO DE PÓS-GRADUAÇÃO</td>\n",
       "      <td>Acervo Circulante</td>\n",
       "      <td>2010</td>\n",
       "      <td>1</td>\n",
       "    </tr>\n",
       "    <tr>\n",
       "      <th>3</th>\n",
       "      <td>1</td>\n",
       "      <td>ALUNO DE GRADUAÇÃO</td>\n",
       "      <td>Acervo Circulante</td>\n",
       "      <td>2010</td>\n",
       "      <td>1</td>\n",
       "    </tr>\n",
       "    <tr>\n",
       "      <th>4</th>\n",
       "      <td>1</td>\n",
       "      <td>ALUNO DE GRADUAÇÃO</td>\n",
       "      <td>Acervo Circulante</td>\n",
       "      <td>2010</td>\n",
       "      <td>1</td>\n",
       "    </tr>\n",
       "  </tbody>\n",
       "</table>\n",
       "</div>"
      ],
      "text/plain": [
       "   quantidade_emprestimo    tipo_vinculo_usuario            colecao   ano  mes\n",
       "0                      1      ALUNO DE GRADUAÇÃO  Acervo Circulante  2010    1\n",
       "1                      1      ALUNO DE GRADUAÇÃO  Acervo Circulante  2010    1\n",
       "2                      1  ALUNO DE PÓS-GRADUAÇÃO  Acervo Circulante  2010    1\n",
       "3                      1      ALUNO DE GRADUAÇÃO  Acervo Circulante  2010    1\n",
       "4                      1      ALUNO DE GRADUAÇÃO  Acervo Circulante  2010    1"
      ]
     },
     "execution_count": 391,
     "metadata": {},
     "output_type": "execute_result"
    }
   ],
   "source": [
    "alunos_geral['data_emprestimo'] = pd.to_datetime(alunos_geral['data_emprestimo'])\n",
    "alunos_geral['ano'] = alunos_geral['data_emprestimo'].dt.year.astype(int)\n",
    "alunos_geral['mes'] = alunos_geral['data_emprestimo'].dt.month.astype(int)\n",
    "alunos_geral['data_emprestimo'] = [1 for x in alunos_geral['data_emprestimo']]\n",
    "alunos_geral.rename(columns={'data_emprestimo':'quantidade_emprestimo'}, inplace=True)\n",
    "alunos_geral.drop(columns=['id_emprestimo','id_exemplar'], inplace=True)\n",
    "alunos_geral.head()"
   ]
  },
  {
   "cell_type": "code",
   "execution_count": 392,
   "id": "8d7d7bac",
   "metadata": {},
   "outputs": [
    {
     "data": {
      "text/html": [
       "<div>\n",
       "<style scoped>\n",
       "    .dataframe tbody tr th:only-of-type {\n",
       "        vertical-align: middle;\n",
       "    }\n",
       "\n",
       "    .dataframe tbody tr th {\n",
       "        vertical-align: top;\n",
       "    }\n",
       "\n",
       "    .dataframe thead th {\n",
       "        text-align: right;\n",
       "    }\n",
       "</style>\n",
       "<table border=\"1\" class=\"dataframe\">\n",
       "  <thead>\n",
       "    <tr style=\"text-align: right;\">\n",
       "      <th></th>\n",
       "      <th>tipo_vinculo_usuario</th>\n",
       "      <th>colecao</th>\n",
       "      <th>mes</th>\n",
       "      <th>ano</th>\n",
       "      <th>quantidade_emprestimo</th>\n",
       "    </tr>\n",
       "  </thead>\n",
       "  <tbody>\n",
       "    <tr>\n",
       "      <th>0</th>\n",
       "      <td>ALUNO DE GRADUAÇÃO</td>\n",
       "      <td>Acervo Circulante</td>\n",
       "      <td>1</td>\n",
       "      <td>2010</td>\n",
       "      <td>2996</td>\n",
       "    </tr>\n",
       "    <tr>\n",
       "      <th>1</th>\n",
       "      <td>ALUNO DE GRADUAÇÃO</td>\n",
       "      <td>Acervo Circulante</td>\n",
       "      <td>1</td>\n",
       "      <td>2011</td>\n",
       "      <td>809</td>\n",
       "    </tr>\n",
       "    <tr>\n",
       "      <th>2</th>\n",
       "      <td>ALUNO DE GRADUAÇÃO</td>\n",
       "      <td>Acervo Circulante</td>\n",
       "      <td>1</td>\n",
       "      <td>2012</td>\n",
       "      <td>4987</td>\n",
       "    </tr>\n",
       "    <tr>\n",
       "      <th>3</th>\n",
       "      <td>ALUNO DE GRADUAÇÃO</td>\n",
       "      <td>Acervo Circulante</td>\n",
       "      <td>1</td>\n",
       "      <td>2013</td>\n",
       "      <td>5353</td>\n",
       "    </tr>\n",
       "    <tr>\n",
       "      <th>4</th>\n",
       "      <td>ALUNO DE GRADUAÇÃO</td>\n",
       "      <td>Acervo Circulante</td>\n",
       "      <td>1</td>\n",
       "      <td>2014</td>\n",
       "      <td>12476</td>\n",
       "    </tr>\n",
       "  </tbody>\n",
       "</table>\n",
       "</div>"
      ],
      "text/plain": [
       "  tipo_vinculo_usuario            colecao  mes   ano  quantidade_emprestimo\n",
       "0   ALUNO DE GRADUAÇÃO  Acervo Circulante    1  2010                   2996\n",
       "1   ALUNO DE GRADUAÇÃO  Acervo Circulante    1  2011                    809\n",
       "2   ALUNO DE GRADUAÇÃO  Acervo Circulante    1  2012                   4987\n",
       "3   ALUNO DE GRADUAÇÃO  Acervo Circulante    1  2013                   5353\n",
       "4   ALUNO DE GRADUAÇÃO  Acervo Circulante    1  2014                  12476"
      ]
     },
     "execution_count": 392,
     "metadata": {},
     "output_type": "execute_result"
    }
   ],
   "source": [
    "alunos_geral = alunos_geral.groupby(['tipo_vinculo_usuario', 'colecao','mes', 'ano']).sum()\n",
    "alunos_geral.reset_index(inplace=True)\n",
    "alunos_geral.head()"
   ]
  },
  {
   "cell_type": "code",
   "execution_count": 393,
   "id": "4613fff4",
   "metadata": {},
   "outputs": [
    {
     "data": {
      "text/html": [
       "<div>\n",
       "<style scoped>\n",
       "    .dataframe tbody tr th:only-of-type {\n",
       "        vertical-align: middle;\n",
       "    }\n",
       "\n",
       "    .dataframe tbody tr th {\n",
       "        vertical-align: top;\n",
       "    }\n",
       "\n",
       "    .dataframe thead th {\n",
       "        text-align: right;\n",
       "    }\n",
       "</style>\n",
       "<table border=\"1\" class=\"dataframe\">\n",
       "  <thead>\n",
       "    <tr style=\"text-align: right;\">\n",
       "      <th></th>\n",
       "      <th>tipo_vinculo_usuario</th>\n",
       "      <th>colecao</th>\n",
       "      <th>mes</th>\n",
       "      <th>ano</th>\n",
       "      <th>quantidade_emprestimo</th>\n",
       "    </tr>\n",
       "  </thead>\n",
       "  <tbody>\n",
       "    <tr>\n",
       "      <th>0</th>\n",
       "      <td>ALUNO DE GRADUAÇÃO</td>\n",
       "      <td>Acervo Circulante</td>\n",
       "      <td>1</td>\n",
       "      <td>2010</td>\n",
       "      <td>2996</td>\n",
       "    </tr>\n",
       "    <tr>\n",
       "      <th>1</th>\n",
       "      <td>ALUNO DE GRADUAÇÃO</td>\n",
       "      <td>Acervo Circulante</td>\n",
       "      <td>1</td>\n",
       "      <td>2011</td>\n",
       "      <td>809</td>\n",
       "    </tr>\n",
       "    <tr>\n",
       "      <th>2</th>\n",
       "      <td>ALUNO DE GRADUAÇÃO</td>\n",
       "      <td>Acervo Circulante</td>\n",
       "      <td>1</td>\n",
       "      <td>2012</td>\n",
       "      <td>4987</td>\n",
       "    </tr>\n",
       "    <tr>\n",
       "      <th>3</th>\n",
       "      <td>ALUNO DE GRADUAÇÃO</td>\n",
       "      <td>Acervo Circulante</td>\n",
       "      <td>1</td>\n",
       "      <td>2013</td>\n",
       "      <td>5353</td>\n",
       "    </tr>\n",
       "    <tr>\n",
       "      <th>4</th>\n",
       "      <td>ALUNO DE GRADUAÇÃO</td>\n",
       "      <td>Acervo Circulante</td>\n",
       "      <td>1</td>\n",
       "      <td>2014</td>\n",
       "      <td>12476</td>\n",
       "    </tr>\n",
       "  </tbody>\n",
       "</table>\n",
       "</div>"
      ],
      "text/plain": [
       "  tipo_vinculo_usuario            colecao  mes   ano  quantidade_emprestimo\n",
       "0   ALUNO DE GRADUAÇÃO  Acervo Circulante    1  2010                   2996\n",
       "1   ALUNO DE GRADUAÇÃO  Acervo Circulante    1  2011                    809\n",
       "2   ALUNO DE GRADUAÇÃO  Acervo Circulante    1  2012                   4987\n",
       "3   ALUNO DE GRADUAÇÃO  Acervo Circulante    1  2013                   5353\n",
       "4   ALUNO DE GRADUAÇÃO  Acervo Circulante    1  2014                  12476"
      ]
     },
     "execution_count": 393,
     "metadata": {},
     "output_type": "execute_result"
    }
   ],
   "source": [
    "alunos_graduacao = alunos_geral.query('tipo_vinculo_usuario == \"ALUNO DE GRADUAÇÃO\"')\n",
    "alunos_pos = alunos_geral.query('tipo_vinculo_usuario == \"ALUNO DE PÓS-GRADUAÇÃO\"')\n",
    "alunos_graduacao.reset_index(inplace=True, drop=True)\n",
    "alunos_pos.reset_index(inplace=True, drop=True)\n",
    "alunos_graduacao.head()"
   ]
  },
  {
   "cell_type": "code",
   "execution_count": 394,
   "id": "5d7689b5",
   "metadata": {},
   "outputs": [
    {
     "data": {
      "text/html": [
       "<div>\n",
       "<style scoped>\n",
       "    .dataframe tbody tr th:only-of-type {\n",
       "        vertical-align: middle;\n",
       "    }\n",
       "\n",
       "    .dataframe tbody tr th {\n",
       "        vertical-align: top;\n",
       "    }\n",
       "\n",
       "    .dataframe thead th {\n",
       "        text-align: right;\n",
       "    }\n",
       "</style>\n",
       "<table border=\"1\" class=\"dataframe\">\n",
       "  <thead>\n",
       "    <tr style=\"text-align: right;\">\n",
       "      <th></th>\n",
       "      <th>tipo_vinculo_usuario</th>\n",
       "      <th>colecao</th>\n",
       "      <th>mes</th>\n",
       "      <th>ano</th>\n",
       "      <th>quantidade_emprestimo</th>\n",
       "    </tr>\n",
       "  </thead>\n",
       "  <tbody>\n",
       "    <tr>\n",
       "      <th>0</th>\n",
       "      <td>ALUNO DE PÓS-GRADUAÇÃO</td>\n",
       "      <td>Acervo Circulante</td>\n",
       "      <td>1</td>\n",
       "      <td>2010</td>\n",
       "      <td>1105</td>\n",
       "    </tr>\n",
       "    <tr>\n",
       "      <th>1</th>\n",
       "      <td>ALUNO DE PÓS-GRADUAÇÃO</td>\n",
       "      <td>Acervo Circulante</td>\n",
       "      <td>1</td>\n",
       "      <td>2011</td>\n",
       "      <td>465</td>\n",
       "    </tr>\n",
       "    <tr>\n",
       "      <th>2</th>\n",
       "      <td>ALUNO DE PÓS-GRADUAÇÃO</td>\n",
       "      <td>Acervo Circulante</td>\n",
       "      <td>1</td>\n",
       "      <td>2012</td>\n",
       "      <td>1714</td>\n",
       "    </tr>\n",
       "    <tr>\n",
       "      <th>3</th>\n",
       "      <td>ALUNO DE PÓS-GRADUAÇÃO</td>\n",
       "      <td>Acervo Circulante</td>\n",
       "      <td>1</td>\n",
       "      <td>2013</td>\n",
       "      <td>1753</td>\n",
       "    </tr>\n",
       "    <tr>\n",
       "      <th>4</th>\n",
       "      <td>ALUNO DE PÓS-GRADUAÇÃO</td>\n",
       "      <td>Acervo Circulante</td>\n",
       "      <td>1</td>\n",
       "      <td>2014</td>\n",
       "      <td>2316</td>\n",
       "    </tr>\n",
       "  </tbody>\n",
       "</table>\n",
       "</div>"
      ],
      "text/plain": [
       "     tipo_vinculo_usuario            colecao  mes   ano  quantidade_emprestimo\n",
       "0  ALUNO DE PÓS-GRADUAÇÃO  Acervo Circulante    1  2010                   1105\n",
       "1  ALUNO DE PÓS-GRADUAÇÃO  Acervo Circulante    1  2011                    465\n",
       "2  ALUNO DE PÓS-GRADUAÇÃO  Acervo Circulante    1  2012                   1714\n",
       "3  ALUNO DE PÓS-GRADUAÇÃO  Acervo Circulante    1  2013                   1753\n",
       "4  ALUNO DE PÓS-GRADUAÇÃO  Acervo Circulante    1  2014                   2316"
      ]
     },
     "execution_count": 394,
     "metadata": {},
     "output_type": "execute_result"
    }
   ],
   "source": [
    "alunos_pos.head()"
   ]
  },
  {
   "cell_type": "code",
   "execution_count": 395,
   "id": "beeffa72",
   "metadata": {},
   "outputs": [
    {
     "data": {
      "text/html": [
       "<div>\n",
       "<style scoped>\n",
       "    .dataframe tbody tr th:only-of-type {\n",
       "        vertical-align: middle;\n",
       "    }\n",
       "\n",
       "    .dataframe tbody tr th {\n",
       "        vertical-align: top;\n",
       "    }\n",
       "\n",
       "    .dataframe thead th {\n",
       "        text-align: right;\n",
       "    }\n",
       "</style>\n",
       "<table border=\"1\" class=\"dataframe\">\n",
       "  <thead>\n",
       "    <tr style=\"text-align: right;\">\n",
       "      <th></th>\n",
       "      <th>quantidade_emprestimo</th>\n",
       "    </tr>\n",
       "    <tr>\n",
       "      <th>colecao</th>\n",
       "      <th></th>\n",
       "    </tr>\n",
       "  </thead>\n",
       "  <tbody>\n",
       "    <tr>\n",
       "      <th>Acervo Circulante</th>\n",
       "      <td>1600155</td>\n",
       "    </tr>\n",
       "    <tr>\n",
       "      <th>Multimeios</th>\n",
       "      <td>4652</td>\n",
       "    </tr>\n",
       "    <tr>\n",
       "      <th>Monografias</th>\n",
       "      <td>3572</td>\n",
       "    </tr>\n",
       "    <tr>\n",
       "      <th>Dissertações</th>\n",
       "      <td>1152</td>\n",
       "    </tr>\n",
       "    <tr>\n",
       "      <th>Obras de Referência</th>\n",
       "      <td>1047</td>\n",
       "    </tr>\n",
       "  </tbody>\n",
       "</table>\n",
       "</div>"
      ],
      "text/plain": [
       "                     quantidade_emprestimo\n",
       "colecao                                   \n",
       "Acervo Circulante                  1600155\n",
       "Multimeios                            4652\n",
       "Monografias                           3572\n",
       "Dissertações                          1152\n",
       "Obras de Referência                   1047"
      ]
     },
     "execution_count": 395,
     "metadata": {},
     "output_type": "execute_result"
    }
   ],
   "source": [
    "colecao_mais_emprestada = alunos_graduacao.copy()\n",
    "colecao_mais_emprestada = colecao_mais_emprestada[['colecao','quantidade_emprestimo']]\n",
    "colecao_mais_emprestada = colecao_mais_emprestada.groupby('colecao').sum().sort_values('quantidade_emprestimo', ascending=False)\n",
    "colecao_mais_emprestada.head()"
   ]
  },
  {
   "cell_type": "code",
   "execution_count": 396,
   "id": "28689d2e",
   "metadata": {},
   "outputs": [
    {
     "data": {
      "text/html": [
       "<div>\n",
       "<style scoped>\n",
       "    .dataframe tbody tr th:only-of-type {\n",
       "        vertical-align: middle;\n",
       "    }\n",
       "\n",
       "    .dataframe tbody tr th {\n",
       "        vertical-align: top;\n",
       "    }\n",
       "\n",
       "    .dataframe thead th {\n",
       "        text-align: right;\n",
       "    }\n",
       "</style>\n",
       "<table border=\"1\" class=\"dataframe\">\n",
       "  <thead>\n",
       "    <tr style=\"text-align: right;\">\n",
       "      <th></th>\n",
       "      <th>quantidade_emprestimo</th>\n",
       "    </tr>\n",
       "    <tr>\n",
       "      <th>colecao</th>\n",
       "      <th></th>\n",
       "    </tr>\n",
       "  </thead>\n",
       "  <tbody>\n",
       "    <tr>\n",
       "      <th>Acervo Circulante</th>\n",
       "      <td>299201</td>\n",
       "    </tr>\n",
       "    <tr>\n",
       "      <th>Dissertações</th>\n",
       "      <td>934</td>\n",
       "    </tr>\n",
       "    <tr>\n",
       "      <th>Obras de Referência</th>\n",
       "      <td>700</td>\n",
       "    </tr>\n",
       "    <tr>\n",
       "      <th>Multimeios</th>\n",
       "      <td>559</td>\n",
       "    </tr>\n",
       "    <tr>\n",
       "      <th>Teses</th>\n",
       "      <td>367</td>\n",
       "    </tr>\n",
       "  </tbody>\n",
       "</table>\n",
       "</div>"
      ],
      "text/plain": [
       "                     quantidade_emprestimo\n",
       "colecao                                   \n",
       "Acervo Circulante                   299201\n",
       "Dissertações                           934\n",
       "Obras de Referência                    700\n",
       "Multimeios                             559\n",
       "Teses                                  367"
      ]
     },
     "execution_count": 396,
     "metadata": {},
     "output_type": "execute_result"
    }
   ],
   "source": [
    "colecao_mais_emprestada = alunos_pos.copy()\n",
    "colecao_mais_emprestada = colecao_mais_emprestada[['colecao','quantidade_emprestimo']]\n",
    "colecao_mais_emprestada = colecao_mais_emprestada.groupby('colecao').sum().sort_values('quantidade_emprestimo', ascending=False)\n",
    "colecao_mais_emprestada.head()"
   ]
  },
  {
   "cell_type": "code",
   "execution_count": 397,
   "id": "52d639ad",
   "metadata": {},
   "outputs": [
    {
     "name": "stdout",
     "output_type": "stream",
     "text": [
      "<class 'pandas.core.frame.DataFrame'>\n",
      "Index: 247 entries, 0 to 123\n",
      "Data columns (total 4 columns):\n",
      " #   Column                 Non-Null Count  Dtype \n",
      "---  ------                 --------------  ----- \n",
      " 0   tipo_vinculo_usuario   247 non-null    object\n",
      " 1   mes                    247 non-null    int64 \n",
      " 2   ano                    247 non-null    int64 \n",
      " 3   quantidade_emprestimo  247 non-null    int64 \n",
      "dtypes: int64(3), object(1)\n",
      "memory usage: 9.6+ KB\n"
     ]
    }
   ],
   "source": [
    "alunos_graduacao = alunos_graduacao.query('colecao == \"Acervo Circulante\"')[['tipo_vinculo_usuario','mes', 'ano','quantidade_emprestimo']]\n",
    "alunos_pos = alunos_pos.query('colecao == \"Acervo Circulante\"')[['tipo_vinculo_usuario', 'mes', 'ano','quantidade_emprestimo']]\n",
    "\n",
    "alunos_geral = pd.concat([alunos_graduacao, alunos_pos], axis=0)\n",
    "alunos_geral.info()\n"
   ]
  },
  {
   "cell_type": "code",
   "execution_count": 398,
   "id": "7f3bfaa2",
   "metadata": {},
   "outputs": [],
   "source": [
    "def plot_graf(dados: pd.DataFrame, k = 0):\n",
    "    dados.reset_index(inplace=True, drop=True)\n",
    "    dados.columns = ['tipo_vinculo_usuario', 'mes', 'ano', 'quantidade_emprestimo']\n",
    "    fig, ax = plt.subplots(2,1, figsize= (20,20))\n",
    "\n",
    "    for i in range(2):\n",
    "        dados_ano = dados.copy()\n",
    "\n",
    "        if i == 0:\n",
    "            dados_ano = dados_ano.query('tipo_vinculo_usuario == \"ALUNO DE GRADUAÇÃO\"')[['mes', 'ano', 'quantidade_emprestimo']]\n",
    "            titulo = 'Dos alunos de graduação'\n",
    "        else:\n",
    "            dados_ano = dados_ano.query('tipo_vinculo_usuario == \"ALUNO DE PÓS-GRADUAÇÃO\"')[['mes', 'ano', 'quantidade_emprestimo']]\n",
    "            titulo = 'Dos alunos de pós-graduação'\n",
    "    \n",
    "        sns.boxplot(data=dados_ano, x='ano', y='quantidade_emprestimo', ax=ax[i])\n",
    "        ax[i].set_title(titulo)\n",
    "        ax[i].set_xlabel('')\n",
    "        ax[i].set_ylabel('')\n",
    "        \n",
    "    return fig, ax"
   ]
  },
  {
   "cell_type": "code",
   "execution_count": 399,
   "id": "cfba3571",
   "metadata": {},
   "outputs": [
    {
     "data": {
      "image/png": "[encoded data removed]",
      "text/plain": [
       "<Figure size 2000x2000 with 2 Axes>"
      ]
     },
     "metadata": {},
     "output_type": "display_data"
    }
   ],
   "source": [
    "fig, ax1 = plot_graf(alunos_geral)\n",
    "\n",
    "plt.show()"
   ]
  },
  {
   "cell_type": "code",
   "execution_count": 400,
   "id": "e14ec5df",
   "metadata": {},
   "outputs": [
    {
     "data": {
      "text/html": [
       "<div>\n",
       "<style scoped>\n",
       "    .dataframe tbody tr th:only-of-type {\n",
       "        vertical-align: middle;\n",
       "    }\n",
       "\n",
       "    .dataframe tbody tr th {\n",
       "        vertical-align: top;\n",
       "    }\n",
       "\n",
       "    .dataframe thead th {\n",
       "        text-align: right;\n",
       "    }\n",
       "</style>\n",
       "<table border=\"1\" class=\"dataframe\">\n",
       "  <thead>\n",
       "    <tr style=\"text-align: right;\">\n",
       "      <th></th>\n",
       "      <th>diferenca_emprestimos</th>\n",
       "    </tr>\n",
       "  </thead>\n",
       "  <tbody>\n",
       "    <tr>\n",
       "      <th>0</th>\n",
       "      <td>1891</td>\n",
       "    </tr>\n",
       "    <tr>\n",
       "      <th>1</th>\n",
       "      <td>344</td>\n",
       "    </tr>\n",
       "    <tr>\n",
       "      <th>2</th>\n",
       "      <td>3273</td>\n",
       "    </tr>\n",
       "    <tr>\n",
       "      <th>3</th>\n",
       "      <td>3600</td>\n",
       "    </tr>\n",
       "    <tr>\n",
       "      <th>4</th>\n",
       "      <td>10160</td>\n",
       "    </tr>\n",
       "    <tr>\n",
       "      <th>...</th>\n",
       "      <td>...</td>\n",
       "    </tr>\n",
       "    <tr>\n",
       "      <th>119</th>\n",
       "      <td>2625</td>\n",
       "    </tr>\n",
       "    <tr>\n",
       "      <th>120</th>\n",
       "      <td>1932</td>\n",
       "    </tr>\n",
       "    <tr>\n",
       "      <th>121</th>\n",
       "      <td>2337</td>\n",
       "    </tr>\n",
       "    <tr>\n",
       "      <th>122</th>\n",
       "      <td>598</td>\n",
       "    </tr>\n",
       "    <tr>\n",
       "      <th>123</th>\n",
       "      <td>-1069</td>\n",
       "    </tr>\n",
       "  </tbody>\n",
       "</table>\n",
       "<p>124 rows × 1 columns</p>\n",
       "</div>"
      ],
      "text/plain": [
       "     diferenca_emprestimos\n",
       "0                     1891\n",
       "1                      344\n",
       "2                     3273\n",
       "3                     3600\n",
       "4                    10160\n",
       "..                     ...\n",
       "119                   2625\n",
       "120                   1932\n",
       "121                   2337\n",
       "122                    598\n",
       "123                  -1069\n",
       "\n",
       "[124 rows x 1 columns]"
      ]
     },
     "execution_count": 400,
     "metadata": {},
     "output_type": "execute_result"
    }
   ],
   "source": [
    "diferenca_emprestimos = alunos_graduacao['quantidade_emprestimo'].copy() - alunos_pos['quantidade_emprestimo'].copy()\n",
    "diferenca_emprestimos.fillna(value=(-alunos_pos['quantidade_emprestimo']), inplace=True)\n",
    "diferenca_emprestimos = diferenca_emprestimos.astype(int)\n",
    "diferenca_emprestimos = pd.DataFrame({'diferenca_emprestimos': diferenca_emprestimos})\n",
    "diferenca_emprestimos"
   ]
  },
  {
   "cell_type": "markdown",
   "id": "4cec444d",
   "metadata": {},
   "source": [
    "## Dia 6\n",
    "\n",
    "As instituições de ensino superior (IES) têm a necessidade de passar por avaliações do Ministério da Educação (MEC) para que possam ofertar e continuar ofertando cursos de graduação e pós-graduação.\n",
    "\n",
    "A biblioteca universitária faz parte de um dos indicadores da avaliação dos cursos, em principalmente três aspectos: acervo, infraestrutura e serviços.\n",
    "\n",
    "Dentre os serviços, são avaliados se existem recursos de bases referenciais para pesquisa, se há treinamentos para os usuários utilizarem os materiais, e a presença de indicadores sobre o uso dos materiais do acervo (empréstimos, consultas) dentre outros tópicos.\n",
    "\n",
    "Por este motivo, no desafio de hoje, você precisaremos de novas métricas em relação aos empréstimos, de acordo com os cursos.\n",
    "\n",
    "Precisararemos calcular a quantidade de empréstimos realizados entre 2015 e 2020 por cada curso de graduação que passará pela avaliação. Os cursos serão:\n",
    "\n",
    "- **Biblioteconomia**\n",
    "\n",
    "- **Ciências sociais**\n",
    "\n",
    "- **Comunicação social**\n",
    "\n",
    "- **Direito**\n",
    "\n",
    "- **Filosofia**\n",
    "\n",
    "- **Pedagogia**\n",
    "\n",
    "Geraremos uma tabela com as seguintes características:\n",
    "\n",
    "- Índice: Cursos\n",
    "\n",
    "- Colunas: Ano\n",
    "\n",
    "- Valores: Quantidade de empréstimos\n",
    "\n",
    "- Total: Acrescente uma linha e uma coluna de total a tabela"
   ]
  },
  {
   "cell_type": "code",
   "execution_count": 401,
   "id": "667a5338",
   "metadata": {},
   "outputs": [
    {
     "name": "stdout",
     "output_type": "stream",
     "text": [
      "<class 'pandas.core.frame.DataFrame'>\n",
      "RangeIndex: 7727 entries, 0 to 7726\n",
      "Data columns (total 3 columns):\n",
      " #   Column                        Non-Null Count  Dtype \n",
      "---  ------                        --------------  ----- \n",
      " 0   Matricula de alunos até 2010  7727 non-null   object\n",
      " 1   Unnamed: 1                    7727 non-null   object\n",
      " 2   Unnamed: 2                    7727 non-null   object\n",
      "dtypes: object(3)\n",
      "memory usage: 181.2+ KB\n"
     ]
    }
   ],
   "source": [
    "matricula_alunos_ate = pd.read_excel('matricula_alunos.xlsx', sheet_name='Até 2010')\n",
    "matricula_alunos_ate.info()"
   ]
  },
  {
   "cell_type": "code",
   "execution_count": 402,
   "id": "e53dc31b",
   "metadata": {},
   "outputs": [
    {
     "name": "stdout",
     "output_type": "stream",
     "text": [
      "<class 'pandas.core.frame.DataFrame'>\n",
      "RangeIndex: 2275 entries, 0 to 2274\n",
      "Data columns (total 3 columns):\n",
      " #   Column                         Non-Null Count  Dtype \n",
      "---  ------                         --------------  ----- \n",
      " 0   Matricula de alunos após 2010  2275 non-null   object\n",
      " 1   Unnamed: 1                     2275 non-null   object\n",
      " 2   Unnamed: 2                     2275 non-null   object\n",
      "dtypes: object(3)\n",
      "memory usage: 53.4+ KB\n"
     ]
    }
   ],
   "source": [
    "matricula_alunos_apos = pd.read_excel('matricula_alunos.xlsx', sheet_name='Após 2010')\n",
    "matricula_alunos_apos.info()"
   ]
  },
  {
   "cell_type": "code",
   "execution_count": 403,
   "id": "002d07e1",
   "metadata": {},
   "outputs": [
    {
     "name": "stdout",
     "output_type": "stream",
     "text": [
      "<class 'pandas.core.frame.DataFrame'>\n",
      "RangeIndex: 10002 entries, 0 to 10001\n",
      "Data columns (total 3 columns):\n",
      " #   Column                Non-Null Count  Dtype \n",
      "---  ------                --------------  ----- \n",
      " 0   matricula_ou_siape    10002 non-null  object\n",
      " 1   tipo_vinculo_usuario  10002 non-null  object\n",
      " 2   curso                 10002 non-null  object\n",
      "dtypes: object(3)\n",
      "memory usage: 234.6+ KB\n"
     ]
    }
   ],
   "source": [
    "matricula_alunos_ate.columns = ['matricula_ou_siape', 'tipo_vinculo_usuario', 'curso']\n",
    "matricula_alunos_apos.columns = ['matricula_ou_siape', 'tipo_vinculo_usuario', 'curso']\n",
    "matricula_alunos = pd.concat([matricula_alunos_ate, matricula_alunos_apos], axis=0, join='outer')\n",
    "matricula_alunos.reset_index(drop=True, inplace=True)\n",
    "matricula_alunos.info()"
   ]
  },
  {
   "cell_type": "code",
   "execution_count": 404,
   "id": "32a50369",
   "metadata": {},
   "outputs": [
    {
     "data": {
      "text/html": [
       "<div>\n",
       "<style scoped>\n",
       "    .dataframe tbody tr th:only-of-type {\n",
       "        vertical-align: middle;\n",
       "    }\n",
       "\n",
       "    .dataframe tbody tr th {\n",
       "        vertical-align: top;\n",
       "    }\n",
       "\n",
       "    .dataframe thead th {\n",
       "        text-align: right;\n",
       "    }\n",
       "</style>\n",
       "<table border=\"1\" class=\"dataframe\">\n",
       "  <thead>\n",
       "    <tr style=\"text-align: right;\">\n",
       "      <th></th>\n",
       "      <th>tipo_curso</th>\n",
       "      <th>registros</th>\n",
       "    </tr>\n",
       "  </thead>\n",
       "  <tbody>\n",
       "    <tr>\n",
       "      <th>0</th>\n",
       "      <td>GRADUACAO</td>\n",
       "      <td>[{\"matricula_ou_siape\": \"2009029003.0\", \"tipo_...</td>\n",
       "    </tr>\n",
       "    <tr>\n",
       "      <th>1</th>\n",
       "      <td>POSGRADUACAO</td>\n",
       "      <td>[{\"matricula_ou_siape\": \"2008112114.0\", \"tipo_...</td>\n",
       "    </tr>\n",
       "  </tbody>\n",
       "</table>\n",
       "</div>"
      ],
      "text/plain": [
       "     tipo_curso                                          registros\n",
       "0     GRADUACAO  [{\"matricula_ou_siape\": \"2009029003.0\", \"tipo_...\n",
       "1  POSGRADUACAO  [{\"matricula_ou_siape\": \"2008112114.0\", \"tipo_..."
      ]
     },
     "execution_count": 404,
     "metadata": {},
     "output_type": "execute_result"
    }
   ],
   "source": [
    "segunda_parte = pd.read_json('cadastro_alunos.json')\n",
    "segunda_parte.head()"
   ]
  },
  {
   "cell_type": "code",
   "execution_count": 405,
   "id": "723118fc",
   "metadata": {},
   "outputs": [
    {
     "name": "stderr",
     "output_type": "stream",
     "text": [
      "C:\\Users\\luizh\\AppData\\Local\\Temp\\ipykernel_9728\\768621267.py:1: FutureWarning:\n",
      "\n",
      "Passing literal json to 'read_json' is deprecated and will be removed in a future version. To read from a literal string, wrap it in a 'StringIO' object.\n",
      "\n"
     ]
    },
    {
     "data": {
      "text/html": [
       "<div>\n",
       "<style scoped>\n",
       "    .dataframe tbody tr th:only-of-type {\n",
       "        vertical-align: middle;\n",
       "    }\n",
       "\n",
       "    .dataframe tbody tr th {\n",
       "        vertical-align: top;\n",
       "    }\n",
       "\n",
       "    .dataframe thead th {\n",
       "        text-align: right;\n",
       "    }\n",
       "</style>\n",
       "<table border=\"1\" class=\"dataframe\">\n",
       "  <thead>\n",
       "    <tr style=\"text-align: right;\">\n",
       "      <th></th>\n",
       "      <th>matricula_ou_siape</th>\n",
       "      <th>tipo_vinculo_usuario</th>\n",
       "      <th>curso</th>\n",
       "    </tr>\n",
       "  </thead>\n",
       "  <tbody>\n",
       "    <tr>\n",
       "      <th>0</th>\n",
       "      <td>2009029003</td>\n",
       "      <td>ALUNO DE GRADUAÇÃO</td>\n",
       "      <td>FILOSOFIA</td>\n",
       "    </tr>\n",
       "    <tr>\n",
       "      <th>1</th>\n",
       "      <td>200617346</td>\n",
       "      <td>ALUNO DE GRADUAÇÃO</td>\n",
       "      <td>DIREITO</td>\n",
       "    </tr>\n",
       "    <tr>\n",
       "      <th>2</th>\n",
       "      <td>200746502</td>\n",
       "      <td>ALUNO DE GRADUAÇÃO</td>\n",
       "      <td>ENGENHARIA DE PETRÓLEO</td>\n",
       "    </tr>\n",
       "    <tr>\n",
       "      <th>3</th>\n",
       "      <td>200504968</td>\n",
       "      <td>ALUNO DE GRADUAÇÃO</td>\n",
       "      <td>ADMINISTRAÇÃO</td>\n",
       "    </tr>\n",
       "    <tr>\n",
       "      <th>4</th>\n",
       "      <td>200615572</td>\n",
       "      <td>ALUNO DE GRADUAÇÃO</td>\n",
       "      <td>CIÊNCIA DA COMPUTAÇÃO</td>\n",
       "    </tr>\n",
       "  </tbody>\n",
       "</table>\n",
       "</div>"
      ],
      "text/plain": [
       "   matricula_ou_siape tipo_vinculo_usuario                   curso\n",
       "0          2009029003   ALUNO DE GRADUAÇÃO               FILOSOFIA\n",
       "1           200617346   ALUNO DE GRADUAÇÃO                 DIREITO\n",
       "2           200746502   ALUNO DE GRADUAÇÃO  ENGENHARIA DE PETRÓLEO\n",
       "3           200504968   ALUNO DE GRADUAÇÃO           ADMINISTRAÇÃO\n",
       "4           200615572   ALUNO DE GRADUAÇÃO   CIÊNCIA DA COMPUTAÇÃO"
      ]
     },
     "execution_count": 405,
     "metadata": {},
     "output_type": "execute_result"
    }
   ],
   "source": [
    "segunda_parte = pd.read_json(segunda_parte['registros'][0])\n",
    "segunda_parte.head()"
   ]
  },
  {
   "cell_type": "code",
   "execution_count": 406,
   "id": "beef9e59",
   "metadata": {},
   "outputs": [
    {
     "name": "stdout",
     "output_type": "stream",
     "text": [
      "<class 'pandas.core.frame.DataFrame'>\n",
      "RangeIndex: 62802 entries, 0 to 62801\n",
      "Data columns (total 3 columns):\n",
      " #   Column                Non-Null Count  Dtype \n",
      "---  ------                --------------  ----- \n",
      " 0   matricula_ou_siape    62802 non-null  int64 \n",
      " 1   tipo_vinculo_usuario  62802 non-null  object\n",
      " 2   curso                 62802 non-null  object\n",
      "dtypes: int64(1), object(2)\n",
      "memory usage: 1.4+ MB\n"
     ]
    }
   ],
   "source": [
    "segunda_parte.info()"
   ]
  },
  {
   "cell_type": "code",
   "execution_count": 407,
   "id": "901ab366",
   "metadata": {},
   "outputs": [
    {
     "data": {
      "text/html": [
       "<div>\n",
       "<style scoped>\n",
       "    .dataframe tbody tr th:only-of-type {\n",
       "        vertical-align: middle;\n",
       "    }\n",
       "\n",
       "    .dataframe tbody tr th {\n",
       "        vertical-align: top;\n",
       "    }\n",
       "\n",
       "    .dataframe thead th {\n",
       "        text-align: right;\n",
       "    }\n",
       "</style>\n",
       "<table border=\"1\" class=\"dataframe\">\n",
       "  <thead>\n",
       "    <tr style=\"text-align: right;\">\n",
       "      <th></th>\n",
       "      <th>matricula_ou_siape</th>\n",
       "      <th>tipo_vinculo_usuario</th>\n",
       "      <th>curso</th>\n",
       "    </tr>\n",
       "  </thead>\n",
       "  <tbody>\n",
       "    <tr>\n",
       "      <th>0</th>\n",
       "      <td>2009029003.0</td>\n",
       "      <td>ALUNO DE GRADUAÇÃO</td>\n",
       "      <td>FILOSOFIA</td>\n",
       "    </tr>\n",
       "    <tr>\n",
       "      <th>1</th>\n",
       "      <td>200617346.0</td>\n",
       "      <td>ALUNO DE GRADUAÇÃO</td>\n",
       "      <td>DIREITO</td>\n",
       "    </tr>\n",
       "    <tr>\n",
       "      <th>2</th>\n",
       "      <td>200746502.0</td>\n",
       "      <td>ALUNO DE GRADUAÇÃO</td>\n",
       "      <td>ENGENHARIA DE PETRÓLEO</td>\n",
       "    </tr>\n",
       "    <tr>\n",
       "      <th>3</th>\n",
       "      <td>200504968.0</td>\n",
       "      <td>ALUNO DE GRADUAÇÃO</td>\n",
       "      <td>ADMINISTRAÇÃO</td>\n",
       "    </tr>\n",
       "    <tr>\n",
       "      <th>4</th>\n",
       "      <td>200615572.0</td>\n",
       "      <td>ALUNO DE GRADUAÇÃO</td>\n",
       "      <td>CIÊNCIA DA COMPUTAÇÃO</td>\n",
       "    </tr>\n",
       "  </tbody>\n",
       "</table>\n",
       "</div>"
      ],
      "text/plain": [
       "  matricula_ou_siape tipo_vinculo_usuario                   curso\n",
       "0       2009029003.0   ALUNO DE GRADUAÇÃO               FILOSOFIA\n",
       "1        200617346.0   ALUNO DE GRADUAÇÃO                 DIREITO\n",
       "2        200746502.0   ALUNO DE GRADUAÇÃO  ENGENHARIA DE PETRÓLEO\n",
       "3        200504968.0   ALUNO DE GRADUAÇÃO           ADMINISTRAÇÃO\n",
       "4        200615572.0   ALUNO DE GRADUAÇÃO   CIÊNCIA DA COMPUTAÇÃO"
      ]
     },
     "execution_count": 407,
     "metadata": {},
     "output_type": "execute_result"
    }
   ],
   "source": [
    "segunda_parte['matricula_ou_siape'] = segunda_parte['matricula_ou_siape'].astype(float)\n",
    "segunda_parte['matricula_ou_siape'] = segunda_parte['matricula_ou_siape'].astype('string')\n",
    "segunda_parte.head()"
   ]
  },
  {
   "cell_type": "code",
   "execution_count": 408,
   "id": "a8808056",
   "metadata": {},
   "outputs": [
    {
     "name": "stdout",
     "output_type": "stream",
     "text": [
      "<class 'pandas.core.frame.DataFrame'>\n",
      "RangeIndex: 72804 entries, 0 to 72803\n",
      "Data columns (total 3 columns):\n",
      " #   Column                Non-Null Count  Dtype \n",
      "---  ------                --------------  ----- \n",
      " 0   matricula_ou_siape    72804 non-null  object\n",
      " 1   tipo_vinculo_usuario  72804 non-null  object\n",
      " 2   curso                 72804 non-null  object\n",
      "dtypes: object(3)\n",
      "memory usage: 1.7+ MB\n"
     ]
    }
   ],
   "source": [
    "matricula_alunos = pd.concat([matricula_alunos, segunda_parte], axis=0, join='outer')\n",
    "matricula_alunos.reset_index(drop=True, inplace=True)\n",
    "matricula_alunos.info()"
   ]
  },
  {
   "cell_type": "code",
   "execution_count": 409,
   "id": "e8d38ebd",
   "metadata": {},
   "outputs": [
    {
     "data": {
      "text/plain": [
       "id_emprestimo              0\n",
       "id_exemplar           159579\n",
       "data_emprestimo            0\n",
       "matricula_ou_siape       108\n",
       "dtype: int64"
      ]
     },
     "execution_count": 409,
     "metadata": {},
     "output_type": "execute_result"
    }
   ],
   "source": [
    "matricula_alunos_emprestimos = emprestimos.copy()\n",
    "matricula_alunos_emprestimos = matricula_alunos_emprestimos.query('tipo_vinculo_usuario == \"ALUNO DE GRADUAÇÃO\"')[['id_emprestimo','id_exemplar','data_emprestimo','matricula_ou_siape']]\n",
    "matricula_alunos_emprestimos.isna().sum()"
   ]
  },
  {
   "cell_type": "code",
   "execution_count": 410,
   "id": "10dbcd0b",
   "metadata": {},
   "outputs": [
    {
     "data": {
      "text/plain": [
       "id_emprestimo         0\n",
       "id_exemplar           0\n",
       "data_emprestimo       0\n",
       "matricula_ou_siape    0\n",
       "dtype: int64"
      ]
     },
     "execution_count": 410,
     "metadata": {},
     "output_type": "execute_result"
    }
   ],
   "source": [
    "matricula_alunos_emprestimos.dropna(inplace=True)\n",
    "matricula_alunos_emprestimos.isna().sum()"
   ]
  },
  {
   "cell_type": "code",
   "execution_count": 411,
   "id": "73540e22",
   "metadata": {},
   "outputs": [
    {
     "name": "stdout",
     "output_type": "stream",
     "text": [
      "<class 'pandas.core.frame.DataFrame'>\n",
      "RangeIndex: 1613551 entries, 0 to 1613550\n",
      "Data columns (total 6 columns):\n",
      " #   Column                Non-Null Count    Dtype  \n",
      "---  ------                --------------    -----  \n",
      " 0   id_emprestimo         1612229 non-null  float64\n",
      " 1   id_exemplar           1612229 non-null  float64\n",
      " 2   data_emprestimo       1612229 non-null  object \n",
      " 3   matricula_ou_siape    1613551 non-null  object \n",
      " 4   tipo_vinculo_usuario  1613534 non-null  object \n",
      " 5   curso                 1613534 non-null  object \n",
      "dtypes: float64(2), object(4)\n",
      "memory usage: 73.9+ MB\n"
     ]
    }
   ],
   "source": [
    "\n",
    "matricula_alunos_emprestimos = pd.merge(left=matricula_alunos_emprestimos, right=matricula_alunos, how='outer')\n",
    "matricula_alunos_emprestimos.info()"
   ]
  },
  {
   "cell_type": "code",
   "execution_count": 412,
   "id": "bfe7a599",
   "metadata": {},
   "outputs": [
    {
     "data": {
      "text/plain": [
       "id_emprestimo      1322\n",
       "id_exemplar        1322\n",
       "data_emprestimo    1322\n",
       "curso                17\n",
       "dtype: int64"
      ]
     },
     "execution_count": 412,
     "metadata": {},
     "output_type": "execute_result"
    }
   ],
   "source": [
    "tabela_cursos = matricula_alunos_emprestimos[['id_emprestimo', 'id_exemplar', 'data_emprestimo', 'curso']].copy()\n",
    "tabela_cursos.isna().sum()"
   ]
  },
  {
   "cell_type": "code",
   "execution_count": 413,
   "id": "6d7eaf2e",
   "metadata": {},
   "outputs": [
    {
     "data": {
      "text/plain": [
       "id_emprestimo      0\n",
       "id_exemplar        0\n",
       "data_emprestimo    0\n",
       "curso              0\n",
       "dtype: int64"
      ]
     },
     "execution_count": 413,
     "metadata": {},
     "output_type": "execute_result"
    }
   ],
   "source": [
    "tabela_cursos.dropna(inplace=True)\n",
    "tabela_cursos.isna().sum()"
   ]
  },
  {
   "cell_type": "code",
   "execution_count": 414,
   "id": "8b03a50d",
   "metadata": {},
   "outputs": [
    {
     "data": {
      "text/html": [
       "<div>\n",
       "<style scoped>\n",
       "    .dataframe tbody tr th:only-of-type {\n",
       "        vertical-align: middle;\n",
       "    }\n",
       "\n",
       "    .dataframe tbody tr th {\n",
       "        vertical-align: top;\n",
       "    }\n",
       "\n",
       "    .dataframe thead th {\n",
       "        text-align: right;\n",
       "    }\n",
       "</style>\n",
       "<table border=\"1\" class=\"dataframe\">\n",
       "  <thead>\n",
       "    <tr style=\"text-align: right;\">\n",
       "      <th></th>\n",
       "      <th>id_emprestimo</th>\n",
       "      <th>id_exemplar</th>\n",
       "      <th>data_emprestimo</th>\n",
       "      <th>curso</th>\n",
       "      <th>ano</th>\n",
       "    </tr>\n",
       "  </thead>\n",
       "  <tbody>\n",
       "    <tr>\n",
       "      <th>0</th>\n",
       "      <td>1772828.0</td>\n",
       "      <td>777126.0</td>\n",
       "      <td>2014-06-30 19:12:18.267</td>\n",
       "      <td>ADMINISTRAÇÃO</td>\n",
       "      <td>2014</td>\n",
       "    </tr>\n",
       "    <tr>\n",
       "      <th>1</th>\n",
       "      <td>1814602.0</td>\n",
       "      <td>978293.0</td>\n",
       "      <td>2014-08-26 14:18:31.886</td>\n",
       "      <td>ADMINISTRAÇÃO</td>\n",
       "      <td>2014</td>\n",
       "    </tr>\n",
       "    <tr>\n",
       "      <th>2</th>\n",
       "      <td>1866299.0</td>\n",
       "      <td>810597.0</td>\n",
       "      <td>2014-10-29 11:46:19.166</td>\n",
       "      <td>ADMINISTRAÇÃO</td>\n",
       "      <td>2014</td>\n",
       "    </tr>\n",
       "    <tr>\n",
       "      <th>3</th>\n",
       "      <td>1866300.0</td>\n",
       "      <td>810609.0</td>\n",
       "      <td>2014-10-29 11:46:19.457</td>\n",
       "      <td>ADMINISTRAÇÃO</td>\n",
       "      <td>2014</td>\n",
       "    </tr>\n",
       "    <tr>\n",
       "      <th>4</th>\n",
       "      <td>1869361.0</td>\n",
       "      <td>810597.0</td>\n",
       "      <td>2014-10-31 20:14:56.621</td>\n",
       "      <td>ADMINISTRAÇÃO</td>\n",
       "      <td>2014</td>\n",
       "    </tr>\n",
       "  </tbody>\n",
       "</table>\n",
       "</div>"
      ],
      "text/plain": [
       "   id_emprestimo  id_exemplar         data_emprestimo          curso   ano\n",
       "0      1772828.0     777126.0 2014-06-30 19:12:18.267  ADMINISTRAÇÃO  2014\n",
       "1      1814602.0     978293.0 2014-08-26 14:18:31.886  ADMINISTRAÇÃO  2014\n",
       "2      1866299.0     810597.0 2014-10-29 11:46:19.166  ADMINISTRAÇÃO  2014\n",
       "3      1866300.0     810609.0 2014-10-29 11:46:19.457  ADMINISTRAÇÃO  2014\n",
       "4      1869361.0     810597.0 2014-10-31 20:14:56.621  ADMINISTRAÇÃO  2014"
      ]
     },
     "execution_count": 414,
     "metadata": {},
     "output_type": "execute_result"
    }
   ],
   "source": [
    "tabela_cursos['data_emprestimo'] = pd.to_datetime(tabela_cursos['data_emprestimo'])\n",
    "tabela_cursos['ano'] = tabela_cursos['data_emprestimo'].dt.year.astype(int)\n",
    "\n",
    "tabela_cursos.head()"
   ]
  },
  {
   "cell_type": "code",
   "execution_count": 415,
   "id": "6c32f6c4",
   "metadata": {},
   "outputs": [
    {
     "data": {
      "text/plain": [
       "array(['ADMINISTRAÇÃO', 'FILOSOFIA', 'MATEMÁTICA', 'CIÊNCIAS BIOLÓGICAS',\n",
       "       'EDUCAÇÃO FÍSICA', 'LETRAS', 'ENGENHARIA DE PETRÓLEO', 'ECOLOGIA',\n",
       "       'ENGENHARIA AMBIENTAL', 'BIOMEDICINA', 'CIÊNCIAS E TECNOLOGIA',\n",
       "       'CIÊNCIA DA COMPUTAÇÃO', 'DIREITO', 'ENGENHARIA CIVIL',\n",
       "       'BIBLIOTECONOMIA', 'SISTEMAS DE INFORMAÇÃO', 'CIÊNCIAS SOCIAIS',\n",
       "       'COMUNICAÇÃO SOCIAL', 'ANÁLISE E DESENVOLVIMENTO DE SISTEMAS',\n",
       "       'NUTRIÇÃO', 'GEOGRAFIA', 'ENGENHARIA DA COMPUTAÇÃO', 'TURISMO',\n",
       "       'CIÊNCIAS ATUARIAIS', 'HISTÓRIA', 'DANÇA', 'ENGENHARIA QUÍMICA',\n",
       "       'MÚSICA', 'ENFERMAGEM', 'ENGENHARIA FLORESTAL', 'AGRONOMIA',\n",
       "       'ARQUITETURA E URBANISMO', 'FISIOTERAPIA', 'PEDAGOGIA'],\n",
       "      dtype=object)"
      ]
     },
     "execution_count": 415,
     "metadata": {},
     "output_type": "execute_result"
    }
   ],
   "source": [
    "tabela_cursos['curso'].unique()"
   ]
  },
  {
   "cell_type": "code",
   "execution_count": 416,
   "id": "22dc584b",
   "metadata": {},
   "outputs": [
    {
     "data": {
      "text/plain": [
       "array(['FILOSOFIA', 'BIBLIOTECONOMIA', 'CIÊNCIAS SOCIAIS',\n",
       "       'COMUNICAÇÃO SOCIAL', 'DIREITO', 'PEDAGOGIA'], dtype=object)"
      ]
     },
     "execution_count": 416,
     "metadata": {},
     "output_type": "execute_result"
    }
   ],
   "source": [
    "colunas = ['BIBLIOTECONOMIA', 'CIÊNCIAS SOCIAIS', 'COMUNICAÇÃO SOCIAL', 'DIREITO', 'FILOSOFIA', 'PEDAGOGIA']\n",
    "tabela_cursos = tabela_cursos.query('ano >= 2015 & curso == @colunas')\n",
    "\n",
    "tabela_cursos['curso'].unique()"
   ]
  },
  {
   "cell_type": "code",
   "execution_count": 417,
   "id": "a98cf9d1",
   "metadata": {},
   "outputs": [
    {
     "data": {
      "text/plain": [
       "array([2016, 2018, 2017, 2015, 2019, 2020])"
      ]
     },
     "execution_count": 417,
     "metadata": {},
     "output_type": "execute_result"
    }
   ],
   "source": [
    "tabela_cursos['ano'].unique()"
   ]
  },
  {
   "cell_type": "code",
   "execution_count": 418,
   "id": "77345665",
   "metadata": {},
   "outputs": [
    {
     "data": {
      "text/html": [
       "<div>\n",
       "<style scoped>\n",
       "    .dataframe tbody tr th:only-of-type {\n",
       "        vertical-align: middle;\n",
       "    }\n",
       "\n",
       "    .dataframe tbody tr th {\n",
       "        vertical-align: top;\n",
       "    }\n",
       "\n",
       "    .dataframe thead th {\n",
       "        text-align: right;\n",
       "    }\n",
       "</style>\n",
       "<table border=\"1\" class=\"dataframe\">\n",
       "  <thead>\n",
       "    <tr style=\"text-align: right;\">\n",
       "      <th></th>\n",
       "      <th>id_emprestimo</th>\n",
       "      <th>id_exemplar</th>\n",
       "      <th>data_emprestimo</th>\n",
       "      <th>curso</th>\n",
       "      <th>ano</th>\n",
       "    </tr>\n",
       "  </thead>\n",
       "  <tbody>\n",
       "    <tr>\n",
       "      <th>40</th>\n",
       "      <td>2256597.0</td>\n",
       "      <td>1047898.0</td>\n",
       "      <td>2016-07-27 21:07:37.692</td>\n",
       "      <td>FILOSOFIA</td>\n",
       "      <td>2016</td>\n",
       "    </tr>\n",
       "    <tr>\n",
       "      <th>41</th>\n",
       "      <td>2268410.0</td>\n",
       "      <td>1047897.0</td>\n",
       "      <td>2016-08-10 21:04:24.159</td>\n",
       "      <td>FILOSOFIA</td>\n",
       "      <td>2016</td>\n",
       "    </tr>\n",
       "    <tr>\n",
       "      <th>42</th>\n",
       "      <td>2268411.0</td>\n",
       "      <td>1090247.0</td>\n",
       "      <td>2016-08-10 21:04:24.421</td>\n",
       "      <td>FILOSOFIA</td>\n",
       "      <td>2016</td>\n",
       "    </tr>\n",
       "    <tr>\n",
       "      <th>43</th>\n",
       "      <td>2268412.0</td>\n",
       "      <td>1222054.0</td>\n",
       "      <td>2016-08-10 21:04:24.738</td>\n",
       "      <td>FILOSOFIA</td>\n",
       "      <td>2016</td>\n",
       "    </tr>\n",
       "    <tr>\n",
       "      <th>44</th>\n",
       "      <td>2292558.0</td>\n",
       "      <td>965646.0</td>\n",
       "      <td>2016-09-08 15:18:18.598</td>\n",
       "      <td>FILOSOFIA</td>\n",
       "      <td>2016</td>\n",
       "    </tr>\n",
       "  </tbody>\n",
       "</table>\n",
       "</div>"
      ],
      "text/plain": [
       "    id_emprestimo  id_exemplar         data_emprestimo      curso   ano\n",
       "40      2256597.0    1047898.0 2016-07-27 21:07:37.692  FILOSOFIA  2016\n",
       "41      2268410.0    1047897.0 2016-08-10 21:04:24.159  FILOSOFIA  2016\n",
       "42      2268411.0    1090247.0 2016-08-10 21:04:24.421  FILOSOFIA  2016\n",
       "43      2268412.0    1222054.0 2016-08-10 21:04:24.738  FILOSOFIA  2016\n",
       "44      2292558.0     965646.0 2016-09-08 15:18:18.598  FILOSOFIA  2016"
      ]
     },
     "execution_count": 418,
     "metadata": {},
     "output_type": "execute_result"
    }
   ],
   "source": [
    "tabela_cursos.head()"
   ]
  },
  {
   "cell_type": "code",
   "execution_count": 419,
   "id": "c7072f3b",
   "metadata": {},
   "outputs": [
    {
     "data": {
      "text/html": [
       "<div>\n",
       "<style scoped>\n",
       "    .dataframe tbody tr th:only-of-type {\n",
       "        vertical-align: middle;\n",
       "    }\n",
       "\n",
       "    .dataframe tbody tr th {\n",
       "        vertical-align: top;\n",
       "    }\n",
       "\n",
       "    .dataframe thead th {\n",
       "        text-align: right;\n",
       "    }\n",
       "</style>\n",
       "<table border=\"1\" class=\"dataframe\">\n",
       "  <thead>\n",
       "    <tr style=\"text-align: right;\">\n",
       "      <th></th>\n",
       "      <th>quantidade_emprestimo</th>\n",
       "      <th>curso</th>\n",
       "      <th>ano</th>\n",
       "    </tr>\n",
       "  </thead>\n",
       "  <tbody>\n",
       "    <tr>\n",
       "      <th>40</th>\n",
       "      <td>1</td>\n",
       "      <td>FILOSOFIA</td>\n",
       "      <td>2016</td>\n",
       "    </tr>\n",
       "    <tr>\n",
       "      <th>41</th>\n",
       "      <td>1</td>\n",
       "      <td>FILOSOFIA</td>\n",
       "      <td>2016</td>\n",
       "    </tr>\n",
       "    <tr>\n",
       "      <th>42</th>\n",
       "      <td>1</td>\n",
       "      <td>FILOSOFIA</td>\n",
       "      <td>2016</td>\n",
       "    </tr>\n",
       "    <tr>\n",
       "      <th>43</th>\n",
       "      <td>1</td>\n",
       "      <td>FILOSOFIA</td>\n",
       "      <td>2016</td>\n",
       "    </tr>\n",
       "    <tr>\n",
       "      <th>44</th>\n",
       "      <td>1</td>\n",
       "      <td>FILOSOFIA</td>\n",
       "      <td>2016</td>\n",
       "    </tr>\n",
       "    <tr>\n",
       "      <th>...</th>\n",
       "      <td>...</td>\n",
       "      <td>...</td>\n",
       "      <td>...</td>\n",
       "    </tr>\n",
       "    <tr>\n",
       "      <th>1613527</th>\n",
       "      <td>1</td>\n",
       "      <td>PEDAGOGIA</td>\n",
       "      <td>2019</td>\n",
       "    </tr>\n",
       "    <tr>\n",
       "      <th>1613528</th>\n",
       "      <td>1</td>\n",
       "      <td>PEDAGOGIA</td>\n",
       "      <td>2019</td>\n",
       "    </tr>\n",
       "    <tr>\n",
       "      <th>1613529</th>\n",
       "      <td>1</td>\n",
       "      <td>PEDAGOGIA</td>\n",
       "      <td>2017</td>\n",
       "    </tr>\n",
       "    <tr>\n",
       "      <th>1613530</th>\n",
       "      <td>1</td>\n",
       "      <td>DIREITO</td>\n",
       "      <td>2019</td>\n",
       "    </tr>\n",
       "    <tr>\n",
       "      <th>1613531</th>\n",
       "      <td>1</td>\n",
       "      <td>DIREITO</td>\n",
       "      <td>2019</td>\n",
       "    </tr>\n",
       "  </tbody>\n",
       "</table>\n",
       "<p>212838 rows × 3 columns</p>\n",
       "</div>"
      ],
      "text/plain": [
       "         quantidade_emprestimo      curso   ano\n",
       "40                           1  FILOSOFIA  2016\n",
       "41                           1  FILOSOFIA  2016\n",
       "42                           1  FILOSOFIA  2016\n",
       "43                           1  FILOSOFIA  2016\n",
       "44                           1  FILOSOFIA  2016\n",
       "...                        ...        ...   ...\n",
       "1613527                      1  PEDAGOGIA  2019\n",
       "1613528                      1  PEDAGOGIA  2019\n",
       "1613529                      1  PEDAGOGIA  2017\n",
       "1613530                      1    DIREITO  2019\n",
       "1613531                      1    DIREITO  2019\n",
       "\n",
       "[212838 rows x 3 columns]"
      ]
     },
     "execution_count": 419,
     "metadata": {},
     "output_type": "execute_result"
    }
   ],
   "source": [
    "tabela_cursos.drop(columns=['id_emprestimo', 'id_exemplar'], inplace=True)\n",
    "tabela_cursos.columns = ['quantidade_emprestimo', 'curso', 'ano']\n",
    "tabela_cursos['quantidade_emprestimo'] = [1 for x in tabela_cursos['quantidade_emprestimo']]\n",
    "tabela_cursos"
   ]
  },
  {
   "cell_type": "code",
   "execution_count": 420,
   "id": "0855353c",
   "metadata": {},
   "outputs": [
    {
     "data": {
      "text/html": [
       "<div>\n",
       "<style scoped>\n",
       "    .dataframe tbody tr th:only-of-type {\n",
       "        vertical-align: middle;\n",
       "    }\n",
       "\n",
       "    .dataframe tbody tr th {\n",
       "        vertical-align: top;\n",
       "    }\n",
       "\n",
       "    .dataframe thead th {\n",
       "        text-align: right;\n",
       "    }\n",
       "</style>\n",
       "<table border=\"1\" class=\"dataframe\">\n",
       "  <thead>\n",
       "    <tr style=\"text-align: right;\">\n",
       "      <th>ano</th>\n",
       "      <th>2015</th>\n",
       "      <th>2016</th>\n",
       "      <th>2017</th>\n",
       "      <th>2018</th>\n",
       "      <th>2019</th>\n",
       "      <th>2020</th>\n",
       "      <th>Total</th>\n",
       "    </tr>\n",
       "    <tr>\n",
       "      <th>curso</th>\n",
       "      <th></th>\n",
       "      <th></th>\n",
       "      <th></th>\n",
       "      <th></th>\n",
       "      <th></th>\n",
       "      <th></th>\n",
       "      <th></th>\n",
       "    </tr>\n",
       "  </thead>\n",
       "  <tbody>\n",
       "    <tr>\n",
       "      <th>BIBLIOTECONOMIA</th>\n",
       "      <td>7784</td>\n",
       "      <td>7044</td>\n",
       "      <td>7307</td>\n",
       "      <td>6378</td>\n",
       "      <td>5889</td>\n",
       "      <td>900</td>\n",
       "      <td>35302</td>\n",
       "    </tr>\n",
       "    <tr>\n",
       "      <th>CIÊNCIAS SOCIAIS</th>\n",
       "      <td>7489</td>\n",
       "      <td>6978</td>\n",
       "      <td>6918</td>\n",
       "      <td>6181</td>\n",
       "      <td>5788</td>\n",
       "      <td>825</td>\n",
       "      <td>34179</td>\n",
       "    </tr>\n",
       "    <tr>\n",
       "      <th>COMUNICAÇÃO SOCIAL</th>\n",
       "      <td>7147</td>\n",
       "      <td>7973</td>\n",
       "      <td>8253</td>\n",
       "      <td>6953</td>\n",
       "      <td>5885</td>\n",
       "      <td>796</td>\n",
       "      <td>37007</td>\n",
       "    </tr>\n",
       "    <tr>\n",
       "      <th>DIREITO</th>\n",
       "      <td>7665</td>\n",
       "      <td>7363</td>\n",
       "      <td>7885</td>\n",
       "      <td>7027</td>\n",
       "      <td>5861</td>\n",
       "      <td>905</td>\n",
       "      <td>36706</td>\n",
       "    </tr>\n",
       "    <tr>\n",
       "      <th>FILOSOFIA</th>\n",
       "      <td>6950</td>\n",
       "      <td>7576</td>\n",
       "      <td>7389</td>\n",
       "      <td>6296</td>\n",
       "      <td>5572</td>\n",
       "      <td>832</td>\n",
       "      <td>34615</td>\n",
       "    </tr>\n",
       "    <tr>\n",
       "      <th>PEDAGOGIA</th>\n",
       "      <td>7189</td>\n",
       "      <td>7153</td>\n",
       "      <td>7434</td>\n",
       "      <td>6518</td>\n",
       "      <td>5869</td>\n",
       "      <td>866</td>\n",
       "      <td>35029</td>\n",
       "    </tr>\n",
       "    <tr>\n",
       "      <th>Total</th>\n",
       "      <td>44224</td>\n",
       "      <td>44087</td>\n",
       "      <td>45186</td>\n",
       "      <td>39353</td>\n",
       "      <td>34864</td>\n",
       "      <td>5124</td>\n",
       "      <td>212838</td>\n",
       "    </tr>\n",
       "  </tbody>\n",
       "</table>\n",
       "</div>"
      ],
      "text/plain": [
       "ano                  2015   2016   2017   2018   2019  2020   Total\n",
       "curso                                                              \n",
       "BIBLIOTECONOMIA      7784   7044   7307   6378   5889   900   35302\n",
       "CIÊNCIAS SOCIAIS     7489   6978   6918   6181   5788   825   34179\n",
       "COMUNICAÇÃO SOCIAL   7147   7973   8253   6953   5885   796   37007\n",
       "DIREITO              7665   7363   7885   7027   5861   905   36706\n",
       "FILOSOFIA            6950   7576   7389   6296   5572   832   34615\n",
       "PEDAGOGIA            7189   7153   7434   6518   5869   866   35029\n",
       "Total               44224  44087  45186  39353  34864  5124  212838"
      ]
     },
     "execution_count": 420,
     "metadata": {},
     "output_type": "execute_result"
    }
   ],
   "source": [
    "tabela_cursos = pd.crosstab(index=tabela_cursos['curso'], columns=tabela_cursos['ano'], values=tabela_cursos['quantidade_emprestimo'], aggfunc='sum', margins=True, margins_name='Total')\n",
    "tabela_cursos"
   ]
  },
  {
   "cell_type": "markdown",
   "id": "03bde111",
   "metadata": {},
   "source": [
    "## Dia 7\n",
    "\n",
    "A diretoria da biblioteca está montando um plano de ação de marketing focado nos alunos da pós-graduação. Para isso, precisaremos analisar a diferença percentual de empréstimos realizados nos últimos anos (2017, 2018, 2019,) para cada curso. Devido à pandemia do COVID-19, ela não poderá utilizar os dados de 2020 e 2021. Entretando um arquivo de análise de previsão de 2022 que foi realizado por um colega, possibilita realizar o comparativo entre 2019-2022.\n",
    "\n",
    "Precisaremos criar uma tabela com as diferenças percentuais de empréstimos entre 2017-2018, 2018-2019, 2019-2022.\n",
    "\n",
    "Porém, essa análise será disponibilizada em conjunto com outros dados, através de uma página da web, e a equipe de Front-end te solicitou que enviassem para eles o HTML da tabela.\n",
    "\n",
    "Eles precisam que ela tenha as seguintes características:\n",
    "\n",
    "- Não contenha numeração de índice;\n",
    "\n",
    "- Os nomes dos cursos tenham apenas a primeira letra maiúscula;\n",
    "\n",
    "- Os números percentuais estejam indicados pelo símbolo “%”;\n",
    "\n",
    "- Cor dos números: Positivos = Verde; Negativos = Vermelho\n",
    "\n",
    "Como adicional, a equipe de Front-end está com muito trabalho e talvez poderiamos auxiliá-los, um pouco mais, enviando para eles a tabela já com algumas estilizações do CSS prontas para adiantar o trabalho.\n",
    "\n",
    "O padrão inicial para as tabelas deste projeto será:\n",
    "\n",
    "\n",
    "**Cabeçalho**:\n",
    "\n",
    "- font-size = 1.4rem\n",
    "\n",
    "- text-align = center\n",
    "\n",
    "- font-weight = bold\n",
    "\n",
    "- color = whitesmoke\n",
    "\n",
    "- background-color = #001692\n",
    "\n",
    "- border-radius = 0.25rem\n",
    "\n",
    "- box-shadow = 0 0 1rem gray\n",
    " \n",
    "**Corpo**:\n",
    "\n",
    "- font-size = 1rem\n",
    "\n",
    "- padding = 0.5rem\n",
    "\n",
    "- text-align = left\n",
    "\n",
    "- font-weight = bold\n",
    "\n",
    "- border-bottom = 0.1rem solid lightgray"
   ]
  },
  {
   "cell_type": "code",
   "execution_count": 564,
   "id": "69198bc7",
   "metadata": {},
   "outputs": [
    {
     "name": "stdout",
     "output_type": "stream",
     "text": [
      "<class 'pandas.core.frame.DataFrame'>\n",
      "RangeIndex: 10002 entries, 0 to 10001\n",
      "Data columns (total 3 columns):\n",
      " #   Column                Non-Null Count  Dtype \n",
      "---  ------                --------------  ----- \n",
      " 0   matricula_ou_siape    10002 non-null  object\n",
      " 1   tipo_vinculo_usuario  10002 non-null  object\n",
      " 2   curso                 10002 non-null  object\n",
      "dtypes: object(3)\n",
      "memory usage: 234.6+ KB\n"
     ]
    }
   ],
   "source": [
    "diferenca_perc_ate = pd.read_excel('matricula_alunos.xlsx', sheet_name='Até 2010')\n",
    "diferenca_perc_apos = pd.read_excel('matricula_alunos.xlsx', sheet_name='Após 2010')\n",
    "\n",
    "diferenca_perc_ate.columns = ['matricula_ou_siape', 'tipo_vinculo_usuario', 'curso']\n",
    "diferenca_perc_apos.columns = ['matricula_ou_siape', 'tipo_vinculo_usuario', 'curso']\n",
    "\n",
    "diferenca_perc = pd.concat([diferenca_perc_ate, diferenca_perc_apos], axis=0, join='outer')\n",
    "diferenca_perc.reset_index(drop=True, inplace=True)\n",
    "\n",
    "diferenca_perc.info()"
   ]
  },
  {
   "cell_type": "code",
   "execution_count": 565,
   "id": "008b217b",
   "metadata": {},
   "outputs": [
    {
     "name": "stdout",
     "output_type": "stream",
     "text": [
      "<class 'pandas.core.frame.DataFrame'>\n",
      "RangeIndex: 19440 entries, 0 to 19439\n",
      "Data columns (total 3 columns):\n",
      " #   Column                Non-Null Count  Dtype \n",
      "---  ------                --------------  ----- \n",
      " 0   matricula_ou_siape    19440 non-null  string\n",
      " 1   tipo_vinculo_usuario  19440 non-null  object\n",
      " 2   curso                 19440 non-null  object\n",
      "dtypes: object(2), string(1)\n",
      "memory usage: 455.8+ KB\n"
     ]
    },
    {
     "name": "stderr",
     "output_type": "stream",
     "text": [
      "C:\\Users\\luizh\\AppData\\Local\\Temp\\ipykernel_9728\\1797718461.py:2: FutureWarning:\n",
      "\n",
      "Passing literal json to 'read_json' is deprecated and will be removed in a future version. To read from a literal string, wrap it in a 'StringIO' object.\n",
      "\n"
     ]
    }
   ],
   "source": [
    "segunda_parte = pd.read_json('cadastro_alunos.json')\n",
    "segunda_parte = pd.read_json(segunda_parte['registros'][1])\n",
    "segunda_parte['matricula_ou_siape'] = segunda_parte['matricula_ou_siape'].astype(float)\n",
    "segunda_parte['matricula_ou_siape'] = segunda_parte['matricula_ou_siape'].astype('string')\n",
    "segunda_parte.info()"
   ]
  },
  {
   "cell_type": "code",
   "execution_count": 566,
   "id": "d73444ee",
   "metadata": {},
   "outputs": [
    {
     "data": {
      "text/html": [
       "<div>\n",
       "<style scoped>\n",
       "    .dataframe tbody tr th:only-of-type {\n",
       "        vertical-align: middle;\n",
       "    }\n",
       "\n",
       "    .dataframe tbody tr th {\n",
       "        vertical-align: top;\n",
       "    }\n",
       "\n",
       "    .dataframe thead th {\n",
       "        text-align: right;\n",
       "    }\n",
       "</style>\n",
       "<table border=\"1\" class=\"dataframe\">\n",
       "  <thead>\n",
       "    <tr style=\"text-align: right;\">\n",
       "      <th></th>\n",
       "      <th>matricula_ou_siape</th>\n",
       "      <th>tipo_vinculo_usuario</th>\n",
       "      <th>curso</th>\n",
       "    </tr>\n",
       "  </thead>\n",
       "  <tbody>\n",
       "    <tr>\n",
       "      <th>0</th>\n",
       "      <td>2008112114.0</td>\n",
       "      <td>ALUNO DE PÓS-GRADUAÇÃO</td>\n",
       "      <td>CIÊNCIAS ODONTOLÓGICAS</td>\n",
       "    </tr>\n",
       "    <tr>\n",
       "      <th>1</th>\n",
       "      <td>2008106583.0</td>\n",
       "      <td>ALUNO DE PÓS-GRADUAÇÃO</td>\n",
       "      <td>ENGENHARIA DE SOFTWARE</td>\n",
       "    </tr>\n",
       "    <tr>\n",
       "      <th>2</th>\n",
       "      <td>2011101417.0</td>\n",
       "      <td>ALUNO DE PÓS-GRADUAÇÃO</td>\n",
       "      <td>ARQUITETURA E URBANISMO</td>\n",
       "    </tr>\n",
       "    <tr>\n",
       "      <th>3</th>\n",
       "      <td>2011113122.0</td>\n",
       "      <td>ALUNO DE PÓS-GRADUAÇÃO</td>\n",
       "      <td>FILOSOFIA</td>\n",
       "    </tr>\n",
       "    <tr>\n",
       "      <th>4</th>\n",
       "      <td>2010110903.0</td>\n",
       "      <td>ALUNO DE PÓS-GRADUAÇÃO</td>\n",
       "      <td>ARTES CÊNICAS</td>\n",
       "    </tr>\n",
       "  </tbody>\n",
       "</table>\n",
       "</div>"
      ],
      "text/plain": [
       "  matricula_ou_siape    tipo_vinculo_usuario                    curso\n",
       "0       2008112114.0  ALUNO DE PÓS-GRADUAÇÃO   CIÊNCIAS ODONTOLÓGICAS\n",
       "1       2008106583.0  ALUNO DE PÓS-GRADUAÇÃO   ENGENHARIA DE SOFTWARE\n",
       "2       2011101417.0  ALUNO DE PÓS-GRADUAÇÃO  ARQUITETURA E URBANISMO\n",
       "3       2011113122.0  ALUNO DE PÓS-GRADUAÇÃO                FILOSOFIA\n",
       "4       2010110903.0  ALUNO DE PÓS-GRADUAÇÃO            ARTES CÊNICAS"
      ]
     },
     "execution_count": 566,
     "metadata": {},
     "output_type": "execute_result"
    }
   ],
   "source": [
    "segunda_parte.head()"
   ]
  },
  {
   "cell_type": "code",
   "execution_count": 567,
   "id": "1bafd896",
   "metadata": {},
   "outputs": [
    {
     "name": "stdout",
     "output_type": "stream",
     "text": [
      "<class 'pandas.core.frame.DataFrame'>\n",
      "RangeIndex: 29442 entries, 0 to 29441\n",
      "Data columns (total 3 columns):\n",
      " #   Column                Non-Null Count  Dtype \n",
      "---  ------                --------------  ----- \n",
      " 0   matricula_ou_siape    29442 non-null  object\n",
      " 1   tipo_vinculo_usuario  29442 non-null  object\n",
      " 2   curso                 29442 non-null  object\n",
      "dtypes: object(3)\n",
      "memory usage: 690.2+ KB\n"
     ]
    }
   ],
   "source": [
    "diferenca_perc = pd.concat([diferenca_perc, segunda_parte], axis=0, join='outer')\n",
    "diferenca_perc.reset_index(drop=True, inplace=True)\n",
    "diferenca_perc.info()"
   ]
  },
  {
   "cell_type": "code",
   "execution_count": 568,
   "id": "33d104fb",
   "metadata": {},
   "outputs": [
    {
     "name": "stdout",
     "output_type": "stream",
     "text": [
      "<class 'pandas.core.frame.DataFrame'>\n",
      "Index: 320074 entries, 2 to 2261777\n",
      "Data columns (total 4 columns):\n",
      " #   Column              Non-Null Count   Dtype  \n",
      "---  ------              --------------   -----  \n",
      " 0   id_emprestimo       320074 non-null  float64\n",
      " 1   id_exemplar         302541 non-null  float64\n",
      " 2   data_emprestimo     320074 non-null  object \n",
      " 3   matricula_ou_siape  319980 non-null  string \n",
      "dtypes: float64(2), object(1), string(1)\n",
      "memory usage: 12.2+ MB\n"
     ]
    }
   ],
   "source": [
    "diferenca_perc_emprestimos = emprestimos.copy()\n",
    "diferenca_perc_emprestimos = diferenca_perc_emprestimos.query('tipo_vinculo_usuario == \"ALUNO DE PÓS-GRADUAÇÃO\"')[['id_emprestimo','id_exemplar','data_emprestimo','matricula_ou_siape']]\n",
    "diferenca_perc_emprestimos.info()"
   ]
  },
  {
   "cell_type": "code",
   "execution_count": 569,
   "id": "2d8a1b2f",
   "metadata": {},
   "outputs": [
    {
     "data": {
      "text/plain": [
       "id_emprestimo             0\n",
       "id_exemplar           17533\n",
       "data_emprestimo           0\n",
       "matricula_ou_siape       94\n",
       "dtype: int64"
      ]
     },
     "execution_count": 569,
     "metadata": {},
     "output_type": "execute_result"
    }
   ],
   "source": [
    "diferenca_perc_emprestimos.isna().sum()"
   ]
  },
  {
   "cell_type": "code",
   "execution_count": 570,
   "id": "560d7507",
   "metadata": {},
   "outputs": [
    {
     "data": {
      "text/plain": [
       "id_emprestimo         0\n",
       "id_exemplar           0\n",
       "data_emprestimo       0\n",
       "matricula_ou_siape    0\n",
       "dtype: int64"
      ]
     },
     "execution_count": 570,
     "metadata": {},
     "output_type": "execute_result"
    }
   ],
   "source": [
    "diferenca_perc_emprestimos.dropna(inplace=True)\n",
    "diferenca_perc_emprestimos.isna().sum()"
   ]
  },
  {
   "cell_type": "code",
   "execution_count": 571,
   "id": "5a19b812",
   "metadata": {},
   "outputs": [
    {
     "data": {
      "text/html": [
       "<div>\n",
       "<style scoped>\n",
       "    .dataframe tbody tr th:only-of-type {\n",
       "        vertical-align: middle;\n",
       "    }\n",
       "\n",
       "    .dataframe tbody tr th {\n",
       "        vertical-align: top;\n",
       "    }\n",
       "\n",
       "    .dataframe thead th {\n",
       "        text-align: right;\n",
       "    }\n",
       "</style>\n",
       "<table border=\"1\" class=\"dataframe\">\n",
       "  <thead>\n",
       "    <tr style=\"text-align: right;\">\n",
       "      <th></th>\n",
       "      <th>matricula_ou_siape</th>\n",
       "      <th>tipo_vinculo_usuario</th>\n",
       "      <th>curso</th>\n",
       "      <th>id_emprestimo</th>\n",
       "      <th>id_exemplar</th>\n",
       "      <th>data_emprestimo</th>\n",
       "    </tr>\n",
       "  </thead>\n",
       "  <tbody>\n",
       "    <tr>\n",
       "      <th>0</th>\n",
       "      <td>190001688.0</td>\n",
       "      <td>ALUNO DE GRADUAÇÃO</td>\n",
       "      <td>MATEMÁTICA</td>\n",
       "      <td>NaN</td>\n",
       "      <td>NaN</td>\n",
       "      <td>NaN</td>\n",
       "    </tr>\n",
       "    <tr>\n",
       "      <th>1</th>\n",
       "      <td>199014489.0</td>\n",
       "      <td>ALUNO DE GRADUAÇÃO</td>\n",
       "      <td>CIÊNCIAS BIOLÓGICAS</td>\n",
       "      <td>NaN</td>\n",
       "      <td>NaN</td>\n",
       "      <td>NaN</td>\n",
       "    </tr>\n",
       "    <tr>\n",
       "      <th>2</th>\n",
       "      <td>199681635.0</td>\n",
       "      <td>ALUNO DE PÓS-GRADUAÇÃO</td>\n",
       "      <td>FILOSOFIA</td>\n",
       "      <td>716005.0</td>\n",
       "      <td>47215.0</td>\n",
       "      <td>2010/02/04 14:14:54.062000000</td>\n",
       "    </tr>\n",
       "    <tr>\n",
       "      <th>3</th>\n",
       "      <td>199681635.0</td>\n",
       "      <td>ALUNO DE PÓS-GRADUAÇÃO</td>\n",
       "      <td>FILOSOFIA</td>\n",
       "      <td>716006.0</td>\n",
       "      <td>145586.0</td>\n",
       "      <td>2010/02/04 14:14:54.172000000</td>\n",
       "    </tr>\n",
       "    <tr>\n",
       "      <th>4</th>\n",
       "      <td>199681635.0</td>\n",
       "      <td>ALUNO DE PÓS-GRADUAÇÃO</td>\n",
       "      <td>FILOSOFIA</td>\n",
       "      <td>716007.0</td>\n",
       "      <td>150911.0</td>\n",
       "      <td>2010/02/04 14:14:54.209000000</td>\n",
       "    </tr>\n",
       "  </tbody>\n",
       "</table>\n",
       "</div>"
      ],
      "text/plain": [
       "  matricula_ou_siape    tipo_vinculo_usuario                curso  \\\n",
       "0        190001688.0      ALUNO DE GRADUAÇÃO           MATEMÁTICA   \n",
       "1        199014489.0      ALUNO DE GRADUAÇÃO  CIÊNCIAS BIOLÓGICAS   \n",
       "2        199681635.0  ALUNO DE PÓS-GRADUAÇÃO            FILOSOFIA   \n",
       "3        199681635.0  ALUNO DE PÓS-GRADUAÇÃO            FILOSOFIA   \n",
       "4        199681635.0  ALUNO DE PÓS-GRADUAÇÃO            FILOSOFIA   \n",
       "\n",
       "   id_emprestimo  id_exemplar                data_emprestimo  \n",
       "0            NaN          NaN                            NaN  \n",
       "1            NaN          NaN                            NaN  \n",
       "2       716005.0      47215.0  2010/02/04 14:14:54.062000000  \n",
       "3       716006.0     145586.0  2010/02/04 14:14:54.172000000  \n",
       "4       716007.0     150911.0  2010/02/04 14:14:54.209000000  "
      ]
     },
     "execution_count": 571,
     "metadata": {},
     "output_type": "execute_result"
    }
   ],
   "source": [
    "diferenca_perc = pd.merge(left=diferenca_perc, right=diferenca_perc_emprestimos, how='outer')\n",
    "diferenca_perc.head()"
   ]
  },
  {
   "cell_type": "code",
   "execution_count": 572,
   "id": "ffb4d833",
   "metadata": {},
   "outputs": [
    {
     "data": {
      "text/plain": [
       "matricula_ou_siape          0\n",
       "tipo_vinculo_usuario       50\n",
       "curso                      50\n",
       "id_emprestimo           10178\n",
       "id_exemplar             10178\n",
       "data_emprestimo         10178\n",
       "dtype: int64"
      ]
     },
     "execution_count": 572,
     "metadata": {},
     "output_type": "execute_result"
    }
   ],
   "source": [
    "diferenca_perc.isna().sum()"
   ]
  },
  {
   "cell_type": "code",
   "execution_count": 573,
   "id": "17b44daa",
   "metadata": {},
   "outputs": [
    {
     "data": {
      "text/plain": [
       "matricula_ou_siape      0\n",
       "tipo_vinculo_usuario    0\n",
       "curso                   0\n",
       "id_emprestimo           0\n",
       "id_exemplar             0\n",
       "data_emprestimo         0\n",
       "dtype: int64"
      ]
     },
     "execution_count": 573,
     "metadata": {},
     "output_type": "execute_result"
    }
   ],
   "source": [
    "diferenca_perc.dropna(inplace=True)\n",
    "diferenca_perc.isna().sum()"
   ]
  },
  {
   "cell_type": "code",
   "execution_count": 574,
   "id": "3cbd7341",
   "metadata": {},
   "outputs": [
    {
     "name": "stdout",
     "output_type": "stream",
     "text": [
      "<class 'pandas.core.frame.DataFrame'>\n",
      "Index: 302403 entries, 2 to 312597\n",
      "Data columns (total 6 columns):\n",
      " #   Column                Non-Null Count   Dtype  \n",
      "---  ------                --------------   -----  \n",
      " 0   matricula_ou_siape    302403 non-null  object \n",
      " 1   tipo_vinculo_usuario  302403 non-null  object \n",
      " 2   curso                 302403 non-null  object \n",
      " 3   id_emprestimo         302403 non-null  float64\n",
      " 4   id_exemplar           302403 non-null  float64\n",
      " 5   data_emprestimo       302403 non-null  object \n",
      "dtypes: float64(2), object(4)\n",
      "memory usage: 16.2+ MB\n"
     ]
    }
   ],
   "source": [
    "diferenca_perc.info()"
   ]
  },
  {
   "cell_type": "code",
   "execution_count": 575,
   "id": "3659ec25",
   "metadata": {},
   "outputs": [
    {
     "data": {
      "text/html": [
       "<div>\n",
       "<style scoped>\n",
       "    .dataframe tbody tr th:only-of-type {\n",
       "        vertical-align: middle;\n",
       "    }\n",
       "\n",
       "    .dataframe tbody tr th {\n",
       "        vertical-align: top;\n",
       "    }\n",
       "\n",
       "    .dataframe thead th {\n",
       "        text-align: right;\n",
       "    }\n",
       "</style>\n",
       "<table border=\"1\" class=\"dataframe\">\n",
       "  <thead>\n",
       "    <tr style=\"text-align: right;\">\n",
       "      <th></th>\n",
       "      <th>curso</th>\n",
       "      <th>data_emprestimo</th>\n",
       "      <th>ano</th>\n",
       "    </tr>\n",
       "  </thead>\n",
       "  <tbody>\n",
       "    <tr>\n",
       "      <th>2</th>\n",
       "      <td>FILOSOFIA</td>\n",
       "      <td>2010-02-04 14:14:54.062</td>\n",
       "      <td>2010</td>\n",
       "    </tr>\n",
       "    <tr>\n",
       "      <th>3</th>\n",
       "      <td>FILOSOFIA</td>\n",
       "      <td>2010-02-04 14:14:54.172</td>\n",
       "      <td>2010</td>\n",
       "    </tr>\n",
       "    <tr>\n",
       "      <th>4</th>\n",
       "      <td>FILOSOFIA</td>\n",
       "      <td>2010-02-04 14:14:54.209</td>\n",
       "      <td>2010</td>\n",
       "    </tr>\n",
       "    <tr>\n",
       "      <th>37</th>\n",
       "      <td>BIOINFORMÁTICA</td>\n",
       "      <td>2010-02-18 11:18:27.248</td>\n",
       "      <td>2010</td>\n",
       "    </tr>\n",
       "    <tr>\n",
       "      <th>38</th>\n",
       "      <td>BIOINFORMÁTICA</td>\n",
       "      <td>2010-02-18 11:18:27.309</td>\n",
       "      <td>2010</td>\n",
       "    </tr>\n",
       "  </tbody>\n",
       "</table>\n",
       "</div>"
      ],
      "text/plain": [
       "             curso         data_emprestimo   ano\n",
       "2        FILOSOFIA 2010-02-04 14:14:54.062  2010\n",
       "3        FILOSOFIA 2010-02-04 14:14:54.172  2010\n",
       "4        FILOSOFIA 2010-02-04 14:14:54.209  2010\n",
       "37  BIOINFORMÁTICA 2010-02-18 11:18:27.248  2010\n",
       "38  BIOINFORMÁTICA 2010-02-18 11:18:27.309  2010"
      ]
     },
     "execution_count": 575,
     "metadata": {},
     "output_type": "execute_result"
    }
   ],
   "source": [
    "diferenca_perc.drop(columns=['matricula_ou_siape', 'id_emprestimo','id_exemplar','tipo_vinculo_usuario'], inplace=True)\n",
    "diferenca_perc['data_emprestimo'] = pd.to_datetime(diferenca_perc['data_emprestimo'])\n",
    "diferenca_perc['ano'] = diferenca_perc['data_emprestimo'].dt.year\n",
    "diferenca_perc.head()"
   ]
  },
  {
   "cell_type": "code",
   "execution_count": 576,
   "id": "0a352093",
   "metadata": {},
   "outputs": [
    {
     "data": {
      "text/html": [
       "<div>\n",
       "<style scoped>\n",
       "    .dataframe tbody tr th:only-of-type {\n",
       "        vertical-align: middle;\n",
       "    }\n",
       "\n",
       "    .dataframe tbody tr th {\n",
       "        vertical-align: top;\n",
       "    }\n",
       "\n",
       "    .dataframe thead th {\n",
       "        text-align: right;\n",
       "    }\n",
       "</style>\n",
       "<table border=\"1\" class=\"dataframe\">\n",
       "  <thead>\n",
       "    <tr style=\"text-align: right;\">\n",
       "      <th></th>\n",
       "      <th>curso</th>\n",
       "      <th>ano</th>\n",
       "      <th>quantidade_emprestimo</th>\n",
       "    </tr>\n",
       "  </thead>\n",
       "  <tbody>\n",
       "    <tr>\n",
       "      <th>0</th>\n",
       "      <td>ADMINISTRAÇÃO</td>\n",
       "      <td>2010</td>\n",
       "      <td>1525</td>\n",
       "    </tr>\n",
       "    <tr>\n",
       "      <th>1</th>\n",
       "      <td>ADMINISTRAÇÃO</td>\n",
       "      <td>2011</td>\n",
       "      <td>1696</td>\n",
       "    </tr>\n",
       "    <tr>\n",
       "      <th>2</th>\n",
       "      <td>ADMINISTRAÇÃO</td>\n",
       "      <td>2012</td>\n",
       "      <td>1964</td>\n",
       "    </tr>\n",
       "    <tr>\n",
       "      <th>3</th>\n",
       "      <td>ADMINISTRAÇÃO</td>\n",
       "      <td>2013</td>\n",
       "      <td>2545</td>\n",
       "    </tr>\n",
       "    <tr>\n",
       "      <th>4</th>\n",
       "      <td>ADMINISTRAÇÃO</td>\n",
       "      <td>2014</td>\n",
       "      <td>2735</td>\n",
       "    </tr>\n",
       "    <tr>\n",
       "      <th>...</th>\n",
       "      <td>...</td>\n",
       "      <td>...</td>\n",
       "      <td>...</td>\n",
       "    </tr>\n",
       "    <tr>\n",
       "      <th>149</th>\n",
       "      <td>GESTÃO DA INFORMAÇÃO E DO CONHECIMENTO</td>\n",
       "      <td>2016</td>\n",
       "      <td>2493</td>\n",
       "    </tr>\n",
       "    <tr>\n",
       "      <th>150</th>\n",
       "      <td>GESTÃO DA INFORMAÇÃO E DO CONHECIMENTO</td>\n",
       "      <td>2017</td>\n",
       "      <td>2266</td>\n",
       "    </tr>\n",
       "    <tr>\n",
       "      <th>151</th>\n",
       "      <td>GESTÃO DA INFORMAÇÃO E DO CONHECIMENTO</td>\n",
       "      <td>2018</td>\n",
       "      <td>1891</td>\n",
       "    </tr>\n",
       "    <tr>\n",
       "      <th>152</th>\n",
       "      <td>GESTÃO DA INFORMAÇÃO E DO CONHECIMENTO</td>\n",
       "      <td>2019</td>\n",
       "      <td>1771</td>\n",
       "    </tr>\n",
       "    <tr>\n",
       "      <th>153</th>\n",
       "      <td>GESTÃO DA INFORMAÇÃO E DO CONHECIMENTO</td>\n",
       "      <td>2020</td>\n",
       "      <td>252</td>\n",
       "    </tr>\n",
       "  </tbody>\n",
       "</table>\n",
       "<p>154 rows × 3 columns</p>\n",
       "</div>"
      ],
      "text/plain": [
       "                                      curso   ano  quantidade_emprestimo\n",
       "0                             ADMINISTRAÇÃO  2010                   1525\n",
       "1                             ADMINISTRAÇÃO  2011                   1696\n",
       "2                             ADMINISTRAÇÃO  2012                   1964\n",
       "3                             ADMINISTRAÇÃO  2013                   2545\n",
       "4                             ADMINISTRAÇÃO  2014                   2735\n",
       "..                                      ...   ...                    ...\n",
       "149  GESTÃO DA INFORMAÇÃO E DO CONHECIMENTO  2016                   2493\n",
       "150  GESTÃO DA INFORMAÇÃO E DO CONHECIMENTO  2017                   2266\n",
       "151  GESTÃO DA INFORMAÇÃO E DO CONHECIMENTO  2018                   1891\n",
       "152  GESTÃO DA INFORMAÇÃO E DO CONHECIMENTO  2019                   1771\n",
       "153  GESTÃO DA INFORMAÇÃO E DO CONHECIMENTO  2020                    252\n",
       "\n",
       "[154 rows x 3 columns]"
      ]
     },
     "execution_count": 576,
     "metadata": {},
     "output_type": "execute_result"
    }
   ],
   "source": [
    "diferenca_perc.columns = ['curso', 'quantidade_emprestimo', 'ano']\n",
    "diferenca_perc['quantidade_emprestimo'] = [1 for x in diferenca_perc['quantidade_emprestimo']]\n",
    "diferenca_perc = diferenca_perc.groupby(['curso', 'ano']).sum().reset_index()\n",
    "diferenca_perc"
   ]
  },
  {
   "cell_type": "code",
   "execution_count": 577,
   "id": "d0aa2900",
   "metadata": {},
   "outputs": [
    {
     "data": {
      "text/html": [
       "<div>\n",
       "<style scoped>\n",
       "    .dataframe tbody tr th:only-of-type {\n",
       "        vertical-align: middle;\n",
       "    }\n",
       "\n",
       "    .dataframe tbody tr th {\n",
       "        vertical-align: top;\n",
       "    }\n",
       "\n",
       "    .dataframe thead th {\n",
       "        text-align: right;\n",
       "    }\n",
       "</style>\n",
       "<table border=\"1\" class=\"dataframe\">\n",
       "  <thead>\n",
       "    <tr style=\"text-align: right;\">\n",
       "      <th></th>\n",
       "      <th>curso</th>\n",
       "      <th>previsao_2022</th>\n",
       "    </tr>\n",
       "  </thead>\n",
       "  <tbody>\n",
       "    <tr>\n",
       "      <th>0</th>\n",
       "      <td>administracao</td>\n",
       "      <td>1905</td>\n",
       "    </tr>\n",
       "    <tr>\n",
       "      <th>1</th>\n",
       "      <td>arquitetura_e_urbanismo</td>\n",
       "      <td>1896</td>\n",
       "    </tr>\n",
       "    <tr>\n",
       "      <th>2</th>\n",
       "      <td>artes_cenicas</td>\n",
       "      <td>1920</td>\n",
       "    </tr>\n",
       "    <tr>\n",
       "      <th>3</th>\n",
       "      <td>bioinformatica</td>\n",
       "      <td>2302</td>\n",
       "    </tr>\n",
       "    <tr>\n",
       "      <th>4</th>\n",
       "      <td>bioquimica</td>\n",
       "      <td>2090</td>\n",
       "    </tr>\n",
       "    <tr>\n",
       "      <th>5</th>\n",
       "      <td>ciencia_e_engenharia_de_materiais</td>\n",
       "      <td>2010</td>\n",
       "    </tr>\n",
       "    <tr>\n",
       "      <th>6</th>\n",
       "      <td>ciencia_tecnologia_e_inovacao</td>\n",
       "      <td>1960</td>\n",
       "    </tr>\n",
       "    <tr>\n",
       "      <th>7</th>\n",
       "      <td>ciencias_da_saude</td>\n",
       "      <td>1730</td>\n",
       "    </tr>\n",
       "    <tr>\n",
       "      <th>8</th>\n",
       "      <td>ciencias_odontologicas</td>\n",
       "      <td>2405</td>\n",
       "    </tr>\n",
       "    <tr>\n",
       "      <th>9</th>\n",
       "      <td>design</td>\n",
       "      <td>1900</td>\n",
       "    </tr>\n",
       "    <tr>\n",
       "      <th>10</th>\n",
       "      <td>engenharia_civil</td>\n",
       "      <td>1920</td>\n",
       "    </tr>\n",
       "    <tr>\n",
       "      <th>11</th>\n",
       "      <td>engenharia_software</td>\n",
       "      <td>1890</td>\n",
       "    </tr>\n",
       "    <tr>\n",
       "      <th>12</th>\n",
       "      <td>filosofia</td>\n",
       "      <td>1903</td>\n",
       "    </tr>\n",
       "    <tr>\n",
       "      <th>13</th>\n",
       "      <td>gestao_da_informacao_e_do_conhecimento</td>\n",
       "      <td>1855</td>\n",
       "    </tr>\n",
       "  </tbody>\n",
       "</table>\n",
       "</div>"
      ],
      "text/plain": [
       "                                     curso  previsao_2022\n",
       "0                            administracao           1905\n",
       "1                  arquitetura_e_urbanismo           1896\n",
       "2                            artes_cenicas           1920\n",
       "3                           bioinformatica           2302\n",
       "4                               bioquimica           2090\n",
       "5        ciencia_e_engenharia_de_materiais           2010\n",
       "6            ciencia_tecnologia_e_inovacao           1960\n",
       "7                        ciencias_da_saude           1730\n",
       "8                   ciencias_odontologicas           2405\n",
       "9                                   design           1900\n",
       "10                        engenharia_civil           1920\n",
       "11                     engenharia_software           1890\n",
       "12                               filosofia           1903\n",
       "13  gestao_da_informacao_e_do_conhecimento           1855"
      ]
     },
     "execution_count": 577,
     "metadata": {},
     "output_type": "execute_result"
    }
   ],
   "source": [
    "previsao_2022 = pd.read_table('previsao.txt', delimiter=' ')\n",
    "previsao_2022"
   ]
  },
  {
   "cell_type": "code",
   "execution_count": 578,
   "id": "88a5da38",
   "metadata": {},
   "outputs": [
    {
     "data": {
      "text/html": [
       "<div>\n",
       "<style scoped>\n",
       "    .dataframe tbody tr th:only-of-type {\n",
       "        vertical-align: middle;\n",
       "    }\n",
       "\n",
       "    .dataframe tbody tr th {\n",
       "        vertical-align: top;\n",
       "    }\n",
       "\n",
       "    .dataframe thead th {\n",
       "        text-align: right;\n",
       "    }\n",
       "</style>\n",
       "<table border=\"1\" class=\"dataframe\">\n",
       "  <thead>\n",
       "    <tr style=\"text-align: right;\">\n",
       "      <th></th>\n",
       "      <th>curso</th>\n",
       "      <th>ano</th>\n",
       "      <th>quantidade_emprestimo</th>\n",
       "    </tr>\n",
       "  </thead>\n",
       "  <tbody>\n",
       "    <tr>\n",
       "      <th>0</th>\n",
       "      <td>administracao</td>\n",
       "      <td>2022</td>\n",
       "      <td>1905</td>\n",
       "    </tr>\n",
       "    <tr>\n",
       "      <th>1</th>\n",
       "      <td>arquitetura_e_urbanismo</td>\n",
       "      <td>2022</td>\n",
       "      <td>1896</td>\n",
       "    </tr>\n",
       "    <tr>\n",
       "      <th>2</th>\n",
       "      <td>artes_cenicas</td>\n",
       "      <td>2022</td>\n",
       "      <td>1920</td>\n",
       "    </tr>\n",
       "    <tr>\n",
       "      <th>3</th>\n",
       "      <td>bioinformatica</td>\n",
       "      <td>2022</td>\n",
       "      <td>2302</td>\n",
       "    </tr>\n",
       "    <tr>\n",
       "      <th>4</th>\n",
       "      <td>bioquimica</td>\n",
       "      <td>2022</td>\n",
       "      <td>2090</td>\n",
       "    </tr>\n",
       "    <tr>\n",
       "      <th>5</th>\n",
       "      <td>ciencia_e_engenharia_de_materiais</td>\n",
       "      <td>2022</td>\n",
       "      <td>2010</td>\n",
       "    </tr>\n",
       "    <tr>\n",
       "      <th>6</th>\n",
       "      <td>ciencia_tecnologia_e_inovacao</td>\n",
       "      <td>2022</td>\n",
       "      <td>1960</td>\n",
       "    </tr>\n",
       "    <tr>\n",
       "      <th>7</th>\n",
       "      <td>ciencias_da_saude</td>\n",
       "      <td>2022</td>\n",
       "      <td>1730</td>\n",
       "    </tr>\n",
       "    <tr>\n",
       "      <th>8</th>\n",
       "      <td>ciencias_odontologicas</td>\n",
       "      <td>2022</td>\n",
       "      <td>2405</td>\n",
       "    </tr>\n",
       "    <tr>\n",
       "      <th>9</th>\n",
       "      <td>design</td>\n",
       "      <td>2022</td>\n",
       "      <td>1900</td>\n",
       "    </tr>\n",
       "    <tr>\n",
       "      <th>10</th>\n",
       "      <td>engenharia_civil</td>\n",
       "      <td>2022</td>\n",
       "      <td>1920</td>\n",
       "    </tr>\n",
       "    <tr>\n",
       "      <th>11</th>\n",
       "      <td>engenharia_software</td>\n",
       "      <td>2022</td>\n",
       "      <td>1890</td>\n",
       "    </tr>\n",
       "    <tr>\n",
       "      <th>12</th>\n",
       "      <td>filosofia</td>\n",
       "      <td>2022</td>\n",
       "      <td>1903</td>\n",
       "    </tr>\n",
       "    <tr>\n",
       "      <th>13</th>\n",
       "      <td>gestao_da_informacao_e_do_conhecimento</td>\n",
       "      <td>2022</td>\n",
       "      <td>1855</td>\n",
       "    </tr>\n",
       "  </tbody>\n",
       "</table>\n",
       "</div>"
      ],
      "text/plain": [
       "                                     curso   ano  quantidade_emprestimo\n",
       "0                            administracao  2022                   1905\n",
       "1                  arquitetura_e_urbanismo  2022                   1896\n",
       "2                            artes_cenicas  2022                   1920\n",
       "3                           bioinformatica  2022                   2302\n",
       "4                               bioquimica  2022                   2090\n",
       "5        ciencia_e_engenharia_de_materiais  2022                   2010\n",
       "6            ciencia_tecnologia_e_inovacao  2022                   1960\n",
       "7                        ciencias_da_saude  2022                   1730\n",
       "8                   ciencias_odontologicas  2022                   2405\n",
       "9                                   design  2022                   1900\n",
       "10                        engenharia_civil  2022                   1920\n",
       "11                     engenharia_software  2022                   1890\n",
       "12                               filosofia  2022                   1903\n",
       "13  gestao_da_informacao_e_do_conhecimento  2022                   1855"
      ]
     },
     "execution_count": 578,
     "metadata": {},
     "output_type": "execute_result"
    }
   ],
   "source": [
    "previsao_2022.columns = ['curso', 'quantidade_emprestimo']\n",
    "previsao_2022['ano'] = [2022 for x in previsao_2022['curso']]\n",
    "previsao_2022 = previsao_2022[['curso', 'ano', 'quantidade_emprestimo']]\n",
    "previsao_2022"
   ]
  },
  {
   "cell_type": "code",
   "execution_count": 579,
   "id": "1ab28c8f",
   "metadata": {},
   "outputs": [
    {
     "data": {
      "text/plain": [
       "array(['ADMINISTRAÇÃO', 'ARQUITETURA E URBANISMO', 'ARTES CÊNICAS',\n",
       "       'BIOINFORMÁTICA', 'BIOQUÍMICA',\n",
       "       'CIÊNCIA E ENGENHARIA DE MATERIAIS',\n",
       "       'CIÊNCIA, TECNOLOGIA E INOVAÇÃO', 'CIÊNCIAS DA SAÚDE',\n",
       "       'CIÊNCIAS ODONTOLÓGICAS', 'DESIGN', 'ENGENHARIA CIVIL',\n",
       "       'ENGENHARIA DE SOFTWARE', 'FILOSOFIA',\n",
       "       'GESTÃO DA INFORMAÇÃO E DO CONHECIMENTO'], dtype=object)"
      ]
     },
     "execution_count": 579,
     "metadata": {},
     "output_type": "execute_result"
    }
   ],
   "source": [
    "mapa_dif_perc = diferenca_perc['curso'].unique()\n",
    "mapa_prev = previsao_2022['curso'].unique()\n",
    "\n",
    "mapa_dif_perc"
   ]
  },
  {
   "cell_type": "code",
   "execution_count": 580,
   "id": "3ed7026e",
   "metadata": {},
   "outputs": [
    {
     "data": {
      "text/plain": [
       "array(['administracao', 'arquitetura_e_urbanismo', 'artes_cenicas',\n",
       "       'bioinformatica', 'bioquimica',\n",
       "       'ciencia_e_engenharia_de_materiais',\n",
       "       'ciencia_tecnologia_e_inovacao', 'ciencias_da_saude',\n",
       "       'ciencias_odontologicas', 'design', 'engenharia_civil',\n",
       "       'engenharia_software', 'filosofia',\n",
       "       'gestao_da_informacao_e_do_conhecimento'], dtype=object)"
      ]
     },
     "execution_count": 580,
     "metadata": {},
     "output_type": "execute_result"
    }
   ],
   "source": [
    "mapa_prev"
   ]
  },
  {
   "cell_type": "code",
   "execution_count": 581,
   "id": "4b9e2ce1",
   "metadata": {},
   "outputs": [
    {
     "name": "stderr",
     "output_type": "stream",
     "text": [
      "C:\\Users\\luizh\\AppData\\Local\\Temp\\ipykernel_9728\\2506115576.py:2: FutureWarning:\n",
      "\n",
      "A value is trying to be set on a copy of a DataFrame or Series through chained assignment using an inplace method.\n",
      "The behavior will change in pandas 3.0. This inplace method will never work because the intermediate object on which we are setting values always behaves as a copy.\n",
      "\n",
      "For example, when doing 'df[col].method(value, inplace=True)', try using 'df.method({col: value}, inplace=True)' or df[col] = df[col].method(value) instead, to perform the operation inplace on the original object.\n",
      "\n",
      "\n",
      "\n"
     ]
    },
    {
     "data": {
      "text/plain": [
       "array(['administracao', 'arquitetura_e_urbanismo', 'artes_cenicas',\n",
       "       'bioinformatica', 'bioquimica',\n",
       "       'ciencia_e_engenharia_de_materiais',\n",
       "       'ciencia_tecnologia_e_inovacao', 'ciencias_da_saude',\n",
       "       'ciencias_odontologicas', 'design', 'engenharia_civil',\n",
       "       'engenharia_software', 'filosofia',\n",
       "       'gestao_da_informacao_e_do_conhecimento'], dtype=object)"
      ]
     },
     "execution_count": 581,
     "metadata": {},
     "output_type": "execute_result"
    }
   ],
   "source": [
    "for i in range(len(mapa_prev)):\n",
    "    diferenca_perc['curso'].replace({mapa_dif_perc[i]:mapa_prev[i]}, inplace=True)\n",
    "diferenca_perc['curso'].unique()"
   ]
  },
  {
   "cell_type": "code",
   "execution_count": 582,
   "id": "f6e20098",
   "metadata": {},
   "outputs": [
    {
     "name": "stdout",
     "output_type": "stream",
     "text": [
      "<class 'pandas.core.frame.DataFrame'>\n",
      "RangeIndex: 168 entries, 0 to 167\n",
      "Data columns (total 3 columns):\n",
      " #   Column                 Non-Null Count  Dtype \n",
      "---  ------                 --------------  ----- \n",
      " 0   curso                  168 non-null    object\n",
      " 1   ano                    168 non-null    int64 \n",
      " 2   quantidade_emprestimo  168 non-null    int64 \n",
      "dtypes: int64(2), object(1)\n",
      "memory usage: 4.1+ KB\n"
     ]
    }
   ],
   "source": [
    "diferenca_perc = pd.merge(left=diferenca_perc, right=previsao_2022, how='outer')\n",
    "diferenca_perc.info()"
   ]
  },
  {
   "cell_type": "code",
   "execution_count": 583,
   "id": "86282b13",
   "metadata": {},
   "outputs": [
    {
     "data": {
      "text/plain": [
       "array([2010, 2011, 2012, 2013, 2014, 2015, 2016, 2017, 2018, 2019, 2020,\n",
       "       2022])"
      ]
     },
     "execution_count": 583,
     "metadata": {},
     "output_type": "execute_result"
    }
   ],
   "source": [
    "diferenca_perc['ano'].unique()"
   ]
  },
  {
   "cell_type": "code",
   "execution_count": 584,
   "id": "92791c1e",
   "metadata": {},
   "outputs": [
    {
     "data": {
      "text/plain": [
       "array([2017, 2018, 2019, 2022])"
      ]
     },
     "execution_count": 584,
     "metadata": {},
     "output_type": "execute_result"
    }
   ],
   "source": [
    "diferenca_perc = diferenca_perc.query('ano >= 2017')\n",
    "diferenca_perc.drop(index=diferenca_perc[diferenca_perc['ano'] == 2020].index, inplace=True)\n",
    "diferenca_perc.reset_index(drop=True, inplace=True)\n",
    "diferenca_perc['ano'].unique()"
   ]
  },
  {
   "cell_type": "code",
   "execution_count": 585,
   "id": "4294c6c1",
   "metadata": {},
   "outputs": [
    {
     "name": "stderr",
     "output_type": "stream",
     "text": [
      "C:\\Users\\luizh\\AppData\\Local\\Temp\\ipykernel_9728\\2095135305.py:10: FutureWarning:\n",
      "\n",
      "A value is trying to be set on a copy of a DataFrame or Series through chained assignment using an inplace method.\n",
      "The behavior will change in pandas 3.0. This inplace method will never work because the intermediate object on which we are setting values always behaves as a copy.\n",
      "\n",
      "For example, when doing 'df[col].method(value, inplace=True)', try using 'df.method({col: value}, inplace=True)' or df[col] = df[col].method(value) instead, to perform the operation inplace on the original object.\n",
      "\n",
      "\n",
      "\n"
     ]
    },
    {
     "data": {
      "text/html": [
       "<div>\n",
       "<style scoped>\n",
       "    .dataframe tbody tr th:only-of-type {\n",
       "        vertical-align: middle;\n",
       "    }\n",
       "\n",
       "    .dataframe tbody tr th {\n",
       "        vertical-align: top;\n",
       "    }\n",
       "\n",
       "    .dataframe thead th {\n",
       "        text-align: right;\n",
       "    }\n",
       "</style>\n",
       "<table border=\"1\" class=\"dataframe\">\n",
       "  <thead>\n",
       "    <tr style=\"text-align: right;\">\n",
       "      <th></th>\n",
       "      <th>curso</th>\n",
       "      <th>ano</th>\n",
       "      <th>quantidade_emprestimo</th>\n",
       "    </tr>\n",
       "  </thead>\n",
       "  <tbody>\n",
       "    <tr>\n",
       "      <th>0</th>\n",
       "      <td>Administração</td>\n",
       "      <td>2017</td>\n",
       "      <td>2538</td>\n",
       "    </tr>\n",
       "    <tr>\n",
       "      <th>1</th>\n",
       "      <td>Administração</td>\n",
       "      <td>2018</td>\n",
       "      <td>2316</td>\n",
       "    </tr>\n",
       "    <tr>\n",
       "      <th>2</th>\n",
       "      <td>Administração</td>\n",
       "      <td>2019</td>\n",
       "      <td>1692</td>\n",
       "    </tr>\n",
       "    <tr>\n",
       "      <th>3</th>\n",
       "      <td>Administração</td>\n",
       "      <td>2022</td>\n",
       "      <td>1905</td>\n",
       "    </tr>\n",
       "    <tr>\n",
       "      <th>4</th>\n",
       "      <td>Arquitetura e urbanismo</td>\n",
       "      <td>2017</td>\n",
       "      <td>2209</td>\n",
       "    </tr>\n",
       "  </tbody>\n",
       "</table>\n",
       "</div>"
      ],
      "text/plain": [
       "                     curso   ano  quantidade_emprestimo\n",
       "0            Administração  2017                   2538\n",
       "1            Administração  2018                   2316\n",
       "2            Administração  2019                   1692\n",
       "3            Administração  2022                   1905\n",
       "4  Arquitetura e urbanismo  2017                   2209"
      ]
     },
     "execution_count": 585,
     "metadata": {},
     "output_type": "execute_result"
    }
   ],
   "source": [
    "mapa = ['Administração', 'Arquitetura e urbanismo', 'Artes cênicas',\n",
    "       'Bioinformática', 'Bioquímica',\n",
    "       'Ciência e engenharia de materiais',\n",
    "       'Ciência, tecnologia e inovação', 'Ciências da saúde',\n",
    "       'Ciências odontológicas', 'Design', 'Engenharia civil',\n",
    "       'Engenharia software', 'Filosofia',\n",
    "       'Gestão da informação e do conhecimento']\n",
    "\n",
    "for i in range(len(mapa_prev)):\n",
    "    diferenca_perc['curso'].replace({mapa_prev[i]:mapa[i]}, inplace=True)\n",
    "diferenca_perc['curso'].unique()\n",
    "\n",
    "diferenca_perc.head()"
   ]
  },
  {
   "cell_type": "code",
   "execution_count": 586,
   "id": "15b44178",
   "metadata": {},
   "outputs": [
    {
     "data": {
      "text/plain": [
       "['2017 - 2018', '2018 - 2019', '2019 - 2022']"
      ]
     },
     "execution_count": 586,
     "metadata": {},
     "output_type": "execute_result"
    }
   ],
   "source": [
    "cursos = diferenca_perc['curso'].unique()\n",
    "diferenca_ano = [f'{x-1} - {x}' if x<2022 else f'2019 - {x}' for x in [2018, 2019, 2022]]\n",
    "diferenca_ano"
   ]
  },
  {
   "cell_type": "code",
   "execution_count": 587,
   "id": "5f478cf6",
   "metadata": {},
   "outputs": [],
   "source": [
    "valores_2017 = diferenca_perc.query('ano == 2017')[['quantidade_emprestimo']]\n",
    "valores_2017.reset_index(drop=True, inplace=True)"
   ]
  },
  {
   "cell_type": "code",
   "execution_count": 588,
   "id": "868e21e2",
   "metadata": {},
   "outputs": [
    {
     "name": "stderr",
     "output_type": "stream",
     "text": [
      "C:\\Users\\luizh\\AppData\\Local\\Temp\\ipykernel_9728\\1002607044.py:13: FutureWarning:\n",
      "\n",
      "Setting an item of incompatible dtype is deprecated and will raise an error in a future version of pandas. Value '-8.75' has dtype incompatible with int64, please explicitly cast to a compatible dtype first.\n",
      "\n"
     ]
    }
   ],
   "source": [
    "diferenca_perc['diferenca_percentual'] = [0 for x in diferenca_perc['curso']]\n",
    "\n",
    "for i in range(len(diferenca_perc['curso'].unique())):\n",
    "    for j in range(4):\n",
    "\n",
    "        idx = 4 * i + j\n",
    "\n",
    "        if j == 0:\n",
    "            diferenca_perc.iloc[idx, 3] = 0\n",
    "        else:\n",
    "            valor_base = diferenca_perc.iloc[idx - 1, 2]\n",
    "            valor_atual = diferenca_perc.iloc[idx, 2]\n",
    "            diferenca_perc.iloc[idx, 3] = round((valor_atual - valor_base) * 100 / valor_base, 2)\n"
   ]
  },
  {
   "cell_type": "code",
   "execution_count": 589,
   "id": "4fdb8838",
   "metadata": {},
   "outputs": [
    {
     "name": "stderr",
     "output_type": "stream",
     "text": [
      "C:\\Users\\luizh\\AppData\\Local\\Temp\\ipykernel_9728\\3021756187.py:4: FutureWarning:\n",
      "\n",
      "A value is trying to be set on a copy of a DataFrame or Series through chained assignment using an inplace method.\n",
      "The behavior will change in pandas 3.0. This inplace method will never work because the intermediate object on which we are setting values always behaves as a copy.\n",
      "\n",
      "For example, when doing 'df[col].method(value, inplace=True)', try using 'df.method({col: value}, inplace=True)' or df[col] = df[col].method(value) instead, to perform the operation inplace on the original object.\n",
      "\n",
      "\n",
      "\n"
     ]
    },
    {
     "data": {
      "text/html": [
       "<div>\n",
       "<style scoped>\n",
       "    .dataframe tbody tr th:only-of-type {\n",
       "        vertical-align: middle;\n",
       "    }\n",
       "\n",
       "    .dataframe tbody tr th {\n",
       "        vertical-align: top;\n",
       "    }\n",
       "\n",
       "    .dataframe thead th {\n",
       "        text-align: right;\n",
       "    }\n",
       "</style>\n",
       "<table border=\"1\" class=\"dataframe\">\n",
       "  <thead>\n",
       "    <tr style=\"text-align: right;\">\n",
       "      <th></th>\n",
       "      <th>curso</th>\n",
       "      <th>ano</th>\n",
       "      <th>diferenca_percentual</th>\n",
       "    </tr>\n",
       "  </thead>\n",
       "  <tbody>\n",
       "    <tr>\n",
       "      <th>0</th>\n",
       "      <td>Administração</td>\n",
       "      <td>2017 - 2018</td>\n",
       "      <td>-8.75</td>\n",
       "    </tr>\n",
       "    <tr>\n",
       "      <th>1</th>\n",
       "      <td>Administração</td>\n",
       "      <td>2018 - 2019</td>\n",
       "      <td>-26.94</td>\n",
       "    </tr>\n",
       "    <tr>\n",
       "      <th>2</th>\n",
       "      <td>Administração</td>\n",
       "      <td>2019 - 2022</td>\n",
       "      <td>12.59</td>\n",
       "    </tr>\n",
       "    <tr>\n",
       "      <th>3</th>\n",
       "      <td>Arquitetura e urbanismo</td>\n",
       "      <td>2017 - 2018</td>\n",
       "      <td>-13.22</td>\n",
       "    </tr>\n",
       "    <tr>\n",
       "      <th>4</th>\n",
       "      <td>Arquitetura e urbanismo</td>\n",
       "      <td>2018 - 2019</td>\n",
       "      <td>-5.16</td>\n",
       "    </tr>\n",
       "  </tbody>\n",
       "</table>\n",
       "</div>"
      ],
      "text/plain": [
       "                     curso          ano  diferenca_percentual\n",
       "0            Administração  2017 - 2018                 -8.75\n",
       "1            Administração  2018 - 2019                -26.94\n",
       "2            Administração  2019 - 2022                 12.59\n",
       "3  Arquitetura e urbanismo  2017 - 2018                -13.22\n",
       "4  Arquitetura e urbanismo  2018 - 2019                 -5.16"
      ]
     },
     "execution_count": 589,
     "metadata": {},
     "output_type": "execute_result"
    }
   ],
   "source": [
    "diferenca_perc.drop(index=diferenca_perc[diferenca_perc['ano'] == 2017].index, inplace=True)\n",
    "diferenca_perc.reset_index(drop=True, inplace=True)\n",
    "\n",
    "diferenca_perc['ano'].replace({2018: '2017 - 2018',\n",
    "                               2019: '2018 - 2019',\n",
    "                               2022: '2019 - 2022'},\n",
    "                               inplace=True)\n",
    "\n",
    "diferenca_perc.drop(columns='quantidade_emprestimo', inplace=True)\n",
    "\n",
    "diferenca_perc.head()"
   ]
  },
  {
   "cell_type": "code",
   "execution_count": 590,
   "id": "b244cd19",
   "metadata": {},
   "outputs": [
    {
     "data": {
      "text/html": [
       "<div>\n",
       "<style scoped>\n",
       "    .dataframe tbody tr th:only-of-type {\n",
       "        vertical-align: middle;\n",
       "    }\n",
       "\n",
       "    .dataframe tbody tr th {\n",
       "        vertical-align: top;\n",
       "    }\n",
       "\n",
       "    .dataframe thead th {\n",
       "        text-align: right;\n",
       "    }\n",
       "</style>\n",
       "<table border=\"1\" class=\"dataframe\">\n",
       "  <thead>\n",
       "    <tr style=\"text-align: right;\">\n",
       "      <th>ano</th>\n",
       "      <th>2017 - 2018</th>\n",
       "      <th>2018 - 2019</th>\n",
       "      <th>2019 - 2022</th>\n",
       "    </tr>\n",
       "    <tr>\n",
       "      <th>curso</th>\n",
       "      <th></th>\n",
       "      <th></th>\n",
       "      <th></th>\n",
       "    </tr>\n",
       "  </thead>\n",
       "  <tbody>\n",
       "    <tr>\n",
       "      <th>Administração</th>\n",
       "      <td>-8.75</td>\n",
       "      <td>-26.94</td>\n",
       "      <td>12.59</td>\n",
       "    </tr>\n",
       "    <tr>\n",
       "      <th>Arquitetura e urbanismo</th>\n",
       "      <td>-13.22</td>\n",
       "      <td>-5.16</td>\n",
       "      <td>4.29</td>\n",
       "    </tr>\n",
       "    <tr>\n",
       "      <th>Artes cênicas</th>\n",
       "      <td>-1.56</td>\n",
       "      <td>-12.97</td>\n",
       "      <td>5.96</td>\n",
       "    </tr>\n",
       "    <tr>\n",
       "      <th>Bioinformática</th>\n",
       "      <td>-12.60</td>\n",
       "      <td>-4.65</td>\n",
       "      <td>26.14</td>\n",
       "    </tr>\n",
       "    <tr>\n",
       "      <th>Bioquímica</th>\n",
       "      <td>-15.26</td>\n",
       "      <td>5.81</td>\n",
       "      <td>1.60</td>\n",
       "    </tr>\n",
       "    <tr>\n",
       "      <th>Ciência e engenharia de materiais</th>\n",
       "      <td>-8.89</td>\n",
       "      <td>-4.83</td>\n",
       "      <td>0.10</td>\n",
       "    </tr>\n",
       "    <tr>\n",
       "      <th>Ciência, tecnologia e inovação</th>\n",
       "      <td>-2.07</td>\n",
       "      <td>-14.33</td>\n",
       "      <td>-3.26</td>\n",
       "    </tr>\n",
       "    <tr>\n",
       "      <th>Ciências da saúde</th>\n",
       "      <td>-18.41</td>\n",
       "      <td>-8.11</td>\n",
       "      <td>-5.21</td>\n",
       "    </tr>\n",
       "    <tr>\n",
       "      <th>Ciências odontológicas</th>\n",
       "      <td>5.22</td>\n",
       "      <td>-15.98</td>\n",
       "      <td>12.70</td>\n",
       "    </tr>\n",
       "    <tr>\n",
       "      <th>Design</th>\n",
       "      <td>-19.10</td>\n",
       "      <td>0.16</td>\n",
       "      <td>3.20</td>\n",
       "    </tr>\n",
       "    <tr>\n",
       "      <th>Engenharia civil</th>\n",
       "      <td>-12.92</td>\n",
       "      <td>-4.79</td>\n",
       "      <td>-3.47</td>\n",
       "    </tr>\n",
       "    <tr>\n",
       "      <th>Engenharia software</th>\n",
       "      <td>-10.29</td>\n",
       "      <td>-15.08</td>\n",
       "      <td>0.16</td>\n",
       "    </tr>\n",
       "    <tr>\n",
       "      <th>Filosofia</th>\n",
       "      <td>-5.62</td>\n",
       "      <td>-13.43</td>\n",
       "      <td>7.33</td>\n",
       "    </tr>\n",
       "    <tr>\n",
       "      <th>Gestão da informação e do conhecimento</th>\n",
       "      <td>-16.55</td>\n",
       "      <td>-6.35</td>\n",
       "      <td>4.74</td>\n",
       "    </tr>\n",
       "  </tbody>\n",
       "</table>\n",
       "</div>"
      ],
      "text/plain": [
       "ano                                     2017 - 2018  2018 - 2019  2019 - 2022\n",
       "curso                                                                        \n",
       "Administração                                 -8.75       -26.94        12.59\n",
       "Arquitetura e urbanismo                      -13.22        -5.16         4.29\n",
       "Artes cênicas                                 -1.56       -12.97         5.96\n",
       "Bioinformática                               -12.60        -4.65        26.14\n",
       "Bioquímica                                   -15.26         5.81         1.60\n",
       "Ciência e engenharia de materiais             -8.89        -4.83         0.10\n",
       "Ciência, tecnologia e inovação                -2.07       -14.33        -3.26\n",
       "Ciências da saúde                            -18.41        -8.11        -5.21\n",
       "Ciências odontológicas                         5.22       -15.98        12.70\n",
       "Design                                       -19.10         0.16         3.20\n",
       "Engenharia civil                             -12.92        -4.79        -3.47\n",
       "Engenharia software                          -10.29       -15.08         0.16\n",
       "Filosofia                                     -5.62       -13.43         7.33\n",
       "Gestão da informação e do conhecimento       -16.55        -6.35         4.74"
      ]
     },
     "execution_count": 590,
     "metadata": {},
     "output_type": "execute_result"
    }
   ],
   "source": [
    "tabela_diferenca_perc = pd.pivot_table(diferenca_perc, values='diferenca_percentual', index='curso', columns='ano', aggfunc='sum')\n",
    "tabela_diferenca_perc"
   ]
  },
  {
   "cell_type": "code",
   "execution_count": 598,
   "id": "0c978b8e",
   "metadata": {},
   "outputs": [
    {
     "data": {
      "text/html": [
       "<style type=\"text/css\">\n",
       "</style>\n",
       "<table id=\"T_ddd5f\">\n",
       "  <thead>\n",
       "    <tr>\n",
       "      <th class=\"index_name level0\" >ano</th>\n",
       "      <th id=\"T_ddd5f_level0_col0\" class=\"col_heading level0 col0\" >2017 - 2018</th>\n",
       "      <th id=\"T_ddd5f_level0_col1\" class=\"col_heading level0 col1\" >2018 - 2019</th>\n",
       "      <th id=\"T_ddd5f_level0_col2\" class=\"col_heading level0 col2\" >2019 - 2022</th>\n",
       "    </tr>\n",
       "    <tr>\n",
       "      <th class=\"index_name level0\" >curso</th>\n",
       "      <th class=\"blank col0\" >&nbsp;</th>\n",
       "      <th class=\"blank col1\" >&nbsp;</th>\n",
       "      <th class=\"blank col2\" >&nbsp;</th>\n",
       "    </tr>\n",
       "  </thead>\n",
       "  <tbody>\n",
       "    <tr>\n",
       "      <th id=\"T_ddd5f_level0_row0\" class=\"row_heading level0 row0\" >Administração</th>\n",
       "      <td id=\"T_ddd5f_row0_col0\" class=\"data row0 col0\" >-8.750000</td>\n",
       "      <td id=\"T_ddd5f_row0_col1\" class=\"data row0 col1\" >-26.940000</td>\n",
       "      <td id=\"T_ddd5f_row0_col2\" class=\"data row0 col2\" >12.590000</td>\n",
       "    </tr>\n",
       "    <tr>\n",
       "      <th id=\"T_ddd5f_level0_row1\" class=\"row_heading level0 row1\" >Arquitetura e urbanismo</th>\n",
       "      <td id=\"T_ddd5f_row1_col0\" class=\"data row1 col0\" >-13.220000</td>\n",
       "      <td id=\"T_ddd5f_row1_col1\" class=\"data row1 col1\" >-5.160000</td>\n",
       "      <td id=\"T_ddd5f_row1_col2\" class=\"data row1 col2\" >4.290000</td>\n",
       "    </tr>\n",
       "    <tr>\n",
       "      <th id=\"T_ddd5f_level0_row2\" class=\"row_heading level0 row2\" >Artes cênicas</th>\n",
       "      <td id=\"T_ddd5f_row2_col0\" class=\"data row2 col0\" >-1.560000</td>\n",
       "      <td id=\"T_ddd5f_row2_col1\" class=\"data row2 col1\" >-12.970000</td>\n",
       "      <td id=\"T_ddd5f_row2_col2\" class=\"data row2 col2\" >5.960000</td>\n",
       "    </tr>\n",
       "    <tr>\n",
       "      <th id=\"T_ddd5f_level0_row3\" class=\"row_heading level0 row3\" >Bioinformática</th>\n",
       "      <td id=\"T_ddd5f_row3_col0\" class=\"data row3 col0\" >-12.600000</td>\n",
       "      <td id=\"T_ddd5f_row3_col1\" class=\"data row3 col1\" >-4.650000</td>\n",
       "      <td id=\"T_ddd5f_row3_col2\" class=\"data row3 col2\" >26.140000</td>\n",
       "    </tr>\n",
       "    <tr>\n",
       "      <th id=\"T_ddd5f_level0_row4\" class=\"row_heading level0 row4\" >Bioquímica</th>\n",
       "      <td id=\"T_ddd5f_row4_col0\" class=\"data row4 col0\" >-15.260000</td>\n",
       "      <td id=\"T_ddd5f_row4_col1\" class=\"data row4 col1\" >5.810000</td>\n",
       "      <td id=\"T_ddd5f_row4_col2\" class=\"data row4 col2\" >1.600000</td>\n",
       "    </tr>\n",
       "    <tr>\n",
       "      <th id=\"T_ddd5f_level0_row5\" class=\"row_heading level0 row5\" >Ciência e engenharia de materiais</th>\n",
       "      <td id=\"T_ddd5f_row5_col0\" class=\"data row5 col0\" >-8.890000</td>\n",
       "      <td id=\"T_ddd5f_row5_col1\" class=\"data row5 col1\" >-4.830000</td>\n",
       "      <td id=\"T_ddd5f_row5_col2\" class=\"data row5 col2\" >0.100000</td>\n",
       "    </tr>\n",
       "    <tr>\n",
       "      <th id=\"T_ddd5f_level0_row6\" class=\"row_heading level0 row6\" >Ciência, tecnologia e inovação</th>\n",
       "      <td id=\"T_ddd5f_row6_col0\" class=\"data row6 col0\" >-2.070000</td>\n",
       "      <td id=\"T_ddd5f_row6_col1\" class=\"data row6 col1\" >-14.330000</td>\n",
       "      <td id=\"T_ddd5f_row6_col2\" class=\"data row6 col2\" >-3.260000</td>\n",
       "    </tr>\n",
       "    <tr>\n",
       "      <th id=\"T_ddd5f_level0_row7\" class=\"row_heading level0 row7\" >Ciências da saúde</th>\n",
       "      <td id=\"T_ddd5f_row7_col0\" class=\"data row7 col0\" >-18.410000</td>\n",
       "      <td id=\"T_ddd5f_row7_col1\" class=\"data row7 col1\" >-8.110000</td>\n",
       "      <td id=\"T_ddd5f_row7_col2\" class=\"data row7 col2\" >-5.210000</td>\n",
       "    </tr>\n",
       "    <tr>\n",
       "      <th id=\"T_ddd5f_level0_row8\" class=\"row_heading level0 row8\" >Ciências odontológicas</th>\n",
       "      <td id=\"T_ddd5f_row8_col0\" class=\"data row8 col0\" >5.220000</td>\n",
       "      <td id=\"T_ddd5f_row8_col1\" class=\"data row8 col1\" >-15.980000</td>\n",
       "      <td id=\"T_ddd5f_row8_col2\" class=\"data row8 col2\" >12.700000</td>\n",
       "    </tr>\n",
       "    <tr>\n",
       "      <th id=\"T_ddd5f_level0_row9\" class=\"row_heading level0 row9\" >Design</th>\n",
       "      <td id=\"T_ddd5f_row9_col0\" class=\"data row9 col0\" >-19.100000</td>\n",
       "      <td id=\"T_ddd5f_row9_col1\" class=\"data row9 col1\" >0.160000</td>\n",
       "      <td id=\"T_ddd5f_row9_col2\" class=\"data row9 col2\" >3.200000</td>\n",
       "    </tr>\n",
       "    <tr>\n",
       "      <th id=\"T_ddd5f_level0_row10\" class=\"row_heading level0 row10\" >Engenharia civil</th>\n",
       "      <td id=\"T_ddd5f_row10_col0\" class=\"data row10 col0\" >-12.920000</td>\n",
       "      <td id=\"T_ddd5f_row10_col1\" class=\"data row10 col1\" >-4.790000</td>\n",
       "      <td id=\"T_ddd5f_row10_col2\" class=\"data row10 col2\" >-3.470000</td>\n",
       "    </tr>\n",
       "    <tr>\n",
       "      <th id=\"T_ddd5f_level0_row11\" class=\"row_heading level0 row11\" >Engenharia software</th>\n",
       "      <td id=\"T_ddd5f_row11_col0\" class=\"data row11 col0\" >-10.290000</td>\n",
       "      <td id=\"T_ddd5f_row11_col1\" class=\"data row11 col1\" >-15.080000</td>\n",
       "      <td id=\"T_ddd5f_row11_col2\" class=\"data row11 col2\" >0.160000</td>\n",
       "    </tr>\n",
       "    <tr>\n",
       "      <th id=\"T_ddd5f_level0_row12\" class=\"row_heading level0 row12\" >Filosofia</th>\n",
       "      <td id=\"T_ddd5f_row12_col0\" class=\"data row12 col0\" >-5.620000</td>\n",
       "      <td id=\"T_ddd5f_row12_col1\" class=\"data row12 col1\" >-13.430000</td>\n",
       "      <td id=\"T_ddd5f_row12_col2\" class=\"data row12 col2\" >7.330000</td>\n",
       "    </tr>\n",
       "    <tr>\n",
       "      <th id=\"T_ddd5f_level0_row13\" class=\"row_heading level0 row13\" >Gestão da informação e do conhecimento</th>\n",
       "      <td id=\"T_ddd5f_row13_col0\" class=\"data row13 col0\" >-16.550000</td>\n",
       "      <td id=\"T_ddd5f_row13_col1\" class=\"data row13 col1\" >-6.350000</td>\n",
       "      <td id=\"T_ddd5f_row13_col2\" class=\"data row13 col2\" >4.740000</td>\n",
       "    </tr>\n",
       "  </tbody>\n",
       "</table>\n"
      ],
      "text/plain": [
       "<pandas.io.formats.style.Styler at 0x1f21a7d8e90>"
      ]
     },
     "execution_count": 598,
     "metadata": {},
     "output_type": "execute_result"
    }
   ],
   "source": [
    "tabela_estilo = tabela_diferenca_perc.style\n",
    "tabela_estilo"
   ]
  },
  {
   "cell_type": "code",
   "execution_count": 599,
   "id": "5e7ebacd",
   "metadata": {},
   "outputs": [
    {
     "data": {
      "text/html": [
       "<style type=\"text/css\">\n",
       "#T_ddd5f_row0_col2, #T_ddd5f_row1_col2, #T_ddd5f_row2_col2, #T_ddd5f_row3_col2, #T_ddd5f_row4_col1, #T_ddd5f_row4_col2, #T_ddd5f_row5_col2, #T_ddd5f_row8_col0, #T_ddd5f_row8_col2, #T_ddd5f_row9_col1, #T_ddd5f_row9_col2, #T_ddd5f_row11_col2, #T_ddd5f_row12_col2, #T_ddd5f_row13_col2 {\n",
       "  background-color: green;\n",
       "}\n",
       "</style>\n",
       "<table id=\"T_ddd5f\">\n",
       "  <thead>\n",
       "    <tr>\n",
       "      <th class=\"index_name level0\" >ano</th>\n",
       "      <th id=\"T_ddd5f_level0_col0\" class=\"col_heading level0 col0\" >2017 - 2018</th>\n",
       "      <th id=\"T_ddd5f_level0_col1\" class=\"col_heading level0 col1\" >2018 - 2019</th>\n",
       "      <th id=\"T_ddd5f_level0_col2\" class=\"col_heading level0 col2\" >2019 - 2022</th>\n",
       "    </tr>\n",
       "    <tr>\n",
       "      <th class=\"index_name level0\" >curso</th>\n",
       "      <th class=\"blank col0\" >&nbsp;</th>\n",
       "      <th class=\"blank col1\" >&nbsp;</th>\n",
       "      <th class=\"blank col2\" >&nbsp;</th>\n",
       "    </tr>\n",
       "  </thead>\n",
       "  <tbody>\n",
       "    <tr>\n",
       "      <th id=\"T_ddd5f_level0_row0\" class=\"row_heading level0 row0\" >Administração</th>\n",
       "      <td id=\"T_ddd5f_row0_col0\" class=\"data row0 col0\" >-8.75 %</td>\n",
       "      <td id=\"T_ddd5f_row0_col1\" class=\"data row0 col1\" >-26.94 %</td>\n",
       "      <td id=\"T_ddd5f_row0_col2\" class=\"data row0 col2\" >12.59 %</td>\n",
       "    </tr>\n",
       "    <tr>\n",
       "      <th id=\"T_ddd5f_level0_row1\" class=\"row_heading level0 row1\" >Arquitetura e urbanismo</th>\n",
       "      <td id=\"T_ddd5f_row1_col0\" class=\"data row1 col0\" >-13.22 %</td>\n",
       "      <td id=\"T_ddd5f_row1_col1\" class=\"data row1 col1\" >-5.16 %</td>\n",
       "      <td id=\"T_ddd5f_row1_col2\" class=\"data row1 col2\" >4.29 %</td>\n",
       "    </tr>\n",
       "    <tr>\n",
       "      <th id=\"T_ddd5f_level0_row2\" class=\"row_heading level0 row2\" >Artes cênicas</th>\n",
       "      <td id=\"T_ddd5f_row2_col0\" class=\"data row2 col0\" >-1.56 %</td>\n",
       "      <td id=\"T_ddd5f_row2_col1\" class=\"data row2 col1\" >-12.97 %</td>\n",
       "      <td id=\"T_ddd5f_row2_col2\" class=\"data row2 col2\" >5.96 %</td>\n",
       "    </tr>\n",
       "    <tr>\n",
       "      <th id=\"T_ddd5f_level0_row3\" class=\"row_heading level0 row3\" >Bioinformática</th>\n",
       "      <td id=\"T_ddd5f_row3_col0\" class=\"data row3 col0\" >-12.60 %</td>\n",
       "      <td id=\"T_ddd5f_row3_col1\" class=\"data row3 col1\" >-4.65 %</td>\n",
       "      <td id=\"T_ddd5f_row3_col2\" class=\"data row3 col2\" >26.14 %</td>\n",
       "    </tr>\n",
       "    <tr>\n",
       "      <th id=\"T_ddd5f_level0_row4\" class=\"row_heading level0 row4\" >Bioquímica</th>\n",
       "      <td id=\"T_ddd5f_row4_col0\" class=\"data row4 col0\" >-15.26 %</td>\n",
       "      <td id=\"T_ddd5f_row4_col1\" class=\"data row4 col1\" >5.81 %</td>\n",
       "      <td id=\"T_ddd5f_row4_col2\" class=\"data row4 col2\" >1.60 %</td>\n",
       "    </tr>\n",
       "    <tr>\n",
       "      <th id=\"T_ddd5f_level0_row5\" class=\"row_heading level0 row5\" >Ciência e engenharia de materiais</th>\n",
       "      <td id=\"T_ddd5f_row5_col0\" class=\"data row5 col0\" >-8.89 %</td>\n",
       "      <td id=\"T_ddd5f_row5_col1\" class=\"data row5 col1\" >-4.83 %</td>\n",
       "      <td id=\"T_ddd5f_row5_col2\" class=\"data row5 col2\" >0.10 %</td>\n",
       "    </tr>\n",
       "    <tr>\n",
       "      <th id=\"T_ddd5f_level0_row6\" class=\"row_heading level0 row6\" >Ciência, tecnologia e inovação</th>\n",
       "      <td id=\"T_ddd5f_row6_col0\" class=\"data row6 col0\" >-2.07 %</td>\n",
       "      <td id=\"T_ddd5f_row6_col1\" class=\"data row6 col1\" >-14.33 %</td>\n",
       "      <td id=\"T_ddd5f_row6_col2\" class=\"data row6 col2\" >-3.26 %</td>\n",
       "    </tr>\n",
       "    <tr>\n",
       "      <th id=\"T_ddd5f_level0_row7\" class=\"row_heading level0 row7\" >Ciências da saúde</th>\n",
       "      <td id=\"T_ddd5f_row7_col0\" class=\"data row7 col0\" >-18.41 %</td>\n",
       "      <td id=\"T_ddd5f_row7_col1\" class=\"data row7 col1\" >-8.11 %</td>\n",
       "      <td id=\"T_ddd5f_row7_col2\" class=\"data row7 col2\" >-5.21 %</td>\n",
       "    </tr>\n",
       "    <tr>\n",
       "      <th id=\"T_ddd5f_level0_row8\" class=\"row_heading level0 row8\" >Ciências odontológicas</th>\n",
       "      <td id=\"T_ddd5f_row8_col0\" class=\"data row8 col0\" >5.22 %</td>\n",
       "      <td id=\"T_ddd5f_row8_col1\" class=\"data row8 col1\" >-15.98 %</td>\n",
       "      <td id=\"T_ddd5f_row8_col2\" class=\"data row8 col2\" >12.70 %</td>\n",
       "    </tr>\n",
       "    <tr>\n",
       "      <th id=\"T_ddd5f_level0_row9\" class=\"row_heading level0 row9\" >Design</th>\n",
       "      <td id=\"T_ddd5f_row9_col0\" class=\"data row9 col0\" >-19.10 %</td>\n",
       "      <td id=\"T_ddd5f_row9_col1\" class=\"data row9 col1\" >0.16 %</td>\n",
       "      <td id=\"T_ddd5f_row9_col2\" class=\"data row9 col2\" >3.20 %</td>\n",
       "    </tr>\n",
       "    <tr>\n",
       "      <th id=\"T_ddd5f_level0_row10\" class=\"row_heading level0 row10\" >Engenharia civil</th>\n",
       "      <td id=\"T_ddd5f_row10_col0\" class=\"data row10 col0\" >-12.92 %</td>\n",
       "      <td id=\"T_ddd5f_row10_col1\" class=\"data row10 col1\" >-4.79 %</td>\n",
       "      <td id=\"T_ddd5f_row10_col2\" class=\"data row10 col2\" >-3.47 %</td>\n",
       "    </tr>\n",
       "    <tr>\n",
       "      <th id=\"T_ddd5f_level0_row11\" class=\"row_heading level0 row11\" >Engenharia software</th>\n",
       "      <td id=\"T_ddd5f_row11_col0\" class=\"data row11 col0\" >-10.29 %</td>\n",
       "      <td id=\"T_ddd5f_row11_col1\" class=\"data row11 col1\" >-15.08 %</td>\n",
       "      <td id=\"T_ddd5f_row11_col2\" class=\"data row11 col2\" >0.16 %</td>\n",
       "    </tr>\n",
       "    <tr>\n",
       "      <th id=\"T_ddd5f_level0_row12\" class=\"row_heading level0 row12\" >Filosofia</th>\n",
       "      <td id=\"T_ddd5f_row12_col0\" class=\"data row12 col0\" >-5.62 %</td>\n",
       "      <td id=\"T_ddd5f_row12_col1\" class=\"data row12 col1\" >-13.43 %</td>\n",
       "      <td id=\"T_ddd5f_row12_col2\" class=\"data row12 col2\" >7.33 %</td>\n",
       "    </tr>\n",
       "    <tr>\n",
       "      <th id=\"T_ddd5f_level0_row13\" class=\"row_heading level0 row13\" >Gestão da informação e do conhecimento</th>\n",
       "      <td id=\"T_ddd5f_row13_col0\" class=\"data row13 col0\" >-16.55 %</td>\n",
       "      <td id=\"T_ddd5f_row13_col1\" class=\"data row13 col1\" >-6.35 %</td>\n",
       "      <td id=\"T_ddd5f_row13_col2\" class=\"data row13 col2\" >4.74 %</td>\n",
       "    </tr>\n",
       "  </tbody>\n",
       "</table>\n"
      ],
      "text/plain": [
       "<pandas.io.formats.style.Styler at 0x1f21a7d8e90>"
      ]
     },
     "execution_count": 599,
     "metadata": {},
     "output_type": "execute_result"
    }
   ],
   "source": [
    "tabela_estilo.format('{:.2f} %').highlight_between(left=0, right=100, axis=1, color='green')"
   ]
  },
  {
   "cell_type": "code",
   "execution_count": 601,
   "id": "3085e0dc",
   "metadata": {},
   "outputs": [
    {
     "data": {
      "text/html": [
       "<style type=\"text/css\">\n",
       "#T_ddd5f_row0_col0, #T_ddd5f_row0_col1, #T_ddd5f_row1_col0, #T_ddd5f_row1_col1, #T_ddd5f_row2_col0, #T_ddd5f_row2_col1, #T_ddd5f_row3_col0, #T_ddd5f_row3_col1, #T_ddd5f_row4_col0, #T_ddd5f_row5_col0, #T_ddd5f_row5_col1, #T_ddd5f_row6_col0, #T_ddd5f_row6_col1, #T_ddd5f_row6_col2, #T_ddd5f_row7_col0, #T_ddd5f_row7_col1, #T_ddd5f_row7_col2, #T_ddd5f_row8_col1, #T_ddd5f_row9_col0, #T_ddd5f_row10_col0, #T_ddd5f_row10_col1, #T_ddd5f_row10_col2, #T_ddd5f_row11_col0, #T_ddd5f_row11_col1, #T_ddd5f_row12_col0, #T_ddd5f_row12_col1, #T_ddd5f_row13_col0, #T_ddd5f_row13_col1 {\n",
       "  background-color: red;\n",
       "  background-color: darkred;\n",
       "}\n",
       "#T_ddd5f_row0_col2, #T_ddd5f_row1_col2, #T_ddd5f_row2_col2, #T_ddd5f_row3_col2, #T_ddd5f_row4_col1, #T_ddd5f_row4_col2, #T_ddd5f_row5_col2, #T_ddd5f_row8_col0, #T_ddd5f_row8_col2, #T_ddd5f_row9_col1, #T_ddd5f_row9_col2, #T_ddd5f_row11_col2, #T_ddd5f_row12_col2, #T_ddd5f_row13_col2 {\n",
       "  background-color: green;\n",
       "}\n",
       "</style>\n",
       "<table id=\"T_ddd5f\">\n",
       "  <thead>\n",
       "    <tr>\n",
       "      <th class=\"index_name level0\" >ano</th>\n",
       "      <th id=\"T_ddd5f_level0_col0\" class=\"col_heading level0 col0\" >2017 - 2018</th>\n",
       "      <th id=\"T_ddd5f_level0_col1\" class=\"col_heading level0 col1\" >2018 - 2019</th>\n",
       "      <th id=\"T_ddd5f_level0_col2\" class=\"col_heading level0 col2\" >2019 - 2022</th>\n",
       "    </tr>\n",
       "    <tr>\n",
       "      <th class=\"index_name level0\" >curso</th>\n",
       "      <th class=\"blank col0\" >&nbsp;</th>\n",
       "      <th class=\"blank col1\" >&nbsp;</th>\n",
       "      <th class=\"blank col2\" >&nbsp;</th>\n",
       "    </tr>\n",
       "  </thead>\n",
       "  <tbody>\n",
       "    <tr>\n",
       "      <th id=\"T_ddd5f_level0_row0\" class=\"row_heading level0 row0\" >Administração</th>\n",
       "      <td id=\"T_ddd5f_row0_col0\" class=\"data row0 col0\" >-8.75 %</td>\n",
       "      <td id=\"T_ddd5f_row0_col1\" class=\"data row0 col1\" >-26.94 %</td>\n",
       "      <td id=\"T_ddd5f_row0_col2\" class=\"data row0 col2\" >12.59 %</td>\n",
       "    </tr>\n",
       "    <tr>\n",
       "      <th id=\"T_ddd5f_level0_row1\" class=\"row_heading level0 row1\" >Arquitetura e urbanismo</th>\n",
       "      <td id=\"T_ddd5f_row1_col0\" class=\"data row1 col0\" >-13.22 %</td>\n",
       "      <td id=\"T_ddd5f_row1_col1\" class=\"data row1 col1\" >-5.16 %</td>\n",
       "      <td id=\"T_ddd5f_row1_col2\" class=\"data row1 col2\" >4.29 %</td>\n",
       "    </tr>\n",
       "    <tr>\n",
       "      <th id=\"T_ddd5f_level0_row2\" class=\"row_heading level0 row2\" >Artes cênicas</th>\n",
       "      <td id=\"T_ddd5f_row2_col0\" class=\"data row2 col0\" >-1.56 %</td>\n",
       "      <td id=\"T_ddd5f_row2_col1\" class=\"data row2 col1\" >-12.97 %</td>\n",
       "      <td id=\"T_ddd5f_row2_col2\" class=\"data row2 col2\" >5.96 %</td>\n",
       "    </tr>\n",
       "    <tr>\n",
       "      <th id=\"T_ddd5f_level0_row3\" class=\"row_heading level0 row3\" >Bioinformática</th>\n",
       "      <td id=\"T_ddd5f_row3_col0\" class=\"data row3 col0\" >-12.60 %</td>\n",
       "      <td id=\"T_ddd5f_row3_col1\" class=\"data row3 col1\" >-4.65 %</td>\n",
       "      <td id=\"T_ddd5f_row3_col2\" class=\"data row3 col2\" >26.14 %</td>\n",
       "    </tr>\n",
       "    <tr>\n",
       "      <th id=\"T_ddd5f_level0_row4\" class=\"row_heading level0 row4\" >Bioquímica</th>\n",
       "      <td id=\"T_ddd5f_row4_col0\" class=\"data row4 col0\" >-15.26 %</td>\n",
       "      <td id=\"T_ddd5f_row4_col1\" class=\"data row4 col1\" >5.81 %</td>\n",
       "      <td id=\"T_ddd5f_row4_col2\" class=\"data row4 col2\" >1.60 %</td>\n",
       "    </tr>\n",
       "    <tr>\n",
       "      <th id=\"T_ddd5f_level0_row5\" class=\"row_heading level0 row5\" >Ciência e engenharia de materiais</th>\n",
       "      <td id=\"T_ddd5f_row5_col0\" class=\"data row5 col0\" >-8.89 %</td>\n",
       "      <td id=\"T_ddd5f_row5_col1\" class=\"data row5 col1\" >-4.83 %</td>\n",
       "      <td id=\"T_ddd5f_row5_col2\" class=\"data row5 col2\" >0.10 %</td>\n",
       "    </tr>\n",
       "    <tr>\n",
       "      <th id=\"T_ddd5f_level0_row6\" class=\"row_heading level0 row6\" >Ciência, tecnologia e inovação</th>\n",
       "      <td id=\"T_ddd5f_row6_col0\" class=\"data row6 col0\" >-2.07 %</td>\n",
       "      <td id=\"T_ddd5f_row6_col1\" class=\"data row6 col1\" >-14.33 %</td>\n",
       "      <td id=\"T_ddd5f_row6_col2\" class=\"data row6 col2\" >-3.26 %</td>\n",
       "    </tr>\n",
       "    <tr>\n",
       "      <th id=\"T_ddd5f_level0_row7\" class=\"row_heading level0 row7\" >Ciências da saúde</th>\n",
       "      <td id=\"T_ddd5f_row7_col0\" class=\"data row7 col0\" >-18.41 %</td>\n",
       "      <td id=\"T_ddd5f_row7_col1\" class=\"data row7 col1\" >-8.11 %</td>\n",
       "      <td id=\"T_ddd5f_row7_col2\" class=\"data row7 col2\" >-5.21 %</td>\n",
       "    </tr>\n",
       "    <tr>\n",
       "      <th id=\"T_ddd5f_level0_row8\" class=\"row_heading level0 row8\" >Ciências odontológicas</th>\n",
       "      <td id=\"T_ddd5f_row8_col0\" class=\"data row8 col0\" >5.22 %</td>\n",
       "      <td id=\"T_ddd5f_row8_col1\" class=\"data row8 col1\" >-15.98 %</td>\n",
       "      <td id=\"T_ddd5f_row8_col2\" class=\"data row8 col2\" >12.70 %</td>\n",
       "    </tr>\n",
       "    <tr>\n",
       "      <th id=\"T_ddd5f_level0_row9\" class=\"row_heading level0 row9\" >Design</th>\n",
       "      <td id=\"T_ddd5f_row9_col0\" class=\"data row9 col0\" >-19.10 %</td>\n",
       "      <td id=\"T_ddd5f_row9_col1\" class=\"data row9 col1\" >0.16 %</td>\n",
       "      <td id=\"T_ddd5f_row9_col2\" class=\"data row9 col2\" >3.20 %</td>\n",
       "    </tr>\n",
       "    <tr>\n",
       "      <th id=\"T_ddd5f_level0_row10\" class=\"row_heading level0 row10\" >Engenharia civil</th>\n",
       "      <td id=\"T_ddd5f_row10_col0\" class=\"data row10 col0\" >-12.92 %</td>\n",
       "      <td id=\"T_ddd5f_row10_col1\" class=\"data row10 col1\" >-4.79 %</td>\n",
       "      <td id=\"T_ddd5f_row10_col2\" class=\"data row10 col2\" >-3.47 %</td>\n",
       "    </tr>\n",
       "    <tr>\n",
       "      <th id=\"T_ddd5f_level0_row11\" class=\"row_heading level0 row11\" >Engenharia software</th>\n",
       "      <td id=\"T_ddd5f_row11_col0\" class=\"data row11 col0\" >-10.29 %</td>\n",
       "      <td id=\"T_ddd5f_row11_col1\" class=\"data row11 col1\" >-15.08 %</td>\n",
       "      <td id=\"T_ddd5f_row11_col2\" class=\"data row11 col2\" >0.16 %</td>\n",
       "    </tr>\n",
       "    <tr>\n",
       "      <th id=\"T_ddd5f_level0_row12\" class=\"row_heading level0 row12\" >Filosofia</th>\n",
       "      <td id=\"T_ddd5f_row12_col0\" class=\"data row12 col0\" >-5.62 %</td>\n",
       "      <td id=\"T_ddd5f_row12_col1\" class=\"data row12 col1\" >-13.43 %</td>\n",
       "      <td id=\"T_ddd5f_row12_col2\" class=\"data row12 col2\" >7.33 %</td>\n",
       "    </tr>\n",
       "    <tr>\n",
       "      <th id=\"T_ddd5f_level0_row13\" class=\"row_heading level0 row13\" >Gestão da informação e do conhecimento</th>\n",
       "      <td id=\"T_ddd5f_row13_col0\" class=\"data row13 col0\" >-16.55 %</td>\n",
       "      <td id=\"T_ddd5f_row13_col1\" class=\"data row13 col1\" >-6.35 %</td>\n",
       "      <td id=\"T_ddd5f_row13_col2\" class=\"data row13 col2\" >4.74 %</td>\n",
       "    </tr>\n",
       "  </tbody>\n",
       "</table>\n"
      ],
      "text/plain": [
       "<pandas.io.formats.style.Styler at 0x1f21a7d8e90>"
      ]
     },
     "execution_count": 601,
     "metadata": {},
     "output_type": "execute_result"
    }
   ],
   "source": [
    "tabela_estilo.format('{:.2f} %').highlight_between(left=-100, right=0, axis=1, color='darkred')"
   ]
  },
  {
   "cell_type": "code",
   "execution_count": 603,
   "id": "22f309a1",
   "metadata": {},
   "outputs": [
    {
     "data": {
      "text/html": [
       "<style type=\"text/css\">\n",
       "#T_ddd5f th {\n",
       "  font-size: 1.4rem;\n",
       "  text-align: center;\n",
       "  font-weight: bold;\n",
       "  color: whitesmoke;\n",
       "  background-color: #001692;\n",
       "  border-radius: 0.25rem;\n",
       "  box-shadow: 0 0 1rem gray;\n",
       "}\n",
       "#T_ddd5f td {\n",
       "  font-size: 1rem;\n",
       "  padding: 0.5rem;\n",
       "  text-align: left;\n",
       "  font-weight: bold;\n",
       "  border-bottom: 0.1rem solid lightgray;\n",
       "}\n",
       "#T_ddd5f_row0_col0, #T_ddd5f_row0_col1, #T_ddd5f_row1_col0, #T_ddd5f_row1_col1, #T_ddd5f_row2_col0, #T_ddd5f_row2_col1, #T_ddd5f_row3_col0, #T_ddd5f_row3_col1, #T_ddd5f_row4_col0, #T_ddd5f_row5_col0, #T_ddd5f_row5_col1, #T_ddd5f_row6_col0, #T_ddd5f_row6_col1, #T_ddd5f_row6_col2, #T_ddd5f_row7_col0, #T_ddd5f_row7_col1, #T_ddd5f_row7_col2, #T_ddd5f_row8_col1, #T_ddd5f_row9_col0, #T_ddd5f_row10_col0, #T_ddd5f_row10_col1, #T_ddd5f_row10_col2, #T_ddd5f_row11_col0, #T_ddd5f_row11_col1, #T_ddd5f_row12_col0, #T_ddd5f_row12_col1, #T_ddd5f_row13_col0, #T_ddd5f_row13_col1 {\n",
       "  background-color: red;\n",
       "  background-color: darkred;\n",
       "}\n",
       "#T_ddd5f_row0_col2, #T_ddd5f_row1_col2, #T_ddd5f_row2_col2, #T_ddd5f_row3_col2, #T_ddd5f_row4_col1, #T_ddd5f_row4_col2, #T_ddd5f_row5_col2, #T_ddd5f_row8_col0, #T_ddd5f_row8_col2, #T_ddd5f_row9_col1, #T_ddd5f_row9_col2, #T_ddd5f_row11_col2, #T_ddd5f_row12_col2, #T_ddd5f_row13_col2 {\n",
       "  background-color: green;\n",
       "}\n",
       "</style>\n",
       "<table id=\"T_ddd5f\">\n",
       "  <thead>\n",
       "    <tr>\n",
       "      <th class=\"index_name level0\" >ano</th>\n",
       "      <th id=\"T_ddd5f_level0_col0\" class=\"col_heading level0 col0\" >2017 - 2018</th>\n",
       "      <th id=\"T_ddd5f_level0_col1\" class=\"col_heading level0 col1\" >2018 - 2019</th>\n",
       "      <th id=\"T_ddd5f_level0_col2\" class=\"col_heading level0 col2\" >2019 - 2022</th>\n",
       "    </tr>\n",
       "    <tr>\n",
       "      <th class=\"index_name level0\" >curso</th>\n",
       "      <th class=\"blank col0\" >&nbsp;</th>\n",
       "      <th class=\"blank col1\" >&nbsp;</th>\n",
       "      <th class=\"blank col2\" >&nbsp;</th>\n",
       "    </tr>\n",
       "  </thead>\n",
       "  <tbody>\n",
       "    <tr>\n",
       "      <th id=\"T_ddd5f_level0_row0\" class=\"row_heading level0 row0\" >Administração</th>\n",
       "      <td id=\"T_ddd5f_row0_col0\" class=\"data row0 col0\" >-8.75 %</td>\n",
       "      <td id=\"T_ddd5f_row0_col1\" class=\"data row0 col1\" >-26.94 %</td>\n",
       "      <td id=\"T_ddd5f_row0_col2\" class=\"data row0 col2\" >12.59 %</td>\n",
       "    </tr>\n",
       "    <tr>\n",
       "      <th id=\"T_ddd5f_level0_row1\" class=\"row_heading level0 row1\" >Arquitetura e urbanismo</th>\n",
       "      <td id=\"T_ddd5f_row1_col0\" class=\"data row1 col0\" >-13.22 %</td>\n",
       "      <td id=\"T_ddd5f_row1_col1\" class=\"data row1 col1\" >-5.16 %</td>\n",
       "      <td id=\"T_ddd5f_row1_col2\" class=\"data row1 col2\" >4.29 %</td>\n",
       "    </tr>\n",
       "    <tr>\n",
       "      <th id=\"T_ddd5f_level0_row2\" class=\"row_heading level0 row2\" >Artes cênicas</th>\n",
       "      <td id=\"T_ddd5f_row2_col0\" class=\"data row2 col0\" >-1.56 %</td>\n",
       "      <td id=\"T_ddd5f_row2_col1\" class=\"data row2 col1\" >-12.97 %</td>\n",
       "      <td id=\"T_ddd5f_row2_col2\" class=\"data row2 col2\" >5.96 %</td>\n",
       "    </tr>\n",
       "    <tr>\n",
       "      <th id=\"T_ddd5f_level0_row3\" class=\"row_heading level0 row3\" >Bioinformática</th>\n",
       "      <td id=\"T_ddd5f_row3_col0\" class=\"data row3 col0\" >-12.60 %</td>\n",
       "      <td id=\"T_ddd5f_row3_col1\" class=\"data row3 col1\" >-4.65 %</td>\n",
       "      <td id=\"T_ddd5f_row3_col2\" class=\"data row3 col2\" >26.14 %</td>\n",
       "    </tr>\n",
       "    <tr>\n",
       "      <th id=\"T_ddd5f_level0_row4\" class=\"row_heading level0 row4\" >Bioquímica</th>\n",
       "      <td id=\"T_ddd5f_row4_col0\" class=\"data row4 col0\" >-15.26 %</td>\n",
       "      <td id=\"T_ddd5f_row4_col1\" class=\"data row4 col1\" >5.81 %</td>\n",
       "      <td id=\"T_ddd5f_row4_col2\" class=\"data row4 col2\" >1.60 %</td>\n",
       "    </tr>\n",
       "    <tr>\n",
       "      <th id=\"T_ddd5f_level0_row5\" class=\"row_heading level0 row5\" >Ciência e engenharia de materiais</th>\n",
       "      <td id=\"T_ddd5f_row5_col0\" class=\"data row5 col0\" >-8.89 %</td>\n",
       "      <td id=\"T_ddd5f_row5_col1\" class=\"data row5 col1\" >-4.83 %</td>\n",
       "      <td id=\"T_ddd5f_row5_col2\" class=\"data row5 col2\" >0.10 %</td>\n",
       "    </tr>\n",
       "    <tr>\n",
       "      <th id=\"T_ddd5f_level0_row6\" class=\"row_heading level0 row6\" >Ciência, tecnologia e inovação</th>\n",
       "      <td id=\"T_ddd5f_row6_col0\" class=\"data row6 col0\" >-2.07 %</td>\n",
       "      <td id=\"T_ddd5f_row6_col1\" class=\"data row6 col1\" >-14.33 %</td>\n",
       "      <td id=\"T_ddd5f_row6_col2\" class=\"data row6 col2\" >-3.26 %</td>\n",
       "    </tr>\n",
       "    <tr>\n",
       "      <th id=\"T_ddd5f_level0_row7\" class=\"row_heading level0 row7\" >Ciências da saúde</th>\n",
       "      <td id=\"T_ddd5f_row7_col0\" class=\"data row7 col0\" >-18.41 %</td>\n",
       "      <td id=\"T_ddd5f_row7_col1\" class=\"data row7 col1\" >-8.11 %</td>\n",
       "      <td id=\"T_ddd5f_row7_col2\" class=\"data row7 col2\" >-5.21 %</td>\n",
       "    </tr>\n",
       "    <tr>\n",
       "      <th id=\"T_ddd5f_level0_row8\" class=\"row_heading level0 row8\" >Ciências odontológicas</th>\n",
       "      <td id=\"T_ddd5f_row8_col0\" class=\"data row8 col0\" >5.22 %</td>\n",
       "      <td id=\"T_ddd5f_row8_col1\" class=\"data row8 col1\" >-15.98 %</td>\n",
       "      <td id=\"T_ddd5f_row8_col2\" class=\"data row8 col2\" >12.70 %</td>\n",
       "    </tr>\n",
       "    <tr>\n",
       "      <th id=\"T_ddd5f_level0_row9\" class=\"row_heading level0 row9\" >Design</th>\n",
       "      <td id=\"T_ddd5f_row9_col0\" class=\"data row9 col0\" >-19.10 %</td>\n",
       "      <td id=\"T_ddd5f_row9_col1\" class=\"data row9 col1\" >0.16 %</td>\n",
       "      <td id=\"T_ddd5f_row9_col2\" class=\"data row9 col2\" >3.20 %</td>\n",
       "    </tr>\n",
       "    <tr>\n",
       "      <th id=\"T_ddd5f_level0_row10\" class=\"row_heading level0 row10\" >Engenharia civil</th>\n",
       "      <td id=\"T_ddd5f_row10_col0\" class=\"data row10 col0\" >-12.92 %</td>\n",
       "      <td id=\"T_ddd5f_row10_col1\" class=\"data row10 col1\" >-4.79 %</td>\n",
       "      <td id=\"T_ddd5f_row10_col2\" class=\"data row10 col2\" >-3.47 %</td>\n",
       "    </tr>\n",
       "    <tr>\n",
       "      <th id=\"T_ddd5f_level0_row11\" class=\"row_heading level0 row11\" >Engenharia software</th>\n",
       "      <td id=\"T_ddd5f_row11_col0\" class=\"data row11 col0\" >-10.29 %</td>\n",
       "      <td id=\"T_ddd5f_row11_col1\" class=\"data row11 col1\" >-15.08 %</td>\n",
       "      <td id=\"T_ddd5f_row11_col2\" class=\"data row11 col2\" >0.16 %</td>\n",
       "    </tr>\n",
       "    <tr>\n",
       "      <th id=\"T_ddd5f_level0_row12\" class=\"row_heading level0 row12\" >Filosofia</th>\n",
       "      <td id=\"T_ddd5f_row12_col0\" class=\"data row12 col0\" >-5.62 %</td>\n",
       "      <td id=\"T_ddd5f_row12_col1\" class=\"data row12 col1\" >-13.43 %</td>\n",
       "      <td id=\"T_ddd5f_row12_col2\" class=\"data row12 col2\" >7.33 %</td>\n",
       "    </tr>\n",
       "    <tr>\n",
       "      <th id=\"T_ddd5f_level0_row13\" class=\"row_heading level0 row13\" >Gestão da informação e do conhecimento</th>\n",
       "      <td id=\"T_ddd5f_row13_col0\" class=\"data row13 col0\" >-16.55 %</td>\n",
       "      <td id=\"T_ddd5f_row13_col1\" class=\"data row13 col1\" >-6.35 %</td>\n",
       "      <td id=\"T_ddd5f_row13_col2\" class=\"data row13 col2\" >4.74 %</td>\n",
       "    </tr>\n",
       "  </tbody>\n",
       "</table>\n"
      ],
      "text/plain": [
       "<pandas.io.formats.style.Styler at 0x1f21a7d8e90>"
      ]
     },
     "execution_count": 603,
     "metadata": {},
     "output_type": "execute_result"
    }
   ],
   "source": [
    "cabecalho = {\n",
    "    'selector': 'th',\n",
    "    'props': 'font-size: 1.4rem; text-align: center; font-weight: bold; color: whitesmoke; background-color: #001692; border-radius: 0.25rem; box-shadow: 0 0 1rem gray'\n",
    "}\n",
    "\n",
    "corpo = {\n",
    "    'selector': 'td',\n",
    "    'props': 'font-size: 1rem; padding: 0.5rem; text-align: left; font-weight: bold; border-bottom: 0.1rem solid lightgray'\n",
    "}\n",
    "\n",
    "tabela_estilo.set_table_styles([cabecalho, corpo], overwrite=False)"
   ]
  }
 ],
 "metadata": {
  "kernelspec": {
   "display_name": "Python 3",
   "language": "python",
   "name": "python3"
  },
  "language_info": {
   "codemirror_mode": {
    "name": "ipython",
    "version": 3
   },
   "file_extension": ".py",
   "mimetype": "text/x-python",
   "name": "python",
   "nbconvert_exporter": "python",
   "pygments_lexer": "ipython3",
   "version": "3.13.3"
  }
 },
 "nbformat": 4,
 "nbformat_minor": 5
}
