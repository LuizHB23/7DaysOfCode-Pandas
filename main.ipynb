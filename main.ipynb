{
 "cells": [
  {
   "cell_type": "markdown",
   "id": "5dce48c4",
   "metadata": {},
   "source": [
    "Dia 1\n",
    "\n",
    "O desafio consiste em apenas unificar todos os dados de empréstimo em um único DataFrame e mesclar os dados exemplares ao DataFrame criado, relacionando o código de barras de cada livro."
   ]
  },
  {
   "cell_type": "code",
   "execution_count": 163,
   "id": "d62da6fd",
   "metadata": {},
   "outputs": [],
   "source": [
    "import pandas as pd"
   ]
  },
  {
   "cell_type": "code",
   "execution_count": 164,
   "id": "5b95192c",
   "metadata": {},
   "outputs": [],
   "source": [
    "lista_emprestimos = ['./Datasets/dados_emprestimos/emprestimos-20101.csv', './Datasets/dados_emprestimos/emprestimos-20102.csv', \n",
    "                     './Datasets/dados_emprestimos/emprestimos-20111.csv', './Datasets/dados_emprestimos/emprestimos-20112.csv',\n",
    "                     './Datasets/dados_emprestimos/emprestimos-20121.csv', './Datasets/dados_emprestimos/emprestimos-20122.csv',\n",
    "                     './Datasets/dados_emprestimos/emprestimos-20131.csv', './Datasets/dados_emprestimos/emprestimos-20132.csv',\n",
    "                     './Datasets/dados_emprestimos/emprestimos-20141.csv', './Datasets/dados_emprestimos/emprestimos-20142.csv',\n",
    "                     './Datasets/dados_emprestimos/emprestimos-20151.csv', './Datasets/dados_emprestimos/emprestimos-20152.csv',\n",
    "                     './Datasets/dados_emprestimos/emprestimos-20161.csv', './Datasets/dados_emprestimos/emprestimos-20162.csv',\n",
    "                     './Datasets/dados_emprestimos/emprestimos-20171.csv', './Datasets/dados_emprestimos/emprestimos-20172.csv', \n",
    "                     './Datasets/dados_emprestimos/emprestimos-20181.csv', './Datasets/dados_emprestimos/emprestimos-20182.csv',\n",
    "                     './Datasets/dados_emprestimos/emprestimos-20191.csv', './Datasets/dados_emprestimos/emprestimos-20192.csv',\n",
    "                     './Datasets/dados_emprestimos/emprestimos-20201.csv']\n",
    "\n",
    "emprestimos = pd.read_csv(lista_emprestimos[0])"
   ]
  },
  {
   "cell_type": "code",
   "execution_count": 165,
   "id": "5875ad8a",
   "metadata": {},
   "outputs": [],
   "source": [
    "for i in range(len(lista_emprestimos)):\n",
    "    dados = pd.read_csv(lista_emprestimos[i])\n",
    "    emprestimos = pd.concat([emprestimos, dados], axis=0, join='outer', sort=True)\n"
   ]
  },
  {
   "cell_type": "code",
   "execution_count": 166,
   "id": "b4e2abda",
   "metadata": {},
   "outputs": [
    {
     "name": "stdout",
     "output_type": "stream",
     "text": [
      "<class 'pandas.core.frame.DataFrame'>\n",
      "Index: 2353375 entries, 0 to 26560\n",
      "Data columns (total 7 columns):\n",
      " #   Column                Dtype  \n",
      "---  ------                -----  \n",
      " 0   codigo_barras         object \n",
      " 1   data_devolucao        object \n",
      " 2   data_emprestimo       object \n",
      " 3   data_renovacao        object \n",
      " 4   id_emprestimo         int64  \n",
      " 5   matricula_ou_siape    float64\n",
      " 6   tipo_vinculo_usuario  object \n",
      "dtypes: float64(1), int64(1), object(5)\n",
      "memory usage: 143.6+ MB\n"
     ]
    }
   ],
   "source": [
    "emprestimos.info()"
   ]
  },
  {
   "cell_type": "code",
   "execution_count": 167,
   "id": "c3a4b87c",
   "metadata": {},
   "outputs": [],
   "source": [
    "dados_exemplares = pd.read_parquet('./Datasets/dados_exemplares.parquet')\n",
    "\n",
    "emprestimos = pd.merge(emprestimos, dados_exemplares, how='outer', sort=True)"
   ]
  },
  {
   "cell_type": "code",
   "execution_count": 168,
   "id": "6df7a24b",
   "metadata": {},
   "outputs": [
    {
     "name": "stdout",
     "output_type": "stream",
     "text": [
      "<class 'pandas.core.frame.DataFrame'>\n",
      "RangeIndex: 2664721 entries, 0 to 2664720\n",
      "Data columns (total 13 columns):\n",
      " #   Column                Dtype  \n",
      "---  ------                -----  \n",
      " 0   codigo_barras         object \n",
      " 1   data_devolucao        object \n",
      " 2   data_emprestimo       object \n",
      " 3   data_renovacao        object \n",
      " 4   id_emprestimo         float64\n",
      " 5   matricula_ou_siape    float64\n",
      " 6   tipo_vinculo_usuario  object \n",
      " 7   id_exemplar           float64\n",
      " 8   colecao               object \n",
      " 9   biblioteca            object \n",
      " 10  status_material       object \n",
      " 11  localizacao           float64\n",
      " 12  registro_sistema      float64\n",
      "dtypes: float64(5), object(8)\n",
      "memory usage: 264.3+ MB\n"
     ]
    }
   ],
   "source": [
    "emprestimos.info()"
   ]
  },
  {
   "cell_type": "code",
   "execution_count": 169,
   "id": "63ee66f3",
   "metadata": {},
   "outputs": [
    {
     "data": {
      "text/html": [
       "<div>\n",
       "<style scoped>\n",
       "    .dataframe tbody tr th:only-of-type {\n",
       "        vertical-align: middle;\n",
       "    }\n",
       "\n",
       "    .dataframe tbody tr th {\n",
       "        vertical-align: top;\n",
       "    }\n",
       "\n",
       "    .dataframe thead th {\n",
       "        text-align: right;\n",
       "    }\n",
       "</style>\n",
       "<table border=\"1\" class=\"dataframe\">\n",
       "  <thead>\n",
       "    <tr style=\"text-align: right;\">\n",
       "      <th></th>\n",
       "      <th>id_emprestimo</th>\n",
       "      <th>id_exemplar</th>\n",
       "      <th>codigo_barras</th>\n",
       "      <th>data_emprestimo</th>\n",
       "      <th>data_devolucao</th>\n",
       "      <th>data_renovacao</th>\n",
       "      <th>matricula_ou_siape</th>\n",
       "      <th>tipo_vinculo_usuario</th>\n",
       "      <th>colecao</th>\n",
       "      <th>biblioteca</th>\n",
       "      <th>status_material</th>\n",
       "      <th>localizacao</th>\n",
       "      <th>registro_sistema</th>\n",
       "    </tr>\n",
       "  </thead>\n",
       "  <tbody>\n",
       "    <tr>\n",
       "      <th>0</th>\n",
       "      <td>709684.0</td>\n",
       "      <td>13259.0</td>\n",
       "      <td>L095049</td>\n",
       "      <td>2010/01/04 07:44:10.721000000</td>\n",
       "      <td>2010/01/05 16:26:12.662000000</td>\n",
       "      <td>NaN</td>\n",
       "      <td>2.008023e+09</td>\n",
       "      <td>ALUNO DE GRADUAÇÃO</td>\n",
       "      <td>Acervo Circulante</td>\n",
       "      <td>Biblioteca Central Zila Mamede</td>\n",
       "      <td>REGULAR</td>\n",
       "      <td>630.0</td>\n",
       "      <td>4225.0</td>\n",
       "    </tr>\n",
       "    <tr>\n",
       "      <th>1</th>\n",
       "      <td>709684.0</td>\n",
       "      <td>13259.0</td>\n",
       "      <td>L095049</td>\n",
       "      <td>2010/01/04 07:44:10.721000000</td>\n",
       "      <td>2010/01/05 16:26:12.662000000</td>\n",
       "      <td>NaN</td>\n",
       "      <td>2.008023e+09</td>\n",
       "      <td>ALUNO DE GRADUAÇÃO</td>\n",
       "      <td>Acervo Circulante</td>\n",
       "      <td>Biblioteca Central Zila Mamede</td>\n",
       "      <td>REGULAR</td>\n",
       "      <td>630.0</td>\n",
       "      <td>4225.0</td>\n",
       "    </tr>\n",
       "    <tr>\n",
       "      <th>2</th>\n",
       "      <td>709684.0</td>\n",
       "      <td>13259.0</td>\n",
       "      <td>L095049</td>\n",
       "      <td>2010/01/04 07:44:10.721000000</td>\n",
       "      <td>2010/01/05 16:26:12.662000000</td>\n",
       "      <td>NaN</td>\n",
       "      <td>2.008023e+09</td>\n",
       "      <td>ALUNO DE GRADUAÇÃO</td>\n",
       "      <td>Acervo Circulante</td>\n",
       "      <td>Biblioteca Central Zila Mamede</td>\n",
       "      <td>REGULAR</td>\n",
       "      <td>630.0</td>\n",
       "      <td>4225.0</td>\n",
       "    </tr>\n",
       "    <tr>\n",
       "      <th>3</th>\n",
       "      <td>709684.0</td>\n",
       "      <td>13259.0</td>\n",
       "      <td>L095049</td>\n",
       "      <td>2010/01/04 07:44:10.721000000</td>\n",
       "      <td>2010/01/05 16:26:12.662000000</td>\n",
       "      <td>NaN</td>\n",
       "      <td>2.008023e+09</td>\n",
       "      <td>ALUNO DE GRADUAÇÃO</td>\n",
       "      <td>Acervo Circulante</td>\n",
       "      <td>Biblioteca Central Zila Mamede</td>\n",
       "      <td>REGULAR</td>\n",
       "      <td>630.0</td>\n",
       "      <td>4225.0</td>\n",
       "    </tr>\n",
       "    <tr>\n",
       "      <th>4</th>\n",
       "      <td>709685.0</td>\n",
       "      <td>70865.0</td>\n",
       "      <td>L167050</td>\n",
       "      <td>2010/01/04 07:44:10.750000000</td>\n",
       "      <td>2010/01/12 07:34:13.934000000</td>\n",
       "      <td>NaN</td>\n",
       "      <td>2.008023e+09</td>\n",
       "      <td>ALUNO DE GRADUAÇÃO</td>\n",
       "      <td>Acervo Circulante</td>\n",
       "      <td>Biblioteca Central Zila Mamede</td>\n",
       "      <td>REGULAR</td>\n",
       "      <td>647.0</td>\n",
       "      <td>25009.0</td>\n",
       "    </tr>\n",
       "  </tbody>\n",
       "</table>\n",
       "</div>"
      ],
      "text/plain": [
       "   id_emprestimo  id_exemplar codigo_barras                data_emprestimo  \\\n",
       "0       709684.0      13259.0       L095049  2010/01/04 07:44:10.721000000   \n",
       "1       709684.0      13259.0       L095049  2010/01/04 07:44:10.721000000   \n",
       "2       709684.0      13259.0       L095049  2010/01/04 07:44:10.721000000   \n",
       "3       709684.0      13259.0       L095049  2010/01/04 07:44:10.721000000   \n",
       "4       709685.0      70865.0       L167050  2010/01/04 07:44:10.750000000   \n",
       "\n",
       "                  data_devolucao data_renovacao  matricula_ou_siape  \\\n",
       "0  2010/01/05 16:26:12.662000000            NaN        2.008023e+09   \n",
       "1  2010/01/05 16:26:12.662000000            NaN        2.008023e+09   \n",
       "2  2010/01/05 16:26:12.662000000            NaN        2.008023e+09   \n",
       "3  2010/01/05 16:26:12.662000000            NaN        2.008023e+09   \n",
       "4  2010/01/12 07:34:13.934000000            NaN        2.008023e+09   \n",
       "\n",
       "  tipo_vinculo_usuario            colecao                      biblioteca  \\\n",
       "0   ALUNO DE GRADUAÇÃO  Acervo Circulante  Biblioteca Central Zila Mamede   \n",
       "1   ALUNO DE GRADUAÇÃO  Acervo Circulante  Biblioteca Central Zila Mamede   \n",
       "2   ALUNO DE GRADUAÇÃO  Acervo Circulante  Biblioteca Central Zila Mamede   \n",
       "3   ALUNO DE GRADUAÇÃO  Acervo Circulante  Biblioteca Central Zila Mamede   \n",
       "4   ALUNO DE GRADUAÇÃO  Acervo Circulante  Biblioteca Central Zila Mamede   \n",
       "\n",
       "  status_material  localizacao  registro_sistema  \n",
       "0         REGULAR        630.0            4225.0  \n",
       "1         REGULAR        630.0            4225.0  \n",
       "2         REGULAR        630.0            4225.0  \n",
       "3         REGULAR        630.0            4225.0  \n",
       "4         REGULAR        647.0           25009.0  "
      ]
     },
     "execution_count": 169,
     "metadata": {},
     "output_type": "execute_result"
    }
   ],
   "source": [
    "emprestimos = emprestimos[['id_emprestimo', 'id_exemplar', 'codigo_barras', 'data_emprestimo', 'data_devolucao', 'data_renovacao',\n",
    "                          'matricula_ou_siape', 'tipo_vinculo_usuario',\n",
    "                          'colecao', 'biblioteca', 'status_material',\n",
    "                          'localizacao', 'registro_sistema']]\n",
    "\n",
    "emprestimos.sort_values('id_emprestimo', inplace=True)\n",
    "emprestimos.reset_index(drop=True, inplace=True)\n",
    "emprestimos.head()\n"
   ]
  },
  {
   "cell_type": "code",
   "execution_count": 170,
   "id": "7c6cbc4d",
   "metadata": {},
   "outputs": [
    {
     "name": "stdout",
     "output_type": "stream",
     "text": [
      "95435\n"
     ]
    }
   ],
   "source": [
    "print(emprestimos.duplicated().sum())"
   ]
  },
  {
   "cell_type": "code",
   "execution_count": 171,
   "id": "4e4528fc",
   "metadata": {},
   "outputs": [
    {
     "data": {
      "text/html": [
       "<div>\n",
       "<style scoped>\n",
       "    .dataframe tbody tr th:only-of-type {\n",
       "        vertical-align: middle;\n",
       "    }\n",
       "\n",
       "    .dataframe tbody tr th {\n",
       "        vertical-align: top;\n",
       "    }\n",
       "\n",
       "    .dataframe thead th {\n",
       "        text-align: right;\n",
       "    }\n",
       "</style>\n",
       "<table border=\"1\" class=\"dataframe\">\n",
       "  <thead>\n",
       "    <tr style=\"text-align: right;\">\n",
       "      <th></th>\n",
       "      <th>id_emprestimo</th>\n",
       "      <th>id_exemplar</th>\n",
       "      <th>codigo_barras</th>\n",
       "      <th>data_emprestimo</th>\n",
       "      <th>data_devolucao</th>\n",
       "      <th>data_renovacao</th>\n",
       "      <th>matricula_ou_siape</th>\n",
       "      <th>tipo_vinculo_usuario</th>\n",
       "      <th>colecao</th>\n",
       "      <th>biblioteca</th>\n",
       "      <th>status_material</th>\n",
       "      <th>localizacao</th>\n",
       "      <th>registro_sistema</th>\n",
       "    </tr>\n",
       "  </thead>\n",
       "  <tbody>\n",
       "    <tr>\n",
       "      <th>0</th>\n",
       "      <td>709684.0</td>\n",
       "      <td>13259.0</td>\n",
       "      <td>L095049</td>\n",
       "      <td>2010/01/04 07:44:10.721000000</td>\n",
       "      <td>2010/01/05 16:26:12.662000000</td>\n",
       "      <td>NaN</td>\n",
       "      <td>2.008023e+09</td>\n",
       "      <td>ALUNO DE GRADUAÇÃO</td>\n",
       "      <td>Acervo Circulante</td>\n",
       "      <td>Biblioteca Central Zila Mamede</td>\n",
       "      <td>REGULAR</td>\n",
       "      <td>630.0</td>\n",
       "      <td>4225.0</td>\n",
       "    </tr>\n",
       "    <tr>\n",
       "      <th>1</th>\n",
       "      <td>709685.0</td>\n",
       "      <td>70865.0</td>\n",
       "      <td>L167050</td>\n",
       "      <td>2010/01/04 07:44:10.750000000</td>\n",
       "      <td>2010/01/12 07:34:13.934000000</td>\n",
       "      <td>NaN</td>\n",
       "      <td>2.008023e+09</td>\n",
       "      <td>ALUNO DE GRADUAÇÃO</td>\n",
       "      <td>Acervo Circulante</td>\n",
       "      <td>Biblioteca Central Zila Mamede</td>\n",
       "      <td>REGULAR</td>\n",
       "      <td>647.0</td>\n",
       "      <td>25009.0</td>\n",
       "    </tr>\n",
       "    <tr>\n",
       "      <th>2</th>\n",
       "      <td>709686.0</td>\n",
       "      <td>195347.0</td>\n",
       "      <td>2006017618</td>\n",
       "      <td>2010/01/04 08:08:44.081000000</td>\n",
       "      <td>2010/02/25 07:36:25.800000000</td>\n",
       "      <td>2010/01/26 08:07:01.738000000</td>\n",
       "      <td>2.008112e+09</td>\n",
       "      <td>ALUNO DE PÓS-GRADUAÇÃO</td>\n",
       "      <td>Acervo Circulante</td>\n",
       "      <td>Biblioteca Setorial Prof. Rodolfo Helinski - E...</td>\n",
       "      <td>REGULAR</td>\n",
       "      <td>640.0</td>\n",
       "      <td>75019.0</td>\n",
       "    </tr>\n",
       "    <tr>\n",
       "      <th>3</th>\n",
       "      <td>709687.0</td>\n",
       "      <td>131639.0</td>\n",
       "      <td>L184117</td>\n",
       "      <td>2010/01/04 08:24:21.284000000</td>\n",
       "      <td>2010/02/03 08:58:45.692000000</td>\n",
       "      <td>2010/01/18 11:07:46.470000000</td>\n",
       "      <td>2.007211e+08</td>\n",
       "      <td>ALUNO DE GRADUAÇÃO</td>\n",
       "      <td>Acervo Circulante</td>\n",
       "      <td>Biblioteca Central Zila Mamede</td>\n",
       "      <td>REGULAR</td>\n",
       "      <td>609.0</td>\n",
       "      <td>44494.0</td>\n",
       "    </tr>\n",
       "    <tr>\n",
       "      <th>4</th>\n",
       "      <td>709688.0</td>\n",
       "      <td>225646.0</td>\n",
       "      <td>2007027500</td>\n",
       "      <td>2010/01/04 08:27:33.569000000</td>\n",
       "      <td>2010/02/03 13:06:30.662000000</td>\n",
       "      <td>2010/01/19 15:59:26.464000000</td>\n",
       "      <td>2.009046e+09</td>\n",
       "      <td>ALUNO DE GRADUAÇÃO</td>\n",
       "      <td>Acervo Circulante</td>\n",
       "      <td>Biblioteca Central Zila Mamede</td>\n",
       "      <td>REGULAR</td>\n",
       "      <td>686.0</td>\n",
       "      <td>91736.0</td>\n",
       "    </tr>\n",
       "  </tbody>\n",
       "</table>\n",
       "</div>"
      ],
      "text/plain": [
       "   id_emprestimo  id_exemplar codigo_barras                data_emprestimo  \\\n",
       "0       709684.0      13259.0       L095049  2010/01/04 07:44:10.721000000   \n",
       "1       709685.0      70865.0       L167050  2010/01/04 07:44:10.750000000   \n",
       "2       709686.0     195347.0    2006017618  2010/01/04 08:08:44.081000000   \n",
       "3       709687.0     131639.0       L184117  2010/01/04 08:24:21.284000000   \n",
       "4       709688.0     225646.0    2007027500  2010/01/04 08:27:33.569000000   \n",
       "\n",
       "                  data_devolucao                 data_renovacao  \\\n",
       "0  2010/01/05 16:26:12.662000000                            NaN   \n",
       "1  2010/01/12 07:34:13.934000000                            NaN   \n",
       "2  2010/02/25 07:36:25.800000000  2010/01/26 08:07:01.738000000   \n",
       "3  2010/02/03 08:58:45.692000000  2010/01/18 11:07:46.470000000   \n",
       "4  2010/02/03 13:06:30.662000000  2010/01/19 15:59:26.464000000   \n",
       "\n",
       "   matricula_ou_siape    tipo_vinculo_usuario            colecao  \\\n",
       "0        2.008023e+09      ALUNO DE GRADUAÇÃO  Acervo Circulante   \n",
       "1        2.008023e+09      ALUNO DE GRADUAÇÃO  Acervo Circulante   \n",
       "2        2.008112e+09  ALUNO DE PÓS-GRADUAÇÃO  Acervo Circulante   \n",
       "3        2.007211e+08      ALUNO DE GRADUAÇÃO  Acervo Circulante   \n",
       "4        2.009046e+09      ALUNO DE GRADUAÇÃO  Acervo Circulante   \n",
       "\n",
       "                                          biblioteca status_material  \\\n",
       "0                     Biblioteca Central Zila Mamede         REGULAR   \n",
       "1                     Biblioteca Central Zila Mamede         REGULAR   \n",
       "2  Biblioteca Setorial Prof. Rodolfo Helinski - E...         REGULAR   \n",
       "3                     Biblioteca Central Zila Mamede         REGULAR   \n",
       "4                     Biblioteca Central Zila Mamede         REGULAR   \n",
       "\n",
       "   localizacao  registro_sistema  \n",
       "0        630.0            4225.0  \n",
       "1        647.0           25009.0  \n",
       "2        640.0           75019.0  \n",
       "3        609.0           44494.0  \n",
       "4        686.0           91736.0  "
      ]
     },
     "execution_count": 171,
     "metadata": {},
     "output_type": "execute_result"
    }
   ],
   "source": [
    "emprestimos.drop_duplicates(inplace=True)\n",
    "emprestimos.reset_index(drop=True, inplace=True)\n",
    "emprestimos.head()"
   ]
  },
  {
   "cell_type": "markdown",
   "id": "ddf9a821",
   "metadata": {},
   "source": [
    "Dia 2\n",
    "\n",
    "O desafio consistia em atualizar os dados do DataFrame criando uma nova coluna relacionando as identificações dos números da coluna \"localizacao\" com base no CDU geral:\n",
    "\n",
    ".000 a 099: Generalidades. Ciência e conhecimento.\n",
    "\n",
    ".100 a 199: Filosofia e psicologia.\n",
    "\n",
    ".200 a 299: Religião.\n",
    "\n",
    ".300 a 399: Ciências sociais.\n",
    "\n",
    ".400 a 499: Classe vaga. Provisoriamente não ocupada.\n",
    "\n",
    ".500 a 599: Matemática e ciências naturais.\n",
    "\n",
    ".600 a 699: Ciências aplicadas.\n",
    "\n",
    ".700 a 799: Belas artes.\n",
    "\n",
    ".800 a 899: Linguagem. Língua. Linguística.\n",
    "\n",
    ".900 a 999: Geografia. Biografia. História.\n",
    "\n",
    "Além do mais, precisará ainda excluir a coluna \"registro_sistema\" que não está fazendo sentido para essa análise e modificar a coluna da matricula (“matricula_ou_siape”) que não está com um formato muito legível, transformando-a em formato 'String'."
   ]
  },
  {
   "cell_type": "code",
   "execution_count": 172,
   "id": "98ac6c99",
   "metadata": {},
   "outputs": [
    {
     "data": {
      "text/html": [
       "<div>\n",
       "<style scoped>\n",
       "    .dataframe tbody tr th:only-of-type {\n",
       "        vertical-align: middle;\n",
       "    }\n",
       "\n",
       "    .dataframe tbody tr th {\n",
       "        vertical-align: top;\n",
       "    }\n",
       "\n",
       "    .dataframe thead th {\n",
       "        text-align: right;\n",
       "    }\n",
       "</style>\n",
       "<table border=\"1\" class=\"dataframe\">\n",
       "  <thead>\n",
       "    <tr style=\"text-align: right;\">\n",
       "      <th></th>\n",
       "      <th>id_emprestimo</th>\n",
       "      <th>id_exemplar</th>\n",
       "      <th>codigo_barras</th>\n",
       "      <th>data_emprestimo</th>\n",
       "      <th>data_devolucao</th>\n",
       "      <th>data_renovacao</th>\n",
       "      <th>matricula_ou_siape</th>\n",
       "      <th>tipo_vinculo_usuario</th>\n",
       "      <th>colecao</th>\n",
       "      <th>biblioteca</th>\n",
       "      <th>status_material</th>\n",
       "      <th>localizacao</th>\n",
       "    </tr>\n",
       "  </thead>\n",
       "  <tbody>\n",
       "    <tr>\n",
       "      <th>0</th>\n",
       "      <td>709684.0</td>\n",
       "      <td>13259.0</td>\n",
       "      <td>L095049</td>\n",
       "      <td>2010/01/04 07:44:10.721000000</td>\n",
       "      <td>2010/01/05 16:26:12.662000000</td>\n",
       "      <td>NaN</td>\n",
       "      <td>2.008023e+09</td>\n",
       "      <td>ALUNO DE GRADUAÇÃO</td>\n",
       "      <td>Acervo Circulante</td>\n",
       "      <td>Biblioteca Central Zila Mamede</td>\n",
       "      <td>REGULAR</td>\n",
       "      <td>630.0</td>\n",
       "    </tr>\n",
       "    <tr>\n",
       "      <th>1</th>\n",
       "      <td>709685.0</td>\n",
       "      <td>70865.0</td>\n",
       "      <td>L167050</td>\n",
       "      <td>2010/01/04 07:44:10.750000000</td>\n",
       "      <td>2010/01/12 07:34:13.934000000</td>\n",
       "      <td>NaN</td>\n",
       "      <td>2.008023e+09</td>\n",
       "      <td>ALUNO DE GRADUAÇÃO</td>\n",
       "      <td>Acervo Circulante</td>\n",
       "      <td>Biblioteca Central Zila Mamede</td>\n",
       "      <td>REGULAR</td>\n",
       "      <td>647.0</td>\n",
       "    </tr>\n",
       "    <tr>\n",
       "      <th>2</th>\n",
       "      <td>709686.0</td>\n",
       "      <td>195347.0</td>\n",
       "      <td>2006017618</td>\n",
       "      <td>2010/01/04 08:08:44.081000000</td>\n",
       "      <td>2010/02/25 07:36:25.800000000</td>\n",
       "      <td>2010/01/26 08:07:01.738000000</td>\n",
       "      <td>2.008112e+09</td>\n",
       "      <td>ALUNO DE PÓS-GRADUAÇÃO</td>\n",
       "      <td>Acervo Circulante</td>\n",
       "      <td>Biblioteca Setorial Prof. Rodolfo Helinski - E...</td>\n",
       "      <td>REGULAR</td>\n",
       "      <td>640.0</td>\n",
       "    </tr>\n",
       "    <tr>\n",
       "      <th>3</th>\n",
       "      <td>709687.0</td>\n",
       "      <td>131639.0</td>\n",
       "      <td>L184117</td>\n",
       "      <td>2010/01/04 08:24:21.284000000</td>\n",
       "      <td>2010/02/03 08:58:45.692000000</td>\n",
       "      <td>2010/01/18 11:07:46.470000000</td>\n",
       "      <td>2.007211e+08</td>\n",
       "      <td>ALUNO DE GRADUAÇÃO</td>\n",
       "      <td>Acervo Circulante</td>\n",
       "      <td>Biblioteca Central Zila Mamede</td>\n",
       "      <td>REGULAR</td>\n",
       "      <td>609.0</td>\n",
       "    </tr>\n",
       "    <tr>\n",
       "      <th>4</th>\n",
       "      <td>709688.0</td>\n",
       "      <td>225646.0</td>\n",
       "      <td>2007027500</td>\n",
       "      <td>2010/01/04 08:27:33.569000000</td>\n",
       "      <td>2010/02/03 13:06:30.662000000</td>\n",
       "      <td>2010/01/19 15:59:26.464000000</td>\n",
       "      <td>2.009046e+09</td>\n",
       "      <td>ALUNO DE GRADUAÇÃO</td>\n",
       "      <td>Acervo Circulante</td>\n",
       "      <td>Biblioteca Central Zila Mamede</td>\n",
       "      <td>REGULAR</td>\n",
       "      <td>686.0</td>\n",
       "    </tr>\n",
       "  </tbody>\n",
       "</table>\n",
       "</div>"
      ],
      "text/plain": [
       "   id_emprestimo  id_exemplar codigo_barras                data_emprestimo  \\\n",
       "0       709684.0      13259.0       L095049  2010/01/04 07:44:10.721000000   \n",
       "1       709685.0      70865.0       L167050  2010/01/04 07:44:10.750000000   \n",
       "2       709686.0     195347.0    2006017618  2010/01/04 08:08:44.081000000   \n",
       "3       709687.0     131639.0       L184117  2010/01/04 08:24:21.284000000   \n",
       "4       709688.0     225646.0    2007027500  2010/01/04 08:27:33.569000000   \n",
       "\n",
       "                  data_devolucao                 data_renovacao  \\\n",
       "0  2010/01/05 16:26:12.662000000                            NaN   \n",
       "1  2010/01/12 07:34:13.934000000                            NaN   \n",
       "2  2010/02/25 07:36:25.800000000  2010/01/26 08:07:01.738000000   \n",
       "3  2010/02/03 08:58:45.692000000  2010/01/18 11:07:46.470000000   \n",
       "4  2010/02/03 13:06:30.662000000  2010/01/19 15:59:26.464000000   \n",
       "\n",
       "   matricula_ou_siape    tipo_vinculo_usuario            colecao  \\\n",
       "0        2.008023e+09      ALUNO DE GRADUAÇÃO  Acervo Circulante   \n",
       "1        2.008023e+09      ALUNO DE GRADUAÇÃO  Acervo Circulante   \n",
       "2        2.008112e+09  ALUNO DE PÓS-GRADUAÇÃO  Acervo Circulante   \n",
       "3        2.007211e+08      ALUNO DE GRADUAÇÃO  Acervo Circulante   \n",
       "4        2.009046e+09      ALUNO DE GRADUAÇÃO  Acervo Circulante   \n",
       "\n",
       "                                          biblioteca status_material  \\\n",
       "0                     Biblioteca Central Zila Mamede         REGULAR   \n",
       "1                     Biblioteca Central Zila Mamede         REGULAR   \n",
       "2  Biblioteca Setorial Prof. Rodolfo Helinski - E...         REGULAR   \n",
       "3                     Biblioteca Central Zila Mamede         REGULAR   \n",
       "4                     Biblioteca Central Zila Mamede         REGULAR   \n",
       "\n",
       "   localizacao  \n",
       "0        630.0  \n",
       "1        647.0  \n",
       "2        640.0  \n",
       "3        609.0  \n",
       "4        686.0  "
      ]
     },
     "execution_count": 172,
     "metadata": {},
     "output_type": "execute_result"
    }
   ],
   "source": [
    "emprestimos.drop(columns='registro_sistema', inplace=True)\n",
    "emprestimos.head()"
   ]
  },
  {
   "cell_type": "code",
   "execution_count": 173,
   "id": "41d74f57",
   "metadata": {},
   "outputs": [
    {
     "name": "stdout",
     "output_type": "stream",
     "text": [
      "<class 'pandas.core.frame.DataFrame'>\n",
      "RangeIndex: 2569286 entries, 0 to 2569285\n",
      "Data columns (total 12 columns):\n",
      " #   Column                Dtype  \n",
      "---  ------                -----  \n",
      " 0   id_emprestimo         float64\n",
      " 1   id_exemplar           float64\n",
      " 2   codigo_barras         object \n",
      " 3   data_emprestimo       object \n",
      " 4   data_devolucao        object \n",
      " 5   data_renovacao        object \n",
      " 6   matricula_ou_siape    float64\n",
      " 7   tipo_vinculo_usuario  object \n",
      " 8   colecao               object \n",
      " 9   biblioteca            object \n",
      " 10  status_material       object \n",
      " 11  localizacao           float64\n",
      "dtypes: float64(4), object(8)\n",
      "memory usage: 235.2+ MB\n"
     ]
    }
   ],
   "source": [
    "emprestimos.info()"
   ]
  },
  {
   "cell_type": "code",
   "execution_count": 174,
   "id": "3f8efd8f",
   "metadata": {},
   "outputs": [
    {
     "name": "stdout",
     "output_type": "stream",
     "text": [
      "<class 'pandas.core.frame.DataFrame'>\n",
      "RangeIndex: 2569286 entries, 0 to 2569285\n",
      "Data columns (total 12 columns):\n",
      " #   Column                Dtype  \n",
      "---  ------                -----  \n",
      " 0   id_emprestimo         float64\n",
      " 1   id_exemplar           float64\n",
      " 2   codigo_barras         object \n",
      " 3   data_emprestimo       object \n",
      " 4   data_devolucao        object \n",
      " 5   data_renovacao        object \n",
      " 6   matricula_ou_siape    string \n",
      " 7   tipo_vinculo_usuario  object \n",
      " 8   colecao               object \n",
      " 9   biblioteca            object \n",
      " 10  status_material       object \n",
      " 11  localizacao           float64\n",
      "dtypes: float64(3), object(8), string(1)\n",
      "memory usage: 235.2+ MB\n"
     ]
    }
   ],
   "source": [
    "emprestimos['matricula_ou_siape'] = emprestimos['matricula_ou_siape'].astype('string')\n",
    "emprestimos.info()"
   ]
  },
  {
   "cell_type": "code",
   "execution_count": 175,
   "id": "e98e17ab",
   "metadata": {},
   "outputs": [],
   "source": [
    "import numpy as np"
   ]
  },
  {
   "cell_type": "code",
   "execution_count": 176,
   "id": "0ee2a924",
   "metadata": {},
   "outputs": [],
   "source": [
    "cdu = {0: 'Generalidades. Ciência e conhecimento',\n",
    "       1: 'Filosofia e psicologia',\n",
    "       2: 'Religião',\n",
    "       3: 'Ciências sociais',\n",
    "       4: 'Classe vaga. Provisoriamente não ocupada',\n",
    "       5: 'Matemática e ciências naturais',\n",
    "       6: 'Ciências aplicadas',\n",
    "       7: 'Belas artes',\n",
    "       8: 'Linguagem. Língua. Linguística',\n",
    "       9: 'Geografia. Biografia. História'\n",
    "}"
   ]
  },
  {
   "cell_type": "code",
   "execution_count": 177,
   "id": "9f69c989",
   "metadata": {},
   "outputs": [],
   "source": [
    "emprestimos['CDU'] = np.floor(emprestimos['localizacao']/100)"
   ]
  },
  {
   "cell_type": "code",
   "execution_count": 178,
   "id": "1a8f48d2",
   "metadata": {},
   "outputs": [
    {
     "data": {
      "text/html": [
       "<div>\n",
       "<style scoped>\n",
       "    .dataframe tbody tr th:only-of-type {\n",
       "        vertical-align: middle;\n",
       "    }\n",
       "\n",
       "    .dataframe tbody tr th {\n",
       "        vertical-align: top;\n",
       "    }\n",
       "\n",
       "    .dataframe thead th {\n",
       "        text-align: right;\n",
       "    }\n",
       "</style>\n",
       "<table border=\"1\" class=\"dataframe\">\n",
       "  <thead>\n",
       "    <tr style=\"text-align: right;\">\n",
       "      <th></th>\n",
       "      <th>id_emprestimo</th>\n",
       "      <th>id_exemplar</th>\n",
       "      <th>codigo_barras</th>\n",
       "      <th>data_emprestimo</th>\n",
       "      <th>data_devolucao</th>\n",
       "      <th>data_renovacao</th>\n",
       "      <th>matricula_ou_siape</th>\n",
       "      <th>tipo_vinculo_usuario</th>\n",
       "      <th>colecao</th>\n",
       "      <th>biblioteca</th>\n",
       "      <th>status_material</th>\n",
       "      <th>localizacao</th>\n",
       "      <th>CDU</th>\n",
       "    </tr>\n",
       "  </thead>\n",
       "  <tbody>\n",
       "    <tr>\n",
       "      <th>0</th>\n",
       "      <td>709684.0</td>\n",
       "      <td>13259.0</td>\n",
       "      <td>L095049</td>\n",
       "      <td>2010/01/04 07:44:10.721000000</td>\n",
       "      <td>2010/01/05 16:26:12.662000000</td>\n",
       "      <td>NaN</td>\n",
       "      <td>2008023265.0</td>\n",
       "      <td>ALUNO DE GRADUAÇÃO</td>\n",
       "      <td>Acervo Circulante</td>\n",
       "      <td>Biblioteca Central Zila Mamede</td>\n",
       "      <td>REGULAR</td>\n",
       "      <td>630.0</td>\n",
       "      <td>Ciências aplicadas</td>\n",
       "    </tr>\n",
       "    <tr>\n",
       "      <th>1</th>\n",
       "      <td>709685.0</td>\n",
       "      <td>70865.0</td>\n",
       "      <td>L167050</td>\n",
       "      <td>2010/01/04 07:44:10.750000000</td>\n",
       "      <td>2010/01/12 07:34:13.934000000</td>\n",
       "      <td>NaN</td>\n",
       "      <td>2008023265.0</td>\n",
       "      <td>ALUNO DE GRADUAÇÃO</td>\n",
       "      <td>Acervo Circulante</td>\n",
       "      <td>Biblioteca Central Zila Mamede</td>\n",
       "      <td>REGULAR</td>\n",
       "      <td>647.0</td>\n",
       "      <td>Ciências aplicadas</td>\n",
       "    </tr>\n",
       "    <tr>\n",
       "      <th>2</th>\n",
       "      <td>709686.0</td>\n",
       "      <td>195347.0</td>\n",
       "      <td>2006017618</td>\n",
       "      <td>2010/01/04 08:08:44.081000000</td>\n",
       "      <td>2010/02/25 07:36:25.800000000</td>\n",
       "      <td>2010/01/26 08:07:01.738000000</td>\n",
       "      <td>2008112114.0</td>\n",
       "      <td>ALUNO DE PÓS-GRADUAÇÃO</td>\n",
       "      <td>Acervo Circulante</td>\n",
       "      <td>Biblioteca Setorial Prof. Rodolfo Helinski - E...</td>\n",
       "      <td>REGULAR</td>\n",
       "      <td>640.0</td>\n",
       "      <td>Ciências aplicadas</td>\n",
       "    </tr>\n",
       "    <tr>\n",
       "      <th>3</th>\n",
       "      <td>709687.0</td>\n",
       "      <td>131639.0</td>\n",
       "      <td>L184117</td>\n",
       "      <td>2010/01/04 08:24:21.284000000</td>\n",
       "      <td>2010/02/03 08:58:45.692000000</td>\n",
       "      <td>2010/01/18 11:07:46.470000000</td>\n",
       "      <td>200721119.0</td>\n",
       "      <td>ALUNO DE GRADUAÇÃO</td>\n",
       "      <td>Acervo Circulante</td>\n",
       "      <td>Biblioteca Central Zila Mamede</td>\n",
       "      <td>REGULAR</td>\n",
       "      <td>609.0</td>\n",
       "      <td>Ciências aplicadas</td>\n",
       "    </tr>\n",
       "    <tr>\n",
       "      <th>4</th>\n",
       "      <td>709688.0</td>\n",
       "      <td>225646.0</td>\n",
       "      <td>2007027500</td>\n",
       "      <td>2010/01/04 08:27:33.569000000</td>\n",
       "      <td>2010/02/03 13:06:30.662000000</td>\n",
       "      <td>2010/01/19 15:59:26.464000000</td>\n",
       "      <td>2009045971.0</td>\n",
       "      <td>ALUNO DE GRADUAÇÃO</td>\n",
       "      <td>Acervo Circulante</td>\n",
       "      <td>Biblioteca Central Zila Mamede</td>\n",
       "      <td>REGULAR</td>\n",
       "      <td>686.0</td>\n",
       "      <td>Ciências aplicadas</td>\n",
       "    </tr>\n",
       "  </tbody>\n",
       "</table>\n",
       "</div>"
      ],
      "text/plain": [
       "   id_emprestimo  id_exemplar codigo_barras                data_emprestimo  \\\n",
       "0       709684.0      13259.0       L095049  2010/01/04 07:44:10.721000000   \n",
       "1       709685.0      70865.0       L167050  2010/01/04 07:44:10.750000000   \n",
       "2       709686.0     195347.0    2006017618  2010/01/04 08:08:44.081000000   \n",
       "3       709687.0     131639.0       L184117  2010/01/04 08:24:21.284000000   \n",
       "4       709688.0     225646.0    2007027500  2010/01/04 08:27:33.569000000   \n",
       "\n",
       "                  data_devolucao                 data_renovacao  \\\n",
       "0  2010/01/05 16:26:12.662000000                            NaN   \n",
       "1  2010/01/12 07:34:13.934000000                            NaN   \n",
       "2  2010/02/25 07:36:25.800000000  2010/01/26 08:07:01.738000000   \n",
       "3  2010/02/03 08:58:45.692000000  2010/01/18 11:07:46.470000000   \n",
       "4  2010/02/03 13:06:30.662000000  2010/01/19 15:59:26.464000000   \n",
       "\n",
       "  matricula_ou_siape    tipo_vinculo_usuario            colecao  \\\n",
       "0       2008023265.0      ALUNO DE GRADUAÇÃO  Acervo Circulante   \n",
       "1       2008023265.0      ALUNO DE GRADUAÇÃO  Acervo Circulante   \n",
       "2       2008112114.0  ALUNO DE PÓS-GRADUAÇÃO  Acervo Circulante   \n",
       "3        200721119.0      ALUNO DE GRADUAÇÃO  Acervo Circulante   \n",
       "4       2009045971.0      ALUNO DE GRADUAÇÃO  Acervo Circulante   \n",
       "\n",
       "                                          biblioteca status_material  \\\n",
       "0                     Biblioteca Central Zila Mamede         REGULAR   \n",
       "1                     Biblioteca Central Zila Mamede         REGULAR   \n",
       "2  Biblioteca Setorial Prof. Rodolfo Helinski - E...         REGULAR   \n",
       "3                     Biblioteca Central Zila Mamede         REGULAR   \n",
       "4                     Biblioteca Central Zila Mamede         REGULAR   \n",
       "\n",
       "   localizacao                 CDU  \n",
       "0        630.0  Ciências aplicadas  \n",
       "1        647.0  Ciências aplicadas  \n",
       "2        640.0  Ciências aplicadas  \n",
       "3        609.0  Ciências aplicadas  \n",
       "4        686.0  Ciências aplicadas  "
      ]
     },
     "execution_count": 178,
     "metadata": {},
     "output_type": "execute_result"
    }
   ],
   "source": [
    "emprestimos['CDU'] = emprestimos['CDU'].replace(cdu)\n",
    "emprestimos.head()"
   ]
  },
  {
   "cell_type": "markdown",
   "id": "77f1b6a7",
   "metadata": {},
   "source": [
    "Dia 3\n",
    "\n",
    "Neste dia, a diretoria da biblioteca gostaria de entender se a quantidade de empréstimos está diminuindo, aumentando ou permanecendo igual ao decorrer dos últimos anos. Para isso, verificaremos qual é a quantidade total de exemplares emprestados por cada ano e plotar um gráfico de linhas e, logo em seguida, realizar uma análise  relação à visualização gerada.\n",
    "\n",
    "A diretoria também gostaria de gerenciar melhor os recursos humanos da biblioteca de acordo com a demanda de trabalho existente. Por exemplo:\n",
    "\n",
    ".Gerenciar a programação de férias dos colaboradores de acordo com os meses de menor demanda;\n",
    "\n",
    ".Programar atividades que não sejam de atendimento ao usuário para períodos específicos de menor demanda.\n",
    "\n",
    "Há uma suspeita interna de que os meses com maior número de exemplares emprestados sejam março e setembro, mas não foi realizada uma análise real sobre isso. Portanto, geraremos uma tabela com a quantidade total de exemplares emprestados por mês e descubrir quais meses são os que possuem a maior quantidade de empréstimos realizados. Plotaremos um gráfico de linhas.\n",
    "\n",
    "Por fim, a diretoria também necessita que seja planejada uma programação diária das atividades. Por este motivo, verificaremos quais foram os horários com maior quantidade de empréstimos ao longo de um dia inteiro. Plotaremos um gráfico de barras e analisaremos quais seriam os melhores horários para alocar as demais atividades que não sejam de atendimento ao usuário."
   ]
  },
  {
   "cell_type": "code",
   "execution_count": 179,
   "id": "ec44ffdd",
   "metadata": {},
   "outputs": [],
   "source": [
    "import matplotlib.pyplot as plt\n",
    "import seaborn as sns"
   ]
  },
  {
   "cell_type": "code",
   "execution_count": 180,
   "id": "c88a45d8",
   "metadata": {},
   "outputs": [
    {
     "data": {
      "text/plain": [
       "id_emprestimo            307507\n",
       "id_exemplar              189257\n",
       "codigo_barras                 0\n",
       "data_emprestimo          307507\n",
       "data_devolucao           313991\n",
       "data_renovacao          1595459\n",
       "matricula_ou_siape       310678\n",
       "tipo_vinculo_usuario     307507\n",
       "colecao                  189257\n",
       "biblioteca               189257\n",
       "status_material          189257\n",
       "localizacao              189257\n",
       "CDU                      189257\n",
       "dtype: int64"
      ]
     },
     "execution_count": 180,
     "metadata": {},
     "output_type": "execute_result"
    }
   ],
   "source": [
    "emprestimos.isna().sum()"
   ]
  },
  {
   "cell_type": "markdown",
   "id": "46874c9e",
   "metadata": {},
   "source": [
    "Grafico 1 - Quantidade de empréstimos ao longo dos anos"
   ]
  },
  {
   "cell_type": "code",
   "execution_count": 181,
   "id": "9376bd06",
   "metadata": {},
   "outputs": [
    {
     "data": {
      "text/plain": [
       "id_emprestimo      0\n",
       "id_exemplar        0\n",
       "data_emprestimo    0\n",
       "dtype: int64"
      ]
     },
     "execution_count": 181,
     "metadata": {},
     "output_type": "execute_result"
    }
   ],
   "source": [
    "emprestimos_anuais = emprestimos.copy()\n",
    "colunas_retirar = emprestimos_anuais.columns\n",
    "emprestimos_anuais.drop(columns=[col for col in colunas_retirar if col not in ['id_emprestimo', 'id_exemplar', 'data_emprestimo']], inplace=True)\n",
    "emprestimos_anuais.dropna(inplace=True)\n",
    "emprestimos_anuais.reset_index(drop=True, inplace=True)\n",
    "emprestimos_anuais.isna().sum()"
   ]
  },
  {
   "cell_type": "code",
   "execution_count": 182,
   "id": "e899b70e",
   "metadata": {},
   "outputs": [
    {
     "name": "stdout",
     "output_type": "stream",
     "text": [
      "<class 'pandas.core.frame.DataFrame'>\n",
      "RangeIndex: 2072522 entries, 0 to 2072521\n",
      "Data columns (total 2 columns):\n",
      " #   Column           Dtype         \n",
      "---  ------           -----         \n",
      " 0   data_emprestimo  datetime64[ns]\n",
      " 1   ano              int64         \n",
      "dtypes: datetime64[ns](1), int64(1)\n",
      "memory usage: 31.6 MB\n"
     ]
    }
   ],
   "source": [
    "emprestimos_anuais['data_emprestimo'] = pd.to_datetime(emprestimos_anuais['data_emprestimo'])\n",
    "emprestimos_anuais['ano'] = emprestimos_anuais['data_emprestimo'].dt.year\n",
    "emprestimos_anuais['ano'] = emprestimos_anuais['ano'].astype(int)\n",
    "emprestimos_anuais.drop(columns=['id_emprestimo', 'id_exemplar'], inplace=True)\n",
    "emprestimos_anuais.info()"
   ]
  },
  {
   "cell_type": "code",
   "execution_count": 183,
   "id": "136e9731",
   "metadata": {},
   "outputs": [
    {
     "data": {
      "text/html": [
       "<div>\n",
       "<style scoped>\n",
       "    .dataframe tbody tr th:only-of-type {\n",
       "        vertical-align: middle;\n",
       "    }\n",
       "\n",
       "    .dataframe tbody tr th {\n",
       "        vertical-align: top;\n",
       "    }\n",
       "\n",
       "    .dataframe thead th {\n",
       "        text-align: right;\n",
       "    }\n",
       "</style>\n",
       "<table border=\"1\" class=\"dataframe\">\n",
       "  <thead>\n",
       "    <tr style=\"text-align: right;\">\n",
       "      <th></th>\n",
       "      <th>quantidade_emprestimos</th>\n",
       "    </tr>\n",
       "    <tr>\n",
       "      <th>ano</th>\n",
       "      <th></th>\n",
       "    </tr>\n",
       "  </thead>\n",
       "  <tbody>\n",
       "    <tr>\n",
       "      <th>2010</th>\n",
       "      <td>161394</td>\n",
       "    </tr>\n",
       "    <tr>\n",
       "      <th>2011</th>\n",
       "      <td>196390</td>\n",
       "    </tr>\n",
       "    <tr>\n",
       "      <th>2012</th>\n",
       "      <td>221365</td>\n",
       "    </tr>\n",
       "    <tr>\n",
       "      <th>2013</th>\n",
       "      <td>234749</td>\n",
       "    </tr>\n",
       "    <tr>\n",
       "      <th>2014</th>\n",
       "      <td>219189</td>\n",
       "    </tr>\n",
       "    <tr>\n",
       "      <th>2015</th>\n",
       "      <td>213582</td>\n",
       "    </tr>\n",
       "    <tr>\n",
       "      <th>2016</th>\n",
       "      <td>215900</td>\n",
       "    </tr>\n",
       "    <tr>\n",
       "      <th>2017</th>\n",
       "      <td>218462</td>\n",
       "    </tr>\n",
       "    <tr>\n",
       "      <th>2018</th>\n",
       "      <td>194080</td>\n",
       "    </tr>\n",
       "    <tr>\n",
       "      <th>2019</th>\n",
       "      <td>171801</td>\n",
       "    </tr>\n",
       "    <tr>\n",
       "      <th>2020</th>\n",
       "      <td>25610</td>\n",
       "    </tr>\n",
       "  </tbody>\n",
       "</table>\n",
       "</div>"
      ],
      "text/plain": [
       "      quantidade_emprestimos\n",
       "ano                         \n",
       "2010                  161394\n",
       "2011                  196390\n",
       "2012                  221365\n",
       "2013                  234749\n",
       "2014                  219189\n",
       "2015                  213582\n",
       "2016                  215900\n",
       "2017                  218462\n",
       "2018                  194080\n",
       "2019                  171801\n",
       "2020                   25610"
      ]
     },
     "execution_count": 183,
     "metadata": {},
     "output_type": "execute_result"
    }
   ],
   "source": [
    "emprestimos_anuais['data_emprestimo'] = [1 for x in emprestimos_anuais['data_emprestimo']]\n",
    "emprestimos_anuais = emprestimos_anuais.groupby('ano').agg('sum')\n",
    "emprestimos_anuais.rename(columns={'data_emprestimo': 'quantidade_emprestimos'}, inplace=True)\n",
    "emprestimos_anuais"
   ]
  },
  {
   "cell_type": "code",
   "execution_count": 184,
   "id": "0a36bed9",
   "metadata": {},
   "outputs": [
    {
     "data": {
      "text/plain": [
       "Text(0, 0.5, '')"
      ]
     },
     "execution_count": 184,
     "metadata": {},
     "output_type": "execute_result"
    },
    {
     "data": {
      "image/png": "[encoded data removed]",
      "text/plain": [
       "<Figure size 1000x600 with 1 Axes>"
      ]
     },
     "metadata": {},
     "output_type": "display_data"
    }
   ],
   "source": [
    "fig, ax= plt.subplots(figsize = (10,6))\n",
    "\n",
    "#ponto a marcar\n",
    "pontos = []\n",
    "\n",
    "ax.plot(emprestimos_anuais.index, emprestimos_anuais['quantidade_emprestimos'])\n",
    "ax.set_title('Quantidade de emprestimos ao longo\\n dos anos 2010 a 2020', loc='left', fontsize=18)\n",
    "ax.set_xlabel('')\n",
    "ax.set_ylabel('')"
   ]
  },
  {
   "cell_type": "markdown",
   "id": "b2c669e4",
   "metadata": {},
   "source": [
    "Gráfico 2 - Quantidade mensal de emprestimos ao longo dos anos"
   ]
  },
  {
   "cell_type": "code",
   "execution_count": 185,
   "id": "351021a4",
   "metadata": {},
   "outputs": [],
   "source": [
    "emprestimos_mensal = emprestimos.copy()\n",
    "colunas_retirar = emprestimos_mensal.columns\n",
    "emprestimos_mensal.drop(columns=[col for col in colunas_retirar if col not in ['id_emprestimo', 'id_exemplar', 'data_emprestimo']], inplace=True)\n",
    "emprestimos_mensal.dropna(inplace=True)\n",
    "emprestimos_mensal.reset_index(drop=True, inplace=True)"
   ]
  },
  {
   "cell_type": "code",
   "execution_count": 186,
   "id": "d022a13e",
   "metadata": {},
   "outputs": [
    {
     "name": "stdout",
     "output_type": "stream",
     "text": [
      "<class 'pandas.core.frame.DataFrame'>\n",
      "RangeIndex: 2072522 entries, 0 to 2072521\n",
      "Data columns (total 3 columns):\n",
      " #   Column           Dtype         \n",
      "---  ------           -----         \n",
      " 0   data_emprestimo  datetime64[ns]\n",
      " 1   ano              int64         \n",
      " 2   mes              int64         \n",
      "dtypes: datetime64[ns](1), int64(2)\n",
      "memory usage: 47.4 MB\n"
     ]
    }
   ],
   "source": [
    "emprestimos_mensal['data_emprestimo'] = pd.to_datetime(emprestimos_mensal['data_emprestimo'])\n",
    "emprestimos_mensal['ano'] = emprestimos_mensal['data_emprestimo'].dt.year\n",
    "emprestimos_mensal['mes'] = emprestimos_mensal['data_emprestimo'].dt.month\n",
    "emprestimos_mensal['ano'] = emprestimos_mensal['ano'].astype(int)\n",
    "emprestimos_mensal['mes'] = emprestimos_mensal['mes'].astype(int)\n",
    "emprestimos_mensal.drop(columns=['id_emprestimo', 'id_exemplar'], inplace=True)\n",
    "emprestimos_mensal.info()"
   ]
  },
  {
   "cell_type": "code",
   "execution_count": 187,
   "id": "0b89b806",
   "metadata": {},
   "outputs": [
    {
     "data": {
      "text/html": [
       "<div>\n",
       "<style scoped>\n",
       "    .dataframe tbody tr th:only-of-type {\n",
       "        vertical-align: middle;\n",
       "    }\n",
       "\n",
       "    .dataframe tbody tr th {\n",
       "        vertical-align: top;\n",
       "    }\n",
       "\n",
       "    .dataframe thead th {\n",
       "        text-align: right;\n",
       "    }\n",
       "</style>\n",
       "<table border=\"1\" class=\"dataframe\">\n",
       "  <thead>\n",
       "    <tr style=\"text-align: right;\">\n",
       "      <th></th>\n",
       "      <th>ano</th>\n",
       "      <th>mes</th>\n",
       "      <th>quantidade_emprestimo</th>\n",
       "    </tr>\n",
       "  </thead>\n",
       "  <tbody>\n",
       "    <tr>\n",
       "      <th>0</th>\n",
       "      <td>2010</td>\n",
       "      <td>1</td>\n",
       "      <td>4703</td>\n",
       "    </tr>\n",
       "    <tr>\n",
       "      <th>1</th>\n",
       "      <td>2010</td>\n",
       "      <td>2</td>\n",
       "      <td>10266</td>\n",
       "    </tr>\n",
       "    <tr>\n",
       "      <th>2</th>\n",
       "      <td>2010</td>\n",
       "      <td>3</td>\n",
       "      <td>19631</td>\n",
       "    </tr>\n",
       "    <tr>\n",
       "      <th>3</th>\n",
       "      <td>2010</td>\n",
       "      <td>4</td>\n",
       "      <td>16352</td>\n",
       "    </tr>\n",
       "    <tr>\n",
       "      <th>4</th>\n",
       "      <td>2010</td>\n",
       "      <td>5</td>\n",
       "      <td>15889</td>\n",
       "    </tr>\n",
       "    <tr>\n",
       "      <th>...</th>\n",
       "      <td>...</td>\n",
       "      <td>...</td>\n",
       "      <td>...</td>\n",
       "    </tr>\n",
       "    <tr>\n",
       "      <th>120</th>\n",
       "      <td>2020</td>\n",
       "      <td>1</td>\n",
       "      <td>3585</td>\n",
       "    </tr>\n",
       "    <tr>\n",
       "      <th>121</th>\n",
       "      <td>2020</td>\n",
       "      <td>2</td>\n",
       "      <td>10667</td>\n",
       "    </tr>\n",
       "    <tr>\n",
       "      <th>122</th>\n",
       "      <td>2020</td>\n",
       "      <td>3</td>\n",
       "      <td>11348</td>\n",
       "    </tr>\n",
       "    <tr>\n",
       "      <th>123</th>\n",
       "      <td>2020</td>\n",
       "      <td>5</td>\n",
       "      <td>8</td>\n",
       "    </tr>\n",
       "    <tr>\n",
       "      <th>124</th>\n",
       "      <td>2020</td>\n",
       "      <td>6</td>\n",
       "      <td>2</td>\n",
       "    </tr>\n",
       "  </tbody>\n",
       "</table>\n",
       "<p>125 rows × 3 columns</p>\n",
       "</div>"
      ],
      "text/plain": [
       "      ano  mes  quantidade_emprestimo\n",
       "0    2010    1                   4703\n",
       "1    2010    2                  10266\n",
       "2    2010    3                  19631\n",
       "3    2010    4                  16352\n",
       "4    2010    5                  15889\n",
       "..    ...  ...                    ...\n",
       "120  2020    1                   3585\n",
       "121  2020    2                  10667\n",
       "122  2020    3                  11348\n",
       "123  2020    5                      8\n",
       "124  2020    6                      2\n",
       "\n",
       "[125 rows x 3 columns]"
      ]
     },
     "execution_count": 187,
     "metadata": {},
     "output_type": "execute_result"
    }
   ],
   "source": [
    "emprestimos_mensal['data_emprestimo'] = [1 for x in emprestimos_mensal['data_emprestimo']]\n",
    "emprestimos_mensal.rename(columns={'data_emprestimo': 'quantidade_emprestimo'}, inplace=True)\n",
    "emprestimos_mensal = emprestimos_mensal.groupby(['ano','mes']).sum()\n",
    "emprestimos_mensal.reset_index(inplace=True)\n",
    "emprestimos_mensal"
   ]
  },
  {
   "cell_type": "code",
   "execution_count": 188,
   "id": "3a4ae41c",
   "metadata": {},
   "outputs": [
    {
     "data": {
      "text/html": [
       "<div>\n",
       "<style scoped>\n",
       "    .dataframe tbody tr th:only-of-type {\n",
       "        vertical-align: middle;\n",
       "    }\n",
       "\n",
       "    .dataframe tbody tr th {\n",
       "        vertical-align: top;\n",
       "    }\n",
       "\n",
       "    .dataframe thead th {\n",
       "        text-align: right;\n",
       "    }\n",
       "</style>\n",
       "<table border=\"1\" class=\"dataframe\">\n",
       "  <thead>\n",
       "    <tr style=\"text-align: right;\">\n",
       "      <th>ano</th>\n",
       "      <th>2010</th>\n",
       "      <th>2011</th>\n",
       "      <th>2012</th>\n",
       "      <th>2013</th>\n",
       "      <th>2014</th>\n",
       "      <th>2015</th>\n",
       "      <th>2016</th>\n",
       "      <th>2017</th>\n",
       "      <th>2018</th>\n",
       "      <th>2019</th>\n",
       "      <th>2020</th>\n",
       "    </tr>\n",
       "    <tr>\n",
       "      <th>mes</th>\n",
       "      <th></th>\n",
       "      <th></th>\n",
       "      <th></th>\n",
       "      <th></th>\n",
       "      <th></th>\n",
       "      <th></th>\n",
       "      <th></th>\n",
       "      <th></th>\n",
       "      <th></th>\n",
       "      <th></th>\n",
       "      <th></th>\n",
       "    </tr>\n",
       "  </thead>\n",
       "  <tbody>\n",
       "    <tr>\n",
       "      <th>1</th>\n",
       "      <td>4703.0</td>\n",
       "      <td>1516.0</td>\n",
       "      <td>7336.0</td>\n",
       "      <td>7907.0</td>\n",
       "      <td>15889.0</td>\n",
       "      <td>6612.0</td>\n",
       "      <td>5095.0</td>\n",
       "      <td>5100.0</td>\n",
       "      <td>5148.0</td>\n",
       "      <td>4623.0</td>\n",
       "      <td>3585.0</td>\n",
       "    </tr>\n",
       "    <tr>\n",
       "      <th>2</th>\n",
       "      <td>10266.0</td>\n",
       "      <td>13185.0</td>\n",
       "      <td>20789.0</td>\n",
       "      <td>25380.0</td>\n",
       "      <td>25817.0</td>\n",
       "      <td>26178.0</td>\n",
       "      <td>19847.0</td>\n",
       "      <td>19886.0</td>\n",
       "      <td>16969.0</td>\n",
       "      <td>21216.0</td>\n",
       "      <td>10667.0</td>\n",
       "    </tr>\n",
       "    <tr>\n",
       "      <th>3</th>\n",
       "      <td>19631.0</td>\n",
       "      <td>20086.0</td>\n",
       "      <td>28138.0</td>\n",
       "      <td>24877.0</td>\n",
       "      <td>20244.0</td>\n",
       "      <td>28662.0</td>\n",
       "      <td>27660.0</td>\n",
       "      <td>27739.0</td>\n",
       "      <td>23923.0</td>\n",
       "      <td>19877.0</td>\n",
       "      <td>11348.0</td>\n",
       "    </tr>\n",
       "    <tr>\n",
       "      <th>4</th>\n",
       "      <td>16352.0</td>\n",
       "      <td>18405.0</td>\n",
       "      <td>23688.0</td>\n",
       "      <td>26707.0</td>\n",
       "      <td>19034.0</td>\n",
       "      <td>23725.0</td>\n",
       "      <td>20348.0</td>\n",
       "      <td>20384.0</td>\n",
       "      <td>21835.0</td>\n",
       "      <td>18247.0</td>\n",
       "      <td>NaN</td>\n",
       "    </tr>\n",
       "    <tr>\n",
       "      <th>5</th>\n",
       "      <td>15889.0</td>\n",
       "      <td>20282.0</td>\n",
       "      <td>22517.0</td>\n",
       "      <td>22870.0</td>\n",
       "      <td>17376.0</td>\n",
       "      <td>21901.0</td>\n",
       "      <td>22730.0</td>\n",
       "      <td>22756.0</td>\n",
       "      <td>19431.0</td>\n",
       "      <td>16770.0</td>\n",
       "      <td>8.0</td>\n",
       "    </tr>\n",
       "    <tr>\n",
       "      <th>6</th>\n",
       "      <td>12551.0</td>\n",
       "      <td>16578.0</td>\n",
       "      <td>14237.0</td>\n",
       "      <td>13697.0</td>\n",
       "      <td>7029.0</td>\n",
       "      <td>12963.0</td>\n",
       "      <td>17360.0</td>\n",
       "      <td>17377.0</td>\n",
       "      <td>15494.0</td>\n",
       "      <td>10835.0</td>\n",
       "      <td>2.0</td>\n",
       "    </tr>\n",
       "    <tr>\n",
       "      <th>7</th>\n",
       "      <td>7018.0</td>\n",
       "      <td>8626.0</td>\n",
       "      <td>6286.0</td>\n",
       "      <td>15773.0</td>\n",
       "      <td>18910.0</td>\n",
       "      <td>14314.0</td>\n",
       "      <td>14616.0</td>\n",
       "      <td>14808.0</td>\n",
       "      <td>9651.0</td>\n",
       "      <td>13788.0</td>\n",
       "      <td>NaN</td>\n",
       "    </tr>\n",
       "    <tr>\n",
       "      <th>8</th>\n",
       "      <td>18337.0</td>\n",
       "      <td>24794.0</td>\n",
       "      <td>22703.0</td>\n",
       "      <td>24092.0</td>\n",
       "      <td>24223.0</td>\n",
       "      <td>20100.0</td>\n",
       "      <td>26434.0</td>\n",
       "      <td>27458.0</td>\n",
       "      <td>24886.0</td>\n",
       "      <td>19766.0</td>\n",
       "      <td>NaN</td>\n",
       "    </tr>\n",
       "    <tr>\n",
       "      <th>9</th>\n",
       "      <td>18448.0</td>\n",
       "      <td>23305.0</td>\n",
       "      <td>21607.0</td>\n",
       "      <td>24216.0</td>\n",
       "      <td>24750.0</td>\n",
       "      <td>16141.0</td>\n",
       "      <td>23619.0</td>\n",
       "      <td>21409.0</td>\n",
       "      <td>18080.0</td>\n",
       "      <td>16659.0</td>\n",
       "      <td>NaN</td>\n",
       "    </tr>\n",
       "    <tr>\n",
       "      <th>10</th>\n",
       "      <td>15501.0</td>\n",
       "      <td>19223.0</td>\n",
       "      <td>22322.0</td>\n",
       "      <td>21203.0</td>\n",
       "      <td>21924.0</td>\n",
       "      <td>18076.0</td>\n",
       "      <td>18225.0</td>\n",
       "      <td>19281.0</td>\n",
       "      <td>17794.0</td>\n",
       "      <td>14861.0</td>\n",
       "      <td>NaN</td>\n",
       "    </tr>\n",
       "    <tr>\n",
       "      <th>11</th>\n",
       "      <td>14596.0</td>\n",
       "      <td>18496.0</td>\n",
       "      <td>20563.0</td>\n",
       "      <td>19059.0</td>\n",
       "      <td>17353.0</td>\n",
       "      <td>17796.0</td>\n",
       "      <td>13257.0</td>\n",
       "      <td>16390.0</td>\n",
       "      <td>15063.0</td>\n",
       "      <td>11649.0</td>\n",
       "      <td>NaN</td>\n",
       "    </tr>\n",
       "    <tr>\n",
       "      <th>12</th>\n",
       "      <td>8102.0</td>\n",
       "      <td>11894.0</td>\n",
       "      <td>11179.0</td>\n",
       "      <td>8968.0</td>\n",
       "      <td>6640.0</td>\n",
       "      <td>7114.0</td>\n",
       "      <td>6709.0</td>\n",
       "      <td>5874.0</td>\n",
       "      <td>5806.0</td>\n",
       "      <td>3510.0</td>\n",
       "      <td>NaN</td>\n",
       "    </tr>\n",
       "  </tbody>\n",
       "</table>\n",
       "</div>"
      ],
      "text/plain": [
       "ano     2010     2011     2012     2013     2014     2015     2016     2017  \\\n",
       "mes                                                                           \n",
       "1     4703.0   1516.0   7336.0   7907.0  15889.0   6612.0   5095.0   5100.0   \n",
       "2    10266.0  13185.0  20789.0  25380.0  25817.0  26178.0  19847.0  19886.0   \n",
       "3    19631.0  20086.0  28138.0  24877.0  20244.0  28662.0  27660.0  27739.0   \n",
       "4    16352.0  18405.0  23688.0  26707.0  19034.0  23725.0  20348.0  20384.0   \n",
       "5    15889.0  20282.0  22517.0  22870.0  17376.0  21901.0  22730.0  22756.0   \n",
       "6    12551.0  16578.0  14237.0  13697.0   7029.0  12963.0  17360.0  17377.0   \n",
       "7     7018.0   8626.0   6286.0  15773.0  18910.0  14314.0  14616.0  14808.0   \n",
       "8    18337.0  24794.0  22703.0  24092.0  24223.0  20100.0  26434.0  27458.0   \n",
       "9    18448.0  23305.0  21607.0  24216.0  24750.0  16141.0  23619.0  21409.0   \n",
       "10   15501.0  19223.0  22322.0  21203.0  21924.0  18076.0  18225.0  19281.0   \n",
       "11   14596.0  18496.0  20563.0  19059.0  17353.0  17796.0  13257.0  16390.0   \n",
       "12    8102.0  11894.0  11179.0   8968.0   6640.0   7114.0   6709.0   5874.0   \n",
       "\n",
       "ano     2018     2019     2020  \n",
       "mes                             \n",
       "1     5148.0   4623.0   3585.0  \n",
       "2    16969.0  21216.0  10667.0  \n",
       "3    23923.0  19877.0  11348.0  \n",
       "4    21835.0  18247.0      NaN  \n",
       "5    19431.0  16770.0      8.0  \n",
       "6    15494.0  10835.0      2.0  \n",
       "7     9651.0  13788.0      NaN  \n",
       "8    24886.0  19766.0      NaN  \n",
       "9    18080.0  16659.0      NaN  \n",
       "10   17794.0  14861.0      NaN  \n",
       "11   15063.0  11649.0      NaN  \n",
       "12    5806.0   3510.0      NaN  "
      ]
     },
     "execution_count": 188,
     "metadata": {},
     "output_type": "execute_result"
    }
   ],
   "source": [
    "emprestimos_mensal = pd.crosstab(index=emprestimos_mensal['mes'], columns=emprestimos_mensal['ano'], values=emprestimos_mensal['quantidade_emprestimo'], aggfunc='sum')\n",
    "emprestimos_mensal"
   ]
  },
  {
   "cell_type": "markdown",
   "id": "a9131465",
   "metadata": {},
   "source": [
    "É notável que os dados não foram registrados em todo o ano de 2020, logo não podemos fazer uma análise ao longo dos meses, pois caso o contrário ela seria tendenciosa."
   ]
  },
  {
   "cell_type": "code",
   "execution_count": 189,
   "id": "30b7ad03",
   "metadata": {},
   "outputs": [],
   "source": [
    "emprestimos_mensal = emprestimos_mensal.drop(2020,axis=1)"
   ]
  },
  {
   "cell_type": "code",
   "execution_count": 190,
   "id": "600fadea",
   "metadata": {},
   "outputs": [],
   "source": [
    "import plotly.express as px"
   ]
  },
  {
   "cell_type": "code",
   "execution_count": 191,
   "id": "0869393d",
   "metadata": {},
   "outputs": [
    {
     "data": {
      "application/vnd.plotly.v1+json": {
       "config": {
        "plotlyServerURL": "https://plot.ly"
       },
       "data": [
        {
         "hovertemplate": "ano=2010<br>mes=%{x}<br>value=%{y}<extra></extra>",
         "legendgroup": "2010",
         "line": {
          "color": "#636efa",
          "dash": "solid"
         },
         "marker": {
          "symbol": "circle"
         },
         "mode": "lines+markers",
         "name": "2010",
         "orientation": "v",
         "showlegend": true,
         "type": "scatter",
         "x": {
          "bdata": "AQIDBAUGBwgJCgsM",
          "dtype": "i1"
         },
         "xaxis": "x",
         "y": {
          "bdata": "AAAAAABfskAAAAAAAA3EQAAAAADAK9NAAAAAAADwz0AAAAAAgAjPQAAAAACAg8hAAAAAAABqu0AAAAAAQOjRQAAAAAAABNJAAAAAAIBGzkAAAAAAAILMQAAAAAAApr9A",
          "dtype": "f8"
         },
         "yaxis": "y"
        },
        {
         "hovertemplate": "ano=2011<br>mes=%{x}<br>value=%{y}<extra></extra>",
         "legendgroup": "2011",
         "line": {
          "color": "#EF553B",
          "dash": "solid"
         },
         "marker": {
          "symbol": "circle"
         },
         "mode": "lines+markers",
         "name": "2011",
         "orientation": "v",
         "showlegend": true,
         "type": "scatter",
         "x": {
          "bdata": "AQIDBAUGBwgJCgsM",
          "dtype": "i1"
         },
         "xaxis": "x",
         "y": {
          "bdata": "AAAAAACwl0AAAAAAgMDJQAAAAACAndNAAAAAAED50UAAAAAAgM7TQAAAAACAMNBAAAAAAADZwEAAAAAAgDbYQAAAAABAwtZAAAAAAMDF0kAAAAAAABDSQAAAAAAAO8dA",
          "dtype": "f8"
         },
         "yaxis": "y"
        },
        {
         "hovertemplate": "ano=2012<br>mes=%{x}<br>value=%{y}<extra></extra>",
         "legendgroup": "2012",
         "line": {
          "color": "#00cc96",
          "dash": "solid"
         },
         "marker": {
          "symbol": "circle"
         },
         "mode": "lines+markers",
         "name": "2012",
         "orientation": "v",
         "showlegend": true,
         "type": "scatter",
         "x": {
          "bdata": "AQIDBAUGBwgJCgsM",
          "dtype": "i1"
         },
         "xaxis": "x",
         "y": {
          "bdata": "AAAAAACovEAAAAAAQE3UQAAAAACAettAAAAAAAAi10AAAAAAQP3VQAAAAACAzstAAAAAAACOuEAAAAAAwCvWQAAAAADAGdVAAAAAAIDM1UAAAAAAwBTUQAAAAACA1cVA",
          "dtype": "f8"
         },
         "yaxis": "y"
        },
        {
         "hovertemplate": "ano=2013<br>mes=%{x}<br>value=%{y}<extra></extra>",
         "legendgroup": "2013",
         "line": {
          "color": "#ab63fa",
          "dash": "solid"
         },
         "marker": {
          "symbol": "circle"
         },
         "mode": "lines+markers",
         "name": "2013",
         "orientation": "v",
         "showlegend": true,
         "type": "scatter",
         "x": {
          "bdata": "AQIDBAUGBwgJCgsM",
          "dtype": "i1"
         },
         "xaxis": "x",
         "y": {
          "bdata": "AAAAAADjvkAAAAAAAMnYQAAAAABAS9hAAAAAAMAU2kAAAAAAgFXWQAAAAACAwMpAAAAAAIDOzkAAAAAAAIfXQAAAAAAAptdAAAAAAMC01EAAAAAAwJzSQAAAAAAAhMFA",
          "dtype": "f8"
         },
         "yaxis": "y"
        },
        {
         "hovertemplate": "ano=2014<br>mes=%{x}<br>value=%{y}<extra></extra>",
         "legendgroup": "2014",
         "line": {
          "color": "#FFA15A",
          "dash": "solid"
         },
         "marker": {
          "symbol": "circle"
         },
         "mode": "lines+markers",
         "name": "2014",
         "orientation": "v",
         "showlegend": true,
         "type": "scatter",
         "x": {
          "bdata": "AQIDBAUGBwgJCgsM",
          "dtype": "i1"
         },
         "xaxis": "x",
         "y": {
          "bdata": "AAAAAIAIz0AAAAAAQDbZQAAAAAAAxdNAAAAAAICW0kAAAAAAAPjQQAAAAAAAdbtAAAAAAIB30kAAAAAAwKfXQAAAAACAK9hAAAAAAABp1UAAAAAAQPLQQAAAAAAA8LlA",
          "dtype": "f8"
         },
         "yaxis": "y"
        },
        {
         "hovertemplate": "ano=2015<br>mes=%{x}<br>value=%{y}<extra></extra>",
         "legendgroup": "2015",
         "line": {
          "color": "#19d3f3",
          "dash": "solid"
         },
         "marker": {
          "symbol": "circle"
         },
         "mode": "lines+markers",
         "name": "2015",
         "orientation": "v",
         "showlegend": true,
         "type": "scatter",
         "x": {
          "bdata": "AQIDBAUGBwgJCgsM",
          "dtype": "i1"
         },
         "xaxis": "x",
         "y": {
          "bdata": "AAAAAADUuUAAAAAAgJDZQAAAAACA/dtAAAAAAEAr10AAAAAAQGPVQAAAAACAUclAAAAAAAD1y0AAAAAAAKHTQAAAAACAhs9AAAAAAACn0UAAAAAAAGHRQAAAAAAAyrtA",
          "dtype": "f8"
         },
         "yaxis": "y"
        },
        {
         "hovertemplate": "ano=2016<br>mes=%{x}<br>value=%{y}<extra></extra>",
         "legendgroup": "2016",
         "line": {
          "color": "#FF6692",
          "dash": "solid"
         },
         "marker": {
          "symbol": "circle"
         },
         "mode": "lines+markers",
         "name": "2016",
         "orientation": "v",
         "showlegend": true,
         "type": "scatter",
         "x": {
          "bdata": "AQIDBAUGBwgJCgsM",
          "dtype": "i1"
         },
         "xaxis": "x",
         "y": {
          "bdata": "AAAAAADns0AAAAAAwGHTQAAAAAAAA9tAAAAAAADf00AAAAAAgDLWQAAAAAAA9NBAAAAAAACMzEAAAAAAgNDZQAAAAADAENdAAAAAAEDM0UAAAAAAgOTJQAAAAAAANbpA",
          "dtype": "f8"
         },
         "yaxis": "y"
        },
        {
         "hovertemplate": "ano=2017<br>mes=%{x}<br>value=%{y}<extra></extra>",
         "legendgroup": "2017",
         "line": {
          "color": "#B6E880",
          "dash": "solid"
         },
         "marker": {
          "symbol": "circle"
         },
         "mode": "lines+markers",
         "name": "2017",
         "orientation": "v",
         "showlegend": true,
         "type": "scatter",
         "x": {
          "bdata": "AQIDBAUGBwgJCgsM",
          "dtype": "i1"
         },
         "xaxis": "x",
         "y": {
          "bdata": "AAAAAADss0AAAAAAgGvTQAAAAADAFttAAAAAAADo00AAAAAAADnWQAAAAABA+NBAAAAAAADszEAAAAAAgNDaQAAAAABA6NRAAAAAAEDU0kAAAAAAgAHQQAAAAAAA8rZA",
          "dtype": "f8"
         },
         "yaxis": "y"
        },
        {
         "hovertemplate": "ano=2018<br>mes=%{x}<br>value=%{y}<extra></extra>",
         "legendgroup": "2018",
         "line": {
          "color": "#FF97FF",
          "dash": "solid"
         },
         "marker": {
          "symbol": "circle"
         },
         "mode": "lines+markers",
         "name": "2018",
         "orientation": "v",
         "showlegend": true,
         "type": "scatter",
         "x": {
          "bdata": "AQIDBAUGBwgJCgsM",
          "dtype": "i1"
         },
         "xaxis": "x",
         "y": {
          "bdata": "AAAAAAActEAAAAAAQJLQQAAAAADAXNdAAAAAAMBS1UAAAAAAwPnSQAAAAAAAQ85AAAAAAIDZwkAAAAAAgE3YQAAAAAAAqNFAAAAAAIBg0UAAAAAAgGvNQAAAAAAArrZA",
          "dtype": "f8"
         },
         "yaxis": "y"
        },
        {
         "hovertemplate": "ano=2019<br>mes=%{x}<br>value=%{y}<extra></extra>",
         "legendgroup": "2019",
         "line": {
          "color": "#FECB52",
          "dash": "solid"
         },
         "marker": {
          "symbol": "circle"
         },
         "mode": "lines+markers",
         "name": "2019",
         "orientation": "v",
         "showlegend": true,
         "type": "scatter",
         "x": {
          "bdata": "AQIDBAUGBwgJCgsM",
          "dtype": "i1"
         },
         "xaxis": "x",
         "y": {
          "bdata": "AAAAAAAPskAAAAAAALjUQAAAAABAadNAAAAAAMDR0UAAAAAAgGDQQAAAAACAKcVAAAAAAADuykAAAAAAgE3TQAAAAADARNBAAAAAAIAGzUAAAAAAgMDGQAAAAAAAbKtA",
          "dtype": "f8"
         },
         "yaxis": "y"
        }
       ],
       "layout": {
        "font": {
         "size": 14
        },
        "legend": {
         "title": {
          "text": "ano"
         },
         "tracegroupgap": 0
        },
        "margin": {
         "t": 60
        },
        "template": {
         "data": {
          "bar": [
           {
            "error_x": {
             "color": "#2a3f5f"
            },
            "error_y": {
             "color": "#2a3f5f"
            },
            "marker": {
             "line": {
              "color": "#E5ECF6",
              "width": 0.5
             },
             "pattern": {
              "fillmode": "overlay",
              "size": 10,
              "solidity": 0.2
             }
            },
            "type": "bar"
           }
          ],
          "barpolar": [
           {
            "marker": {
             "line": {
              "color": "#E5ECF6",
              "width": 0.5
             },
             "pattern": {
              "fillmode": "overlay",
              "size": 10,
              "solidity": 0.2
             }
            },
            "type": "barpolar"
           }
          ],
          "carpet": [
           {
            "aaxis": {
             "endlinecolor": "#2a3f5f",
             "gridcolor": "white",
             "linecolor": "white",
             "minorgridcolor": "white",
             "startlinecolor": "#2a3f5f"
            },
            "baxis": {
             "endlinecolor": "#2a3f5f",
             "gridcolor": "white",
             "linecolor": "white",
             "minorgridcolor": "white",
             "startlinecolor": "#2a3f5f"
            },
            "type": "carpet"
           }
          ],
          "choropleth": [
           {
            "colorbar": {
             "outlinewidth": 0,
             "ticks": ""
            },
            "type": "choropleth"
           }
          ],
          "contour": [
           {
            "colorbar": {
             "outlinewidth": 0,
             "ticks": ""
            },
            "colorscale": [
             [
              0,
              "#0d0887"
             ],
             [
              0.1111111111111111,
              "#46039f"
             ],
             [
              0.2222222222222222,
              "#7201a8"
             ],
             [
              0.3333333333333333,
              "#9c179e"
             ],
             [
              0.4444444444444444,
              "#bd3786"
             ],
             [
              0.5555555555555556,
              "#d8576b"
             ],
             [
              0.6666666666666666,
              "#ed7953"
             ],
             [
              0.7777777777777778,
              "#fb9f3a"
             ],
             [
              0.8888888888888888,
              "#fdca26"
             ],
             [
              1,
              "#f0f921"
             ]
            ],
            "type": "contour"
           }
          ],
          "contourcarpet": [
           {
            "colorbar": {
             "outlinewidth": 0,
             "ticks": ""
            },
            "type": "contourcarpet"
           }
          ],
          "heatmap": [
           {
            "colorbar": {
             "outlinewidth": 0,
             "ticks": ""
            },
            "colorscale": [
             [
              0,
              "#0d0887"
             ],
             [
              0.1111111111111111,
              "#46039f"
             ],
             [
              0.2222222222222222,
              "#7201a8"
             ],
             [
              0.3333333333333333,
              "#9c179e"
             ],
             [
              0.4444444444444444,
              "#bd3786"
             ],
             [
              0.5555555555555556,
              "#d8576b"
             ],
             [
              0.6666666666666666,
              "#ed7953"
             ],
             [
              0.7777777777777778,
              "#fb9f3a"
             ],
             [
              0.8888888888888888,
              "#fdca26"
             ],
             [
              1,
              "#f0f921"
             ]
            ],
            "type": "heatmap"
           }
          ],
          "histogram": [
           {
            "marker": {
             "pattern": {
              "fillmode": "overlay",
              "size": 10,
              "solidity": 0.2
             }
            },
            "type": "histogram"
           }
          ],
          "histogram2d": [
           {
            "colorbar": {
             "outlinewidth": 0,
             "ticks": ""
            },
            "colorscale": [
             [
              0,
              "#0d0887"
             ],
             [
              0.1111111111111111,
              "#46039f"
             ],
             [
              0.2222222222222222,
              "#7201a8"
             ],
             [
              0.3333333333333333,
              "#9c179e"
             ],
             [
              0.4444444444444444,
              "#bd3786"
             ],
             [
              0.5555555555555556,
              "#d8576b"
             ],
             [
              0.6666666666666666,
              "#ed7953"
             ],
             [
              0.7777777777777778,
              "#fb9f3a"
             ],
             [
              0.8888888888888888,
              "#fdca26"
             ],
             [
              1,
              "#f0f921"
             ]
            ],
            "type": "histogram2d"
           }
          ],
          "histogram2dcontour": [
           {
            "colorbar": {
             "outlinewidth": 0,
             "ticks": ""
            },
            "colorscale": [
             [
              0,
              "#0d0887"
             ],
             [
              0.1111111111111111,
              "#46039f"
             ],
             [
              0.2222222222222222,
              "#7201a8"
             ],
             [
              0.3333333333333333,
              "#9c179e"
             ],
             [
              0.4444444444444444,
              "#bd3786"
             ],
             [
              0.5555555555555556,
              "#d8576b"
             ],
             [
              0.6666666666666666,
              "#ed7953"
             ],
             [
              0.7777777777777778,
              "#fb9f3a"
             ],
             [
              0.8888888888888888,
              "#fdca26"
             ],
             [
              1,
              "#f0f921"
             ]
            ],
            "type": "histogram2dcontour"
           }
          ],
          "mesh3d": [
           {
            "colorbar": {
             "outlinewidth": 0,
             "ticks": ""
            },
            "type": "mesh3d"
           }
          ],
          "parcoords": [
           {
            "line": {
             "colorbar": {
              "outlinewidth": 0,
              "ticks": ""
             }
            },
            "type": "parcoords"
           }
          ],
          "pie": [
           {
            "automargin": true,
            "type": "pie"
           }
          ],
          "scatter": [
           {
            "fillpattern": {
             "fillmode": "overlay",
             "size": 10,
             "solidity": 0.2
            },
            "type": "scatter"
           }
          ],
          "scatter3d": [
           {
            "line": {
             "colorbar": {
              "outlinewidth": 0,
              "ticks": ""
             }
            },
            "marker": {
             "colorbar": {
              "outlinewidth": 0,
              "ticks": ""
             }
            },
            "type": "scatter3d"
           }
          ],
          "scattercarpet": [
           {
            "marker": {
             "colorbar": {
              "outlinewidth": 0,
              "ticks": ""
             }
            },
            "type": "scattercarpet"
           }
          ],
          "scattergeo": [
           {
            "marker": {
             "colorbar": {
              "outlinewidth": 0,
              "ticks": ""
             }
            },
            "type": "scattergeo"
           }
          ],
          "scattergl": [
           {
            "marker": {
             "colorbar": {
              "outlinewidth": 0,
              "ticks": ""
             }
            },
            "type": "scattergl"
           }
          ],
          "scattermap": [
           {
            "marker": {
             "colorbar": {
              "outlinewidth": 0,
              "ticks": ""
             }
            },
            "type": "scattermap"
           }
          ],
          "scattermapbox": [
           {
            "marker": {
             "colorbar": {
              "outlinewidth": 0,
              "ticks": ""
             }
            },
            "type": "scattermapbox"
           }
          ],
          "scatterpolar": [
           {
            "marker": {
             "colorbar": {
              "outlinewidth": 0,
              "ticks": ""
             }
            },
            "type": "scatterpolar"
           }
          ],
          "scatterpolargl": [
           {
            "marker": {
             "colorbar": {
              "outlinewidth": 0,
              "ticks": ""
             }
            },
            "type": "scatterpolargl"
           }
          ],
          "scatterternary": [
           {
            "marker": {
             "colorbar": {
              "outlinewidth": 0,
              "ticks": ""
             }
            },
            "type": "scatterternary"
           }
          ],
          "surface": [
           {
            "colorbar": {
             "outlinewidth": 0,
             "ticks": ""
            },
            "colorscale": [
             [
              0,
              "#0d0887"
             ],
             [
              0.1111111111111111,
              "#46039f"
             ],
             [
              0.2222222222222222,
              "#7201a8"
             ],
             [
              0.3333333333333333,
              "#9c179e"
             ],
             [
              0.4444444444444444,
              "#bd3786"
             ],
             [
              0.5555555555555556,
              "#d8576b"
             ],
             [
              0.6666666666666666,
              "#ed7953"
             ],
             [
              0.7777777777777778,
              "#fb9f3a"
             ],
             [
              0.8888888888888888,
              "#fdca26"
             ],
             [
              1,
              "#f0f921"
             ]
            ],
            "type": "surface"
           }
          ],
          "table": [
           {
            "cells": {
             "fill": {
              "color": "#EBF0F8"
             },
             "line": {
              "color": "white"
             }
            },
            "header": {
             "fill": {
              "color": "#C8D4E3"
             },
             "line": {
              "color": "white"
             }
            },
            "type": "table"
           }
          ]
         },
         "layout": {
          "annotationdefaults": {
           "arrowcolor": "#2a3f5f",
           "arrowhead": 0,
           "arrowwidth": 1
          },
          "autotypenumbers": "strict",
          "coloraxis": {
           "colorbar": {
            "outlinewidth": 0,
            "ticks": ""
           }
          },
          "colorscale": {
           "diverging": [
            [
             0,
             "#8e0152"
            ],
            [
             0.1,
             "#c51b7d"
            ],
            [
             0.2,
             "#de77ae"
            ],
            [
             0.3,
             "#f1b6da"
            ],
            [
             0.4,
             "#fde0ef"
            ],
            [
             0.5,
             "#f7f7f7"
            ],
            [
             0.6,
             "#e6f5d0"
            ],
            [
             0.7,
             "#b8e186"
            ],
            [
             0.8,
             "#7fbc41"
            ],
            [
             0.9,
             "#4d9221"
            ],
            [
             1,
             "#276419"
            ]
           ],
           "sequential": [
            [
             0,
             "#0d0887"
            ],
            [
             0.1111111111111111,
             "#46039f"
            ],
            [
             0.2222222222222222,
             "#7201a8"
            ],
            [
             0.3333333333333333,
             "#9c179e"
            ],
            [
             0.4444444444444444,
             "#bd3786"
            ],
            [
             0.5555555555555556,
             "#d8576b"
            ],
            [
             0.6666666666666666,
             "#ed7953"
            ],
            [
             0.7777777777777778,
             "#fb9f3a"
            ],
            [
             0.8888888888888888,
             "#fdca26"
            ],
            [
             1,
             "#f0f921"
            ]
           ],
           "sequentialminus": [
            [
             0,
             "#0d0887"
            ],
            [
             0.1111111111111111,
             "#46039f"
            ],
            [
             0.2222222222222222,
             "#7201a8"
            ],
            [
             0.3333333333333333,
             "#9c179e"
            ],
            [
             0.4444444444444444,
             "#bd3786"
            ],
            [
             0.5555555555555556,
             "#d8576b"
            ],
            [
             0.6666666666666666,
             "#ed7953"
            ],
            [
             0.7777777777777778,
             "#fb9f3a"
            ],
            [
             0.8888888888888888,
             "#fdca26"
            ],
            [
             1,
             "#f0f921"
            ]
           ]
          },
          "colorway": [
           "#636efa",
           "#EF553B",
           "#00cc96",
           "#ab63fa",
           "#FFA15A",
           "#19d3f3",
           "#FF6692",
           "#B6E880",
           "#FF97FF",
           "#FECB52"
          ],
          "font": {
           "color": "#2a3f5f"
          },
          "geo": {
           "bgcolor": "white",
           "lakecolor": "white",
           "landcolor": "#E5ECF6",
           "showlakes": true,
           "showland": true,
           "subunitcolor": "white"
          },
          "hoverlabel": {
           "align": "left"
          },
          "hovermode": "closest",
          "mapbox": {
           "style": "light"
          },
          "paper_bgcolor": "white",
          "plot_bgcolor": "#E5ECF6",
          "polar": {
           "angularaxis": {
            "gridcolor": "white",
            "linecolor": "white",
            "ticks": ""
           },
           "bgcolor": "#E5ECF6",
           "radialaxis": {
            "gridcolor": "white",
            "linecolor": "white",
            "ticks": ""
           }
          },
          "scene": {
           "xaxis": {
            "backgroundcolor": "#E5ECF6",
            "gridcolor": "white",
            "gridwidth": 2,
            "linecolor": "white",
            "showbackground": true,
            "ticks": "",
            "zerolinecolor": "white"
           },
           "yaxis": {
            "backgroundcolor": "#E5ECF6",
            "gridcolor": "white",
            "gridwidth": 2,
            "linecolor": "white",
            "showbackground": true,
            "ticks": "",
            "zerolinecolor": "white"
           },
           "zaxis": {
            "backgroundcolor": "#E5ECF6",
            "gridcolor": "white",
            "gridwidth": 2,
            "linecolor": "white",
            "showbackground": true,
            "ticks": "",
            "zerolinecolor": "white"
           }
          },
          "shapedefaults": {
           "line": {
            "color": "#2a3f5f"
           }
          },
          "ternary": {
           "aaxis": {
            "gridcolor": "white",
            "linecolor": "white",
            "ticks": ""
           },
           "baxis": {
            "gridcolor": "white",
            "linecolor": "white",
            "ticks": ""
           },
           "bgcolor": "#E5ECF6",
           "caxis": {
            "gridcolor": "white",
            "linecolor": "white",
            "ticks": ""
           }
          },
          "title": {
           "x": 0.05
          },
          "xaxis": {
           "automargin": true,
           "gridcolor": "white",
           "linecolor": "white",
           "ticks": "",
           "title": {
            "standoff": 15
           },
           "zerolinecolor": "white",
           "zerolinewidth": 2
          },
          "yaxis": {
           "automargin": true,
           "gridcolor": "white",
           "linecolor": "white",
           "ticks": "",
           "title": {
            "standoff": 15
           },
           "zerolinecolor": "white",
           "zerolinewidth": 2
          }
         }
        },
        "title": {
         "text": "Quantidade de emprestimos em cada mês ao longo de 2010 a 2019"
        },
        "xaxis": {
         "anchor": "y",
         "domain": [
          0,
          1
         ],
         "ticktext": [
          "Jan",
          "Fev",
          "Mar",
          "Abr",
          "Mai",
          "Jun",
          "Jul",
          "Ago",
          "Set",
          "Out",
          "Nov",
          "Dez"
         ],
         "tickvals": {
          "bdata": "AQIDBAUGBwgJCgsM",
          "dtype": "i1"
         },
         "title": {
          "text": ""
         }
        },
        "yaxis": {
         "anchor": "x",
         "domain": [
          0,
          1
         ],
         "title": {
          "text": ""
         }
        }
       }
      }
     },
     "metadata": {},
     "output_type": "display_data"
    }
   ],
   "source": [
    "fig = px.line(emprestimos_mensal, x=emprestimos_mensal.index, y=emprestimos_mensal.columns, markers=True)\n",
    "\n",
    "fig.update_layout(title_text='Quantidade de emprestimos em cada mês ao longo de 2010 a 2019', font_size=14 ,xaxis_title='', yaxis_title='')\n",
    "\n",
    "labels = ['Jan', 'Fev', 'Mar', 'Abr',\n",
    "          'Mai', 'Jun', 'Jul', 'Ago',\n",
    "          'Set', 'Out', 'Nov', 'Dez']\n",
    "fig.update_xaxes(ticktext = labels, tickvals=emprestimos_mensal.index)\n",
    "\n"
   ]
  },
  {
   "cell_type": "markdown",
   "id": "1ec0f3ee",
   "metadata": {},
   "source": [
    "Grafico 3 - Quantidade de empréstimos diários"
   ]
  },
  {
   "cell_type": "code",
   "execution_count": 192,
   "id": "e60f8329",
   "metadata": {},
   "outputs": [],
   "source": [
    "emprestimos_diario = emprestimos.copy()\n",
    "colunas_retirar = emprestimos_diario.columns\n",
    "emprestimos_diario.drop(columns=[col for col in colunas_retirar if col not in ['id_emprestimo', 'id_exemplar', 'data_emprestimo']], inplace=True)\n",
    "emprestimos_diario.dropna(inplace=True)\n",
    "emprestimos_diario.reset_index(drop=True, inplace=True)"
   ]
  },
  {
   "cell_type": "code",
   "execution_count": 193,
   "id": "0969154e",
   "metadata": {},
   "outputs": [
    {
     "name": "stdout",
     "output_type": "stream",
     "text": [
      "<class 'pandas.core.frame.DataFrame'>\n",
      "RangeIndex: 2072522 entries, 0 to 2072521\n",
      "Data columns (total 3 columns):\n",
      " #   Column           Dtype         \n",
      "---  ------           -----         \n",
      " 0   data_emprestimo  datetime64[ns]\n",
      " 1   ano              int64         \n",
      " 2   hora             int64         \n",
      "dtypes: datetime64[ns](1), int64(2)\n",
      "memory usage: 47.4 MB\n"
     ]
    }
   ],
   "source": [
    "emprestimos_diario['data_emprestimo'] = pd.to_datetime(emprestimos_diario['data_emprestimo'])\n",
    "emprestimos_diario['ano'] = emprestimos_diario['data_emprestimo'].dt.year\n",
    "emprestimos_diario['hora'] = emprestimos_diario['data_emprestimo'].dt.hour\n",
    "emprestimos_diario['ano'] = emprestimos_diario['ano'].astype(int)\n",
    "emprestimos_diario['hora'] = emprestimos_diario['hora'].astype(int)\n",
    "emprestimos_diario.drop(columns=['id_emprestimo', 'id_exemplar'], inplace=True)\n",
    "emprestimos_diario.info()"
   ]
  },
  {
   "cell_type": "code",
   "execution_count": 194,
   "id": "ec3a2d68",
   "metadata": {},
   "outputs": [
    {
     "data": {
      "text/html": [
       "<div>\n",
       "<style scoped>\n",
       "    .dataframe tbody tr th:only-of-type {\n",
       "        vertical-align: middle;\n",
       "    }\n",
       "\n",
       "    .dataframe tbody tr th {\n",
       "        vertical-align: top;\n",
       "    }\n",
       "\n",
       "    .dataframe thead th {\n",
       "        text-align: right;\n",
       "    }\n",
       "</style>\n",
       "<table border=\"1\" class=\"dataframe\">\n",
       "  <thead>\n",
       "    <tr style=\"text-align: right;\">\n",
       "      <th></th>\n",
       "      <th>ano</th>\n",
       "      <th>hora</th>\n",
       "      <th>quantidade_emprestimo</th>\n",
       "    </tr>\n",
       "  </thead>\n",
       "  <tbody>\n",
       "    <tr>\n",
       "      <th>0</th>\n",
       "      <td>2010</td>\n",
       "      <td>7</td>\n",
       "      <td>1362</td>\n",
       "    </tr>\n",
       "    <tr>\n",
       "      <th>1</th>\n",
       "      <td>2010</td>\n",
       "      <td>8</td>\n",
       "      <td>8865</td>\n",
       "    </tr>\n",
       "    <tr>\n",
       "      <th>2</th>\n",
       "      <td>2010</td>\n",
       "      <td>9</td>\n",
       "      <td>11688</td>\n",
       "    </tr>\n",
       "    <tr>\n",
       "      <th>3</th>\n",
       "      <td>2010</td>\n",
       "      <td>10</td>\n",
       "      <td>14622</td>\n",
       "    </tr>\n",
       "    <tr>\n",
       "      <th>4</th>\n",
       "      <td>2010</td>\n",
       "      <td>11</td>\n",
       "      <td>14169</td>\n",
       "    </tr>\n",
       "    <tr>\n",
       "      <th>...</th>\n",
       "      <td>...</td>\n",
       "      <td>...</td>\n",
       "      <td>...</td>\n",
       "    </tr>\n",
       "    <tr>\n",
       "      <th>180</th>\n",
       "      <td>2020</td>\n",
       "      <td>17</td>\n",
       "      <td>2200</td>\n",
       "    </tr>\n",
       "    <tr>\n",
       "      <th>181</th>\n",
       "      <td>2020</td>\n",
       "      <td>18</td>\n",
       "      <td>2194</td>\n",
       "    </tr>\n",
       "    <tr>\n",
       "      <th>182</th>\n",
       "      <td>2020</td>\n",
       "      <td>19</td>\n",
       "      <td>966</td>\n",
       "    </tr>\n",
       "    <tr>\n",
       "      <th>183</th>\n",
       "      <td>2020</td>\n",
       "      <td>20</td>\n",
       "      <td>1194</td>\n",
       "    </tr>\n",
       "    <tr>\n",
       "      <th>184</th>\n",
       "      <td>2020</td>\n",
       "      <td>21</td>\n",
       "      <td>583</td>\n",
       "    </tr>\n",
       "  </tbody>\n",
       "</table>\n",
       "<p>185 rows × 3 columns</p>\n",
       "</div>"
      ],
      "text/plain": [
       "      ano  hora  quantidade_emprestimo\n",
       "0    2010     7                   1362\n",
       "1    2010     8                   8865\n",
       "2    2010     9                  11688\n",
       "3    2010    10                  14622\n",
       "4    2010    11                  14169\n",
       "..    ...   ...                    ...\n",
       "180  2020    17                   2200\n",
       "181  2020    18                   2194\n",
       "182  2020    19                    966\n",
       "183  2020    20                   1194\n",
       "184  2020    21                    583\n",
       "\n",
       "[185 rows x 3 columns]"
      ]
     },
     "execution_count": 194,
     "metadata": {},
     "output_type": "execute_result"
    }
   ],
   "source": [
    "emprestimos_diario['data_emprestimo'] = [1 for x in emprestimos_diario['data_emprestimo']]\n",
    "emprestimos_diario.rename(columns={'data_emprestimo': 'quantidade_emprestimo'}, inplace=True)\n",
    "emprestimos_diario_anuais = emprestimos_diario.copy()\n",
    "emprestimos_diario_anuais.drop('ano', axis=1, inplace=True)\n",
    "emprestimos_diario_anuais = emprestimos_diario.groupby(['ano','hora']).sum()\n",
    "emprestimos_diario_anuais.reset_index(inplace=True)\n",
    "emprestimos_diario_anuais"
   ]
  },
  {
   "cell_type": "code",
   "execution_count": 205,
   "id": "ad0b67d7",
   "metadata": {},
   "outputs": [
    {
     "name": "stderr",
     "output_type": "stream",
     "text": [
      "C:\\Users\\luizh\\AppData\\Local\\Temp\\ipykernel_15692\\2678957789.py:3: FutureWarning:\n",
      "\n",
      "\n",
      "\n",
      "The `ci` parameter is deprecated. Use `errorbar=None` for the same effect.\n",
      "\n",
      "\n"
     ]
    },
    {
     "data": {
      "image/png": "[encoded data removed]",
      "text/plain": [
       "<Figure size 1000x600 with 1 Axes>"
      ]
     },
     "metadata": {},
     "output_type": "display_data"
    }
   ],
   "source": [
    "fig, ax = plt.subplots(figsize=(10,6))\n",
    "\n",
    "sns.barplot(emprestimos_diario_anuais, x='hora', y='quantidade_emprestimo', ci=None)\n",
    "ax.set_title('Quantidade de emprestimos por hora ao longo\\n dos anos 2010 a 2020', loc='left', fontsize=14)\n",
    "ax.set_xlabel('')\n",
    "ax.set_ylabel('')\n",
    "\n",
    "plt.show()"
   ]
  },
  {
   "cell_type": "code",
   "execution_count": 196,
   "id": "6239d496",
   "metadata": {},
   "outputs": [
    {
     "data": {
      "text/html": [
       "<div>\n",
       "<style scoped>\n",
       "    .dataframe tbody tr th:only-of-type {\n",
       "        vertical-align: middle;\n",
       "    }\n",
       "\n",
       "    .dataframe tbody tr th {\n",
       "        vertical-align: top;\n",
       "    }\n",
       "\n",
       "    .dataframe thead th {\n",
       "        text-align: right;\n",
       "    }\n",
       "</style>\n",
       "<table border=\"1\" class=\"dataframe\">\n",
       "  <thead>\n",
       "    <tr style=\"text-align: right;\">\n",
       "      <th></th>\n",
       "      <th>ano</th>\n",
       "      <th>hora</th>\n",
       "      <th>quantidade_emprestimo</th>\n",
       "    </tr>\n",
       "  </thead>\n",
       "  <tbody>\n",
       "    <tr>\n",
       "      <th>0</th>\n",
       "      <td>2010</td>\n",
       "      <td>7</td>\n",
       "      <td>1362</td>\n",
       "    </tr>\n",
       "    <tr>\n",
       "      <th>1</th>\n",
       "      <td>2010</td>\n",
       "      <td>8</td>\n",
       "      <td>8865</td>\n",
       "    </tr>\n",
       "    <tr>\n",
       "      <th>2</th>\n",
       "      <td>2010</td>\n",
       "      <td>9</td>\n",
       "      <td>11688</td>\n",
       "    </tr>\n",
       "    <tr>\n",
       "      <th>3</th>\n",
       "      <td>2010</td>\n",
       "      <td>10</td>\n",
       "      <td>14622</td>\n",
       "    </tr>\n",
       "    <tr>\n",
       "      <th>4</th>\n",
       "      <td>2010</td>\n",
       "      <td>11</td>\n",
       "      <td>14169</td>\n",
       "    </tr>\n",
       "    <tr>\n",
       "      <th>...</th>\n",
       "      <td>...</td>\n",
       "      <td>...</td>\n",
       "      <td>...</td>\n",
       "    </tr>\n",
       "    <tr>\n",
       "      <th>180</th>\n",
       "      <td>2020</td>\n",
       "      <td>17</td>\n",
       "      <td>2200</td>\n",
       "    </tr>\n",
       "    <tr>\n",
       "      <th>181</th>\n",
       "      <td>2020</td>\n",
       "      <td>18</td>\n",
       "      <td>2194</td>\n",
       "    </tr>\n",
       "    <tr>\n",
       "      <th>182</th>\n",
       "      <td>2020</td>\n",
       "      <td>19</td>\n",
       "      <td>966</td>\n",
       "    </tr>\n",
       "    <tr>\n",
       "      <th>183</th>\n",
       "      <td>2020</td>\n",
       "      <td>20</td>\n",
       "      <td>1194</td>\n",
       "    </tr>\n",
       "    <tr>\n",
       "      <th>184</th>\n",
       "      <td>2020</td>\n",
       "      <td>21</td>\n",
       "      <td>583</td>\n",
       "    </tr>\n",
       "  </tbody>\n",
       "</table>\n",
       "<p>185 rows × 3 columns</p>\n",
       "</div>"
      ],
      "text/plain": [
       "      ano  hora  quantidade_emprestimo\n",
       "0    2010     7                   1362\n",
       "1    2010     8                   8865\n",
       "2    2010     9                  11688\n",
       "3    2010    10                  14622\n",
       "4    2010    11                  14169\n",
       "..    ...   ...                    ...\n",
       "180  2020    17                   2200\n",
       "181  2020    18                   2194\n",
       "182  2020    19                    966\n",
       "183  2020    20                   1194\n",
       "184  2020    21                    583\n",
       "\n",
       "[185 rows x 3 columns]"
      ]
     },
     "execution_count": 196,
     "metadata": {},
     "output_type": "execute_result"
    }
   ],
   "source": [
    "emprestimos_diario_anual = emprestimos_diario.copy()\n",
    "emprestimos_diario_anuais = emprestimos_diario.groupby(['ano','hora']).sum()\n",
    "emprestimos_diario_anuais.reset_index(inplace=True)\n",
    "emprestimos_diario_anuais"
   ]
  },
  {
   "cell_type": "code",
   "execution_count": 199,
   "id": "ab4d4f30",
   "metadata": {},
   "outputs": [],
   "source": [
    "ex1 = emprestimos_diario_anuais[emprestimos_diario_anuais['ano'] == 2010]\n",
    "ex2 = emprestimos_diario_anuais[emprestimos_diario_anuais['ano'] == 2011]\n",
    "ex3 = emprestimos_diario_anuais[emprestimos_diario_anuais['ano'] == 2012]\n",
    "ex4 = emprestimos_diario_anuais[emprestimos_diario_anuais['ano'] == 2013]\n",
    "ex5 = emprestimos_diario_anuais[emprestimos_diario_anuais['ano'] == 2014]\n",
    "ex6 = emprestimos_diario_anuais[emprestimos_diario_anuais['ano'] == 2015]\n",
    "ex7 = emprestimos_diario_anuais[emprestimos_diario_anuais['ano'] == 2016]\n",
    "ex8 = emprestimos_diario_anuais[emprestimos_diario_anuais['ano'] == 2017]\n",
    "ex9 = emprestimos_diario_anuais[emprestimos_diario_anuais['ano'] == 2018]\n",
    "ex10 = emprestimos_diario_anuais[emprestimos_diario_anuais['ano'] == 2019] "
   ]
  },
  {
   "cell_type": "code",
   "execution_count": 209,
   "id": "9faa5a66",
   "metadata": {},
   "outputs": [
    {
     "data": {
      "image/png": "[encoded data removed]",
      "text/plain": [
       "<Figure size 2000x1600 with 10 Axes>"
      ]
     },
     "metadata": {},
     "output_type": "display_data"
    }
   ],
   "source": [
    "fig, ax = plt.subplots(5,2,figsize=(20,16))\n",
    "\n",
    "sns.barplot(data=ex1, x='hora', y='quantidade_emprestimo', ax=ax[0, 0])\n",
    "sns.barplot(data=ex2, x='hora', y='quantidade_emprestimo', ax=ax[0, 1])\n",
    "sns.barplot(data=ex3, x='hora', y='quantidade_emprestimo', ax=ax[1, 0])\n",
    "sns.barplot(data=ex4, x='hora', y='quantidade_emprestimo', ax=ax[1, 1])\n",
    "sns.barplot(data=ex5, x='hora', y='quantidade_emprestimo', ax=ax[2, 0])\n",
    "sns.barplot(data=ex6, x='hora', y='quantidade_emprestimo', ax=ax[2, 1])\n",
    "sns.barplot(data=ex7, x='hora', y='quantidade_emprestimo', ax=ax[3, 0])\n",
    "sns.barplot(data=ex8, x='hora', y='quantidade_emprestimo', ax=ax[3, 1])\n",
    "sns.barplot(data=ex9, x='hora', y='quantidade_emprestimo', ax=ax[4, 0])\n",
    "sns.barplot(data=ex10, x='hora', y='quantidade_emprestimo', ax=ax[4, 1])\n",
    "\n",
    "for i in range(5):\n",
    "    for j in range(2):\n",
    "        ax[i,j].set_xlabel('')\n",
    "        ax[i,j].set_ylabel('')"
   ]
  }
 ],
 "metadata": {
  "kernelspec": {
   "display_name": "Python 3",
   "language": "python",
   "name": "python3"
  },
  "language_info": {
   "codemirror_mode": {
    "name": "ipython",
    "version": 3
   },
   "file_extension": ".py",
   "mimetype": "text/x-python",
   "name": "python",
   "nbconvert_exporter": "python",
   "pygments_lexer": "ipython3",
   "version": "3.13.3"
  }
 },
 "nbformat": 4,
 "nbformat_minor": 5
}
