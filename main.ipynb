{
 "cells": [
  {
   "cell_type": "markdown",
   "id": "5dce48c4",
   "metadata": {},
   "source": [
    "## Dia 1\n",
    "\n",
    "O desafio consiste em apenas unificar todos os dados de empréstimo em um único DataFrame e mesclar os dados exemplares ao DataFrame criado, relacionando o código de barras de cada livro."
   ]
  },
  {
   "cell_type": "code",
   "execution_count": 108,
   "id": "d62da6fd",
   "metadata": {},
   "outputs": [],
   "source": [
    "import pandas as pd"
   ]
  },
  {
   "cell_type": "code",
   "execution_count": 109,
   "id": "5b95192c",
   "metadata": {},
   "outputs": [],
   "source": [
    "lista_emprestimos = ['./Datasets/dados_emprestimos/emprestimos-20101.csv', './Datasets/dados_emprestimos/emprestimos-20102.csv', \n",
    "                     './Datasets/dados_emprestimos/emprestimos-20111.csv', './Datasets/dados_emprestimos/emprestimos-20112.csv',\n",
    "                     './Datasets/dados_emprestimos/emprestimos-20121.csv', './Datasets/dados_emprestimos/emprestimos-20122.csv',\n",
    "                     './Datasets/dados_emprestimos/emprestimos-20131.csv', './Datasets/dados_emprestimos/emprestimos-20132.csv',\n",
    "                     './Datasets/dados_emprestimos/emprestimos-20141.csv', './Datasets/dados_emprestimos/emprestimos-20142.csv',\n",
    "                     './Datasets/dados_emprestimos/emprestimos-20151.csv', './Datasets/dados_emprestimos/emprestimos-20152.csv',\n",
    "                     './Datasets/dados_emprestimos/emprestimos-20161.csv', './Datasets/dados_emprestimos/emprestimos-20162.csv',\n",
    "                     './Datasets/dados_emprestimos/emprestimos-20171.csv', './Datasets/dados_emprestimos/emprestimos-20172.csv', \n",
    "                     './Datasets/dados_emprestimos/emprestimos-20181.csv', './Datasets/dados_emprestimos/emprestimos-20182.csv',\n",
    "                     './Datasets/dados_emprestimos/emprestimos-20191.csv', './Datasets/dados_emprestimos/emprestimos-20192.csv',\n",
    "                     './Datasets/dados_emprestimos/emprestimos-20201.csv']\n",
    "\n",
    "emprestimos = pd.read_csv(lista_emprestimos[0])"
   ]
  },
  {
   "cell_type": "code",
   "execution_count": 110,
   "id": "5875ad8a",
   "metadata": {},
   "outputs": [],
   "source": [
    "for i in range(len(lista_emprestimos)):\n",
    "    dados = pd.read_csv(lista_emprestimos[i])\n",
    "    emprestimos = pd.concat([emprestimos, dados], axis=0, join='outer', sort=True)\n"
   ]
  },
  {
   "cell_type": "code",
   "execution_count": 111,
   "id": "b4e2abda",
   "metadata": {},
   "outputs": [
    {
     "name": "stdout",
     "output_type": "stream",
     "text": [
      "<class 'pandas.core.frame.DataFrame'>\n",
      "Index: 2353375 entries, 0 to 26560\n",
      "Data columns (total 7 columns):\n",
      " #   Column                Dtype  \n",
      "---  ------                -----  \n",
      " 0   codigo_barras         object \n",
      " 1   data_devolucao        object \n",
      " 2   data_emprestimo       object \n",
      " 3   data_renovacao        object \n",
      " 4   id_emprestimo         int64  \n",
      " 5   matricula_ou_siape    float64\n",
      " 6   tipo_vinculo_usuario  object \n",
      "dtypes: float64(1), int64(1), object(5)\n",
      "memory usage: 143.6+ MB\n"
     ]
    }
   ],
   "source": [
    "emprestimos.info()"
   ]
  },
  {
   "cell_type": "code",
   "execution_count": 112,
   "id": "c3a4b87c",
   "metadata": {},
   "outputs": [],
   "source": [
    "dados_exemplares = pd.read_parquet('./Datasets/dados_exemplares.parquet')\n",
    "\n",
    "emprestimos = pd.merge(emprestimos, dados_exemplares, how='outer', sort=True)"
   ]
  },
  {
   "cell_type": "code",
   "execution_count": 113,
   "id": "6df7a24b",
   "metadata": {},
   "outputs": [
    {
     "name": "stdout",
     "output_type": "stream",
     "text": [
      "<class 'pandas.core.frame.DataFrame'>\n",
      "RangeIndex: 2664721 entries, 0 to 2664720\n",
      "Data columns (total 13 columns):\n",
      " #   Column                Dtype  \n",
      "---  ------                -----  \n",
      " 0   codigo_barras         object \n",
      " 1   data_devolucao        object \n",
      " 2   data_emprestimo       object \n",
      " 3   data_renovacao        object \n",
      " 4   id_emprestimo         float64\n",
      " 5   matricula_ou_siape    float64\n",
      " 6   tipo_vinculo_usuario  object \n",
      " 7   id_exemplar           float64\n",
      " 8   colecao               object \n",
      " 9   biblioteca            object \n",
      " 10  status_material       object \n",
      " 11  localizacao           float64\n",
      " 12  registro_sistema      float64\n",
      "dtypes: float64(5), object(8)\n",
      "memory usage: 264.3+ MB\n"
     ]
    }
   ],
   "source": [
    "emprestimos.info()"
   ]
  },
  {
   "cell_type": "code",
   "execution_count": 114,
   "id": "63ee66f3",
   "metadata": {},
   "outputs": [
    {
     "data": {
      "text/html": [
       "<div>\n",
       "<style scoped>\n",
       "    .dataframe tbody tr th:only-of-type {\n",
       "        vertical-align: middle;\n",
       "    }\n",
       "\n",
       "    .dataframe tbody tr th {\n",
       "        vertical-align: top;\n",
       "    }\n",
       "\n",
       "    .dataframe thead th {\n",
       "        text-align: right;\n",
       "    }\n",
       "</style>\n",
       "<table border=\"1\" class=\"dataframe\">\n",
       "  <thead>\n",
       "    <tr style=\"text-align: right;\">\n",
       "      <th></th>\n",
       "      <th>id_emprestimo</th>\n",
       "      <th>id_exemplar</th>\n",
       "      <th>codigo_barras</th>\n",
       "      <th>data_emprestimo</th>\n",
       "      <th>data_devolucao</th>\n",
       "      <th>data_renovacao</th>\n",
       "      <th>matricula_ou_siape</th>\n",
       "      <th>tipo_vinculo_usuario</th>\n",
       "      <th>colecao</th>\n",
       "      <th>biblioteca</th>\n",
       "      <th>status_material</th>\n",
       "      <th>localizacao</th>\n",
       "      <th>registro_sistema</th>\n",
       "    </tr>\n",
       "  </thead>\n",
       "  <tbody>\n",
       "    <tr>\n",
       "      <th>0</th>\n",
       "      <td>709684.0</td>\n",
       "      <td>13259.0</td>\n",
       "      <td>L095049</td>\n",
       "      <td>2010/01/04 07:44:10.721000000</td>\n",
       "      <td>2010/01/05 16:26:12.662000000</td>\n",
       "      <td>NaN</td>\n",
       "      <td>2.008023e+09</td>\n",
       "      <td>ALUNO DE GRADUAÇÃO</td>\n",
       "      <td>Acervo Circulante</td>\n",
       "      <td>Biblioteca Central Zila Mamede</td>\n",
       "      <td>REGULAR</td>\n",
       "      <td>630.0</td>\n",
       "      <td>4225.0</td>\n",
       "    </tr>\n",
       "    <tr>\n",
       "      <th>1</th>\n",
       "      <td>709684.0</td>\n",
       "      <td>13259.0</td>\n",
       "      <td>L095049</td>\n",
       "      <td>2010/01/04 07:44:10.721000000</td>\n",
       "      <td>2010/01/05 16:26:12.662000000</td>\n",
       "      <td>NaN</td>\n",
       "      <td>2.008023e+09</td>\n",
       "      <td>ALUNO DE GRADUAÇÃO</td>\n",
       "      <td>Acervo Circulante</td>\n",
       "      <td>Biblioteca Central Zila Mamede</td>\n",
       "      <td>REGULAR</td>\n",
       "      <td>630.0</td>\n",
       "      <td>4225.0</td>\n",
       "    </tr>\n",
       "    <tr>\n",
       "      <th>2</th>\n",
       "      <td>709684.0</td>\n",
       "      <td>13259.0</td>\n",
       "      <td>L095049</td>\n",
       "      <td>2010/01/04 07:44:10.721000000</td>\n",
       "      <td>2010/01/05 16:26:12.662000000</td>\n",
       "      <td>NaN</td>\n",
       "      <td>2.008023e+09</td>\n",
       "      <td>ALUNO DE GRADUAÇÃO</td>\n",
       "      <td>Acervo Circulante</td>\n",
       "      <td>Biblioteca Central Zila Mamede</td>\n",
       "      <td>REGULAR</td>\n",
       "      <td>630.0</td>\n",
       "      <td>4225.0</td>\n",
       "    </tr>\n",
       "    <tr>\n",
       "      <th>3</th>\n",
       "      <td>709684.0</td>\n",
       "      <td>13259.0</td>\n",
       "      <td>L095049</td>\n",
       "      <td>2010/01/04 07:44:10.721000000</td>\n",
       "      <td>2010/01/05 16:26:12.662000000</td>\n",
       "      <td>NaN</td>\n",
       "      <td>2.008023e+09</td>\n",
       "      <td>ALUNO DE GRADUAÇÃO</td>\n",
       "      <td>Acervo Circulante</td>\n",
       "      <td>Biblioteca Central Zila Mamede</td>\n",
       "      <td>REGULAR</td>\n",
       "      <td>630.0</td>\n",
       "      <td>4225.0</td>\n",
       "    </tr>\n",
       "    <tr>\n",
       "      <th>4</th>\n",
       "      <td>709685.0</td>\n",
       "      <td>70865.0</td>\n",
       "      <td>L167050</td>\n",
       "      <td>2010/01/04 07:44:10.750000000</td>\n",
       "      <td>2010/01/12 07:34:13.934000000</td>\n",
       "      <td>NaN</td>\n",
       "      <td>2.008023e+09</td>\n",
       "      <td>ALUNO DE GRADUAÇÃO</td>\n",
       "      <td>Acervo Circulante</td>\n",
       "      <td>Biblioteca Central Zila Mamede</td>\n",
       "      <td>REGULAR</td>\n",
       "      <td>647.0</td>\n",
       "      <td>25009.0</td>\n",
       "    </tr>\n",
       "  </tbody>\n",
       "</table>\n",
       "</div>"
      ],
      "text/plain": [
       "   id_emprestimo  id_exemplar codigo_barras                data_emprestimo  \\\n",
       "0       709684.0      13259.0       L095049  2010/01/04 07:44:10.721000000   \n",
       "1       709684.0      13259.0       L095049  2010/01/04 07:44:10.721000000   \n",
       "2       709684.0      13259.0       L095049  2010/01/04 07:44:10.721000000   \n",
       "3       709684.0      13259.0       L095049  2010/01/04 07:44:10.721000000   \n",
       "4       709685.0      70865.0       L167050  2010/01/04 07:44:10.750000000   \n",
       "\n",
       "                  data_devolucao data_renovacao  matricula_ou_siape  \\\n",
       "0  2010/01/05 16:26:12.662000000            NaN        2.008023e+09   \n",
       "1  2010/01/05 16:26:12.662000000            NaN        2.008023e+09   \n",
       "2  2010/01/05 16:26:12.662000000            NaN        2.008023e+09   \n",
       "3  2010/01/05 16:26:12.662000000            NaN        2.008023e+09   \n",
       "4  2010/01/12 07:34:13.934000000            NaN        2.008023e+09   \n",
       "\n",
       "  tipo_vinculo_usuario            colecao                      biblioteca  \\\n",
       "0   ALUNO DE GRADUAÇÃO  Acervo Circulante  Biblioteca Central Zila Mamede   \n",
       "1   ALUNO DE GRADUAÇÃO  Acervo Circulante  Biblioteca Central Zila Mamede   \n",
       "2   ALUNO DE GRADUAÇÃO  Acervo Circulante  Biblioteca Central Zila Mamede   \n",
       "3   ALUNO DE GRADUAÇÃO  Acervo Circulante  Biblioteca Central Zila Mamede   \n",
       "4   ALUNO DE GRADUAÇÃO  Acervo Circulante  Biblioteca Central Zila Mamede   \n",
       "\n",
       "  status_material  localizacao  registro_sistema  \n",
       "0         REGULAR        630.0            4225.0  \n",
       "1         REGULAR        630.0            4225.0  \n",
       "2         REGULAR        630.0            4225.0  \n",
       "3         REGULAR        630.0            4225.0  \n",
       "4         REGULAR        647.0           25009.0  "
      ]
     },
     "execution_count": 114,
     "metadata": {},
     "output_type": "execute_result"
    }
   ],
   "source": [
    "emprestimos = emprestimos[['id_emprestimo', 'id_exemplar', 'codigo_barras', 'data_emprestimo', 'data_devolucao', 'data_renovacao',\n",
    "                          'matricula_ou_siape', 'tipo_vinculo_usuario',\n",
    "                          'colecao', 'biblioteca', 'status_material',\n",
    "                          'localizacao', 'registro_sistema']]\n",
    "\n",
    "emprestimos.sort_values('id_emprestimo', inplace=True)\n",
    "emprestimos.reset_index(drop=True, inplace=True)\n",
    "emprestimos.head()\n"
   ]
  },
  {
   "cell_type": "code",
   "execution_count": 115,
   "id": "7c6cbc4d",
   "metadata": {},
   "outputs": [
    {
     "name": "stdout",
     "output_type": "stream",
     "text": [
      "95435\n"
     ]
    }
   ],
   "source": [
    "print(emprestimos.duplicated().sum())"
   ]
  },
  {
   "cell_type": "code",
   "execution_count": 116,
   "id": "4e4528fc",
   "metadata": {},
   "outputs": [
    {
     "data": {
      "text/html": [
       "<div>\n",
       "<style scoped>\n",
       "    .dataframe tbody tr th:only-of-type {\n",
       "        vertical-align: middle;\n",
       "    }\n",
       "\n",
       "    .dataframe tbody tr th {\n",
       "        vertical-align: top;\n",
       "    }\n",
       "\n",
       "    .dataframe thead th {\n",
       "        text-align: right;\n",
       "    }\n",
       "</style>\n",
       "<table border=\"1\" class=\"dataframe\">\n",
       "  <thead>\n",
       "    <tr style=\"text-align: right;\">\n",
       "      <th></th>\n",
       "      <th>id_emprestimo</th>\n",
       "      <th>id_exemplar</th>\n",
       "      <th>codigo_barras</th>\n",
       "      <th>data_emprestimo</th>\n",
       "      <th>data_devolucao</th>\n",
       "      <th>data_renovacao</th>\n",
       "      <th>matricula_ou_siape</th>\n",
       "      <th>tipo_vinculo_usuario</th>\n",
       "      <th>colecao</th>\n",
       "      <th>biblioteca</th>\n",
       "      <th>status_material</th>\n",
       "      <th>localizacao</th>\n",
       "      <th>registro_sistema</th>\n",
       "    </tr>\n",
       "  </thead>\n",
       "  <tbody>\n",
       "    <tr>\n",
       "      <th>0</th>\n",
       "      <td>709684.0</td>\n",
       "      <td>13259.0</td>\n",
       "      <td>L095049</td>\n",
       "      <td>2010/01/04 07:44:10.721000000</td>\n",
       "      <td>2010/01/05 16:26:12.662000000</td>\n",
       "      <td>NaN</td>\n",
       "      <td>2.008023e+09</td>\n",
       "      <td>ALUNO DE GRADUAÇÃO</td>\n",
       "      <td>Acervo Circulante</td>\n",
       "      <td>Biblioteca Central Zila Mamede</td>\n",
       "      <td>REGULAR</td>\n",
       "      <td>630.0</td>\n",
       "      <td>4225.0</td>\n",
       "    </tr>\n",
       "    <tr>\n",
       "      <th>1</th>\n",
       "      <td>709685.0</td>\n",
       "      <td>70865.0</td>\n",
       "      <td>L167050</td>\n",
       "      <td>2010/01/04 07:44:10.750000000</td>\n",
       "      <td>2010/01/12 07:34:13.934000000</td>\n",
       "      <td>NaN</td>\n",
       "      <td>2.008023e+09</td>\n",
       "      <td>ALUNO DE GRADUAÇÃO</td>\n",
       "      <td>Acervo Circulante</td>\n",
       "      <td>Biblioteca Central Zila Mamede</td>\n",
       "      <td>REGULAR</td>\n",
       "      <td>647.0</td>\n",
       "      <td>25009.0</td>\n",
       "    </tr>\n",
       "    <tr>\n",
       "      <th>2</th>\n",
       "      <td>709686.0</td>\n",
       "      <td>195347.0</td>\n",
       "      <td>2006017618</td>\n",
       "      <td>2010/01/04 08:08:44.081000000</td>\n",
       "      <td>2010/02/25 07:36:25.800000000</td>\n",
       "      <td>2010/01/26 08:07:01.738000000</td>\n",
       "      <td>2.008112e+09</td>\n",
       "      <td>ALUNO DE PÓS-GRADUAÇÃO</td>\n",
       "      <td>Acervo Circulante</td>\n",
       "      <td>Biblioteca Setorial Prof. Rodolfo Helinski - E...</td>\n",
       "      <td>REGULAR</td>\n",
       "      <td>640.0</td>\n",
       "      <td>75019.0</td>\n",
       "    </tr>\n",
       "    <tr>\n",
       "      <th>3</th>\n",
       "      <td>709687.0</td>\n",
       "      <td>131639.0</td>\n",
       "      <td>L184117</td>\n",
       "      <td>2010/01/04 08:24:21.284000000</td>\n",
       "      <td>2010/02/03 08:58:45.692000000</td>\n",
       "      <td>2010/01/18 11:07:46.470000000</td>\n",
       "      <td>2.007211e+08</td>\n",
       "      <td>ALUNO DE GRADUAÇÃO</td>\n",
       "      <td>Acervo Circulante</td>\n",
       "      <td>Biblioteca Central Zila Mamede</td>\n",
       "      <td>REGULAR</td>\n",
       "      <td>609.0</td>\n",
       "      <td>44494.0</td>\n",
       "    </tr>\n",
       "    <tr>\n",
       "      <th>4</th>\n",
       "      <td>709688.0</td>\n",
       "      <td>225646.0</td>\n",
       "      <td>2007027500</td>\n",
       "      <td>2010/01/04 08:27:33.569000000</td>\n",
       "      <td>2010/02/03 13:06:30.662000000</td>\n",
       "      <td>2010/01/19 15:59:26.464000000</td>\n",
       "      <td>2.009046e+09</td>\n",
       "      <td>ALUNO DE GRADUAÇÃO</td>\n",
       "      <td>Acervo Circulante</td>\n",
       "      <td>Biblioteca Central Zila Mamede</td>\n",
       "      <td>REGULAR</td>\n",
       "      <td>686.0</td>\n",
       "      <td>91736.0</td>\n",
       "    </tr>\n",
       "  </tbody>\n",
       "</table>\n",
       "</div>"
      ],
      "text/plain": [
       "   id_emprestimo  id_exemplar codigo_barras                data_emprestimo  \\\n",
       "0       709684.0      13259.0       L095049  2010/01/04 07:44:10.721000000   \n",
       "1       709685.0      70865.0       L167050  2010/01/04 07:44:10.750000000   \n",
       "2       709686.0     195347.0    2006017618  2010/01/04 08:08:44.081000000   \n",
       "3       709687.0     131639.0       L184117  2010/01/04 08:24:21.284000000   \n",
       "4       709688.0     225646.0    2007027500  2010/01/04 08:27:33.569000000   \n",
       "\n",
       "                  data_devolucao                 data_renovacao  \\\n",
       "0  2010/01/05 16:26:12.662000000                            NaN   \n",
       "1  2010/01/12 07:34:13.934000000                            NaN   \n",
       "2  2010/02/25 07:36:25.800000000  2010/01/26 08:07:01.738000000   \n",
       "3  2010/02/03 08:58:45.692000000  2010/01/18 11:07:46.470000000   \n",
       "4  2010/02/03 13:06:30.662000000  2010/01/19 15:59:26.464000000   \n",
       "\n",
       "   matricula_ou_siape    tipo_vinculo_usuario            colecao  \\\n",
       "0        2.008023e+09      ALUNO DE GRADUAÇÃO  Acervo Circulante   \n",
       "1        2.008023e+09      ALUNO DE GRADUAÇÃO  Acervo Circulante   \n",
       "2        2.008112e+09  ALUNO DE PÓS-GRADUAÇÃO  Acervo Circulante   \n",
       "3        2.007211e+08      ALUNO DE GRADUAÇÃO  Acervo Circulante   \n",
       "4        2.009046e+09      ALUNO DE GRADUAÇÃO  Acervo Circulante   \n",
       "\n",
       "                                          biblioteca status_material  \\\n",
       "0                     Biblioteca Central Zila Mamede         REGULAR   \n",
       "1                     Biblioteca Central Zila Mamede         REGULAR   \n",
       "2  Biblioteca Setorial Prof. Rodolfo Helinski - E...         REGULAR   \n",
       "3                     Biblioteca Central Zila Mamede         REGULAR   \n",
       "4                     Biblioteca Central Zila Mamede         REGULAR   \n",
       "\n",
       "   localizacao  registro_sistema  \n",
       "0        630.0            4225.0  \n",
       "1        647.0           25009.0  \n",
       "2        640.0           75019.0  \n",
       "3        609.0           44494.0  \n",
       "4        686.0           91736.0  "
      ]
     },
     "execution_count": 116,
     "metadata": {},
     "output_type": "execute_result"
    }
   ],
   "source": [
    "emprestimos.drop_duplicates(inplace=True)\n",
    "emprestimos.reset_index(drop=True, inplace=True)\n",
    "emprestimos.head()"
   ]
  },
  {
   "cell_type": "markdown",
   "id": "ddf9a821",
   "metadata": {},
   "source": [
    "## Dia 2\n",
    "\n",
    "O desafio consistia em atualizar os dados do DataFrame criando uma nova coluna relacionando as identificações dos números da coluna \"localizacao\" com base no CDU geral:\n",
    "\n",
    "- 000 a 099: Generalidades. Ciência e conhecimento.\n",
    "\n",
    "- 100 a 199: Filosofia e psicologia.\n",
    "\n",
    "- 200 a 299: Religião.\n",
    "\n",
    "- 300 a 399: Ciências sociais.\n",
    "\n",
    "- 400 a 499: Classe vaga. Provisoriamente não ocupada.\n",
    "\n",
    "- 500 a 599: Matemática e ciências naturais.\n",
    "\n",
    "- 600 a 699: Ciências aplicadas.\n",
    "\n",
    "- 700 a 799: Belas artes.\n",
    "\n",
    "- 800 a 899: Linguagem. Língua. Linguística.\n",
    "\n",
    "- 900 a 999: Geografia. Biografia. História.\n",
    "\n",
    "Além do mais, precisará ainda excluir a coluna \"registro_sistema\" que não está fazendo sentido para essa análise e modificar a coluna da matricula (“matricula_ou_siape”) que não está com um formato muito legível, transformando-a em formato 'String'."
   ]
  },
  {
   "cell_type": "code",
   "execution_count": 117,
   "id": "98ac6c99",
   "metadata": {},
   "outputs": [
    {
     "data": {
      "text/html": [
       "<div>\n",
       "<style scoped>\n",
       "    .dataframe tbody tr th:only-of-type {\n",
       "        vertical-align: middle;\n",
       "    }\n",
       "\n",
       "    .dataframe tbody tr th {\n",
       "        vertical-align: top;\n",
       "    }\n",
       "\n",
       "    .dataframe thead th {\n",
       "        text-align: right;\n",
       "    }\n",
       "</style>\n",
       "<table border=\"1\" class=\"dataframe\">\n",
       "  <thead>\n",
       "    <tr style=\"text-align: right;\">\n",
       "      <th></th>\n",
       "      <th>id_emprestimo</th>\n",
       "      <th>id_exemplar</th>\n",
       "      <th>codigo_barras</th>\n",
       "      <th>data_emprestimo</th>\n",
       "      <th>data_devolucao</th>\n",
       "      <th>data_renovacao</th>\n",
       "      <th>matricula_ou_siape</th>\n",
       "      <th>tipo_vinculo_usuario</th>\n",
       "      <th>colecao</th>\n",
       "      <th>biblioteca</th>\n",
       "      <th>status_material</th>\n",
       "      <th>localizacao</th>\n",
       "    </tr>\n",
       "  </thead>\n",
       "  <tbody>\n",
       "    <tr>\n",
       "      <th>0</th>\n",
       "      <td>709684.0</td>\n",
       "      <td>13259.0</td>\n",
       "      <td>L095049</td>\n",
       "      <td>2010/01/04 07:44:10.721000000</td>\n",
       "      <td>2010/01/05 16:26:12.662000000</td>\n",
       "      <td>NaN</td>\n",
       "      <td>2.008023e+09</td>\n",
       "      <td>ALUNO DE GRADUAÇÃO</td>\n",
       "      <td>Acervo Circulante</td>\n",
       "      <td>Biblioteca Central Zila Mamede</td>\n",
       "      <td>REGULAR</td>\n",
       "      <td>630.0</td>\n",
       "    </tr>\n",
       "    <tr>\n",
       "      <th>1</th>\n",
       "      <td>709685.0</td>\n",
       "      <td>70865.0</td>\n",
       "      <td>L167050</td>\n",
       "      <td>2010/01/04 07:44:10.750000000</td>\n",
       "      <td>2010/01/12 07:34:13.934000000</td>\n",
       "      <td>NaN</td>\n",
       "      <td>2.008023e+09</td>\n",
       "      <td>ALUNO DE GRADUAÇÃO</td>\n",
       "      <td>Acervo Circulante</td>\n",
       "      <td>Biblioteca Central Zila Mamede</td>\n",
       "      <td>REGULAR</td>\n",
       "      <td>647.0</td>\n",
       "    </tr>\n",
       "    <tr>\n",
       "      <th>2</th>\n",
       "      <td>709686.0</td>\n",
       "      <td>195347.0</td>\n",
       "      <td>2006017618</td>\n",
       "      <td>2010/01/04 08:08:44.081000000</td>\n",
       "      <td>2010/02/25 07:36:25.800000000</td>\n",
       "      <td>2010/01/26 08:07:01.738000000</td>\n",
       "      <td>2.008112e+09</td>\n",
       "      <td>ALUNO DE PÓS-GRADUAÇÃO</td>\n",
       "      <td>Acervo Circulante</td>\n",
       "      <td>Biblioteca Setorial Prof. Rodolfo Helinski - E...</td>\n",
       "      <td>REGULAR</td>\n",
       "      <td>640.0</td>\n",
       "    </tr>\n",
       "    <tr>\n",
       "      <th>3</th>\n",
       "      <td>709687.0</td>\n",
       "      <td>131639.0</td>\n",
       "      <td>L184117</td>\n",
       "      <td>2010/01/04 08:24:21.284000000</td>\n",
       "      <td>2010/02/03 08:58:45.692000000</td>\n",
       "      <td>2010/01/18 11:07:46.470000000</td>\n",
       "      <td>2.007211e+08</td>\n",
       "      <td>ALUNO DE GRADUAÇÃO</td>\n",
       "      <td>Acervo Circulante</td>\n",
       "      <td>Biblioteca Central Zila Mamede</td>\n",
       "      <td>REGULAR</td>\n",
       "      <td>609.0</td>\n",
       "    </tr>\n",
       "    <tr>\n",
       "      <th>4</th>\n",
       "      <td>709688.0</td>\n",
       "      <td>225646.0</td>\n",
       "      <td>2007027500</td>\n",
       "      <td>2010/01/04 08:27:33.569000000</td>\n",
       "      <td>2010/02/03 13:06:30.662000000</td>\n",
       "      <td>2010/01/19 15:59:26.464000000</td>\n",
       "      <td>2.009046e+09</td>\n",
       "      <td>ALUNO DE GRADUAÇÃO</td>\n",
       "      <td>Acervo Circulante</td>\n",
       "      <td>Biblioteca Central Zila Mamede</td>\n",
       "      <td>REGULAR</td>\n",
       "      <td>686.0</td>\n",
       "    </tr>\n",
       "  </tbody>\n",
       "</table>\n",
       "</div>"
      ],
      "text/plain": [
       "   id_emprestimo  id_exemplar codigo_barras                data_emprestimo  \\\n",
       "0       709684.0      13259.0       L095049  2010/01/04 07:44:10.721000000   \n",
       "1       709685.0      70865.0       L167050  2010/01/04 07:44:10.750000000   \n",
       "2       709686.0     195347.0    2006017618  2010/01/04 08:08:44.081000000   \n",
       "3       709687.0     131639.0       L184117  2010/01/04 08:24:21.284000000   \n",
       "4       709688.0     225646.0    2007027500  2010/01/04 08:27:33.569000000   \n",
       "\n",
       "                  data_devolucao                 data_renovacao  \\\n",
       "0  2010/01/05 16:26:12.662000000                            NaN   \n",
       "1  2010/01/12 07:34:13.934000000                            NaN   \n",
       "2  2010/02/25 07:36:25.800000000  2010/01/26 08:07:01.738000000   \n",
       "3  2010/02/03 08:58:45.692000000  2010/01/18 11:07:46.470000000   \n",
       "4  2010/02/03 13:06:30.662000000  2010/01/19 15:59:26.464000000   \n",
       "\n",
       "   matricula_ou_siape    tipo_vinculo_usuario            colecao  \\\n",
       "0        2.008023e+09      ALUNO DE GRADUAÇÃO  Acervo Circulante   \n",
       "1        2.008023e+09      ALUNO DE GRADUAÇÃO  Acervo Circulante   \n",
       "2        2.008112e+09  ALUNO DE PÓS-GRADUAÇÃO  Acervo Circulante   \n",
       "3        2.007211e+08      ALUNO DE GRADUAÇÃO  Acervo Circulante   \n",
       "4        2.009046e+09      ALUNO DE GRADUAÇÃO  Acervo Circulante   \n",
       "\n",
       "                                          biblioteca status_material  \\\n",
       "0                     Biblioteca Central Zila Mamede         REGULAR   \n",
       "1                     Biblioteca Central Zila Mamede         REGULAR   \n",
       "2  Biblioteca Setorial Prof. Rodolfo Helinski - E...         REGULAR   \n",
       "3                     Biblioteca Central Zila Mamede         REGULAR   \n",
       "4                     Biblioteca Central Zila Mamede         REGULAR   \n",
       "\n",
       "   localizacao  \n",
       "0        630.0  \n",
       "1        647.0  \n",
       "2        640.0  \n",
       "3        609.0  \n",
       "4        686.0  "
      ]
     },
     "execution_count": 117,
     "metadata": {},
     "output_type": "execute_result"
    }
   ],
   "source": [
    "emprestimos.drop(columns='registro_sistema', inplace=True)\n",
    "emprestimos.head()"
   ]
  },
  {
   "cell_type": "code",
   "execution_count": 118,
   "id": "41d74f57",
   "metadata": {},
   "outputs": [
    {
     "name": "stdout",
     "output_type": "stream",
     "text": [
      "<class 'pandas.core.frame.DataFrame'>\n",
      "RangeIndex: 2569286 entries, 0 to 2569285\n",
      "Data columns (total 12 columns):\n",
      " #   Column                Dtype  \n",
      "---  ------                -----  \n",
      " 0   id_emprestimo         float64\n",
      " 1   id_exemplar           float64\n",
      " 2   codigo_barras         object \n",
      " 3   data_emprestimo       object \n",
      " 4   data_devolucao        object \n",
      " 5   data_renovacao        object \n",
      " 6   matricula_ou_siape    float64\n",
      " 7   tipo_vinculo_usuario  object \n",
      " 8   colecao               object \n",
      " 9   biblioteca            object \n",
      " 10  status_material       object \n",
      " 11  localizacao           float64\n",
      "dtypes: float64(4), object(8)\n",
      "memory usage: 235.2+ MB\n"
     ]
    }
   ],
   "source": [
    "emprestimos.info()"
   ]
  },
  {
   "cell_type": "code",
   "execution_count": 119,
   "id": "3f8efd8f",
   "metadata": {},
   "outputs": [
    {
     "name": "stdout",
     "output_type": "stream",
     "text": [
      "<class 'pandas.core.frame.DataFrame'>\n",
      "RangeIndex: 2569286 entries, 0 to 2569285\n",
      "Data columns (total 12 columns):\n",
      " #   Column                Dtype  \n",
      "---  ------                -----  \n",
      " 0   id_emprestimo         float64\n",
      " 1   id_exemplar           float64\n",
      " 2   codigo_barras         object \n",
      " 3   data_emprestimo       object \n",
      " 4   data_devolucao        object \n",
      " 5   data_renovacao        object \n",
      " 6   matricula_ou_siape    string \n",
      " 7   tipo_vinculo_usuario  object \n",
      " 8   colecao               object \n",
      " 9   biblioteca            object \n",
      " 10  status_material       object \n",
      " 11  localizacao           float64\n",
      "dtypes: float64(3), object(8), string(1)\n",
      "memory usage: 235.2+ MB\n"
     ]
    }
   ],
   "source": [
    "emprestimos['matricula_ou_siape'] = emprestimos['matricula_ou_siape'].astype('string')\n",
    "emprestimos.info()"
   ]
  },
  {
   "cell_type": "code",
   "execution_count": 120,
   "id": "e98e17ab",
   "metadata": {},
   "outputs": [],
   "source": [
    "import numpy as np"
   ]
  },
  {
   "cell_type": "code",
   "execution_count": 121,
   "id": "0ee2a924",
   "metadata": {},
   "outputs": [],
   "source": [
    "cdu = {0: 'Generalidades. Ciência e conhecimento',\n",
    "       1: 'Filosofia e psicologia',\n",
    "       2: 'Religião',\n",
    "       3: 'Ciências sociais',\n",
    "       4: 'Classe vaga. Provisoriamente não ocupada',\n",
    "       5: 'Matemática e ciências naturais',\n",
    "       6: 'Ciências aplicadas',\n",
    "       7: 'Belas artes',\n",
    "       8: 'Linguagem. Língua. Linguística',\n",
    "       9: 'Geografia. Biografia. História'\n",
    "}"
   ]
  },
  {
   "cell_type": "code",
   "execution_count": 122,
   "id": "9f69c989",
   "metadata": {},
   "outputs": [],
   "source": [
    "emprestimos['CDU'] = np.floor(emprestimos['localizacao']/100)"
   ]
  },
  {
   "cell_type": "code",
   "execution_count": 123,
   "id": "1a8f48d2",
   "metadata": {},
   "outputs": [
    {
     "data": {
      "text/html": [
       "<div>\n",
       "<style scoped>\n",
       "    .dataframe tbody tr th:only-of-type {\n",
       "        vertical-align: middle;\n",
       "    }\n",
       "\n",
       "    .dataframe tbody tr th {\n",
       "        vertical-align: top;\n",
       "    }\n",
       "\n",
       "    .dataframe thead th {\n",
       "        text-align: right;\n",
       "    }\n",
       "</style>\n",
       "<table border=\"1\" class=\"dataframe\">\n",
       "  <thead>\n",
       "    <tr style=\"text-align: right;\">\n",
       "      <th></th>\n",
       "      <th>id_emprestimo</th>\n",
       "      <th>id_exemplar</th>\n",
       "      <th>codigo_barras</th>\n",
       "      <th>data_emprestimo</th>\n",
       "      <th>data_devolucao</th>\n",
       "      <th>data_renovacao</th>\n",
       "      <th>matricula_ou_siape</th>\n",
       "      <th>tipo_vinculo_usuario</th>\n",
       "      <th>colecao</th>\n",
       "      <th>biblioteca</th>\n",
       "      <th>status_material</th>\n",
       "      <th>localizacao</th>\n",
       "      <th>CDU</th>\n",
       "    </tr>\n",
       "  </thead>\n",
       "  <tbody>\n",
       "    <tr>\n",
       "      <th>0</th>\n",
       "      <td>709684.0</td>\n",
       "      <td>13259.0</td>\n",
       "      <td>L095049</td>\n",
       "      <td>2010/01/04 07:44:10.721000000</td>\n",
       "      <td>2010/01/05 16:26:12.662000000</td>\n",
       "      <td>NaN</td>\n",
       "      <td>2008023265.0</td>\n",
       "      <td>ALUNO DE GRADUAÇÃO</td>\n",
       "      <td>Acervo Circulante</td>\n",
       "      <td>Biblioteca Central Zila Mamede</td>\n",
       "      <td>REGULAR</td>\n",
       "      <td>630.0</td>\n",
       "      <td>Ciências aplicadas</td>\n",
       "    </tr>\n",
       "    <tr>\n",
       "      <th>1</th>\n",
       "      <td>709685.0</td>\n",
       "      <td>70865.0</td>\n",
       "      <td>L167050</td>\n",
       "      <td>2010/01/04 07:44:10.750000000</td>\n",
       "      <td>2010/01/12 07:34:13.934000000</td>\n",
       "      <td>NaN</td>\n",
       "      <td>2008023265.0</td>\n",
       "      <td>ALUNO DE GRADUAÇÃO</td>\n",
       "      <td>Acervo Circulante</td>\n",
       "      <td>Biblioteca Central Zila Mamede</td>\n",
       "      <td>REGULAR</td>\n",
       "      <td>647.0</td>\n",
       "      <td>Ciências aplicadas</td>\n",
       "    </tr>\n",
       "    <tr>\n",
       "      <th>2</th>\n",
       "      <td>709686.0</td>\n",
       "      <td>195347.0</td>\n",
       "      <td>2006017618</td>\n",
       "      <td>2010/01/04 08:08:44.081000000</td>\n",
       "      <td>2010/02/25 07:36:25.800000000</td>\n",
       "      <td>2010/01/26 08:07:01.738000000</td>\n",
       "      <td>2008112114.0</td>\n",
       "      <td>ALUNO DE PÓS-GRADUAÇÃO</td>\n",
       "      <td>Acervo Circulante</td>\n",
       "      <td>Biblioteca Setorial Prof. Rodolfo Helinski - E...</td>\n",
       "      <td>REGULAR</td>\n",
       "      <td>640.0</td>\n",
       "      <td>Ciências aplicadas</td>\n",
       "    </tr>\n",
       "    <tr>\n",
       "      <th>3</th>\n",
       "      <td>709687.0</td>\n",
       "      <td>131639.0</td>\n",
       "      <td>L184117</td>\n",
       "      <td>2010/01/04 08:24:21.284000000</td>\n",
       "      <td>2010/02/03 08:58:45.692000000</td>\n",
       "      <td>2010/01/18 11:07:46.470000000</td>\n",
       "      <td>200721119.0</td>\n",
       "      <td>ALUNO DE GRADUAÇÃO</td>\n",
       "      <td>Acervo Circulante</td>\n",
       "      <td>Biblioteca Central Zila Mamede</td>\n",
       "      <td>REGULAR</td>\n",
       "      <td>609.0</td>\n",
       "      <td>Ciências aplicadas</td>\n",
       "    </tr>\n",
       "    <tr>\n",
       "      <th>4</th>\n",
       "      <td>709688.0</td>\n",
       "      <td>225646.0</td>\n",
       "      <td>2007027500</td>\n",
       "      <td>2010/01/04 08:27:33.569000000</td>\n",
       "      <td>2010/02/03 13:06:30.662000000</td>\n",
       "      <td>2010/01/19 15:59:26.464000000</td>\n",
       "      <td>2009045971.0</td>\n",
       "      <td>ALUNO DE GRADUAÇÃO</td>\n",
       "      <td>Acervo Circulante</td>\n",
       "      <td>Biblioteca Central Zila Mamede</td>\n",
       "      <td>REGULAR</td>\n",
       "      <td>686.0</td>\n",
       "      <td>Ciências aplicadas</td>\n",
       "    </tr>\n",
       "  </tbody>\n",
       "</table>\n",
       "</div>"
      ],
      "text/plain": [
       "   id_emprestimo  id_exemplar codigo_barras                data_emprestimo  \\\n",
       "0       709684.0      13259.0       L095049  2010/01/04 07:44:10.721000000   \n",
       "1       709685.0      70865.0       L167050  2010/01/04 07:44:10.750000000   \n",
       "2       709686.0     195347.0    2006017618  2010/01/04 08:08:44.081000000   \n",
       "3       709687.0     131639.0       L184117  2010/01/04 08:24:21.284000000   \n",
       "4       709688.0     225646.0    2007027500  2010/01/04 08:27:33.569000000   \n",
       "\n",
       "                  data_devolucao                 data_renovacao  \\\n",
       "0  2010/01/05 16:26:12.662000000                            NaN   \n",
       "1  2010/01/12 07:34:13.934000000                            NaN   \n",
       "2  2010/02/25 07:36:25.800000000  2010/01/26 08:07:01.738000000   \n",
       "3  2010/02/03 08:58:45.692000000  2010/01/18 11:07:46.470000000   \n",
       "4  2010/02/03 13:06:30.662000000  2010/01/19 15:59:26.464000000   \n",
       "\n",
       "  matricula_ou_siape    tipo_vinculo_usuario            colecao  \\\n",
       "0       2008023265.0      ALUNO DE GRADUAÇÃO  Acervo Circulante   \n",
       "1       2008023265.0      ALUNO DE GRADUAÇÃO  Acervo Circulante   \n",
       "2       2008112114.0  ALUNO DE PÓS-GRADUAÇÃO  Acervo Circulante   \n",
       "3        200721119.0      ALUNO DE GRADUAÇÃO  Acervo Circulante   \n",
       "4       2009045971.0      ALUNO DE GRADUAÇÃO  Acervo Circulante   \n",
       "\n",
       "                                          biblioteca status_material  \\\n",
       "0                     Biblioteca Central Zila Mamede         REGULAR   \n",
       "1                     Biblioteca Central Zila Mamede         REGULAR   \n",
       "2  Biblioteca Setorial Prof. Rodolfo Helinski - E...         REGULAR   \n",
       "3                     Biblioteca Central Zila Mamede         REGULAR   \n",
       "4                     Biblioteca Central Zila Mamede         REGULAR   \n",
       "\n",
       "   localizacao                 CDU  \n",
       "0        630.0  Ciências aplicadas  \n",
       "1        647.0  Ciências aplicadas  \n",
       "2        640.0  Ciências aplicadas  \n",
       "3        609.0  Ciências aplicadas  \n",
       "4        686.0  Ciências aplicadas  "
      ]
     },
     "execution_count": 123,
     "metadata": {},
     "output_type": "execute_result"
    }
   ],
   "source": [
    "emprestimos['CDU'] = emprestimos['CDU'].replace(cdu)\n",
    "emprestimos.head()"
   ]
  },
  {
   "cell_type": "markdown",
   "id": "77f1b6a7",
   "metadata": {},
   "source": [
    "## Dia 3\n",
    "\n",
    "Neste dia, a diretoria da biblioteca gostaria de entender se a quantidade de empréstimos está diminuindo, aumentando ou permanecendo igual ao decorrer dos últimos anos. Para isso, verificaremos qual é a quantidade total de exemplares emprestados por cada ano e plotar um gráfico de linhas e, logo em seguida, realizar uma análise  relação à visualização gerada.\n",
    "\n",
    "A diretoria também gostaria de gerenciar melhor os recursos humanos da biblioteca de acordo com a demanda de trabalho existente. Por exemplo:\n",
    "\n",
    "- Gerenciar a programação de férias dos colaboradores de acordo com os meses de menor demanda;\n",
    "\n",
    "- Programar atividades que não sejam de atendimento ao usuário para períodos específicos de menor demanda.\n",
    "\n",
    "Há uma suspeita interna de que os meses com maior número de exemplares emprestados sejam março e setembro, mas não foi realizada uma análise real sobre isso. Portanto, geraremos uma tabela com a quantidade total de exemplares emprestados por mês e descubrir quais meses são os que possuem a maior quantidade de empréstimos realizados. Plotaremos um gráfico de linhas.\n",
    "\n",
    "Por fim, a diretoria também necessita que seja planejada uma programação diária das atividades. Por este motivo, verificaremos quais foram os horários com maior quantidade de empréstimos ao longo de um dia inteiro. Plotaremos um gráfico de barras e analisaremos quais seriam os melhores horários para alocar as demais atividades que não sejam de atendimento ao usuário."
   ]
  },
  {
   "cell_type": "code",
   "execution_count": 124,
   "id": "ec44ffdd",
   "metadata": {},
   "outputs": [],
   "source": [
    "import matplotlib.pyplot as plt\n",
    "import seaborn as sns"
   ]
  },
  {
   "cell_type": "code",
   "execution_count": 125,
   "id": "c88a45d8",
   "metadata": {},
   "outputs": [
    {
     "data": {
      "text/plain": [
       "id_emprestimo            307507\n",
       "id_exemplar              189257\n",
       "codigo_barras                 0\n",
       "data_emprestimo          307507\n",
       "data_devolucao           313991\n",
       "data_renovacao          1595459\n",
       "matricula_ou_siape       310678\n",
       "tipo_vinculo_usuario     307507\n",
       "colecao                  189257\n",
       "biblioteca               189257\n",
       "status_material          189257\n",
       "localizacao              189257\n",
       "CDU                      189257\n",
       "dtype: int64"
      ]
     },
     "execution_count": 125,
     "metadata": {},
     "output_type": "execute_result"
    }
   ],
   "source": [
    "emprestimos.isna().sum()"
   ]
  },
  {
   "cell_type": "markdown",
   "id": "46874c9e",
   "metadata": {},
   "source": [
    "Grafico 1 - Quantidade de empréstimos ao longo dos anos"
   ]
  },
  {
   "cell_type": "code",
   "execution_count": 126,
   "id": "9376bd06",
   "metadata": {},
   "outputs": [
    {
     "data": {
      "text/plain": [
       "id_emprestimo      0\n",
       "id_exemplar        0\n",
       "data_emprestimo    0\n",
       "dtype: int64"
      ]
     },
     "execution_count": 126,
     "metadata": {},
     "output_type": "execute_result"
    }
   ],
   "source": [
    "emprestimos_anuais = emprestimos.copy()\n",
    "colunas_retirar = emprestimos_anuais.columns\n",
    "emprestimos_anuais.drop(columns=[col for col in colunas_retirar if col not in ['id_emprestimo', 'id_exemplar', 'data_emprestimo']], inplace=True)\n",
    "emprestimos_anuais.dropna(inplace=True)\n",
    "emprestimos_anuais.reset_index(drop=True, inplace=True)\n",
    "emprestimos_anuais.isna().sum()"
   ]
  },
  {
   "cell_type": "code",
   "execution_count": 127,
   "id": "e899b70e",
   "metadata": {},
   "outputs": [
    {
     "name": "stdout",
     "output_type": "stream",
     "text": [
      "<class 'pandas.core.frame.DataFrame'>\n",
      "RangeIndex: 2072522 entries, 0 to 2072521\n",
      "Data columns (total 2 columns):\n",
      " #   Column           Dtype         \n",
      "---  ------           -----         \n",
      " 0   data_emprestimo  datetime64[ns]\n",
      " 1   ano              int64         \n",
      "dtypes: datetime64[ns](1), int64(1)\n",
      "memory usage: 31.6 MB\n"
     ]
    }
   ],
   "source": [
    "emprestimos_anuais['data_emprestimo'] = pd.to_datetime(emprestimos_anuais['data_emprestimo'])\n",
    "emprestimos_anuais['ano'] = emprestimos_anuais['data_emprestimo'].dt.year\n",
    "emprestimos_anuais['ano'] = emprestimos_anuais['ano'].astype(int)\n",
    "emprestimos_anuais.drop(columns=['id_emprestimo', 'id_exemplar'], inplace=True)\n",
    "emprestimos_anuais.info()"
   ]
  },
  {
   "cell_type": "code",
   "execution_count": 128,
   "id": "136e9731",
   "metadata": {},
   "outputs": [
    {
     "data": {
      "text/html": [
       "<div>\n",
       "<style scoped>\n",
       "    .dataframe tbody tr th:only-of-type {\n",
       "        vertical-align: middle;\n",
       "    }\n",
       "\n",
       "    .dataframe tbody tr th {\n",
       "        vertical-align: top;\n",
       "    }\n",
       "\n",
       "    .dataframe thead th {\n",
       "        text-align: right;\n",
       "    }\n",
       "</style>\n",
       "<table border=\"1\" class=\"dataframe\">\n",
       "  <thead>\n",
       "    <tr style=\"text-align: right;\">\n",
       "      <th></th>\n",
       "      <th>quantidade_emprestimos</th>\n",
       "    </tr>\n",
       "    <tr>\n",
       "      <th>ano</th>\n",
       "      <th></th>\n",
       "    </tr>\n",
       "  </thead>\n",
       "  <tbody>\n",
       "    <tr>\n",
       "      <th>2010</th>\n",
       "      <td>161394</td>\n",
       "    </tr>\n",
       "    <tr>\n",
       "      <th>2011</th>\n",
       "      <td>196390</td>\n",
       "    </tr>\n",
       "    <tr>\n",
       "      <th>2012</th>\n",
       "      <td>221365</td>\n",
       "    </tr>\n",
       "    <tr>\n",
       "      <th>2013</th>\n",
       "      <td>234749</td>\n",
       "    </tr>\n",
       "    <tr>\n",
       "      <th>2014</th>\n",
       "      <td>219189</td>\n",
       "    </tr>\n",
       "    <tr>\n",
       "      <th>2015</th>\n",
       "      <td>213582</td>\n",
       "    </tr>\n",
       "    <tr>\n",
       "      <th>2016</th>\n",
       "      <td>215900</td>\n",
       "    </tr>\n",
       "    <tr>\n",
       "      <th>2017</th>\n",
       "      <td>218462</td>\n",
       "    </tr>\n",
       "    <tr>\n",
       "      <th>2018</th>\n",
       "      <td>194080</td>\n",
       "    </tr>\n",
       "    <tr>\n",
       "      <th>2019</th>\n",
       "      <td>171801</td>\n",
       "    </tr>\n",
       "    <tr>\n",
       "      <th>2020</th>\n",
       "      <td>25610</td>\n",
       "    </tr>\n",
       "  </tbody>\n",
       "</table>\n",
       "</div>"
      ],
      "text/plain": [
       "      quantidade_emprestimos\n",
       "ano                         \n",
       "2010                  161394\n",
       "2011                  196390\n",
       "2012                  221365\n",
       "2013                  234749\n",
       "2014                  219189\n",
       "2015                  213582\n",
       "2016                  215900\n",
       "2017                  218462\n",
       "2018                  194080\n",
       "2019                  171801\n",
       "2020                   25610"
      ]
     },
     "execution_count": 128,
     "metadata": {},
     "output_type": "execute_result"
    }
   ],
   "source": [
    "emprestimos_anuais['data_emprestimo'] = [1 for x in emprestimos_anuais['data_emprestimo']]\n",
    "emprestimos_anuais = emprestimos_anuais.groupby('ano').agg('sum')\n",
    "emprestimos_anuais.rename(columns={'data_emprestimo': 'quantidade_emprestimos'}, inplace=True)\n",
    "emprestimos_anuais"
   ]
  },
  {
   "cell_type": "code",
   "execution_count": 129,
   "id": "0a36bed9",
   "metadata": {},
   "outputs": [
    {
     "data": {
      "text/plain": [
       "Text(0, 0.5, '')"
      ]
     },
     "execution_count": 129,
     "metadata": {},
     "output_type": "execute_result"
    },
    {
     "data": {
      "image/png": "[encoded data removed]",
      "text/plain": [
       "<Figure size 1000x600 with 1 Axes>"
      ]
     },
     "metadata": {},
     "output_type": "display_data"
    }
   ],
   "source": [
    "fig, ax= plt.subplots(figsize = (10,6))\n",
    "\n",
    "#ponto a marcar\n",
    "pontos = []\n",
    "\n",
    "ax.plot(emprestimos_anuais.index, emprestimos_anuais['quantidade_emprestimos'])\n",
    "ax.set_title('Quantidade de emprestimos ao longo\\n dos anos 2010 a 2020', loc='left', fontsize=18)\n",
    "ax.set_xlabel('')\n",
    "ax.set_ylabel('')"
   ]
  },
  {
   "cell_type": "markdown",
   "id": "b2c669e4",
   "metadata": {},
   "source": [
    "Gráfico 2 - Quantidade mensal de emprestimos ao longo dos anos"
   ]
  },
  {
   "cell_type": "code",
   "execution_count": 130,
   "id": "351021a4",
   "metadata": {},
   "outputs": [],
   "source": [
    "emprestimos_mensal = emprestimos.copy()\n",
    "colunas_retirar = emprestimos_mensal.columns\n",
    "emprestimos_mensal.drop(columns=[col for col in colunas_retirar if col not in ['id_emprestimo', 'id_exemplar', 'data_emprestimo']], inplace=True)\n",
    "emprestimos_mensal.dropna(inplace=True)\n",
    "emprestimos_mensal.reset_index(drop=True, inplace=True)"
   ]
  },
  {
   "cell_type": "code",
   "execution_count": 131,
   "id": "d022a13e",
   "metadata": {},
   "outputs": [
    {
     "name": "stdout",
     "output_type": "stream",
     "text": [
      "<class 'pandas.core.frame.DataFrame'>\n",
      "RangeIndex: 2072522 entries, 0 to 2072521\n",
      "Data columns (total 3 columns):\n",
      " #   Column           Dtype         \n",
      "---  ------           -----         \n",
      " 0   data_emprestimo  datetime64[ns]\n",
      " 1   ano              int64         \n",
      " 2   mes              int64         \n",
      "dtypes: datetime64[ns](1), int64(2)\n",
      "memory usage: 47.4 MB\n"
     ]
    }
   ],
   "source": [
    "emprestimos_mensal['data_emprestimo'] = pd.to_datetime(emprestimos_mensal['data_emprestimo'])\n",
    "emprestimos_mensal['ano'] = emprestimos_mensal['data_emprestimo'].dt.year\n",
    "emprestimos_mensal['mes'] = emprestimos_mensal['data_emprestimo'].dt.month\n",
    "emprestimos_mensal['ano'] = emprestimos_mensal['ano'].astype(int)\n",
    "emprestimos_mensal['mes'] = emprestimos_mensal['mes'].astype(int)\n",
    "emprestimos_mensal.drop(columns=['id_emprestimo', 'id_exemplar'], inplace=True)\n",
    "emprestimos_mensal.info()"
   ]
  },
  {
   "cell_type": "code",
   "execution_count": 132,
   "id": "0b89b806",
   "metadata": {},
   "outputs": [
    {
     "data": {
      "text/html": [
       "<div>\n",
       "<style scoped>\n",
       "    .dataframe tbody tr th:only-of-type {\n",
       "        vertical-align: middle;\n",
       "    }\n",
       "\n",
       "    .dataframe tbody tr th {\n",
       "        vertical-align: top;\n",
       "    }\n",
       "\n",
       "    .dataframe thead th {\n",
       "        text-align: right;\n",
       "    }\n",
       "</style>\n",
       "<table border=\"1\" class=\"dataframe\">\n",
       "  <thead>\n",
       "    <tr style=\"text-align: right;\">\n",
       "      <th></th>\n",
       "      <th>ano</th>\n",
       "      <th>mes</th>\n",
       "      <th>quantidade_emprestimo</th>\n",
       "    </tr>\n",
       "  </thead>\n",
       "  <tbody>\n",
       "    <tr>\n",
       "      <th>0</th>\n",
       "      <td>2010</td>\n",
       "      <td>1</td>\n",
       "      <td>4703</td>\n",
       "    </tr>\n",
       "    <tr>\n",
       "      <th>1</th>\n",
       "      <td>2010</td>\n",
       "      <td>2</td>\n",
       "      <td>10266</td>\n",
       "    </tr>\n",
       "    <tr>\n",
       "      <th>2</th>\n",
       "      <td>2010</td>\n",
       "      <td>3</td>\n",
       "      <td>19631</td>\n",
       "    </tr>\n",
       "    <tr>\n",
       "      <th>3</th>\n",
       "      <td>2010</td>\n",
       "      <td>4</td>\n",
       "      <td>16352</td>\n",
       "    </tr>\n",
       "    <tr>\n",
       "      <th>4</th>\n",
       "      <td>2010</td>\n",
       "      <td>5</td>\n",
       "      <td>15889</td>\n",
       "    </tr>\n",
       "    <tr>\n",
       "      <th>...</th>\n",
       "      <td>...</td>\n",
       "      <td>...</td>\n",
       "      <td>...</td>\n",
       "    </tr>\n",
       "    <tr>\n",
       "      <th>120</th>\n",
       "      <td>2020</td>\n",
       "      <td>1</td>\n",
       "      <td>3585</td>\n",
       "    </tr>\n",
       "    <tr>\n",
       "      <th>121</th>\n",
       "      <td>2020</td>\n",
       "      <td>2</td>\n",
       "      <td>10667</td>\n",
       "    </tr>\n",
       "    <tr>\n",
       "      <th>122</th>\n",
       "      <td>2020</td>\n",
       "      <td>3</td>\n",
       "      <td>11348</td>\n",
       "    </tr>\n",
       "    <tr>\n",
       "      <th>123</th>\n",
       "      <td>2020</td>\n",
       "      <td>5</td>\n",
       "      <td>8</td>\n",
       "    </tr>\n",
       "    <tr>\n",
       "      <th>124</th>\n",
       "      <td>2020</td>\n",
       "      <td>6</td>\n",
       "      <td>2</td>\n",
       "    </tr>\n",
       "  </tbody>\n",
       "</table>\n",
       "<p>125 rows × 3 columns</p>\n",
       "</div>"
      ],
      "text/plain": [
       "      ano  mes  quantidade_emprestimo\n",
       "0    2010    1                   4703\n",
       "1    2010    2                  10266\n",
       "2    2010    3                  19631\n",
       "3    2010    4                  16352\n",
       "4    2010    5                  15889\n",
       "..    ...  ...                    ...\n",
       "120  2020    1                   3585\n",
       "121  2020    2                  10667\n",
       "122  2020    3                  11348\n",
       "123  2020    5                      8\n",
       "124  2020    6                      2\n",
       "\n",
       "[125 rows x 3 columns]"
      ]
     },
     "execution_count": 132,
     "metadata": {},
     "output_type": "execute_result"
    }
   ],
   "source": [
    "emprestimos_mensal['data_emprestimo'] = [1 for x in emprestimos_mensal['data_emprestimo']]\n",
    "emprestimos_mensal.rename(columns={'data_emprestimo': 'quantidade_emprestimo'}, inplace=True)\n",
    "emprestimos_mensal = emprestimos_mensal.groupby(['ano','mes']).sum()\n",
    "emprestimos_mensal.reset_index(inplace=True)\n",
    "emprestimos_mensal"
   ]
  },
  {
   "cell_type": "code",
   "execution_count": 133,
   "id": "3a4ae41c",
   "metadata": {},
   "outputs": [
    {
     "data": {
      "text/html": [
       "<div>\n",
       "<style scoped>\n",
       "    .dataframe tbody tr th:only-of-type {\n",
       "        vertical-align: middle;\n",
       "    }\n",
       "\n",
       "    .dataframe tbody tr th {\n",
       "        vertical-align: top;\n",
       "    }\n",
       "\n",
       "    .dataframe thead th {\n",
       "        text-align: right;\n",
       "    }\n",
       "</style>\n",
       "<table border=\"1\" class=\"dataframe\">\n",
       "  <thead>\n",
       "    <tr style=\"text-align: right;\">\n",
       "      <th>ano</th>\n",
       "      <th>2010</th>\n",
       "      <th>2011</th>\n",
       "      <th>2012</th>\n",
       "      <th>2013</th>\n",
       "      <th>2014</th>\n",
       "      <th>2015</th>\n",
       "      <th>2016</th>\n",
       "      <th>2017</th>\n",
       "      <th>2018</th>\n",
       "      <th>2019</th>\n",
       "      <th>2020</th>\n",
       "    </tr>\n",
       "    <tr>\n",
       "      <th>mes</th>\n",
       "      <th></th>\n",
       "      <th></th>\n",
       "      <th></th>\n",
       "      <th></th>\n",
       "      <th></th>\n",
       "      <th></th>\n",
       "      <th></th>\n",
       "      <th></th>\n",
       "      <th></th>\n",
       "      <th></th>\n",
       "      <th></th>\n",
       "    </tr>\n",
       "  </thead>\n",
       "  <tbody>\n",
       "    <tr>\n",
       "      <th>1</th>\n",
       "      <td>4703.0</td>\n",
       "      <td>1516.0</td>\n",
       "      <td>7336.0</td>\n",
       "      <td>7907.0</td>\n",
       "      <td>15889.0</td>\n",
       "      <td>6612.0</td>\n",
       "      <td>5095.0</td>\n",
       "      <td>5100.0</td>\n",
       "      <td>5148.0</td>\n",
       "      <td>4623.0</td>\n",
       "      <td>3585.0</td>\n",
       "    </tr>\n",
       "    <tr>\n",
       "      <th>2</th>\n",
       "      <td>10266.0</td>\n",
       "      <td>13185.0</td>\n",
       "      <td>20789.0</td>\n",
       "      <td>25380.0</td>\n",
       "      <td>25817.0</td>\n",
       "      <td>26178.0</td>\n",
       "      <td>19847.0</td>\n",
       "      <td>19886.0</td>\n",
       "      <td>16969.0</td>\n",
       "      <td>21216.0</td>\n",
       "      <td>10667.0</td>\n",
       "    </tr>\n",
       "    <tr>\n",
       "      <th>3</th>\n",
       "      <td>19631.0</td>\n",
       "      <td>20086.0</td>\n",
       "      <td>28138.0</td>\n",
       "      <td>24877.0</td>\n",
       "      <td>20244.0</td>\n",
       "      <td>28662.0</td>\n",
       "      <td>27660.0</td>\n",
       "      <td>27739.0</td>\n",
       "      <td>23923.0</td>\n",
       "      <td>19877.0</td>\n",
       "      <td>11348.0</td>\n",
       "    </tr>\n",
       "    <tr>\n",
       "      <th>4</th>\n",
       "      <td>16352.0</td>\n",
       "      <td>18405.0</td>\n",
       "      <td>23688.0</td>\n",
       "      <td>26707.0</td>\n",
       "      <td>19034.0</td>\n",
       "      <td>23725.0</td>\n",
       "      <td>20348.0</td>\n",
       "      <td>20384.0</td>\n",
       "      <td>21835.0</td>\n",
       "      <td>18247.0</td>\n",
       "      <td>NaN</td>\n",
       "    </tr>\n",
       "    <tr>\n",
       "      <th>5</th>\n",
       "      <td>15889.0</td>\n",
       "      <td>20282.0</td>\n",
       "      <td>22517.0</td>\n",
       "      <td>22870.0</td>\n",
       "      <td>17376.0</td>\n",
       "      <td>21901.0</td>\n",
       "      <td>22730.0</td>\n",
       "      <td>22756.0</td>\n",
       "      <td>19431.0</td>\n",
       "      <td>16770.0</td>\n",
       "      <td>8.0</td>\n",
       "    </tr>\n",
       "    <tr>\n",
       "      <th>6</th>\n",
       "      <td>12551.0</td>\n",
       "      <td>16578.0</td>\n",
       "      <td>14237.0</td>\n",
       "      <td>13697.0</td>\n",
       "      <td>7029.0</td>\n",
       "      <td>12963.0</td>\n",
       "      <td>17360.0</td>\n",
       "      <td>17377.0</td>\n",
       "      <td>15494.0</td>\n",
       "      <td>10835.0</td>\n",
       "      <td>2.0</td>\n",
       "    </tr>\n",
       "    <tr>\n",
       "      <th>7</th>\n",
       "      <td>7018.0</td>\n",
       "      <td>8626.0</td>\n",
       "      <td>6286.0</td>\n",
       "      <td>15773.0</td>\n",
       "      <td>18910.0</td>\n",
       "      <td>14314.0</td>\n",
       "      <td>14616.0</td>\n",
       "      <td>14808.0</td>\n",
       "      <td>9651.0</td>\n",
       "      <td>13788.0</td>\n",
       "      <td>NaN</td>\n",
       "    </tr>\n",
       "    <tr>\n",
       "      <th>8</th>\n",
       "      <td>18337.0</td>\n",
       "      <td>24794.0</td>\n",
       "      <td>22703.0</td>\n",
       "      <td>24092.0</td>\n",
       "      <td>24223.0</td>\n",
       "      <td>20100.0</td>\n",
       "      <td>26434.0</td>\n",
       "      <td>27458.0</td>\n",
       "      <td>24886.0</td>\n",
       "      <td>19766.0</td>\n",
       "      <td>NaN</td>\n",
       "    </tr>\n",
       "    <tr>\n",
       "      <th>9</th>\n",
       "      <td>18448.0</td>\n",
       "      <td>23305.0</td>\n",
       "      <td>21607.0</td>\n",
       "      <td>24216.0</td>\n",
       "      <td>24750.0</td>\n",
       "      <td>16141.0</td>\n",
       "      <td>23619.0</td>\n",
       "      <td>21409.0</td>\n",
       "      <td>18080.0</td>\n",
       "      <td>16659.0</td>\n",
       "      <td>NaN</td>\n",
       "    </tr>\n",
       "    <tr>\n",
       "      <th>10</th>\n",
       "      <td>15501.0</td>\n",
       "      <td>19223.0</td>\n",
       "      <td>22322.0</td>\n",
       "      <td>21203.0</td>\n",
       "      <td>21924.0</td>\n",
       "      <td>18076.0</td>\n",
       "      <td>18225.0</td>\n",
       "      <td>19281.0</td>\n",
       "      <td>17794.0</td>\n",
       "      <td>14861.0</td>\n",
       "      <td>NaN</td>\n",
       "    </tr>\n",
       "    <tr>\n",
       "      <th>11</th>\n",
       "      <td>14596.0</td>\n",
       "      <td>18496.0</td>\n",
       "      <td>20563.0</td>\n",
       "      <td>19059.0</td>\n",
       "      <td>17353.0</td>\n",
       "      <td>17796.0</td>\n",
       "      <td>13257.0</td>\n",
       "      <td>16390.0</td>\n",
       "      <td>15063.0</td>\n",
       "      <td>11649.0</td>\n",
       "      <td>NaN</td>\n",
       "    </tr>\n",
       "    <tr>\n",
       "      <th>12</th>\n",
       "      <td>8102.0</td>\n",
       "      <td>11894.0</td>\n",
       "      <td>11179.0</td>\n",
       "      <td>8968.0</td>\n",
       "      <td>6640.0</td>\n",
       "      <td>7114.0</td>\n",
       "      <td>6709.0</td>\n",
       "      <td>5874.0</td>\n",
       "      <td>5806.0</td>\n",
       "      <td>3510.0</td>\n",
       "      <td>NaN</td>\n",
       "    </tr>\n",
       "  </tbody>\n",
       "</table>\n",
       "</div>"
      ],
      "text/plain": [
       "ano     2010     2011     2012     2013     2014     2015     2016     2017  \\\n",
       "mes                                                                           \n",
       "1     4703.0   1516.0   7336.0   7907.0  15889.0   6612.0   5095.0   5100.0   \n",
       "2    10266.0  13185.0  20789.0  25380.0  25817.0  26178.0  19847.0  19886.0   \n",
       "3    19631.0  20086.0  28138.0  24877.0  20244.0  28662.0  27660.0  27739.0   \n",
       "4    16352.0  18405.0  23688.0  26707.0  19034.0  23725.0  20348.0  20384.0   \n",
       "5    15889.0  20282.0  22517.0  22870.0  17376.0  21901.0  22730.0  22756.0   \n",
       "6    12551.0  16578.0  14237.0  13697.0   7029.0  12963.0  17360.0  17377.0   \n",
       "7     7018.0   8626.0   6286.0  15773.0  18910.0  14314.0  14616.0  14808.0   \n",
       "8    18337.0  24794.0  22703.0  24092.0  24223.0  20100.0  26434.0  27458.0   \n",
       "9    18448.0  23305.0  21607.0  24216.0  24750.0  16141.0  23619.0  21409.0   \n",
       "10   15501.0  19223.0  22322.0  21203.0  21924.0  18076.0  18225.0  19281.0   \n",
       "11   14596.0  18496.0  20563.0  19059.0  17353.0  17796.0  13257.0  16390.0   \n",
       "12    8102.0  11894.0  11179.0   8968.0   6640.0   7114.0   6709.0   5874.0   \n",
       "\n",
       "ano     2018     2019     2020  \n",
       "mes                             \n",
       "1     5148.0   4623.0   3585.0  \n",
       "2    16969.0  21216.0  10667.0  \n",
       "3    23923.0  19877.0  11348.0  \n",
       "4    21835.0  18247.0      NaN  \n",
       "5    19431.0  16770.0      8.0  \n",
       "6    15494.0  10835.0      2.0  \n",
       "7     9651.0  13788.0      NaN  \n",
       "8    24886.0  19766.0      NaN  \n",
       "9    18080.0  16659.0      NaN  \n",
       "10   17794.0  14861.0      NaN  \n",
       "11   15063.0  11649.0      NaN  \n",
       "12    5806.0   3510.0      NaN  "
      ]
     },
     "execution_count": 133,
     "metadata": {},
     "output_type": "execute_result"
    }
   ],
   "source": [
    "emprestimos_mensal = pd.crosstab(index=emprestimos_mensal['mes'], columns=emprestimos_mensal['ano'], values=emprestimos_mensal['quantidade_emprestimo'], aggfunc='sum')\n",
    "emprestimos_mensal"
   ]
  },
  {
   "cell_type": "markdown",
   "id": "a9131465",
   "metadata": {},
   "source": [
    "É notável que os dados não foram registrados em todo o ano de 2020, logo não podemos fazer uma análise ao longo dos meses, pois caso o contrário ela seria tendenciosa."
   ]
  },
  {
   "cell_type": "code",
   "execution_count": 134,
   "id": "30b7ad03",
   "metadata": {},
   "outputs": [],
   "source": [
    "emprestimos_mensal = emprestimos_mensal.drop(2020,axis=1)"
   ]
  },
  {
   "cell_type": "code",
   "execution_count": 135,
   "id": "600fadea",
   "metadata": {},
   "outputs": [],
   "source": [
    "import plotly.express as px"
   ]
  },
  {
   "cell_type": "code",
   "execution_count": 136,
   "id": "0869393d",
   "metadata": {},
   "outputs": [
    {
     "data": {
      "application/vnd.plotly.v1+json": {
       "config": {
        "plotlyServerURL": "https://plot.ly"
       },
       "data": [
        {
         "hovertemplate": "ano=2010<br>mes=%{x}<br>value=%{y}<extra></extra>",
         "legendgroup": "2010",
         "line": {
          "color": "#636efa",
          "dash": "solid"
         },
         "marker": {
          "symbol": "circle"
         },
         "mode": "lines+markers",
         "name": "2010",
         "orientation": "v",
         "showlegend": true,
         "type": "scatter",
         "x": {
          "bdata": "AQIDBAUGBwgJCgsM",
          "dtype": "i1"
         },
         "xaxis": "x",
         "y": {
          "bdata": "AAAAAABfskAAAAAAAA3EQAAAAADAK9NAAAAAAADwz0AAAAAAgAjPQAAAAACAg8hAAAAAAABqu0AAAAAAQOjRQAAAAAAABNJAAAAAAIBGzkAAAAAAAILMQAAAAAAApr9A",
          "dtype": "f8"
         },
         "yaxis": "y"
        },
        {
         "hovertemplate": "ano=2011<br>mes=%{x}<br>value=%{y}<extra></extra>",
         "legendgroup": "2011",
         "line": {
          "color": "#EF553B",
          "dash": "solid"
         },
         "marker": {
          "symbol": "circle"
         },
         "mode": "lines+markers",
         "name": "2011",
         "orientation": "v",
         "showlegend": true,
         "type": "scatter",
         "x": {
          "bdata": "AQIDBAUGBwgJCgsM",
          "dtype": "i1"
         },
         "xaxis": "x",
         "y": {
          "bdata": "AAAAAACwl0AAAAAAgMDJQAAAAACAndNAAAAAAED50UAAAAAAgM7TQAAAAACAMNBAAAAAAADZwEAAAAAAgDbYQAAAAABAwtZAAAAAAMDF0kAAAAAAABDSQAAAAAAAO8dA",
          "dtype": "f8"
         },
         "yaxis": "y"
        },
        {
         "hovertemplate": "ano=2012<br>mes=%{x}<br>value=%{y}<extra></extra>",
         "legendgroup": "2012",
         "line": {
          "color": "#00cc96",
          "dash": "solid"
         },
         "marker": {
          "symbol": "circle"
         },
         "mode": "lines+markers",
         "name": "2012",
         "orientation": "v",
         "showlegend": true,
         "type": "scatter",
         "x": {
          "bdata": "AQIDBAUGBwgJCgsM",
          "dtype": "i1"
         },
         "xaxis": "x",
         "y": {
          "bdata": "AAAAAACovEAAAAAAQE3UQAAAAACAettAAAAAAAAi10AAAAAAQP3VQAAAAACAzstAAAAAAACOuEAAAAAAwCvWQAAAAADAGdVAAAAAAIDM1UAAAAAAwBTUQAAAAACA1cVA",
          "dtype": "f8"
         },
         "yaxis": "y"
        },
        {
         "hovertemplate": "ano=2013<br>mes=%{x}<br>value=%{y}<extra></extra>",
         "legendgroup": "2013",
         "line": {
          "color": "#ab63fa",
          "dash": "solid"
         },
         "marker": {
          "symbol": "circle"
         },
         "mode": "lines+markers",
         "name": "2013",
         "orientation": "v",
         "showlegend": true,
         "type": "scatter",
         "x": {
          "bdata": "AQIDBAUGBwgJCgsM",
          "dtype": "i1"
         },
         "xaxis": "x",
         "y": {
          "bdata": "AAAAAADjvkAAAAAAAMnYQAAAAABAS9hAAAAAAMAU2kAAAAAAgFXWQAAAAACAwMpAAAAAAIDOzkAAAAAAAIfXQAAAAAAAptdAAAAAAMC01EAAAAAAwJzSQAAAAAAAhMFA",
          "dtype": "f8"
         },
         "yaxis": "y"
        },
        {
         "hovertemplate": "ano=2014<br>mes=%{x}<br>value=%{y}<extra></extra>",
         "legendgroup": "2014",
         "line": {
          "color": "#FFA15A",
          "dash": "solid"
         },
         "marker": {
          "symbol": "circle"
         },
         "mode": "lines+markers",
         "name": "2014",
         "orientation": "v",
         "showlegend": true,
         "type": "scatter",
         "x": {
          "bdata": "AQIDBAUGBwgJCgsM",
          "dtype": "i1"
         },
         "xaxis": "x",
         "y": {
          "bdata": "AAAAAIAIz0AAAAAAQDbZQAAAAAAAxdNAAAAAAICW0kAAAAAAAPjQQAAAAAAAdbtAAAAAAIB30kAAAAAAwKfXQAAAAACAK9hAAAAAAABp1UAAAAAAQPLQQAAAAAAA8LlA",
          "dtype": "f8"
         },
         "yaxis": "y"
        },
        {
         "hovertemplate": "ano=2015<br>mes=%{x}<br>value=%{y}<extra></extra>",
         "legendgroup": "2015",
         "line": {
          "color": "#19d3f3",
          "dash": "solid"
         },
         "marker": {
          "symbol": "circle"
         },
         "mode": "lines+markers",
         "name": "2015",
         "orientation": "v",
         "showlegend": true,
         "type": "scatter",
         "x": {
          "bdata": "AQIDBAUGBwgJCgsM",
          "dtype": "i1"
         },
         "xaxis": "x",
         "y": {
          "bdata": "AAAAAADUuUAAAAAAgJDZQAAAAACA/dtAAAAAAEAr10AAAAAAQGPVQAAAAACAUclAAAAAAAD1y0AAAAAAAKHTQAAAAACAhs9AAAAAAACn0UAAAAAAAGHRQAAAAAAAyrtA",
          "dtype": "f8"
         },
         "yaxis": "y"
        },
        {
         "hovertemplate": "ano=2016<br>mes=%{x}<br>value=%{y}<extra></extra>",
         "legendgroup": "2016",
         "line": {
          "color": "#FF6692",
          "dash": "solid"
         },
         "marker": {
          "symbol": "circle"
         },
         "mode": "lines+markers",
         "name": "2016",
         "orientation": "v",
         "showlegend": true,
         "type": "scatter",
         "x": {
          "bdata": "AQIDBAUGBwgJCgsM",
          "dtype": "i1"
         },
         "xaxis": "x",
         "y": {
          "bdata": "AAAAAADns0AAAAAAwGHTQAAAAAAAA9tAAAAAAADf00AAAAAAgDLWQAAAAAAA9NBAAAAAAACMzEAAAAAAgNDZQAAAAADAENdAAAAAAEDM0UAAAAAAgOTJQAAAAAAANbpA",
          "dtype": "f8"
         },
         "yaxis": "y"
        },
        {
         "hovertemplate": "ano=2017<br>mes=%{x}<br>value=%{y}<extra></extra>",
         "legendgroup": "2017",
         "line": {
          "color": "#B6E880",
          "dash": "solid"
         },
         "marker": {
          "symbol": "circle"
         },
         "mode": "lines+markers",
         "name": "2017",
         "orientation": "v",
         "showlegend": true,
         "type": "scatter",
         "x": {
          "bdata": "AQIDBAUGBwgJCgsM",
          "dtype": "i1"
         },
         "xaxis": "x",
         "y": {
          "bdata": "AAAAAADss0AAAAAAgGvTQAAAAADAFttAAAAAAADo00AAAAAAADnWQAAAAABA+NBAAAAAAADszEAAAAAAgNDaQAAAAABA6NRAAAAAAEDU0kAAAAAAgAHQQAAAAAAA8rZA",
          "dtype": "f8"
         },
         "yaxis": "y"
        },
        {
         "hovertemplate": "ano=2018<br>mes=%{x}<br>value=%{y}<extra></extra>",
         "legendgroup": "2018",
         "line": {
          "color": "#FF97FF",
          "dash": "solid"
         },
         "marker": {
          "symbol": "circle"
         },
         "mode": "lines+markers",
         "name": "2018",
         "orientation": "v",
         "showlegend": true,
         "type": "scatter",
         "x": {
          "bdata": "AQIDBAUGBwgJCgsM",
          "dtype": "i1"
         },
         "xaxis": "x",
         "y": {
          "bdata": "AAAAAAActEAAAAAAQJLQQAAAAADAXNdAAAAAAMBS1UAAAAAAwPnSQAAAAAAAQ85AAAAAAIDZwkAAAAAAgE3YQAAAAAAAqNFAAAAAAIBg0UAAAAAAgGvNQAAAAAAArrZA",
          "dtype": "f8"
         },
         "yaxis": "y"
        },
        {
         "hovertemplate": "ano=2019<br>mes=%{x}<br>value=%{y}<extra></extra>",
         "legendgroup": "2019",
         "line": {
          "color": "#FECB52",
          "dash": "solid"
         },
         "marker": {
          "symbol": "circle"
         },
         "mode": "lines+markers",
         "name": "2019",
         "orientation": "v",
         "showlegend": true,
         "type": "scatter",
         "x": {
          "bdata": "AQIDBAUGBwgJCgsM",
          "dtype": "i1"
         },
         "xaxis": "x",
         "y": {
          "bdata": "AAAAAAAPskAAAAAAALjUQAAAAABAadNAAAAAAMDR0UAAAAAAgGDQQAAAAACAKcVAAAAAAADuykAAAAAAgE3TQAAAAADARNBAAAAAAIAGzUAAAAAAgMDGQAAAAAAAbKtA",
          "dtype": "f8"
         },
         "yaxis": "y"
        }
       ],
       "layout": {
        "font": {
         "size": 14
        },
        "legend": {
         "title": {
          "text": "ano"
         },
         "tracegroupgap": 0
        },
        "margin": {
         "t": 60
        },
        "template": {
         "data": {
          "bar": [
           {
            "error_x": {
             "color": "#2a3f5f"
            },
            "error_y": {
             "color": "#2a3f5f"
            },
            "marker": {
             "line": {
              "color": "#E5ECF6",
              "width": 0.5
             },
             "pattern": {
              "fillmode": "overlay",
              "size": 10,
              "solidity": 0.2
             }
            },
            "type": "bar"
           }
          ],
          "barpolar": [
           {
            "marker": {
             "line": {
              "color": "#E5ECF6",
              "width": 0.5
             },
             "pattern": {
              "fillmode": "overlay",
              "size": 10,
              "solidity": 0.2
             }
            },
            "type": "barpolar"
           }
          ],
          "carpet": [
           {
            "aaxis": {
             "endlinecolor": "#2a3f5f",
             "gridcolor": "white",
             "linecolor": "white",
             "minorgridcolor": "white",
             "startlinecolor": "#2a3f5f"
            },
            "baxis": {
             "endlinecolor": "#2a3f5f",
             "gridcolor": "white",
             "linecolor": "white",
             "minorgridcolor": "white",
             "startlinecolor": "#2a3f5f"
            },
            "type": "carpet"
           }
          ],
          "choropleth": [
           {
            "colorbar": {
             "outlinewidth": 0,
             "ticks": ""
            },
            "type": "choropleth"
           }
          ],
          "contour": [
           {
            "colorbar": {
             "outlinewidth": 0,
             "ticks": ""
            },
            "colorscale": [
             [
              0,
              "#0d0887"
             ],
             [
              0.1111111111111111,
              "#46039f"
             ],
             [
              0.2222222222222222,
              "#7201a8"
             ],
             [
              0.3333333333333333,
              "#9c179e"
             ],
             [
              0.4444444444444444,
              "#bd3786"
             ],
             [
              0.5555555555555556,
              "#d8576b"
             ],
             [
              0.6666666666666666,
              "#ed7953"
             ],
             [
              0.7777777777777778,
              "#fb9f3a"
             ],
             [
              0.8888888888888888,
              "#fdca26"
             ],
             [
              1,
              "#f0f921"
             ]
            ],
            "type": "contour"
           }
          ],
          "contourcarpet": [
           {
            "colorbar": {
             "outlinewidth": 0,
             "ticks": ""
            },
            "type": "contourcarpet"
           }
          ],
          "heatmap": [
           {
            "colorbar": {
             "outlinewidth": 0,
             "ticks": ""
            },
            "colorscale": [
             [
              0,
              "#0d0887"
             ],
             [
              0.1111111111111111,
              "#46039f"
             ],
             [
              0.2222222222222222,
              "#7201a8"
             ],
             [
              0.3333333333333333,
              "#9c179e"
             ],
             [
              0.4444444444444444,
              "#bd3786"
             ],
             [
              0.5555555555555556,
              "#d8576b"
             ],
             [
              0.6666666666666666,
              "#ed7953"
             ],
             [
              0.7777777777777778,
              "#fb9f3a"
             ],
             [
              0.8888888888888888,
              "#fdca26"
             ],
             [
              1,
              "#f0f921"
             ]
            ],
            "type": "heatmap"
           }
          ],
          "histogram": [
           {
            "marker": {
             "pattern": {
              "fillmode": "overlay",
              "size": 10,
              "solidity": 0.2
             }
            },
            "type": "histogram"
           }
          ],
          "histogram2d": [
           {
            "colorbar": {
             "outlinewidth": 0,
             "ticks": ""
            },
            "colorscale": [
             [
              0,
              "#0d0887"
             ],
             [
              0.1111111111111111,
              "#46039f"
             ],
             [
              0.2222222222222222,
              "#7201a8"
             ],
             [
              0.3333333333333333,
              "#9c179e"
             ],
             [
              0.4444444444444444,
              "#bd3786"
             ],
             [
              0.5555555555555556,
              "#d8576b"
             ],
             [
              0.6666666666666666,
              "#ed7953"
             ],
             [
              0.7777777777777778,
              "#fb9f3a"
             ],
             [
              0.8888888888888888,
              "#fdca26"
             ],
             [
              1,
              "#f0f921"
             ]
            ],
            "type": "histogram2d"
           }
          ],
          "histogram2dcontour": [
           {
            "colorbar": {
             "outlinewidth": 0,
             "ticks": ""
            },
            "colorscale": [
             [
              0,
              "#0d0887"
             ],
             [
              0.1111111111111111,
              "#46039f"
             ],
             [
              0.2222222222222222,
              "#7201a8"
             ],
             [
              0.3333333333333333,
              "#9c179e"
             ],
             [
              0.4444444444444444,
              "#bd3786"
             ],
             [
              0.5555555555555556,
              "#d8576b"
             ],
             [
              0.6666666666666666,
              "#ed7953"
             ],
             [
              0.7777777777777778,
              "#fb9f3a"
             ],
             [
              0.8888888888888888,
              "#fdca26"
             ],
             [
              1,
              "#f0f921"
             ]
            ],
            "type": "histogram2dcontour"
           }
          ],
          "mesh3d": [
           {
            "colorbar": {
             "outlinewidth": 0,
             "ticks": ""
            },
            "type": "mesh3d"
           }
          ],
          "parcoords": [
           {
            "line": {
             "colorbar": {
              "outlinewidth": 0,
              "ticks": ""
             }
            },
            "type": "parcoords"
           }
          ],
          "pie": [
           {
            "automargin": true,
            "type": "pie"
           }
          ],
          "scatter": [
           {
            "fillpattern": {
             "fillmode": "overlay",
             "size": 10,
             "solidity": 0.2
            },
            "type": "scatter"
           }
          ],
          "scatter3d": [
           {
            "line": {
             "colorbar": {
              "outlinewidth": 0,
              "ticks": ""
             }
            },
            "marker": {
             "colorbar": {
              "outlinewidth": 0,
              "ticks": ""
             }
            },
            "type": "scatter3d"
           }
          ],
          "scattercarpet": [
           {
            "marker": {
             "colorbar": {
              "outlinewidth": 0,
              "ticks": ""
             }
            },
            "type": "scattercarpet"
           }
          ],
          "scattergeo": [
           {
            "marker": {
             "colorbar": {
              "outlinewidth": 0,
              "ticks": ""
             }
            },
            "type": "scattergeo"
           }
          ],
          "scattergl": [
           {
            "marker": {
             "colorbar": {
              "outlinewidth": 0,
              "ticks": ""
             }
            },
            "type": "scattergl"
           }
          ],
          "scattermap": [
           {
            "marker": {
             "colorbar": {
              "outlinewidth": 0,
              "ticks": ""
             }
            },
            "type": "scattermap"
           }
          ],
          "scattermapbox": [
           {
            "marker": {
             "colorbar": {
              "outlinewidth": 0,
              "ticks": ""
             }
            },
            "type": "scattermapbox"
           }
          ],
          "scatterpolar": [
           {
            "marker": {
             "colorbar": {
              "outlinewidth": 0,
              "ticks": ""
             }
            },
            "type": "scatterpolar"
           }
          ],
          "scatterpolargl": [
           {
            "marker": {
             "colorbar": {
              "outlinewidth": 0,
              "ticks": ""
             }
            },
            "type": "scatterpolargl"
           }
          ],
          "scatterternary": [
           {
            "marker": {
             "colorbar": {
              "outlinewidth": 0,
              "ticks": ""
             }
            },
            "type": "scatterternary"
           }
          ],
          "surface": [
           {
            "colorbar": {
             "outlinewidth": 0,
             "ticks": ""
            },
            "colorscale": [
             [
              0,
              "#0d0887"
             ],
             [
              0.1111111111111111,
              "#46039f"
             ],
             [
              0.2222222222222222,
              "#7201a8"
             ],
             [
              0.3333333333333333,
              "#9c179e"
             ],
             [
              0.4444444444444444,
              "#bd3786"
             ],
             [
              0.5555555555555556,
              "#d8576b"
             ],
             [
              0.6666666666666666,
              "#ed7953"
             ],
             [
              0.7777777777777778,
              "#fb9f3a"
             ],
             [
              0.8888888888888888,
              "#fdca26"
             ],
             [
              1,
              "#f0f921"
             ]
            ],
            "type": "surface"
           }
          ],
          "table": [
           {
            "cells": {
             "fill": {
              "color": "#EBF0F8"
             },
             "line": {
              "color": "white"
             }
            },
            "header": {
             "fill": {
              "color": "#C8D4E3"
             },
             "line": {
              "color": "white"
             }
            },
            "type": "table"
           }
          ]
         },
         "layout": {
          "annotationdefaults": {
           "arrowcolor": "#2a3f5f",
           "arrowhead": 0,
           "arrowwidth": 1
          },
          "autotypenumbers": "strict",
          "coloraxis": {
           "colorbar": {
            "outlinewidth": 0,
            "ticks": ""
           }
          },
          "colorscale": {
           "diverging": [
            [
             0,
             "#8e0152"
            ],
            [
             0.1,
             "#c51b7d"
            ],
            [
             0.2,
             "#de77ae"
            ],
            [
             0.3,
             "#f1b6da"
            ],
            [
             0.4,
             "#fde0ef"
            ],
            [
             0.5,
             "#f7f7f7"
            ],
            [
             0.6,
             "#e6f5d0"
            ],
            [
             0.7,
             "#b8e186"
            ],
            [
             0.8,
             "#7fbc41"
            ],
            [
             0.9,
             "#4d9221"
            ],
            [
             1,
             "#276419"
            ]
           ],
           "sequential": [
            [
             0,
             "#0d0887"
            ],
            [
             0.1111111111111111,
             "#46039f"
            ],
            [
             0.2222222222222222,
             "#7201a8"
            ],
            [
             0.3333333333333333,
             "#9c179e"
            ],
            [
             0.4444444444444444,
             "#bd3786"
            ],
            [
             0.5555555555555556,
             "#d8576b"
            ],
            [
             0.6666666666666666,
             "#ed7953"
            ],
            [
             0.7777777777777778,
             "#fb9f3a"
            ],
            [
             0.8888888888888888,
             "#fdca26"
            ],
            [
             1,
             "#f0f921"
            ]
           ],
           "sequentialminus": [
            [
             0,
             "#0d0887"
            ],
            [
             0.1111111111111111,
             "#46039f"
            ],
            [
             0.2222222222222222,
             "#7201a8"
            ],
            [
             0.3333333333333333,
             "#9c179e"
            ],
            [
             0.4444444444444444,
             "#bd3786"
            ],
            [
             0.5555555555555556,
             "#d8576b"
            ],
            [
             0.6666666666666666,
             "#ed7953"
            ],
            [
             0.7777777777777778,
             "#fb9f3a"
            ],
            [
             0.8888888888888888,
             "#fdca26"
            ],
            [
             1,
             "#f0f921"
            ]
           ]
          },
          "colorway": [
           "#636efa",
           "#EF553B",
           "#00cc96",
           "#ab63fa",
           "#FFA15A",
           "#19d3f3",
           "#FF6692",
           "#B6E880",
           "#FF97FF",
           "#FECB52"
          ],
          "font": {
           "color": "#2a3f5f"
          },
          "geo": {
           "bgcolor": "white",
           "lakecolor": "white",
           "landcolor": "#E5ECF6",
           "showlakes": true,
           "showland": true,
           "subunitcolor": "white"
          },
          "hoverlabel": {
           "align": "left"
          },
          "hovermode": "closest",
          "mapbox": {
           "style": "light"
          },
          "paper_bgcolor": "white",
          "plot_bgcolor": "#E5ECF6",
          "polar": {
           "angularaxis": {
            "gridcolor": "white",
            "linecolor": "white",
            "ticks": ""
           },
           "bgcolor": "#E5ECF6",
           "radialaxis": {
            "gridcolor": "white",
            "linecolor": "white",
            "ticks": ""
           }
          },
          "scene": {
           "xaxis": {
            "backgroundcolor": "#E5ECF6",
            "gridcolor": "white",
            "gridwidth": 2,
            "linecolor": "white",
            "showbackground": true,
            "ticks": "",
            "zerolinecolor": "white"
           },
           "yaxis": {
            "backgroundcolor": "#E5ECF6",
            "gridcolor": "white",
            "gridwidth": 2,
            "linecolor": "white",
            "showbackground": true,
            "ticks": "",
            "zerolinecolor": "white"
           },
           "zaxis": {
            "backgroundcolor": "#E5ECF6",
            "gridcolor": "white",
            "gridwidth": 2,
            "linecolor": "white",
            "showbackground": true,
            "ticks": "",
            "zerolinecolor": "white"
           }
          },
          "shapedefaults": {
           "line": {
            "color": "#2a3f5f"
           }
          },
          "ternary": {
           "aaxis": {
            "gridcolor": "white",
            "linecolor": "white",
            "ticks": ""
           },
           "baxis": {
            "gridcolor": "white",
            "linecolor": "white",
            "ticks": ""
           },
           "bgcolor": "#E5ECF6",
           "caxis": {
            "gridcolor": "white",
            "linecolor": "white",
            "ticks": ""
           }
          },
          "title": {
           "x": 0.05
          },
          "xaxis": {
           "automargin": true,
           "gridcolor": "white",
           "linecolor": "white",
           "ticks": "",
           "title": {
            "standoff": 15
           },
           "zerolinecolor": "white",
           "zerolinewidth": 2
          },
          "yaxis": {
           "automargin": true,
           "gridcolor": "white",
           "linecolor": "white",
           "ticks": "",
           "title": {
            "standoff": 15
           },
           "zerolinecolor": "white",
           "zerolinewidth": 2
          }
         }
        },
        "title": {
         "text": "Quantidade de emprestimos em cada mês ao longo de 2010 a 2019"
        },
        "xaxis": {
         "anchor": "y",
         "domain": [
          0,
          1
         ],
         "ticktext": [
          "Jan",
          "Fev",
          "Mar",
          "Abr",
          "Mai",
          "Jun",
          "Jul",
          "Ago",
          "Set",
          "Out",
          "Nov",
          "Dez"
         ],
         "tickvals": {
          "bdata": "AQIDBAUGBwgJCgsM",
          "dtype": "i1"
         },
         "title": {
          "text": ""
         }
        },
        "yaxis": {
         "anchor": "x",
         "domain": [
          0,
          1
         ],
         "title": {
          "text": ""
         }
        }
       }
      }
     },
     "metadata": {},
     "output_type": "display_data"
    }
   ],
   "source": [
    "fig = px.line(emprestimos_mensal, x=emprestimos_mensal.index, y=emprestimos_mensal.columns, markers=True)\n",
    "\n",
    "fig.update_layout(title_text='Quantidade de emprestimos em cada mês ao longo de 2010 a 2019', font_size=14 ,xaxis_title='', yaxis_title='')\n",
    "\n",
    "labels = ['Jan', 'Fev', 'Mar', 'Abr',\n",
    "          'Mai', 'Jun', 'Jul', 'Ago',\n",
    "          'Set', 'Out', 'Nov', 'Dez']\n",
    "fig.update_xaxes(ticktext = labels, tickvals=emprestimos_mensal.index)\n",
    "\n"
   ]
  },
  {
   "cell_type": "markdown",
   "id": "1ec0f3ee",
   "metadata": {},
   "source": [
    "Grafico 3 - Quantidade de empréstimos diários"
   ]
  },
  {
   "cell_type": "code",
   "execution_count": 137,
   "id": "e60f8329",
   "metadata": {},
   "outputs": [],
   "source": [
    "emprestimos_diario = emprestimos.copy()\n",
    "colunas_retirar = emprestimos_diario.columns\n",
    "emprestimos_diario.drop(columns=[col for col in colunas_retirar if col not in ['id_emprestimo', 'id_exemplar', 'data_emprestimo']], inplace=True)\n",
    "emprestimos_diario.dropna(inplace=True)\n",
    "emprestimos_diario.reset_index(drop=True, inplace=True)"
   ]
  },
  {
   "cell_type": "code",
   "execution_count": 138,
   "id": "0969154e",
   "metadata": {},
   "outputs": [
    {
     "name": "stdout",
     "output_type": "stream",
     "text": [
      "<class 'pandas.core.frame.DataFrame'>\n",
      "RangeIndex: 2072522 entries, 0 to 2072521\n",
      "Data columns (total 3 columns):\n",
      " #   Column           Dtype         \n",
      "---  ------           -----         \n",
      " 0   data_emprestimo  datetime64[ns]\n",
      " 1   ano              int64         \n",
      " 2   hora             int64         \n",
      "dtypes: datetime64[ns](1), int64(2)\n",
      "memory usage: 47.4 MB\n"
     ]
    }
   ],
   "source": [
    "emprestimos_diario['data_emprestimo'] = pd.to_datetime(emprestimos_diario['data_emprestimo'])\n",
    "emprestimos_diario['ano'] = emprestimos_diario['data_emprestimo'].dt.year\n",
    "emprestimos_diario['hora'] = emprestimos_diario['data_emprestimo'].dt.hour\n",
    "emprestimos_diario['ano'] = emprestimos_diario['ano'].astype(int)\n",
    "emprestimos_diario['hora'] = emprestimos_diario['hora'].astype(int)\n",
    "emprestimos_diario.drop(columns=['id_emprestimo', 'id_exemplar'], inplace=True)\n",
    "emprestimos_diario.info()"
   ]
  },
  {
   "cell_type": "code",
   "execution_count": 139,
   "id": "ec3a2d68",
   "metadata": {},
   "outputs": [
    {
     "data": {
      "text/html": [
       "<div>\n",
       "<style scoped>\n",
       "    .dataframe tbody tr th:only-of-type {\n",
       "        vertical-align: middle;\n",
       "    }\n",
       "\n",
       "    .dataframe tbody tr th {\n",
       "        vertical-align: top;\n",
       "    }\n",
       "\n",
       "    .dataframe thead th {\n",
       "        text-align: right;\n",
       "    }\n",
       "</style>\n",
       "<table border=\"1\" class=\"dataframe\">\n",
       "  <thead>\n",
       "    <tr style=\"text-align: right;\">\n",
       "      <th></th>\n",
       "      <th>ano</th>\n",
       "      <th>hora</th>\n",
       "      <th>quantidade_emprestimo</th>\n",
       "    </tr>\n",
       "  </thead>\n",
       "  <tbody>\n",
       "    <tr>\n",
       "      <th>0</th>\n",
       "      <td>2010</td>\n",
       "      <td>7</td>\n",
       "      <td>1362</td>\n",
       "    </tr>\n",
       "    <tr>\n",
       "      <th>1</th>\n",
       "      <td>2010</td>\n",
       "      <td>8</td>\n",
       "      <td>8865</td>\n",
       "    </tr>\n",
       "    <tr>\n",
       "      <th>2</th>\n",
       "      <td>2010</td>\n",
       "      <td>9</td>\n",
       "      <td>11688</td>\n",
       "    </tr>\n",
       "    <tr>\n",
       "      <th>3</th>\n",
       "      <td>2010</td>\n",
       "      <td>10</td>\n",
       "      <td>14622</td>\n",
       "    </tr>\n",
       "    <tr>\n",
       "      <th>4</th>\n",
       "      <td>2010</td>\n",
       "      <td>11</td>\n",
       "      <td>14169</td>\n",
       "    </tr>\n",
       "    <tr>\n",
       "      <th>...</th>\n",
       "      <td>...</td>\n",
       "      <td>...</td>\n",
       "      <td>...</td>\n",
       "    </tr>\n",
       "    <tr>\n",
       "      <th>180</th>\n",
       "      <td>2020</td>\n",
       "      <td>17</td>\n",
       "      <td>2200</td>\n",
       "    </tr>\n",
       "    <tr>\n",
       "      <th>181</th>\n",
       "      <td>2020</td>\n",
       "      <td>18</td>\n",
       "      <td>2194</td>\n",
       "    </tr>\n",
       "    <tr>\n",
       "      <th>182</th>\n",
       "      <td>2020</td>\n",
       "      <td>19</td>\n",
       "      <td>966</td>\n",
       "    </tr>\n",
       "    <tr>\n",
       "      <th>183</th>\n",
       "      <td>2020</td>\n",
       "      <td>20</td>\n",
       "      <td>1194</td>\n",
       "    </tr>\n",
       "    <tr>\n",
       "      <th>184</th>\n",
       "      <td>2020</td>\n",
       "      <td>21</td>\n",
       "      <td>583</td>\n",
       "    </tr>\n",
       "  </tbody>\n",
       "</table>\n",
       "<p>185 rows × 3 columns</p>\n",
       "</div>"
      ],
      "text/plain": [
       "      ano  hora  quantidade_emprestimo\n",
       "0    2010     7                   1362\n",
       "1    2010     8                   8865\n",
       "2    2010     9                  11688\n",
       "3    2010    10                  14622\n",
       "4    2010    11                  14169\n",
       "..    ...   ...                    ...\n",
       "180  2020    17                   2200\n",
       "181  2020    18                   2194\n",
       "182  2020    19                    966\n",
       "183  2020    20                   1194\n",
       "184  2020    21                    583\n",
       "\n",
       "[185 rows x 3 columns]"
      ]
     },
     "execution_count": 139,
     "metadata": {},
     "output_type": "execute_result"
    }
   ],
   "source": [
    "emprestimos_diario['data_emprestimo'] = [1 for x in emprestimos_diario['data_emprestimo']]\n",
    "emprestimos_diario.rename(columns={'data_emprestimo': 'quantidade_emprestimo'}, inplace=True)\n",
    "emprestimos_diario_anuais = emprestimos_diario.copy()\n",
    "emprestimos_diario_anuais.drop('ano', axis=1, inplace=True)\n",
    "emprestimos_diario_anuais = emprestimos_diario.groupby(['ano','hora']).sum()\n",
    "emprestimos_diario_anuais.reset_index(inplace=True)\n",
    "emprestimos_diario_anuais"
   ]
  },
  {
   "cell_type": "code",
   "execution_count": 140,
   "id": "ad0b67d7",
   "metadata": {},
   "outputs": [
    {
     "name": "stderr",
     "output_type": "stream",
     "text": [
      "C:\\Users\\luizh\\AppData\\Local\\Temp\\ipykernel_10100\\2678957789.py:3: FutureWarning:\n",
      "\n",
      "\n",
      "\n",
      "The `ci` parameter is deprecated. Use `errorbar=None` for the same effect.\n",
      "\n",
      "\n"
     ]
    },
    {
     "data": {
      "image/png": "[encoded data removed]",
      "text/plain": [
       "<Figure size 1000x600 with 1 Axes>"
      ]
     },
     "metadata": {},
     "output_type": "display_data"
    }
   ],
   "source": [
    "fig, ax = plt.subplots(figsize=(10,6))\n",
    "\n",
    "sns.barplot(emprestimos_diario_anuais, x='hora', y='quantidade_emprestimo', ci=None)\n",
    "ax.set_title('Quantidade de emprestimos por hora ao longo\\n dos anos 2010 a 2020', loc='left', fontsize=14)\n",
    "ax.set_xlabel('')\n",
    "ax.set_ylabel('')\n",
    "\n",
    "plt.show()"
   ]
  },
  {
   "cell_type": "code",
   "execution_count": 141,
   "id": "6239d496",
   "metadata": {},
   "outputs": [
    {
     "data": {
      "text/html": [
       "<div>\n",
       "<style scoped>\n",
       "    .dataframe tbody tr th:only-of-type {\n",
       "        vertical-align: middle;\n",
       "    }\n",
       "\n",
       "    .dataframe tbody tr th {\n",
       "        vertical-align: top;\n",
       "    }\n",
       "\n",
       "    .dataframe thead th {\n",
       "        text-align: right;\n",
       "    }\n",
       "</style>\n",
       "<table border=\"1\" class=\"dataframe\">\n",
       "  <thead>\n",
       "    <tr style=\"text-align: right;\">\n",
       "      <th></th>\n",
       "      <th>ano</th>\n",
       "      <th>hora</th>\n",
       "      <th>quantidade_emprestimo</th>\n",
       "    </tr>\n",
       "  </thead>\n",
       "  <tbody>\n",
       "    <tr>\n",
       "      <th>0</th>\n",
       "      <td>2010</td>\n",
       "      <td>7</td>\n",
       "      <td>1362</td>\n",
       "    </tr>\n",
       "    <tr>\n",
       "      <th>1</th>\n",
       "      <td>2010</td>\n",
       "      <td>8</td>\n",
       "      <td>8865</td>\n",
       "    </tr>\n",
       "    <tr>\n",
       "      <th>2</th>\n",
       "      <td>2010</td>\n",
       "      <td>9</td>\n",
       "      <td>11688</td>\n",
       "    </tr>\n",
       "    <tr>\n",
       "      <th>3</th>\n",
       "      <td>2010</td>\n",
       "      <td>10</td>\n",
       "      <td>14622</td>\n",
       "    </tr>\n",
       "    <tr>\n",
       "      <th>4</th>\n",
       "      <td>2010</td>\n",
       "      <td>11</td>\n",
       "      <td>14169</td>\n",
       "    </tr>\n",
       "    <tr>\n",
       "      <th>...</th>\n",
       "      <td>...</td>\n",
       "      <td>...</td>\n",
       "      <td>...</td>\n",
       "    </tr>\n",
       "    <tr>\n",
       "      <th>180</th>\n",
       "      <td>2020</td>\n",
       "      <td>17</td>\n",
       "      <td>2200</td>\n",
       "    </tr>\n",
       "    <tr>\n",
       "      <th>181</th>\n",
       "      <td>2020</td>\n",
       "      <td>18</td>\n",
       "      <td>2194</td>\n",
       "    </tr>\n",
       "    <tr>\n",
       "      <th>182</th>\n",
       "      <td>2020</td>\n",
       "      <td>19</td>\n",
       "      <td>966</td>\n",
       "    </tr>\n",
       "    <tr>\n",
       "      <th>183</th>\n",
       "      <td>2020</td>\n",
       "      <td>20</td>\n",
       "      <td>1194</td>\n",
       "    </tr>\n",
       "    <tr>\n",
       "      <th>184</th>\n",
       "      <td>2020</td>\n",
       "      <td>21</td>\n",
       "      <td>583</td>\n",
       "    </tr>\n",
       "  </tbody>\n",
       "</table>\n",
       "<p>185 rows × 3 columns</p>\n",
       "</div>"
      ],
      "text/plain": [
       "      ano  hora  quantidade_emprestimo\n",
       "0    2010     7                   1362\n",
       "1    2010     8                   8865\n",
       "2    2010     9                  11688\n",
       "3    2010    10                  14622\n",
       "4    2010    11                  14169\n",
       "..    ...   ...                    ...\n",
       "180  2020    17                   2200\n",
       "181  2020    18                   2194\n",
       "182  2020    19                    966\n",
       "183  2020    20                   1194\n",
       "184  2020    21                    583\n",
       "\n",
       "[185 rows x 3 columns]"
      ]
     },
     "execution_count": 141,
     "metadata": {},
     "output_type": "execute_result"
    }
   ],
   "source": [
    "emprestimos_diario_anual = emprestimos_diario.copy()\n",
    "emprestimos_diario_anuais = emprestimos_diario.groupby(['ano','hora']).sum()\n",
    "emprestimos_diario_anuais.reset_index(inplace=True)\n",
    "emprestimos_diario_anuais"
   ]
  },
  {
   "cell_type": "code",
   "execution_count": 142,
   "id": "ab4d4f30",
   "metadata": {},
   "outputs": [],
   "source": [
    "ex1 = emprestimos_diario_anuais[emprestimos_diario_anuais['ano'] == 2010]\n",
    "ex2 = emprestimos_diario_anuais[emprestimos_diario_anuais['ano'] == 2011]\n",
    "ex3 = emprestimos_diario_anuais[emprestimos_diario_anuais['ano'] == 2012]\n",
    "ex4 = emprestimos_diario_anuais[emprestimos_diario_anuais['ano'] == 2013]\n",
    "ex5 = emprestimos_diario_anuais[emprestimos_diario_anuais['ano'] == 2014]\n",
    "ex6 = emprestimos_diario_anuais[emprestimos_diario_anuais['ano'] == 2015]\n",
    "ex7 = emprestimos_diario_anuais[emprestimos_diario_anuais['ano'] == 2016]\n",
    "ex8 = emprestimos_diario_anuais[emprestimos_diario_anuais['ano'] == 2017]\n",
    "ex9 = emprestimos_diario_anuais[emprestimos_diario_anuais['ano'] == 2018]\n",
    "ex10 = emprestimos_diario_anuais[emprestimos_diario_anuais['ano'] == 2019] "
   ]
  },
  {
   "cell_type": "code",
   "execution_count": 143,
   "id": "9faa5a66",
   "metadata": {},
   "outputs": [
    {
     "data": {
      "image/png": "[encoded data removed]",
      "text/plain": [
       "<Figure size 2000x3000 with 10 Axes>"
      ]
     },
     "metadata": {},
     "output_type": "display_data"
    }
   ],
   "source": [
    "fig, ax = plt.subplots(5,2,figsize=(20,30))\n",
    "\n",
    "sns.barplot(data=ex1, x='hora', y='quantidade_emprestimo', ax=ax[0, 0])\n",
    "ax[0,0].set_title('Quantidade de emprestimo durante o dia no ano de 2010')\n",
    "\n",
    "sns.barplot(data=ex2, x='hora', y='quantidade_emprestimo', ax=ax[0, 1])\n",
    "ax[0,1].set_title('Quantidade de emprestimo durante o dia no ano de 2011')\n",
    "\n",
    "sns.barplot(data=ex3, x='hora', y='quantidade_emprestimo', ax=ax[1, 0])\n",
    "ax[1,0].set_title('Quantidade de emprestimo durante o dia no ano de 2012')\n",
    "\n",
    "sns.barplot(data=ex4, x='hora', y='quantidade_emprestimo', ax=ax[1, 1])\n",
    "ax[1,1].set_title('Quantidade de emprestimo durante o dia no ano de 2013')\n",
    "\n",
    "sns.barplot(data=ex5, x='hora', y='quantidade_emprestimo', ax=ax[2, 0])\n",
    "ax[2,0].set_title('Quantidade de emprestimo durante o dia no ano de 2014')\n",
    "\n",
    "sns.barplot(data=ex6, x='hora', y='quantidade_emprestimo', ax=ax[2, 1])\n",
    "ax[2,1].set_title('Quantidade de emprestimo durante o dia no ano de 2015')\n",
    "\n",
    "sns.barplot(data=ex7, x='hora', y='quantidade_emprestimo', ax=ax[3, 0])\n",
    "ax[3,0].set_title('Quantidade de emprestimo durante o dia no ano de 2016')\n",
    "\n",
    "sns.barplot(data=ex8, x='hora', y='quantidade_emprestimo', ax=ax[3, 1])\n",
    "ax[3,1].set_title('Quantidade de emprestimo durante o dia no ano de 2017')\n",
    "\n",
    "sns.barplot(data=ex9, x='hora', y='quantidade_emprestimo', ax=ax[4, 0])\n",
    "ax[4,0].set_title('Quantidade de emprestimo durante o dia no ano de 2018')\n",
    "\n",
    "sns.barplot(data=ex10, x='hora', y='quantidade_emprestimo', ax=ax[4, 1])\n",
    "ax[4,1].set_title('Quantidade de emprestimo durante o dia no ano de 2019')\n",
    "\n",
    "for i in range(5):\n",
    "    for j in range(2):\n",
    "        ax[i,j].set_xlabel('Horário do dia')\n",
    "        ax[i,j].set_ylabel('')\n",
    "        sns.despine(ax=ax[i,j])"
   ]
  },
  {
   "cell_type": "markdown",
   "id": "2b435dd5",
   "metadata": {},
   "source": [
    "## Dia 4\n",
    "\n",
    "O objetivo será entender a quantidade de empréstimos a partir das variáveis categóricas do seu conjunto de dados, explorando algumas das variáveis categóricas das quais precisaremos extrair mais informações. Elas são:\n",
    "\n",
    "- Tipo de vínculo\n",
    "\n",
    "- Coleção\n",
    "\n",
    "- Biblioteca\n",
    "\n",
    "- Classificação geral da CDU\n",
    "\n",
    "Para explorar os dados, alguns questionamentos serão pertinentes para a diretoria das bibliotecas, como:\n",
    "\n",
    "- **“Como se distribuem os empréstimos de exemplares pelos tipos de vínculo dos usuários?”**: Desta forma, a diretoria poderá entender qual é o público que está utilizando a biblioteca e assim tomar decisões em continuar com a estratégia de negócio atual ou modificá-la.\n",
    "\n",
    "- **\"Quais coleções são mais emprestadas?\"**: Da mesma forma, as coleções. Ranquear as coleções mais emprestadas pelo público, será bastante importante para a estratégia atual.\n",
    "\n",
    "- **\"Quais são as bibliotecas com mais ou menos quantidade de empréstimos?\"**: Assim, a diretoria conseguirá entender onde ela deverá melhorar e focar suas iniciativas.\n",
    "\n",
    "Outro tema que abordaremos será: \n",
    "\n",
    "- **De quais temas da CDU são os exemplares emprestados?**"
   ]
  },
  {
   "cell_type": "markdown",
   "id": "ffacd6c3",
   "metadata": {},
   "source": [
    "Percebemos logo em baixo que há muitos dados únicos para serem avalidaos, desta forma tomaremos para a vizualização os 7 maiores de cada coluna"
   ]
  },
  {
   "cell_type": "code",
   "execution_count": 144,
   "id": "ff66a28d",
   "metadata": {},
   "outputs": [
    {
     "name": "stdout",
     "output_type": "stream",
     "text": [
      "['ALUNO DE GRADUAÇÃO' 'ALUNO DE PÓS-GRADUAÇÃO' 'DOCENTE'\n",
      " 'SERVIDOR TÉCNICO-ADMINISTRATIVO' 'DOCENTE EXTERNO' 'ALUNO MÉDIO/TÉCNICO'\n",
      " 'USUÁRIO EXTERNO' 'OUTROS' nan]\n"
     ]
    }
   ],
   "source": [
    "print(emprestimos['tipo_vinculo_usuario'].unique())"
   ]
  },
  {
   "cell_type": "code",
   "execution_count": 145,
   "id": "93959566",
   "metadata": {},
   "outputs": [
    {
     "name": "stdout",
     "output_type": "stream",
     "text": [
      "['Acervo Circulante' nan 'Folhetos' 'Teses' 'Dissertações' 'Monografias'\n",
      " 'Publicações de Autores do RN' 'Publicações da UFRN' 'Multimeios'\n",
      " 'Coleção Mossoroense' 'Eventos' 'Trabalho Acadêmico'\n",
      " 'Obras de Referência' 'Obras Raras' 'Literatura de Cordel'\n",
      " 'Coleção Zila Mamede' 'Necessidades Educacionais Específicas'\n",
      " 'Periódicos de Referência' 'Periódicos']\n"
     ]
    }
   ],
   "source": [
    "print(emprestimos['colecao'].unique())"
   ]
  },
  {
   "cell_type": "code",
   "execution_count": 146,
   "id": "2bdd0c71",
   "metadata": {},
   "outputs": [
    {
     "name": "stdout",
     "output_type": "stream",
     "text": [
      "['Biblioteca Central Zila Mamede'\n",
      " 'Biblioteca Setorial Prof. Rodolfo Helinski - Escola Agrícola de Jundiaí - EAJ  - Macaiba'\n",
      " 'Biblioteca Setorial Bertha Cruz Enders - \\xadEscola de Saúde da UFRN - ESUFRN'\n",
      " 'Biblioteca Setorial do Centro Ciências da Saúde - CCS' nan\n",
      " 'Biblioteca Setorial Prof. Alberto Moreira Campos - \\xadDepartamento de Odontologia'\n",
      " 'Biblioteca Setorial Prof. Ronaldo Xavier de Arruda - CCET'\n",
      " 'Biblioteca Setorial do Centro de Ciências Humanas, Letras e Artes - CCHLA'\n",
      " 'Biblioteca Setorial Prof. Horácio Nicolas Solimo - \\xad Engenharia Química - EQ - CT'\n",
      " 'Biblioteca Setorial Prof. Francisco Gurgel De Azevedo - Instituto Química - IQ'\n",
      " 'Biblioteca Setorial do Centro Ciências Sociais Aplicadas - CCSA'\n",
      " 'Biblioteca Setorial do Departamento de Artes - DEART'\n",
      " 'Biblioteca Setorial Prof. Dr. Marcelo Bezerra de Melo Tinôco - DARQ - \\xadCT'\n",
      " 'Biblioteca Setorial Árvore do Conhecimento - Instituto do Cérebro - ICe'\n",
      " 'Biblioteca Setorial Moacyr de Góes - CE'\n",
      " 'Biblioteca Setorial Prof. Leopoldo Nelson - \\xadCentro de Biociências - CB'\n",
      " 'Biblioteca Setorial Dr. Paulo Bezerra - EMCM/RN - Caicó'\n",
      " 'Biblioteca Setorial Pe. Jaime Diniz - Escola de Música - EMUFRN'\n",
      " 'Biblioteca Setorial Profª. Maria Lúcia da Costa Bezerra - \\xadCERES\\xad - Caicó'\n",
      " 'Biblioteca Setorial Profª. Maria José Mamede Galvão - FELCS - Currais Novos'\n",
      " 'Biblioteca Setorial do Núcleo de Educação da Infância - NEI'\n",
      " 'Biblioteca Setorial da Faculdade de Ciências da Saúde do Trairi - FACISA - Santa Cruz'\n",
      " 'Biblioteca Setorial do Núcleo de Ensino Superior do Agreste - NESA - Nova Cruz'\n",
      " 'Biblioteca Setorial do Núcleo de Ensino Superior de Macau - NESM'\n",
      " 'Biblioteca Setorial de Engenharia Mecânica' 'BSC03']\n"
     ]
    }
   ],
   "source": [
    "print(emprestimos['biblioteca'].unique())"
   ]
  },
  {
   "cell_type": "code",
   "execution_count": 147,
   "id": "36aa3769",
   "metadata": {},
   "outputs": [
    {
     "name": "stdout",
     "output_type": "stream",
     "text": [
      "['Ciências aplicadas' nan 'Linguagem. Língua. Linguística'\n",
      " 'Ciências sociais' 'Geografia. Biografia. História'\n",
      " 'Matemática e ciências naturais' 'Religião'\n",
      " 'Generalidades. Ciência e conhecimento' 'Filosofia e psicologia'\n",
      " 'Belas artes']\n"
     ]
    }
   ],
   "source": [
    "print(emprestimos['CDU'].unique())"
   ]
  },
  {
   "cell_type": "markdown",
   "id": "8885b120",
   "metadata": {},
   "source": [
    "Para isso utilizaremos de uma função que gerará uma tabela que utilizaremos durante nossos questionamentos"
   ]
  },
  {
   "cell_type": "code",
   "execution_count": 148,
   "id": "65b81b4b",
   "metadata": {},
   "outputs": [],
   "source": [
    "def tabela_freq_perc(dados=pd.Series, titulo=''):\n",
    "    dados.reset_index(inplace=True)\n",
    "    dados.columns = ['indice','valores']\n",
    "    dados['porcentagem'] = round(dados['valores']*100/dados['valores'].sum(), 1)\n",
    "    print(dados)\n",
    "    \n",
    "    linhas_retirar = dados.index\n",
    "    dados.drop(labels=linhas_retirar[7:], axis=0, inplace=True)\n",
    "\n",
    "    fig, ax = plt.subplots(figsize=(12, 8))\n",
    "    sns.barplot(data=dados, y='indice', x='porcentagem')\n",
    "\n",
    "    ax.set_title(titulo, fontsize=14)\n",
    "    ax.set_ylabel('')\n",
    "    ax.set_xlabel('Porcentagem (%)')\n",
    "    sns.despine()\n",
    "    \n",
    "    return ax"
   ]
  },
  {
   "cell_type": "markdown",
   "id": "3f4e169f",
   "metadata": {},
   "source": [
    "**Primeiro questionamento**: \"Como se distribuem os empréstimos de exemplares pelos tipos de vínculo dos usuários?\"."
   ]
  },
  {
   "cell_type": "code",
   "execution_count": 149,
   "id": "16d8c498",
   "metadata": {},
   "outputs": [
    {
     "data": {
      "text/plain": [
       "id_emprestimo            307507\n",
       "id_exemplar              189257\n",
       "codigo_barras                 0\n",
       "data_emprestimo          307507\n",
       "data_devolucao           313991\n",
       "data_renovacao          1595459\n",
       "matricula_ou_siape       310678\n",
       "tipo_vinculo_usuario     307507\n",
       "colecao                  189257\n",
       "biblioteca               189257\n",
       "status_material          189257\n",
       "localizacao              189257\n",
       "CDU                      189257\n",
       "dtype: int64"
      ]
     },
     "execution_count": 149,
     "metadata": {},
     "output_type": "execute_result"
    }
   ],
   "source": [
    "vinculo_usuario = emprestimos.copy()\n",
    "vinculo_usuario.isna().sum()"
   ]
  },
  {
   "cell_type": "code",
   "execution_count": 150,
   "id": "52daa199",
   "metadata": {},
   "outputs": [
    {
     "data": {
      "text/plain": [
       "id_emprestimo           0\n",
       "id_exemplar             0\n",
       "data_emprestimo         0\n",
       "tipo_vinculo_usuario    0\n",
       "dtype: int64"
      ]
     },
     "execution_count": 150,
     "metadata": {},
     "output_type": "execute_result"
    }
   ],
   "source": [
    "colunas_retirar = vinculo_usuario.columns\n",
    "vinculo_usuario.drop(columns=[col for col in colunas_retirar if col not in ['id_emprestimo', 'id_exemplar', 'data_emprestimo', 'tipo_vinculo_usuario']], inplace=True)\n",
    "vinculo_usuario.dropna(inplace=True)\n",
    "vinculo_usuario.reset_index(drop=True, inplace=True)\n",
    "vinculo_usuario.isna().sum()"
   ]
  },
  {
   "cell_type": "code",
   "execution_count": 151,
   "id": "478aa6ae",
   "metadata": {},
   "outputs": [
    {
     "data": {
      "text/html": [
       "<div>\n",
       "<style scoped>\n",
       "    .dataframe tbody tr th:only-of-type {\n",
       "        vertical-align: middle;\n",
       "    }\n",
       "\n",
       "    .dataframe tbody tr th {\n",
       "        vertical-align: top;\n",
       "    }\n",
       "\n",
       "    .dataframe thead th {\n",
       "        text-align: right;\n",
       "    }\n",
       "</style>\n",
       "<table border=\"1\" class=\"dataframe\">\n",
       "  <thead>\n",
       "    <tr style=\"text-align: right;\">\n",
       "      <th></th>\n",
       "      <th>quantidade_emprestimo</th>\n",
       "    </tr>\n",
       "    <tr>\n",
       "      <th>tipo_vinculo_usuario</th>\n",
       "      <th></th>\n",
       "    </tr>\n",
       "  </thead>\n",
       "  <tbody>\n",
       "    <tr>\n",
       "      <th>ALUNO DE GRADUAÇÃO</th>\n",
       "      <td>1612324</td>\n",
       "    </tr>\n",
       "    <tr>\n",
       "      <th>ALUNO DE PÓS-GRADUAÇÃO</th>\n",
       "      <td>302541</td>\n",
       "    </tr>\n",
       "    <tr>\n",
       "      <th>DOCENTE</th>\n",
       "      <td>70981</td>\n",
       "    </tr>\n",
       "    <tr>\n",
       "      <th>SERVIDOR TÉCNICO-ADMINISTRATIVO</th>\n",
       "      <td>32184</td>\n",
       "    </tr>\n",
       "    <tr>\n",
       "      <th>ALUNO MÉDIO/TÉCNICO</th>\n",
       "      <td>28029</td>\n",
       "    </tr>\n",
       "    <tr>\n",
       "      <th>DOCENTE EXTERNO</th>\n",
       "      <td>23949</td>\n",
       "    </tr>\n",
       "    <tr>\n",
       "      <th>USUÁRIO EXTERNO</th>\n",
       "      <td>2509</td>\n",
       "    </tr>\n",
       "    <tr>\n",
       "      <th>OUTROS</th>\n",
       "      <td>5</td>\n",
       "    </tr>\n",
       "  </tbody>\n",
       "</table>\n",
       "</div>"
      ],
      "text/plain": [
       "                                 quantidade_emprestimo\n",
       "tipo_vinculo_usuario                                  \n",
       "ALUNO DE GRADUAÇÃO                             1612324\n",
       "ALUNO DE PÓS-GRADUAÇÃO                          302541\n",
       "DOCENTE                                          70981\n",
       "SERVIDOR TÉCNICO-ADMINISTRATIVO                  32184\n",
       "ALUNO MÉDIO/TÉCNICO                              28029\n",
       "DOCENTE EXTERNO                                  23949\n",
       "USUÁRIO EXTERNO                                   2509\n",
       "OUTROS                                               5"
      ]
     },
     "execution_count": 151,
     "metadata": {},
     "output_type": "execute_result"
    }
   ],
   "source": [
    "vinculo_usuario.drop(columns=['id_emprestimo','id_exemplar'], inplace=True)\n",
    "vinculo_usuario['data_emprestimo'] = [1 for _ in vinculo_usuario['data_emprestimo']]\n",
    "vinculo_usuario.rename(columns={'data_emprestimo':'quantidade_emprestimo'}, inplace=True)\n",
    "vinculo_usuario = vinculo_usuario.groupby('tipo_vinculo_usuario').sum()\n",
    "vinculo_usuario.sort_values('quantidade_emprestimo',ascending=False,inplace=True)\n",
    "vinculo_usuario"
   ]
  },
  {
   "cell_type": "code",
   "execution_count": 152,
   "id": "86af5226",
   "metadata": {},
   "outputs": [
    {
     "name": "stdout",
     "output_type": "stream",
     "text": [
      "                            indice  valores  porcentagem\n",
      "0               ALUNO DE GRADUAÇÃO  1612324         77.8\n",
      "1           ALUNO DE PÓS-GRADUAÇÃO   302541         14.6\n",
      "2                          DOCENTE    70981          3.4\n",
      "3  SERVIDOR TÉCNICO-ADMINISTRATIVO    32184          1.6\n",
      "4              ALUNO MÉDIO/TÉCNICO    28029          1.4\n",
      "5                  DOCENTE EXTERNO    23949          1.2\n",
      "6                  USUÁRIO EXTERNO     2509          0.1\n",
      "7                           OUTROS        5          0.0\n"
     ]
    },
    {
     "data": {
      "image/png": "[encoded data removed]",
      "text/plain": [
       "<Figure size 1200x800 with 1 Axes>"
      ]
     },
     "metadata": {},
     "output_type": "display_data"
    }
   ],
   "source": [
    "ax = tabela_freq_perc(vinculo_usuario, 'Frequência de emprestimo pelo tipo de vínculo')\n",
    "plt.show()"
   ]
  },
  {
   "cell_type": "markdown",
   "id": "b6f3ba01",
   "metadata": {},
   "source": [
    "**Segundo Questionamento**: Quais coleções são mais emprestadas?"
   ]
  },
  {
   "cell_type": "code",
   "execution_count": 153,
   "id": "909e11fd",
   "metadata": {},
   "outputs": [
    {
     "data": {
      "text/plain": [
       "id_emprestimo            307507\n",
       "id_exemplar              189257\n",
       "codigo_barras                 0\n",
       "data_emprestimo          307507\n",
       "data_devolucao           313991\n",
       "data_renovacao          1595459\n",
       "matricula_ou_siape       310678\n",
       "tipo_vinculo_usuario     307507\n",
       "colecao                  189257\n",
       "biblioteca               189257\n",
       "status_material          189257\n",
       "localizacao              189257\n",
       "CDU                      189257\n",
       "dtype: int64"
      ]
     },
     "execution_count": 153,
     "metadata": {},
     "output_type": "execute_result"
    }
   ],
   "source": [
    "colecoes_emprestadas = emprestimos.copy()\n",
    "colecoes_emprestadas.isna().sum()"
   ]
  },
  {
   "cell_type": "code",
   "execution_count": 154,
   "id": "325f0799",
   "metadata": {},
   "outputs": [
    {
     "data": {
      "text/plain": [
       "id_emprestimo      0\n",
       "id_exemplar        0\n",
       "data_emprestimo    0\n",
       "colecao            0\n",
       "dtype: int64"
      ]
     },
     "execution_count": 154,
     "metadata": {},
     "output_type": "execute_result"
    }
   ],
   "source": [
    "colunas_retirar = colecoes_emprestadas.columns\n",
    "colecoes_emprestadas.drop(columns=[col for col in colunas_retirar if col not in ['id_emprestimo', 'id_exemplar', 'data_emprestimo', 'colecao']], inplace=True)\n",
    "colecoes_emprestadas.dropna(inplace=True)\n",
    "colecoes_emprestadas.reset_index(drop=True, inplace=True)\n",
    "colecoes_emprestadas.isna().sum()"
   ]
  },
  {
   "cell_type": "code",
   "execution_count": 155,
   "id": "bec91547",
   "metadata": {},
   "outputs": [
    {
     "data": {
      "text/html": [
       "<div>\n",
       "<style scoped>\n",
       "    .dataframe tbody tr th:only-of-type {\n",
       "        vertical-align: middle;\n",
       "    }\n",
       "\n",
       "    .dataframe tbody tr th {\n",
       "        vertical-align: top;\n",
       "    }\n",
       "\n",
       "    .dataframe thead th {\n",
       "        text-align: right;\n",
       "    }\n",
       "</style>\n",
       "<table border=\"1\" class=\"dataframe\">\n",
       "  <thead>\n",
       "    <tr style=\"text-align: right;\">\n",
       "      <th></th>\n",
       "      <th>quantidade_emprestimo</th>\n",
       "    </tr>\n",
       "    <tr>\n",
       "      <th>colecao</th>\n",
       "      <th></th>\n",
       "    </tr>\n",
       "  </thead>\n",
       "  <tbody>\n",
       "    <tr>\n",
       "      <th>Acervo Circulante</th>\n",
       "      <td>2053120</td>\n",
       "    </tr>\n",
       "    <tr>\n",
       "      <th>Multimeios</th>\n",
       "      <td>7954</td>\n",
       "    </tr>\n",
       "    <tr>\n",
       "      <th>Monografias</th>\n",
       "      <td>4021</td>\n",
       "    </tr>\n",
       "    <tr>\n",
       "      <th>Dissertações</th>\n",
       "      <td>2406</td>\n",
       "    </tr>\n",
       "    <tr>\n",
       "      <th>Obras de Referência</th>\n",
       "      <td>1954</td>\n",
       "    </tr>\n",
       "    <tr>\n",
       "      <th>Publicações de Autores do RN</th>\n",
       "      <td>866</td>\n",
       "    </tr>\n",
       "    <tr>\n",
       "      <th>Publicações da UFRN</th>\n",
       "      <td>764</td>\n",
       "    </tr>\n",
       "    <tr>\n",
       "      <th>Teses</th>\n",
       "      <td>714</td>\n",
       "    </tr>\n",
       "    <tr>\n",
       "      <th>Folhetos</th>\n",
       "      <td>271</td>\n",
       "    </tr>\n",
       "    <tr>\n",
       "      <th>Necessidades Educacionais Específicas</th>\n",
       "      <td>130</td>\n",
       "    </tr>\n",
       "    <tr>\n",
       "      <th>Trabalho Acadêmico</th>\n",
       "      <td>115</td>\n",
       "    </tr>\n",
       "    <tr>\n",
       "      <th>Eventos</th>\n",
       "      <td>101</td>\n",
       "    </tr>\n",
       "    <tr>\n",
       "      <th>Coleção Mossoroense</th>\n",
       "      <td>44</td>\n",
       "    </tr>\n",
       "    <tr>\n",
       "      <th>Coleção Zila Mamede</th>\n",
       "      <td>30</td>\n",
       "    </tr>\n",
       "    <tr>\n",
       "      <th>Literatura de Cordel</th>\n",
       "      <td>24</td>\n",
       "    </tr>\n",
       "    <tr>\n",
       "      <th>Obras Raras</th>\n",
       "      <td>8</td>\n",
       "    </tr>\n",
       "  </tbody>\n",
       "</table>\n",
       "</div>"
      ],
      "text/plain": [
       "                                       quantidade_emprestimo\n",
       "colecao                                                     \n",
       "Acervo Circulante                                    2053120\n",
       "Multimeios                                              7954\n",
       "Monografias                                             4021\n",
       "Dissertações                                            2406\n",
       "Obras de Referência                                     1954\n",
       "Publicações de Autores do RN                             866\n",
       "Publicações da UFRN                                      764\n",
       "Teses                                                    714\n",
       "Folhetos                                                 271\n",
       "Necessidades Educacionais Específicas                    130\n",
       "Trabalho Acadêmico                                       115\n",
       "Eventos                                                  101\n",
       "Coleção Mossoroense                                       44\n",
       "Coleção Zila Mamede                                       30\n",
       "Literatura de Cordel                                      24\n",
       "Obras Raras                                                8"
      ]
     },
     "execution_count": 155,
     "metadata": {},
     "output_type": "execute_result"
    }
   ],
   "source": [
    "colecoes_emprestadas.drop(columns=['id_emprestimo','id_exemplar'], inplace=True)\n",
    "colecoes_emprestadas['data_emprestimo'] = [1 for _ in colecoes_emprestadas['data_emprestimo']]\n",
    "colecoes_emprestadas.rename(columns={'data_emprestimo':'quantidade_emprestimo'}, inplace=True)\n",
    "colecoes_emprestadas = colecoes_emprestadas.groupby('colecao').sum()\n",
    "colecoes_emprestadas.sort_values('quantidade_emprestimo',ascending=False,inplace=True)\n",
    "colecoes_emprestadas"
   ]
  },
  {
   "cell_type": "code",
   "execution_count": 156,
   "id": "32e17961",
   "metadata": {},
   "outputs": [
    {
     "name": "stdout",
     "output_type": "stream",
     "text": [
      "                                   indice  valores  porcentagem\n",
      "0                       Acervo Circulante  2053120         99.1\n",
      "1                              Multimeios     7954          0.4\n",
      "2                             Monografias     4021          0.2\n",
      "3                            Dissertações     2406          0.1\n",
      "4                     Obras de Referência     1954          0.1\n",
      "5            Publicações de Autores do RN      866          0.0\n",
      "6                     Publicações da UFRN      764          0.0\n",
      "7                                   Teses      714          0.0\n",
      "8                                Folhetos      271          0.0\n",
      "9   Necessidades Educacionais Específicas      130          0.0\n",
      "10                     Trabalho Acadêmico      115          0.0\n",
      "11                                Eventos      101          0.0\n",
      "12                    Coleção Mossoroense       44          0.0\n",
      "13                    Coleção Zila Mamede       30          0.0\n",
      "14                   Literatura de Cordel       24          0.0\n",
      "15                            Obras Raras        8          0.0\n"
     ]
    },
    {
     "data": {
      "image/png": "[encoded data removed]",
      "text/plain": [
       "<Figure size 1200x800 with 1 Axes>"
      ]
     },
     "metadata": {},
     "output_type": "display_data"
    }
   ],
   "source": [
    "ax = tabela_freq_perc(colecoes_emprestadas, 'Frequência das coleções mais emprestadas')\n",
    "plt.show()"
   ]
  },
  {
   "cell_type": "markdown",
   "id": "e030d22c",
   "metadata": {},
   "source": [
    "**TerceiroQuestionamento**: Quais são as bibliotecas com mais ou menos quantidade de empréstimos?"
   ]
  },
  {
   "cell_type": "code",
   "execution_count": 157,
   "id": "6fd39277",
   "metadata": {},
   "outputs": [
    {
     "data": {
      "text/plain": [
       "id_emprestimo            307507\n",
       "id_exemplar              189257\n",
       "codigo_barras                 0\n",
       "data_emprestimo          307507\n",
       "data_devolucao           313991\n",
       "data_renovacao          1595459\n",
       "matricula_ou_siape       310678\n",
       "tipo_vinculo_usuario     307507\n",
       "colecao                  189257\n",
       "biblioteca               189257\n",
       "status_material          189257\n",
       "localizacao              189257\n",
       "CDU                      189257\n",
       "dtype: int64"
      ]
     },
     "execution_count": 157,
     "metadata": {},
     "output_type": "execute_result"
    }
   ],
   "source": [
    "bibliotecas = emprestimos.copy()\n",
    "bibliotecas.isna().sum()"
   ]
  },
  {
   "cell_type": "code",
   "execution_count": 158,
   "id": "1de43d02",
   "metadata": {},
   "outputs": [
    {
     "data": {
      "text/plain": [
       "id_emprestimo      0\n",
       "id_exemplar        0\n",
       "data_emprestimo    0\n",
       "biblioteca         0\n",
       "dtype: int64"
      ]
     },
     "execution_count": 158,
     "metadata": {},
     "output_type": "execute_result"
    }
   ],
   "source": [
    "colunas_retirar = bibliotecas.columns\n",
    "bibliotecas.drop(columns=[col for col in colunas_retirar if col not in ['id_emprestimo', 'id_exemplar', 'data_emprestimo', 'biblioteca']], inplace=True)\n",
    "bibliotecas.dropna(inplace=True)\n",
    "bibliotecas.reset_index(drop=True, inplace=True)\n",
    "bibliotecas.isna().sum()"
   ]
  },
  {
   "cell_type": "code",
   "execution_count": 159,
   "id": "745e31b4",
   "metadata": {},
   "outputs": [
    {
     "data": {
      "text/html": [
       "<div>\n",
       "<style scoped>\n",
       "    .dataframe tbody tr th:only-of-type {\n",
       "        vertical-align: middle;\n",
       "    }\n",
       "\n",
       "    .dataframe tbody tr th {\n",
       "        vertical-align: top;\n",
       "    }\n",
       "\n",
       "    .dataframe thead th {\n",
       "        text-align: right;\n",
       "    }\n",
       "</style>\n",
       "<table border=\"1\" class=\"dataframe\">\n",
       "  <thead>\n",
       "    <tr style=\"text-align: right;\">\n",
       "      <th></th>\n",
       "      <th>quantidade_emprestimo</th>\n",
       "    </tr>\n",
       "    <tr>\n",
       "      <th>biblioteca</th>\n",
       "      <th></th>\n",
       "    </tr>\n",
       "  </thead>\n",
       "  <tbody>\n",
       "    <tr>\n",
       "      <th>Biblioteca Central Zila Mamede</th>\n",
       "      <td>1426122</td>\n",
       "    </tr>\n",
       "    <tr>\n",
       "      <th>Biblioteca Setorial do Centro Ciências da Saúde - CCS</th>\n",
       "      <td>118614</td>\n",
       "    </tr>\n",
       "    <tr>\n",
       "      <th>Biblioteca Setorial da Faculdade de Ciências da Saúde do Trairi - FACISA - Santa Cruz</th>\n",
       "      <td>77609</td>\n",
       "    </tr>\n",
       "    <tr>\n",
       "      <th>Biblioteca Setorial Prof. Alberto Moreira Campos - ­Departamento de Odontologia</th>\n",
       "      <td>66447</td>\n",
       "    </tr>\n",
       "    <tr>\n",
       "      <th>Biblioteca Setorial Profª. Maria Lúcia da Costa Bezerra - ­CERES­ - Caicó</th>\n",
       "      <td>61478</td>\n",
       "    </tr>\n",
       "    <tr>\n",
       "      <th>Biblioteca Setorial Bertha Cruz Enders - ­Escola de Saúde da UFRN - ESUFRN</th>\n",
       "      <td>46040</td>\n",
       "    </tr>\n",
       "    <tr>\n",
       "      <th>Biblioteca Setorial do Centro de Ciências Humanas, Letras e Artes - CCHLA</th>\n",
       "      <td>40744</td>\n",
       "    </tr>\n",
       "    <tr>\n",
       "      <th>Biblioteca Setorial Dr. Paulo Bezerra - EMCM/RN - Caicó</th>\n",
       "      <td>32097</td>\n",
       "    </tr>\n",
       "    <tr>\n",
       "      <th>Biblioteca Setorial Profª. Maria José Mamede Galvão - FELCS - Currais Novos</th>\n",
       "      <td>29089</td>\n",
       "    </tr>\n",
       "    <tr>\n",
       "      <th>Biblioteca Setorial Prof. Rodolfo Helinski - Escola Agrícola de Jundiaí - EAJ  - Macaiba</th>\n",
       "      <td>27219</td>\n",
       "    </tr>\n",
       "    <tr>\n",
       "      <th>Biblioteca Setorial Prof. Francisco Gurgel De Azevedo - Instituto Química - IQ</th>\n",
       "      <td>26923</td>\n",
       "    </tr>\n",
       "    <tr>\n",
       "      <th>Biblioteca Setorial do Núcleo de Educação da Infância - NEI</th>\n",
       "      <td>23656</td>\n",
       "    </tr>\n",
       "    <tr>\n",
       "      <th>Biblioteca Setorial Prof. Ronaldo Xavier de Arruda - CCET</th>\n",
       "      <td>22749</td>\n",
       "    </tr>\n",
       "    <tr>\n",
       "      <th>Biblioteca Setorial Pe. Jaime Diniz - Escola de Música - EMUFRN</th>\n",
       "      <td>21476</td>\n",
       "    </tr>\n",
       "    <tr>\n",
       "      <th>Biblioteca Setorial do Departamento de Artes - DEART</th>\n",
       "      <td>17099</td>\n",
       "    </tr>\n",
       "    <tr>\n",
       "      <th>Biblioteca Setorial Prof. Leopoldo Nelson - ­Centro de Biociências - CB</th>\n",
       "      <td>12900</td>\n",
       "    </tr>\n",
       "    <tr>\n",
       "      <th>Biblioteca Setorial do Centro Ciências Sociais Aplicadas - CCSA</th>\n",
       "      <td>10533</td>\n",
       "    </tr>\n",
       "    <tr>\n",
       "      <th>Biblioteca Setorial Prof. Dr. Marcelo Bezerra de Melo Tinôco - DARQ - ­CT</th>\n",
       "      <td>5057</td>\n",
       "    </tr>\n",
       "    <tr>\n",
       "      <th>Biblioteca Setorial Prof. Horácio Nicolas Solimo - ­ Engenharia Química - EQ - CT</th>\n",
       "      <td>4098</td>\n",
       "    </tr>\n",
       "    <tr>\n",
       "      <th>Biblioteca Setorial Moacyr de Góes - CE</th>\n",
       "      <td>1036</td>\n",
       "    </tr>\n",
       "    <tr>\n",
       "      <th>Biblioteca Setorial Árvore do Conhecimento - Instituto do Cérebro - ICe</th>\n",
       "      <td>919</td>\n",
       "    </tr>\n",
       "    <tr>\n",
       "      <th>Biblioteca Setorial do Núcleo de Ensino Superior do Agreste - NESA - Nova Cruz</th>\n",
       "      <td>617</td>\n",
       "    </tr>\n",
       "  </tbody>\n",
       "</table>\n",
       "</div>"
      ],
      "text/plain": [
       "                                                    quantidade_emprestimo\n",
       "biblioteca                                                               \n",
       "Biblioteca Central Zila Mamede                                    1426122\n",
       "Biblioteca Setorial do Centro Ciências da Saúde...                 118614\n",
       "Biblioteca Setorial da Faculdade de Ciências da...                  77609\n",
       "Biblioteca Setorial Prof. Alberto Moreira Campo...                  66447\n",
       "Biblioteca Setorial Profª. Maria Lúcia da Costa...                  61478\n",
       "Biblioteca Setorial Bertha Cruz Enders - ­Escol...                  46040\n",
       "Biblioteca Setorial do Centro de Ciências Human...                  40744\n",
       "Biblioteca Setorial Dr. Paulo Bezerra - EMCM/RN...                  32097\n",
       "Biblioteca Setorial Profª. Maria José Mamede Ga...                  29089\n",
       "Biblioteca Setorial Prof. Rodolfo Helinski - Es...                  27219\n",
       "Biblioteca Setorial Prof. Francisco Gurgel De A...                  26923\n",
       "Biblioteca Setorial do Núcleo de Educação da In...                  23656\n",
       "Biblioteca Setorial Prof. Ronaldo Xavier de Arr...                  22749\n",
       "Biblioteca Setorial Pe. Jaime Diniz - Escola de...                  21476\n",
       "Biblioteca Setorial do Departamento de Artes - ...                  17099\n",
       "Biblioteca Setorial Prof. Leopoldo Nelson - ­Ce...                  12900\n",
       "Biblioteca Setorial do Centro Ciências Sociais ...                  10533\n",
       "Biblioteca Setorial Prof. Dr. Marcelo Bezerra d...                   5057\n",
       "Biblioteca Setorial Prof. Horácio Nicolas Solim...                   4098\n",
       "Biblioteca Setorial Moacyr de Góes - CE                              1036\n",
       "Biblioteca Setorial Árvore do Conhecimento - In...                    919\n",
       "Biblioteca Setorial do Núcleo de Ensino Superio...                    617"
      ]
     },
     "execution_count": 159,
     "metadata": {},
     "output_type": "execute_result"
    }
   ],
   "source": [
    "bibliotecas.drop(columns=['id_emprestimo','id_exemplar'], inplace=True)\n",
    "bibliotecas['data_emprestimo'] = [1 for _ in bibliotecas['data_emprestimo']]\n",
    "bibliotecas.rename(columns={'data_emprestimo':'quantidade_emprestimo'}, inplace=True)\n",
    "bibliotecas = bibliotecas.groupby('biblioteca').sum()\n",
    "bibliotecas.sort_values('quantidade_emprestimo',ascending=False,inplace=True)\n",
    "bibliotecas"
   ]
  },
  {
   "cell_type": "code",
   "execution_count": 160,
   "id": "a7c5ec7f",
   "metadata": {},
   "outputs": [
    {
     "name": "stdout",
     "output_type": "stream",
     "text": [
      "                                               indice  valores  porcentagem\n",
      "0                      Biblioteca Central Zila Mamede  1426122         68.8\n",
      "1   Biblioteca Setorial do Centro Ciências da Saúd...   118614          5.7\n",
      "2   Biblioteca Setorial da Faculdade de Ciências d...    77609          3.7\n",
      "3   Biblioteca Setorial Prof. Alberto Moreira Camp...    66447          3.2\n",
      "4   Biblioteca Setorial Profª. Maria Lúcia da Cost...    61478          3.0\n",
      "5   Biblioteca Setorial Bertha Cruz Enders - ­Esco...    46040          2.2\n",
      "6   Biblioteca Setorial do Centro de Ciências Huma...    40744          2.0\n",
      "7   Biblioteca Setorial Dr. Paulo Bezerra - EMCM/R...    32097          1.5\n",
      "8   Biblioteca Setorial Profª. Maria José Mamede G...    29089          1.4\n",
      "9   Biblioteca Setorial Prof. Rodolfo Helinski - E...    27219          1.3\n",
      "10  Biblioteca Setorial Prof. Francisco Gurgel De ...    26923          1.3\n",
      "11  Biblioteca Setorial do Núcleo de Educação da I...    23656          1.1\n",
      "12  Biblioteca Setorial Prof. Ronaldo Xavier de Ar...    22749          1.1\n",
      "13  Biblioteca Setorial Pe. Jaime Diniz - Escola d...    21476          1.0\n",
      "14  Biblioteca Setorial do Departamento de Artes -...    17099          0.8\n",
      "15  Biblioteca Setorial Prof. Leopoldo Nelson - ­C...    12900          0.6\n",
      "16  Biblioteca Setorial do Centro Ciências Sociais...    10533          0.5\n",
      "17  Biblioteca Setorial Prof. Dr. Marcelo Bezerra ...     5057          0.2\n",
      "18  Biblioteca Setorial Prof. Horácio Nicolas Soli...     4098          0.2\n",
      "19            Biblioteca Setorial Moacyr de Góes - CE     1036          0.0\n",
      "20  Biblioteca Setorial Árvore do Conhecimento - I...      919          0.0\n",
      "21  Biblioteca Setorial do Núcleo de Ensino Superi...      617          0.0\n"
     ]
    },
    {
     "data": {
      "image/png": "[encoded data removed]",
      "text/plain": [
       "<Figure size 1200x800 with 1 Axes>"
      ]
     },
     "metadata": {},
     "output_type": "display_data"
    }
   ],
   "source": [
    "ax = tabela_freq_perc(bibliotecas, 'Frequência das bibliotecas mais utilizadas')\n",
    "plt.show()"
   ]
  },
  {
   "cell_type": "markdown",
   "id": "bb48ce7c",
   "metadata": {},
   "source": [
    "**Último Questionamento**: De quais temas da CDU são os exemplares emprestados?"
   ]
  },
  {
   "cell_type": "code",
   "execution_count": 161,
   "id": "8ff42ee6",
   "metadata": {},
   "outputs": [
    {
     "data": {
      "text/plain": [
       "id_emprestimo            307507\n",
       "id_exemplar              189257\n",
       "codigo_barras                 0\n",
       "data_emprestimo          307507\n",
       "data_devolucao           313991\n",
       "data_renovacao          1595459\n",
       "matricula_ou_siape       310678\n",
       "tipo_vinculo_usuario     307507\n",
       "colecao                  189257\n",
       "biblioteca               189257\n",
       "status_material          189257\n",
       "localizacao              189257\n",
       "CDU                      189257\n",
       "dtype: int64"
      ]
     },
     "execution_count": 161,
     "metadata": {},
     "output_type": "execute_result"
    }
   ],
   "source": [
    "cdu_exemplares = emprestimos.copy()\n",
    "cdu_exemplares.isna().sum()"
   ]
  },
  {
   "cell_type": "code",
   "execution_count": 162,
   "id": "ae88542d",
   "metadata": {},
   "outputs": [
    {
     "data": {
      "text/plain": [
       "id_emprestimo      0\n",
       "id_exemplar        0\n",
       "data_emprestimo    0\n",
       "CDU                0\n",
       "dtype: int64"
      ]
     },
     "execution_count": 162,
     "metadata": {},
     "output_type": "execute_result"
    }
   ],
   "source": [
    "colunas_retirar = cdu_exemplares.columns\n",
    "cdu_exemplares.drop(columns=[col for col in colunas_retirar if col not in ['id_emprestimo', 'id_exemplar', 'data_emprestimo', 'CDU']], inplace=True)\n",
    "cdu_exemplares.dropna(inplace=True)\n",
    "cdu_exemplares.reset_index(drop=True, inplace=True)\n",
    "cdu_exemplares.isna().sum()"
   ]
  },
  {
   "cell_type": "code",
   "execution_count": 163,
   "id": "9fb1a842",
   "metadata": {},
   "outputs": [
    {
     "data": {
      "text/html": [
       "<div>\n",
       "<style scoped>\n",
       "    .dataframe tbody tr th:only-of-type {\n",
       "        vertical-align: middle;\n",
       "    }\n",
       "\n",
       "    .dataframe tbody tr th {\n",
       "        vertical-align: top;\n",
       "    }\n",
       "\n",
       "    .dataframe thead th {\n",
       "        text-align: right;\n",
       "    }\n",
       "</style>\n",
       "<table border=\"1\" class=\"dataframe\">\n",
       "  <thead>\n",
       "    <tr style=\"text-align: right;\">\n",
       "      <th></th>\n",
       "      <th>quantidade_emprestimo</th>\n",
       "    </tr>\n",
       "    <tr>\n",
       "      <th>CDU</th>\n",
       "      <th></th>\n",
       "    </tr>\n",
       "  </thead>\n",
       "  <tbody>\n",
       "    <tr>\n",
       "      <th>Ciências aplicadas</th>\n",
       "      <td>1425473</td>\n",
       "    </tr>\n",
       "    <tr>\n",
       "      <th>Ciências sociais</th>\n",
       "      <td>369536</td>\n",
       "    </tr>\n",
       "    <tr>\n",
       "      <th>Matemática e ciências naturais</th>\n",
       "      <td>68744</td>\n",
       "    </tr>\n",
       "    <tr>\n",
       "      <th>Generalidades. Ciência e conhecimento</th>\n",
       "      <td>62521</td>\n",
       "    </tr>\n",
       "    <tr>\n",
       "      <th>Religião</th>\n",
       "      <td>62295</td>\n",
       "    </tr>\n",
       "    <tr>\n",
       "      <th>Filosofia e psicologia</th>\n",
       "      <td>60563</td>\n",
       "    </tr>\n",
       "    <tr>\n",
       "      <th>Geografia. Biografia. História</th>\n",
       "      <td>7989</td>\n",
       "    </tr>\n",
       "    <tr>\n",
       "      <th>Belas artes</th>\n",
       "      <td>7911</td>\n",
       "    </tr>\n",
       "    <tr>\n",
       "      <th>Linguagem. Língua. Linguística</th>\n",
       "      <td>7490</td>\n",
       "    </tr>\n",
       "  </tbody>\n",
       "</table>\n",
       "</div>"
      ],
      "text/plain": [
       "                                       quantidade_emprestimo\n",
       "CDU                                                         \n",
       "Ciências aplicadas                                   1425473\n",
       "Ciências sociais                                      369536\n",
       "Matemática e ciências naturais                         68744\n",
       "Generalidades. Ciência e conhecimento                  62521\n",
       "Religião                                               62295\n",
       "Filosofia e psicologia                                 60563\n",
       "Geografia. Biografia. História                          7989\n",
       "Belas artes                                             7911\n",
       "Linguagem. Língua. Linguística                          7490"
      ]
     },
     "execution_count": 163,
     "metadata": {},
     "output_type": "execute_result"
    }
   ],
   "source": [
    "cdu_exemplares.drop(columns=['id_emprestimo','id_exemplar'], inplace=True)\n",
    "cdu_exemplares['data_emprestimo'] = [1 for _ in cdu_exemplares['data_emprestimo']]\n",
    "cdu_exemplares.rename(columns={'data_emprestimo':'quantidade_emprestimo'}, inplace=True)\n",
    "cdu_exemplares = cdu_exemplares.groupby('CDU').sum()\n",
    "cdu_exemplares.sort_values('quantidade_emprestimo',ascending=False,inplace=True)\n",
    "cdu_exemplares"
   ]
  },
  {
   "cell_type": "code",
   "execution_count": 164,
   "id": "9a540d9f",
   "metadata": {},
   "outputs": [
    {
     "name": "stdout",
     "output_type": "stream",
     "text": [
      "                                  indice  valores  porcentagem\n",
      "0                     Ciências aplicadas  1425473         68.8\n",
      "1                       Ciências sociais   369536         17.8\n",
      "2         Matemática e ciências naturais    68744          3.3\n",
      "3  Generalidades. Ciência e conhecimento    62521          3.0\n",
      "4                               Religião    62295          3.0\n",
      "5                 Filosofia e psicologia    60563          2.9\n",
      "6         Geografia. Biografia. História     7989          0.4\n",
      "7                            Belas artes     7911          0.4\n",
      "8         Linguagem. Língua. Linguística     7490          0.4\n"
     ]
    },
    {
     "data": {
      "image/png": "[encoded data removed]",
      "text/plain": [
       "<Figure size 1200x800 with 1 Axes>"
      ]
     },
     "metadata": {},
     "output_type": "display_data"
    }
   ],
   "source": [
    "ax = tabela_freq_perc(cdu_exemplares, 'Frequência dos temas mais emprestados')\n",
    "plt.show()"
   ]
  },
  {
   "cell_type": "markdown",
   "id": "58dc95ca",
   "metadata": {},
   "source": [
    "## Dia 5\n",
    "\n",
    "Devido às diversas mudanças que ocorrem o tempo todo: os usuários estão evoluindo seus conhecimentos, novos alunos chegam, alunos que se formam saem e as informações estão sempre em movimento e transformação.\n",
    "\n",
    "Por este motivo, é importante realizar avaliações constantes do uso da biblioteca e entender em quais cenários (tipos de usuários, estratégias de marketing, atualização de acervo, cenário sócio-político interno e externo) é melhor manter a estratégia atual ou mudá-la.\n",
    "\n",
    "Faremos dois recortes nos dados para entender como eles se distribuíram ao decorrer desses anos e, desta forma, possa trazer inferências para levar à diretoria da biblioteca, a fim de que eles possam tomar decisões para o ano atual.\n",
    "\n",
    "Para isso, iremos avaliar dentre os alunos de graduação e pós graduação a distribuição de empréstimos mensais por ano realizados entre 2010 e 2020 da coleção que tiver a maior frequência de empréstimos. Plotaramos um gráfico para cada tipo de usuário e um boxplot para cada ano e analisaremos o que ocorreu.\n"
   ]
  },
  {
   "cell_type": "code",
   "execution_count": 384,
   "id": "bfce6ca9",
   "metadata": {},
   "outputs": [
    {
     "data": {
      "text/plain": [
       "id_emprestimo            307507\n",
       "id_exemplar              189257\n",
       "codigo_barras                 0\n",
       "data_emprestimo          307507\n",
       "data_devolucao           313991\n",
       "data_renovacao          1595459\n",
       "matricula_ou_siape       310678\n",
       "tipo_vinculo_usuario     307507\n",
       "colecao                  189257\n",
       "biblioteca               189257\n",
       "status_material          189257\n",
       "localizacao              189257\n",
       "CDU                      189257\n",
       "dtype: int64"
      ]
     },
     "execution_count": 384,
     "metadata": {},
     "output_type": "execute_result"
    }
   ],
   "source": [
    "alunos_geral = emprestimos.copy()\n",
    "alunos_geral.isna().sum()"
   ]
  },
  {
   "cell_type": "code",
   "execution_count": 385,
   "id": "ad97e3b2",
   "metadata": {},
   "outputs": [
    {
     "name": "stdout",
     "output_type": "stream",
     "text": [
      "<class 'pandas.core.frame.DataFrame'>\n",
      "Index: 2072522 entries, 0 to 2261778\n",
      "Data columns (total 5 columns):\n",
      " #   Column                Dtype  \n",
      "---  ------                -----  \n",
      " 0   id_emprestimo         float64\n",
      " 1   id_exemplar           float64\n",
      " 2   data_emprestimo       object \n",
      " 3   tipo_vinculo_usuario  object \n",
      " 4   colecao               object \n",
      "dtypes: float64(2), object(3)\n",
      "memory usage: 94.9+ MB\n"
     ]
    }
   ],
   "source": [
    "colunas_retirar = alunos_geral.columns\n",
    "alunos_geral.drop(columns=[col for col in colunas_retirar if col not in ['id_emprestimo', 'id_exemplar', 'data_emprestimo', 'tipo_vinculo_usuario','colecao']], inplace=True)\n",
    "alunos_geral.dropna(inplace=True)\n",
    "alunos_geral.info()"
   ]
  },
  {
   "cell_type": "code",
   "execution_count": 386,
   "id": "2f453630",
   "metadata": {},
   "outputs": [
    {
     "data": {
      "text/html": [
       "<div>\n",
       "<style scoped>\n",
       "    .dataframe tbody tr th:only-of-type {\n",
       "        vertical-align: middle;\n",
       "    }\n",
       "\n",
       "    .dataframe tbody tr th {\n",
       "        vertical-align: top;\n",
       "    }\n",
       "\n",
       "    .dataframe thead th {\n",
       "        text-align: right;\n",
       "    }\n",
       "</style>\n",
       "<table border=\"1\" class=\"dataframe\">\n",
       "  <thead>\n",
       "    <tr style=\"text-align: right;\">\n",
       "      <th></th>\n",
       "      <th>quantidade_emprestimo</th>\n",
       "      <th>tipo_vinculo_usuario</th>\n",
       "      <th>colecao</th>\n",
       "      <th>ano</th>\n",
       "      <th>mes</th>\n",
       "    </tr>\n",
       "  </thead>\n",
       "  <tbody>\n",
       "    <tr>\n",
       "      <th>0</th>\n",
       "      <td>1</td>\n",
       "      <td>ALUNO DE GRADUAÇÃO</td>\n",
       "      <td>Acervo Circulante</td>\n",
       "      <td>2010</td>\n",
       "      <td>1</td>\n",
       "    </tr>\n",
       "    <tr>\n",
       "      <th>1</th>\n",
       "      <td>1</td>\n",
       "      <td>ALUNO DE GRADUAÇÃO</td>\n",
       "      <td>Acervo Circulante</td>\n",
       "      <td>2010</td>\n",
       "      <td>1</td>\n",
       "    </tr>\n",
       "    <tr>\n",
       "      <th>2</th>\n",
       "      <td>1</td>\n",
       "      <td>ALUNO DE PÓS-GRADUAÇÃO</td>\n",
       "      <td>Acervo Circulante</td>\n",
       "      <td>2010</td>\n",
       "      <td>1</td>\n",
       "    </tr>\n",
       "    <tr>\n",
       "      <th>3</th>\n",
       "      <td>1</td>\n",
       "      <td>ALUNO DE GRADUAÇÃO</td>\n",
       "      <td>Acervo Circulante</td>\n",
       "      <td>2010</td>\n",
       "      <td>1</td>\n",
       "    </tr>\n",
       "    <tr>\n",
       "      <th>4</th>\n",
       "      <td>1</td>\n",
       "      <td>ALUNO DE GRADUAÇÃO</td>\n",
       "      <td>Acervo Circulante</td>\n",
       "      <td>2010</td>\n",
       "      <td>1</td>\n",
       "    </tr>\n",
       "  </tbody>\n",
       "</table>\n",
       "</div>"
      ],
      "text/plain": [
       "   quantidade_emprestimo    tipo_vinculo_usuario            colecao   ano  mes\n",
       "0                      1      ALUNO DE GRADUAÇÃO  Acervo Circulante  2010    1\n",
       "1                      1      ALUNO DE GRADUAÇÃO  Acervo Circulante  2010    1\n",
       "2                      1  ALUNO DE PÓS-GRADUAÇÃO  Acervo Circulante  2010    1\n",
       "3                      1      ALUNO DE GRADUAÇÃO  Acervo Circulante  2010    1\n",
       "4                      1      ALUNO DE GRADUAÇÃO  Acervo Circulante  2010    1"
      ]
     },
     "execution_count": 386,
     "metadata": {},
     "output_type": "execute_result"
    }
   ],
   "source": [
    "alunos_geral['data_emprestimo'] = pd.to_datetime(alunos_geral['data_emprestimo'])\n",
    "alunos_geral['ano'] = alunos_geral['data_emprestimo'].dt.year.astype(int)\n",
    "alunos_geral['mes'] = alunos_geral['data_emprestimo'].dt.month.astype(int)\n",
    "alunos_geral['data_emprestimo'] = [1 for x in alunos_geral['data_emprestimo']]\n",
    "alunos_geral.rename(columns={'data_emprestimo':'quantidade_emprestimo'}, inplace=True)\n",
    "alunos_geral.drop(columns=['id_emprestimo','id_exemplar'], inplace=True)\n",
    "alunos_geral.head()"
   ]
  },
  {
   "cell_type": "code",
   "execution_count": 387,
   "id": "8d7d7bac",
   "metadata": {},
   "outputs": [
    {
     "data": {
      "text/html": [
       "<div>\n",
       "<style scoped>\n",
       "    .dataframe tbody tr th:only-of-type {\n",
       "        vertical-align: middle;\n",
       "    }\n",
       "\n",
       "    .dataframe tbody tr th {\n",
       "        vertical-align: top;\n",
       "    }\n",
       "\n",
       "    .dataframe thead th {\n",
       "        text-align: right;\n",
       "    }\n",
       "</style>\n",
       "<table border=\"1\" class=\"dataframe\">\n",
       "  <thead>\n",
       "    <tr style=\"text-align: right;\">\n",
       "      <th></th>\n",
       "      <th>tipo_vinculo_usuario</th>\n",
       "      <th>colecao</th>\n",
       "      <th>mes</th>\n",
       "      <th>ano</th>\n",
       "      <th>quantidade_emprestimo</th>\n",
       "    </tr>\n",
       "  </thead>\n",
       "  <tbody>\n",
       "    <tr>\n",
       "      <th>0</th>\n",
       "      <td>ALUNO DE GRADUAÇÃO</td>\n",
       "      <td>Acervo Circulante</td>\n",
       "      <td>1</td>\n",
       "      <td>2010</td>\n",
       "      <td>2996</td>\n",
       "    </tr>\n",
       "    <tr>\n",
       "      <th>1</th>\n",
       "      <td>ALUNO DE GRADUAÇÃO</td>\n",
       "      <td>Acervo Circulante</td>\n",
       "      <td>1</td>\n",
       "      <td>2011</td>\n",
       "      <td>809</td>\n",
       "    </tr>\n",
       "    <tr>\n",
       "      <th>2</th>\n",
       "      <td>ALUNO DE GRADUAÇÃO</td>\n",
       "      <td>Acervo Circulante</td>\n",
       "      <td>1</td>\n",
       "      <td>2012</td>\n",
       "      <td>4987</td>\n",
       "    </tr>\n",
       "    <tr>\n",
       "      <th>3</th>\n",
       "      <td>ALUNO DE GRADUAÇÃO</td>\n",
       "      <td>Acervo Circulante</td>\n",
       "      <td>1</td>\n",
       "      <td>2013</td>\n",
       "      <td>5353</td>\n",
       "    </tr>\n",
       "    <tr>\n",
       "      <th>4</th>\n",
       "      <td>ALUNO DE GRADUAÇÃO</td>\n",
       "      <td>Acervo Circulante</td>\n",
       "      <td>1</td>\n",
       "      <td>2014</td>\n",
       "      <td>12476</td>\n",
       "    </tr>\n",
       "  </tbody>\n",
       "</table>\n",
       "</div>"
      ],
      "text/plain": [
       "  tipo_vinculo_usuario            colecao  mes   ano  quantidade_emprestimo\n",
       "0   ALUNO DE GRADUAÇÃO  Acervo Circulante    1  2010                   2996\n",
       "1   ALUNO DE GRADUAÇÃO  Acervo Circulante    1  2011                    809\n",
       "2   ALUNO DE GRADUAÇÃO  Acervo Circulante    1  2012                   4987\n",
       "3   ALUNO DE GRADUAÇÃO  Acervo Circulante    1  2013                   5353\n",
       "4   ALUNO DE GRADUAÇÃO  Acervo Circulante    1  2014                  12476"
      ]
     },
     "execution_count": 387,
     "metadata": {},
     "output_type": "execute_result"
    }
   ],
   "source": [
    "alunos_geral = alunos_geral.groupby(['tipo_vinculo_usuario', 'colecao','mes', 'ano']).sum()\n",
    "alunos_geral.reset_index(inplace=True)\n",
    "alunos_geral.head()"
   ]
  },
  {
   "cell_type": "code",
   "execution_count": 388,
   "id": "4613fff4",
   "metadata": {},
   "outputs": [
    {
     "data": {
      "text/html": [
       "<div>\n",
       "<style scoped>\n",
       "    .dataframe tbody tr th:only-of-type {\n",
       "        vertical-align: middle;\n",
       "    }\n",
       "\n",
       "    .dataframe tbody tr th {\n",
       "        vertical-align: top;\n",
       "    }\n",
       "\n",
       "    .dataframe thead th {\n",
       "        text-align: right;\n",
       "    }\n",
       "</style>\n",
       "<table border=\"1\" class=\"dataframe\">\n",
       "  <thead>\n",
       "    <tr style=\"text-align: right;\">\n",
       "      <th></th>\n",
       "      <th>tipo_vinculo_usuario</th>\n",
       "      <th>colecao</th>\n",
       "      <th>mes</th>\n",
       "      <th>ano</th>\n",
       "      <th>quantidade_emprestimo</th>\n",
       "    </tr>\n",
       "  </thead>\n",
       "  <tbody>\n",
       "    <tr>\n",
       "      <th>0</th>\n",
       "      <td>ALUNO DE GRADUAÇÃO</td>\n",
       "      <td>Acervo Circulante</td>\n",
       "      <td>1</td>\n",
       "      <td>2010</td>\n",
       "      <td>2996</td>\n",
       "    </tr>\n",
       "    <tr>\n",
       "      <th>1</th>\n",
       "      <td>ALUNO DE GRADUAÇÃO</td>\n",
       "      <td>Acervo Circulante</td>\n",
       "      <td>1</td>\n",
       "      <td>2011</td>\n",
       "      <td>809</td>\n",
       "    </tr>\n",
       "    <tr>\n",
       "      <th>2</th>\n",
       "      <td>ALUNO DE GRADUAÇÃO</td>\n",
       "      <td>Acervo Circulante</td>\n",
       "      <td>1</td>\n",
       "      <td>2012</td>\n",
       "      <td>4987</td>\n",
       "    </tr>\n",
       "    <tr>\n",
       "      <th>3</th>\n",
       "      <td>ALUNO DE GRADUAÇÃO</td>\n",
       "      <td>Acervo Circulante</td>\n",
       "      <td>1</td>\n",
       "      <td>2013</td>\n",
       "      <td>5353</td>\n",
       "    </tr>\n",
       "    <tr>\n",
       "      <th>4</th>\n",
       "      <td>ALUNO DE GRADUAÇÃO</td>\n",
       "      <td>Acervo Circulante</td>\n",
       "      <td>1</td>\n",
       "      <td>2014</td>\n",
       "      <td>12476</td>\n",
       "    </tr>\n",
       "  </tbody>\n",
       "</table>\n",
       "</div>"
      ],
      "text/plain": [
       "  tipo_vinculo_usuario            colecao  mes   ano  quantidade_emprestimo\n",
       "0   ALUNO DE GRADUAÇÃO  Acervo Circulante    1  2010                   2996\n",
       "1   ALUNO DE GRADUAÇÃO  Acervo Circulante    1  2011                    809\n",
       "2   ALUNO DE GRADUAÇÃO  Acervo Circulante    1  2012                   4987\n",
       "3   ALUNO DE GRADUAÇÃO  Acervo Circulante    1  2013                   5353\n",
       "4   ALUNO DE GRADUAÇÃO  Acervo Circulante    1  2014                  12476"
      ]
     },
     "execution_count": 388,
     "metadata": {},
     "output_type": "execute_result"
    }
   ],
   "source": [
    "alunos_graduacao = alunos_geral.query('tipo_vinculo_usuario == \"ALUNO DE GRADUAÇÃO\"')\n",
    "alunos_pos = alunos_geral.query('tipo_vinculo_usuario == \"ALUNO DE PÓS-GRADUAÇÃO\"')\n",
    "alunos_graduacao.reset_index(inplace=True, drop=True)\n",
    "alunos_pos.reset_index(inplace=True, drop=True)\n",
    "alunos_graduacao.head()"
   ]
  },
  {
   "cell_type": "code",
   "execution_count": 389,
   "id": "5d7689b5",
   "metadata": {},
   "outputs": [
    {
     "data": {
      "text/html": [
       "<div>\n",
       "<style scoped>\n",
       "    .dataframe tbody tr th:only-of-type {\n",
       "        vertical-align: middle;\n",
       "    }\n",
       "\n",
       "    .dataframe tbody tr th {\n",
       "        vertical-align: top;\n",
       "    }\n",
       "\n",
       "    .dataframe thead th {\n",
       "        text-align: right;\n",
       "    }\n",
       "</style>\n",
       "<table border=\"1\" class=\"dataframe\">\n",
       "  <thead>\n",
       "    <tr style=\"text-align: right;\">\n",
       "      <th></th>\n",
       "      <th>tipo_vinculo_usuario</th>\n",
       "      <th>colecao</th>\n",
       "      <th>mes</th>\n",
       "      <th>ano</th>\n",
       "      <th>quantidade_emprestimo</th>\n",
       "    </tr>\n",
       "  </thead>\n",
       "  <tbody>\n",
       "    <tr>\n",
       "      <th>0</th>\n",
       "      <td>ALUNO DE PÓS-GRADUAÇÃO</td>\n",
       "      <td>Acervo Circulante</td>\n",
       "      <td>1</td>\n",
       "      <td>2010</td>\n",
       "      <td>1105</td>\n",
       "    </tr>\n",
       "    <tr>\n",
       "      <th>1</th>\n",
       "      <td>ALUNO DE PÓS-GRADUAÇÃO</td>\n",
       "      <td>Acervo Circulante</td>\n",
       "      <td>1</td>\n",
       "      <td>2011</td>\n",
       "      <td>465</td>\n",
       "    </tr>\n",
       "    <tr>\n",
       "      <th>2</th>\n",
       "      <td>ALUNO DE PÓS-GRADUAÇÃO</td>\n",
       "      <td>Acervo Circulante</td>\n",
       "      <td>1</td>\n",
       "      <td>2012</td>\n",
       "      <td>1714</td>\n",
       "    </tr>\n",
       "    <tr>\n",
       "      <th>3</th>\n",
       "      <td>ALUNO DE PÓS-GRADUAÇÃO</td>\n",
       "      <td>Acervo Circulante</td>\n",
       "      <td>1</td>\n",
       "      <td>2013</td>\n",
       "      <td>1753</td>\n",
       "    </tr>\n",
       "    <tr>\n",
       "      <th>4</th>\n",
       "      <td>ALUNO DE PÓS-GRADUAÇÃO</td>\n",
       "      <td>Acervo Circulante</td>\n",
       "      <td>1</td>\n",
       "      <td>2014</td>\n",
       "      <td>2316</td>\n",
       "    </tr>\n",
       "  </tbody>\n",
       "</table>\n",
       "</div>"
      ],
      "text/plain": [
       "     tipo_vinculo_usuario            colecao  mes   ano  quantidade_emprestimo\n",
       "0  ALUNO DE PÓS-GRADUAÇÃO  Acervo Circulante    1  2010                   1105\n",
       "1  ALUNO DE PÓS-GRADUAÇÃO  Acervo Circulante    1  2011                    465\n",
       "2  ALUNO DE PÓS-GRADUAÇÃO  Acervo Circulante    1  2012                   1714\n",
       "3  ALUNO DE PÓS-GRADUAÇÃO  Acervo Circulante    1  2013                   1753\n",
       "4  ALUNO DE PÓS-GRADUAÇÃO  Acervo Circulante    1  2014                   2316"
      ]
     },
     "execution_count": 389,
     "metadata": {},
     "output_type": "execute_result"
    }
   ],
   "source": [
    "alunos_pos.head()"
   ]
  },
  {
   "cell_type": "code",
   "execution_count": 390,
   "id": "beeffa72",
   "metadata": {},
   "outputs": [
    {
     "data": {
      "text/html": [
       "<div>\n",
       "<style scoped>\n",
       "    .dataframe tbody tr th:only-of-type {\n",
       "        vertical-align: middle;\n",
       "    }\n",
       "\n",
       "    .dataframe tbody tr th {\n",
       "        vertical-align: top;\n",
       "    }\n",
       "\n",
       "    .dataframe thead th {\n",
       "        text-align: right;\n",
       "    }\n",
       "</style>\n",
       "<table border=\"1\" class=\"dataframe\">\n",
       "  <thead>\n",
       "    <tr style=\"text-align: right;\">\n",
       "      <th></th>\n",
       "      <th>quantidade_emprestimo</th>\n",
       "    </tr>\n",
       "    <tr>\n",
       "      <th>colecao</th>\n",
       "      <th></th>\n",
       "    </tr>\n",
       "  </thead>\n",
       "  <tbody>\n",
       "    <tr>\n",
       "      <th>Acervo Circulante</th>\n",
       "      <td>1600155</td>\n",
       "    </tr>\n",
       "    <tr>\n",
       "      <th>Multimeios</th>\n",
       "      <td>4652</td>\n",
       "    </tr>\n",
       "    <tr>\n",
       "      <th>Monografias</th>\n",
       "      <td>3572</td>\n",
       "    </tr>\n",
       "    <tr>\n",
       "      <th>Dissertações</th>\n",
       "      <td>1152</td>\n",
       "    </tr>\n",
       "    <tr>\n",
       "      <th>Obras de Referência</th>\n",
       "      <td>1047</td>\n",
       "    </tr>\n",
       "  </tbody>\n",
       "</table>\n",
       "</div>"
      ],
      "text/plain": [
       "                     quantidade_emprestimo\n",
       "colecao                                   \n",
       "Acervo Circulante                  1600155\n",
       "Multimeios                            4652\n",
       "Monografias                           3572\n",
       "Dissertações                          1152\n",
       "Obras de Referência                   1047"
      ]
     },
     "execution_count": 390,
     "metadata": {},
     "output_type": "execute_result"
    }
   ],
   "source": [
    "colecao_mais_emprestada = alunos_graduacao.copy()\n",
    "colecao_mais_emprestada = colecao_mais_emprestada[['colecao','quantidade_emprestimo']]\n",
    "colecao_mais_emprestada = colecao_mais_emprestada.groupby('colecao').sum().sort_values('quantidade_emprestimo', ascending=False)\n",
    "colecao_mais_emprestada.head()"
   ]
  },
  {
   "cell_type": "code",
   "execution_count": 391,
   "id": "28689d2e",
   "metadata": {},
   "outputs": [
    {
     "data": {
      "text/html": [
       "<div>\n",
       "<style scoped>\n",
       "    .dataframe tbody tr th:only-of-type {\n",
       "        vertical-align: middle;\n",
       "    }\n",
       "\n",
       "    .dataframe tbody tr th {\n",
       "        vertical-align: top;\n",
       "    }\n",
       "\n",
       "    .dataframe thead th {\n",
       "        text-align: right;\n",
       "    }\n",
       "</style>\n",
       "<table border=\"1\" class=\"dataframe\">\n",
       "  <thead>\n",
       "    <tr style=\"text-align: right;\">\n",
       "      <th></th>\n",
       "      <th>quantidade_emprestimo</th>\n",
       "    </tr>\n",
       "    <tr>\n",
       "      <th>colecao</th>\n",
       "      <th></th>\n",
       "    </tr>\n",
       "  </thead>\n",
       "  <tbody>\n",
       "    <tr>\n",
       "      <th>Acervo Circulante</th>\n",
       "      <td>299201</td>\n",
       "    </tr>\n",
       "    <tr>\n",
       "      <th>Dissertações</th>\n",
       "      <td>934</td>\n",
       "    </tr>\n",
       "    <tr>\n",
       "      <th>Obras de Referência</th>\n",
       "      <td>700</td>\n",
       "    </tr>\n",
       "    <tr>\n",
       "      <th>Multimeios</th>\n",
       "      <td>559</td>\n",
       "    </tr>\n",
       "    <tr>\n",
       "      <th>Teses</th>\n",
       "      <td>367</td>\n",
       "    </tr>\n",
       "  </tbody>\n",
       "</table>\n",
       "</div>"
      ],
      "text/plain": [
       "                     quantidade_emprestimo\n",
       "colecao                                   \n",
       "Acervo Circulante                   299201\n",
       "Dissertações                           934\n",
       "Obras de Referência                    700\n",
       "Multimeios                             559\n",
       "Teses                                  367"
      ]
     },
     "execution_count": 391,
     "metadata": {},
     "output_type": "execute_result"
    }
   ],
   "source": [
    "colecao_mais_emprestada = alunos_pos.copy()\n",
    "colecao_mais_emprestada = colecao_mais_emprestada[['colecao','quantidade_emprestimo']]\n",
    "colecao_mais_emprestada = colecao_mais_emprestada.groupby('colecao').sum().sort_values('quantidade_emprestimo', ascending=False)\n",
    "colecao_mais_emprestada.head()"
   ]
  },
  {
   "cell_type": "code",
   "execution_count": 392,
   "id": "52d639ad",
   "metadata": {},
   "outputs": [
    {
     "name": "stdout",
     "output_type": "stream",
     "text": [
      "<class 'pandas.core.frame.DataFrame'>\n",
      "Index: 247 entries, 0 to 123\n",
      "Data columns (total 4 columns):\n",
      " #   Column                 Non-Null Count  Dtype \n",
      "---  ------                 --------------  ----- \n",
      " 0   tipo_vinculo_usuario   247 non-null    object\n",
      " 1   mes                    247 non-null    int64 \n",
      " 2   ano                    247 non-null    int64 \n",
      " 3   quantidade_emprestimo  247 non-null    int64 \n",
      "dtypes: int64(3), object(1)\n",
      "memory usage: 9.6+ KB\n"
     ]
    }
   ],
   "source": [
    "alunos_graduacao = alunos_graduacao.query('colecao == \"Acervo Circulante\"')[['tipo_vinculo_usuario','mes', 'ano','quantidade_emprestimo']]\n",
    "alunos_pos = alunos_pos.query('colecao == \"Acervo Circulante\"')[['tipo_vinculo_usuario', 'mes', 'ano','quantidade_emprestimo']]\n",
    "\n",
    "alunos_geral = pd.concat([alunos_graduacao, alunos_pos], axis=0)\n",
    "alunos_geral.info()\n"
   ]
  },
  {
   "cell_type": "code",
   "execution_count": null,
   "id": "7f3bfaa2",
   "metadata": {},
   "outputs": [],
   "source": [
    "def plot_graf(dados: pd.DataFrame, k = 0):\n",
    "    dados.reset_index(inplace=True, drop=True)\n",
    "    dados.columns = ['tipo_vinculo_usuario', 'mes', 'ano', 'quantidade_emprestimo']\n",
    "    \n",
    "    if k == 0:\n",
    "        fig, ax = plt.subplots(5,2, figsize= (30,20))\n",
    "\n",
    "        for ano in range(2010, 2020):\n",
    "            dados_ano = dados.copy()\n",
    "            dados_ano = dados_ano.query('ano == @ano')[['tipo_vinculo_usuario', 'mes', 'quantidade_emprestimo']]\n",
    "            i = (ano-2010)/2\n",
    "            j = np.mod(ano-2010, 2)\n",
    "            i = int(i)\n",
    "            j = int(j)\n",
    "            \n",
    "            sns.boxplot(data=dados_ano, x='tipo_vinculo_usario', y='quantidade_emprestimo', hue='tipo_vinculo_usuario', ax=ax[i,j], palette=['red','blue'])\n",
    "            ax[i,j].set_title(f'Do ano de {ano}')\n",
    "            ax[i,j].set_xlabel('')\n",
    "            ax[i,j].set_ylabel('')\n",
    "    else:\n",
    "        fig, ax = plt.subplots(figsize= (10,6))\n",
    "        dados_ano = dados.copy()\n",
    "        dados_ano = dados_ano.query('ano == 2020')[['tipo_vinculo_usuario', 'mes', 'quantidade_emprestimo']]\n",
    "\n",
    "        sns.boxplot(dados_ano, x='tipo_vinculo_usario', y='quantidade_emprestimo', hue='tipo_vinculo_usuario', palette=['red','blue'])\n",
    "        ax.set_title(f'Do ano de 2020')\n",
    "        ax.set_xlabel('')\n",
    "        ax.set_ylabel('')\n",
    "\n",
    "\n",
    "    return fig, ax"
   ]
  },
  {
   "cell_type": "code",
   "execution_count": 394,
   "id": "cfba3571",
   "metadata": {},
   "outputs": [
    {
     "name": "stderr",
     "output_type": "stream",
     "text": [
      "C:\\Users\\luizh\\AppData\\Local\\Temp\\ipykernel_10100\\2789787986.py:4: UserWarning:\n",
      "\n",
      "FigureCanvasAgg is non-interactive, and thus cannot be shown\n",
      "\n",
      "C:\\Users\\luizh\\AppData\\Local\\Temp\\ipykernel_10100\\2789787986.py:5: UserWarning:\n",
      "\n",
      "FigureCanvasAgg is non-interactive, and thus cannot be shown\n",
      "\n"
     ]
    },
    {
     "data": {
      "image/png": "[encoded data removed]",
      "text/plain": [
       "<Figure size 3000x2000 with 10 Axes>"
      ]
     },
     "metadata": {},
     "output_type": "display_data"
    },
    {
     "data": {
      "image/png": "[encoded data removed]",
      "text/plain": [
       "<Figure size 1000x600 with 1 Axes>"
      ]
     },
     "metadata": {},
     "output_type": "display_data"
    }
   ],
   "source": [
    "fig1, ax1 = plot_graf(alunos_geral)\n",
    "fig2, ax2 = plot_graf(alunos_geral, 1)\n",
    "\n",
    "fig1.show()\n",
    "fig2.show()"
   ]
  },
  {
   "cell_type": "code",
   "execution_count": 395,
   "id": "06f68172",
   "metadata": {},
   "outputs": [
    {
     "data": {
      "text/html": [
       "<div>\n",
       "<style scoped>\n",
       "    .dataframe tbody tr th:only-of-type {\n",
       "        vertical-align: middle;\n",
       "    }\n",
       "\n",
       "    .dataframe tbody tr th {\n",
       "        vertical-align: top;\n",
       "    }\n",
       "\n",
       "    .dataframe thead th {\n",
       "        text-align: right;\n",
       "    }\n",
       "</style>\n",
       "<table border=\"1\" class=\"dataframe\">\n",
       "  <thead>\n",
       "    <tr style=\"text-align: right;\">\n",
       "      <th></th>\n",
       "      <th>tipo_vinculo_usuario</th>\n",
       "      <th>ano</th>\n",
       "      <th>quantidade_emprestimo</th>\n",
       "    </tr>\n",
       "  </thead>\n",
       "  <tbody>\n",
       "    <tr>\n",
       "      <th>0</th>\n",
       "      <td>ALUNO DE GRADUAÇÃO</td>\n",
       "      <td>2010</td>\n",
       "      <td>124860</td>\n",
       "    </tr>\n",
       "    <tr>\n",
       "      <th>1</th>\n",
       "      <td>ALUNO DE GRADUAÇÃO</td>\n",
       "      <td>2011</td>\n",
       "      <td>157903</td>\n",
       "    </tr>\n",
       "    <tr>\n",
       "      <th>2</th>\n",
       "      <td>ALUNO DE GRADUAÇÃO</td>\n",
       "      <td>2012</td>\n",
       "      <td>177337</td>\n",
       "    </tr>\n",
       "    <tr>\n",
       "      <th>3</th>\n",
       "      <td>ALUNO DE GRADUAÇÃO</td>\n",
       "      <td>2013</td>\n",
       "      <td>185815</td>\n",
       "    </tr>\n",
       "    <tr>\n",
       "      <th>4</th>\n",
       "      <td>ALUNO DE GRADUAÇÃO</td>\n",
       "      <td>2014</td>\n",
       "      <td>170174</td>\n",
       "    </tr>\n",
       "  </tbody>\n",
       "</table>\n",
       "</div>"
      ],
      "text/plain": [
       "  tipo_vinculo_usuario   ano  quantidade_emprestimo\n",
       "0   ALUNO DE GRADUAÇÃO  2010                 124860\n",
       "1   ALUNO DE GRADUAÇÃO  2011                 157903\n",
       "2   ALUNO DE GRADUAÇÃO  2012                 177337\n",
       "3   ALUNO DE GRADUAÇÃO  2013                 185815\n",
       "4   ALUNO DE GRADUAÇÃO  2014                 170174"
      ]
     },
     "execution_count": 395,
     "metadata": {},
     "output_type": "execute_result"
    }
   ],
   "source": [
    "alunos_geral.drop(columns=['mes'], inplace=True)\n",
    "alunos_geral = alunos_geral.groupby(['tipo_vinculo_usuario','ano']).sum()\n",
    "alunos_geral.reset_index(inplace=True)\n",
    "alunos_geral.head()"
   ]
  },
  {
   "cell_type": "code",
   "execution_count": 434,
   "id": "e85b3e25",
   "metadata": {},
   "outputs": [],
   "source": [
    "def plot_blox(dados: pd.DataFrame):\n",
    "    dados.reset_index(inplace=True, drop=True)\n",
    "    dados.columns = ['tipo_vinculo_usuario', 'ano', 'quantidade_emprestimo']\n",
    "    fig, ax = plt.subplots(2,1, figsize=(12,16))\n",
    "\n",
    "    for i in range(2):\n",
    "        dados_ano = dados.copy()\n",
    "        aluno_categoria = dados_ano['tipo_vinculo_usuario'].unique()[i]\n",
    "        dados_ano = dados_ano.query('tipo_vinculo_usuario == @aluno_categoria')[['ano', 'quantidade_emprestimo']]\n",
    "        \n",
    "        sns.boxenplot(data=dados_ano, x='ano', y='quantidade_emprestimo', ax=ax[i])\n",
    "        ax[i].set_title('')\n",
    "        ax[i].set_xlabel('')\n",
    "        ax[i].set_ylabel('')\n",
    "\n",
    "\n",
    "    return fig, ax"
   ]
  },
  {
   "cell_type": "code",
   "execution_count": 435,
   "id": "b9e3267f",
   "metadata": {},
   "outputs": [
    {
     "name": "stderr",
     "output_type": "stream",
     "text": [
      "C:\\Users\\luizh\\AppData\\Local\\Temp\\ipykernel_10100\\2650725920.py:2: UserWarning:\n",
      "\n",
      "FigureCanvasAgg is non-interactive, and thus cannot be shown\n",
      "\n"
     ]
    },
    {
     "data": {
      "image/png": "[encoded data removed]",
      "text/plain": [
       "<Figure size 1200x1600 with 2 Axes>"
      ]
     },
     "metadata": {},
     "output_type": "display_data"
    }
   ],
   "source": [
    "fig3, ax3 = plot_blox(alunos_geral)\n",
    "fig3.show()"
   ]
  }
 ],
 "metadata": {
  "kernelspec": {
   "display_name": "Python 3",
   "language": "python",
   "name": "python3"
  },
  "language_info": {
   "codemirror_mode": {
    "name": "ipython",
    "version": 3
   },
   "file_extension": ".py",
   "mimetype": "text/x-python",
   "name": "python",
   "nbconvert_exporter": "python",
   "pygments_lexer": "ipython3",
   "version": "3.13.3"
  }
 },
 "nbformat": 4,
 "nbformat_minor": 5
}
